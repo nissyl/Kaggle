{
 "cells": [
  {
   "cell_type": "code",
   "execution_count": 1,
   "metadata": {
    "collapsed": true
   },
   "outputs": [],
   "source": [
    "import pandas as pd\n",
    "import numpy as np\n",
    "\n",
    "df = pd.read_csv('kc_question.csv')"
   ]
  },
  {
   "cell_type": "code",
   "execution_count": 2,
   "metadata": {},
   "outputs": [
    {
     "data": {
      "text/plain": [
       "q1     False\n",
       "q2     False\n",
       "q3     False\n",
       "q4     False\n",
       "q5     False\n",
       "q6     False\n",
       "q7     False\n",
       "q8     False\n",
       "q9     False\n",
       "q10    False\n",
       "dtype: bool"
      ]
     },
     "execution_count": 2,
     "metadata": {},
     "output_type": "execute_result"
    }
   ],
   "source": [
    "df.isnull().any()"
   ]
  },
  {
   "cell_type": "code",
   "execution_count": 3,
   "metadata": {
    "scrolled": true
   },
   "outputs": [
    {
     "data": {
      "text/html": [
       "<div>\n",
       "<style>\n",
       "    .dataframe thead tr:only-child th {\n",
       "        text-align: right;\n",
       "    }\n",
       "\n",
       "    .dataframe thead th {\n",
       "        text-align: left;\n",
       "    }\n",
       "\n",
       "    .dataframe tbody tr th {\n",
       "        vertical-align: top;\n",
       "    }\n",
       "</style>\n",
       "<table border=\"1\" class=\"dataframe\">\n",
       "  <thead>\n",
       "    <tr style=\"text-align: right;\">\n",
       "      <th></th>\n",
       "      <th>q1</th>\n",
       "      <th>q2</th>\n",
       "      <th>q3</th>\n",
       "      <th>q4</th>\n",
       "      <th>q5</th>\n",
       "      <th>q6</th>\n",
       "      <th>q7</th>\n",
       "      <th>q8</th>\n",
       "      <th>q9</th>\n",
       "      <th>q10</th>\n",
       "    </tr>\n",
       "  </thead>\n",
       "  <tbody>\n",
       "    <tr>\n",
       "      <th>count</th>\n",
       "      <td>81.000000</td>\n",
       "      <td>81.000000</td>\n",
       "      <td>81.000000</td>\n",
       "      <td>81.000000</td>\n",
       "      <td>81.000000</td>\n",
       "      <td>81.000000</td>\n",
       "      <td>81.000000</td>\n",
       "      <td>81.000000</td>\n",
       "      <td>81.000000</td>\n",
       "      <td>81.000000</td>\n",
       "    </tr>\n",
       "    <tr>\n",
       "      <th>mean</th>\n",
       "      <td>0.382716</td>\n",
       "      <td>0.456790</td>\n",
       "      <td>0.469136</td>\n",
       "      <td>0.320988</td>\n",
       "      <td>0.456790</td>\n",
       "      <td>0.716049</td>\n",
       "      <td>0.432099</td>\n",
       "      <td>0.086420</td>\n",
       "      <td>0.123457</td>\n",
       "      <td>0.592593</td>\n",
       "    </tr>\n",
       "    <tr>\n",
       "      <th>std</th>\n",
       "      <td>0.489078</td>\n",
       "      <td>0.501233</td>\n",
       "      <td>0.502156</td>\n",
       "      <td>0.469765</td>\n",
       "      <td>0.501233</td>\n",
       "      <td>0.453723</td>\n",
       "      <td>0.498454</td>\n",
       "      <td>0.282734</td>\n",
       "      <td>0.331010</td>\n",
       "      <td>0.494413</td>\n",
       "    </tr>\n",
       "    <tr>\n",
       "      <th>min</th>\n",
       "      <td>0.000000</td>\n",
       "      <td>0.000000</td>\n",
       "      <td>0.000000</td>\n",
       "      <td>0.000000</td>\n",
       "      <td>0.000000</td>\n",
       "      <td>0.000000</td>\n",
       "      <td>0.000000</td>\n",
       "      <td>0.000000</td>\n",
       "      <td>0.000000</td>\n",
       "      <td>0.000000</td>\n",
       "    </tr>\n",
       "    <tr>\n",
       "      <th>25%</th>\n",
       "      <td>0.000000</td>\n",
       "      <td>0.000000</td>\n",
       "      <td>0.000000</td>\n",
       "      <td>0.000000</td>\n",
       "      <td>0.000000</td>\n",
       "      <td>0.000000</td>\n",
       "      <td>0.000000</td>\n",
       "      <td>0.000000</td>\n",
       "      <td>0.000000</td>\n",
       "      <td>0.000000</td>\n",
       "    </tr>\n",
       "    <tr>\n",
       "      <th>50%</th>\n",
       "      <td>0.000000</td>\n",
       "      <td>0.000000</td>\n",
       "      <td>0.000000</td>\n",
       "      <td>0.000000</td>\n",
       "      <td>0.000000</td>\n",
       "      <td>1.000000</td>\n",
       "      <td>0.000000</td>\n",
       "      <td>0.000000</td>\n",
       "      <td>0.000000</td>\n",
       "      <td>1.000000</td>\n",
       "    </tr>\n",
       "    <tr>\n",
       "      <th>75%</th>\n",
       "      <td>1.000000</td>\n",
       "      <td>1.000000</td>\n",
       "      <td>1.000000</td>\n",
       "      <td>1.000000</td>\n",
       "      <td>1.000000</td>\n",
       "      <td>1.000000</td>\n",
       "      <td>1.000000</td>\n",
       "      <td>0.000000</td>\n",
       "      <td>0.000000</td>\n",
       "      <td>1.000000</td>\n",
       "    </tr>\n",
       "    <tr>\n",
       "      <th>max</th>\n",
       "      <td>1.000000</td>\n",
       "      <td>1.000000</td>\n",
       "      <td>1.000000</td>\n",
       "      <td>1.000000</td>\n",
       "      <td>1.000000</td>\n",
       "      <td>1.000000</td>\n",
       "      <td>1.000000</td>\n",
       "      <td>1.000000</td>\n",
       "      <td>1.000000</td>\n",
       "      <td>1.000000</td>\n",
       "    </tr>\n",
       "  </tbody>\n",
       "</table>\n",
       "</div>"
      ],
      "text/plain": [
       "              q1         q2         q3         q4         q5         q6  \\\n",
       "count  81.000000  81.000000  81.000000  81.000000  81.000000  81.000000   \n",
       "mean    0.382716   0.456790   0.469136   0.320988   0.456790   0.716049   \n",
       "std     0.489078   0.501233   0.502156   0.469765   0.501233   0.453723   \n",
       "min     0.000000   0.000000   0.000000   0.000000   0.000000   0.000000   \n",
       "25%     0.000000   0.000000   0.000000   0.000000   0.000000   0.000000   \n",
       "50%     0.000000   0.000000   0.000000   0.000000   0.000000   1.000000   \n",
       "75%     1.000000   1.000000   1.000000   1.000000   1.000000   1.000000   \n",
       "max     1.000000   1.000000   1.000000   1.000000   1.000000   1.000000   \n",
       "\n",
       "              q7         q8         q9        q10  \n",
       "count  81.000000  81.000000  81.000000  81.000000  \n",
       "mean    0.432099   0.086420   0.123457   0.592593  \n",
       "std     0.498454   0.282734   0.331010   0.494413  \n",
       "min     0.000000   0.000000   0.000000   0.000000  \n",
       "25%     0.000000   0.000000   0.000000   0.000000  \n",
       "50%     0.000000   0.000000   0.000000   1.000000  \n",
       "75%     1.000000   0.000000   0.000000   1.000000  \n",
       "max     1.000000   1.000000   1.000000   1.000000  "
      ]
     },
     "execution_count": 3,
     "metadata": {},
     "output_type": "execute_result"
    }
   ],
   "source": [
    "df.describe()"
   ]
  },
  {
   "cell_type": "code",
   "execution_count": 5,
   "metadata": {},
   "outputs": [
    {
     "data": {
      "text/plain": [
       "(array([[ 4.70588235e-01,  8.23529412e-01, -1.11022302e-16,\n",
       "          5.29411765e-01,  8.23529412e-01,  5.29411765e-01,\n",
       "          5.88235294e-02,  2.77555756e-17,  5.88235294e-02,\n",
       "          8.23529412e-01],\n",
       "        [ 3.68421053e-01, -5.55111512e-17,  7.36842105e-01,\n",
       "          3.68421053e-01,  6.31578947e-01,  6.84210526e-01,\n",
       "          5.26315789e-02,  2.77555756e-17,  5.26315789e-02,\n",
       "          4.73684211e-01],\n",
       "        [ 8.66666667e-01,  8.66666667e-01,  4.00000000e-01,\n",
       "          5.33333333e-01, -1.11022302e-16,  5.33333333e-01,\n",
       "          6.00000000e-01,  2.00000000e-01,  6.66666667e-02,\n",
       "          2.66666667e-01],\n",
       "        [ 1.36363636e-01,  9.09090909e-02,  5.00000000e-01,\n",
       "          1.11022302e-16,  1.36363636e-01,  9.54545455e-01,\n",
       "          9.09090909e-01,  1.81818182e-01,  3.18181818e-01,\n",
       "          9.09090909e-01],\n",
       "        [ 0.00000000e+00,  1.00000000e+00,  8.75000000e-01,\n",
       "          2.50000000e-01,  1.00000000e+00,  8.75000000e-01,\n",
       "          5.00000000e-01,  0.00000000e+00,  0.00000000e+00,\n",
       "          1.25000000e-01]]),\n",
       " array([1, 1, 3, 2, 4, 2, 4, 0, 3, 4, 2, 0, 4, 3, 3, 0, 3, 1, 0, 1, 3, 3,\n",
       "        1, 4, 1, 2, 0, 1, 3, 0, 3, 1, 3, 0, 1, 1, 2, 0, 0, 3, 4, 2, 0, 2,\n",
       "        3, 1, 4, 3, 3, 2, 0, 2, 1, 2, 1, 1, 3, 1, 2, 2, 0, 0, 3, 3, 1, 1,\n",
       "        3, 3, 0, 3, 2, 3, 3, 0, 1, 1, 2, 2, 0, 4, 0]),\n",
       " 105.34557416267943)"
      ]
     },
     "execution_count": 5,
     "metadata": {},
     "output_type": "execute_result"
    }
   ],
   "source": [
    "from sklearn.cluster import k_means\n",
    "\n",
    "df_train = df.copy()\n",
    "\n",
    "n_cluster = 5\n",
    "centroid, label, inertia = k_means(df_train, n_cluster, random_state = 0)\n",
    "centroid, label, inertia"
   ]
  },
  {
   "cell_type": "code",
   "execution_count": 6,
   "metadata": {
    "collapsed": true
   },
   "outputs": [],
   "source": [
    "test = []\n",
    "\n",
    "# ラベル0を取り出す\n",
    "df0 = df_train[label == 0]\n",
    "df0_mean = df0.mean()\n",
    "test.append(df0_mean)"
   ]
  },
  {
   "cell_type": "code",
   "execution_count": 15,
   "metadata": {},
   "outputs": [
    {
     "data": {
      "text/plain": [
       "q1     17\n",
       "q2     17\n",
       "q3     17\n",
       "q4     17\n",
       "q5     17\n",
       "q6     17\n",
       "q7     17\n",
       "q8     17\n",
       "q9     17\n",
       "q10    17\n",
       "dtype: int64"
      ]
     },
     "execution_count": 15,
     "metadata": {},
     "output_type": "execute_result"
    }
   ],
   "source": [
    "df0.count()"
   ]
  },
  {
   "cell_type": "code",
   "execution_count": 8,
   "metadata": {
    "collapsed": true
   },
   "outputs": [],
   "source": [
    "# ラベル1を取り出す\n",
    "df1 = df_train[label == 1]\n",
    "df1_mean = df1.mean()\n",
    "# df1_mean\n",
    "test.append(df1_mean)"
   ]
  },
  {
   "cell_type": "code",
   "execution_count": 9,
   "metadata": {},
   "outputs": [
    {
     "data": {
      "text/plain": [
       "q1     19\n",
       "q2     19\n",
       "q3     19\n",
       "q4     19\n",
       "q5     19\n",
       "q6     19\n",
       "q7     19\n",
       "q8     19\n",
       "q9     19\n",
       "q10    19\n",
       "dtype: int64"
      ]
     },
     "execution_count": 9,
     "metadata": {},
     "output_type": "execute_result"
    }
   ],
   "source": [
    "df1.count()"
   ]
  },
  {
   "cell_type": "code",
   "execution_count": 10,
   "metadata": {
    "collapsed": true
   },
   "outputs": [],
   "source": [
    "# ラベル2を取り出す\n",
    "df2 = df_train[label == 2]\n",
    "df2_mean = df2.mean()\n",
    "# df2_mean\n",
    "test.append(df2_mean)"
   ]
  },
  {
   "cell_type": "code",
   "execution_count": 11,
   "metadata": {},
   "outputs": [
    {
     "data": {
      "text/plain": [
       "q1     15\n",
       "q2     15\n",
       "q3     15\n",
       "q4     15\n",
       "q5     15\n",
       "q6     15\n",
       "q7     15\n",
       "q8     15\n",
       "q9     15\n",
       "q10    15\n",
       "dtype: int64"
      ]
     },
     "execution_count": 11,
     "metadata": {},
     "output_type": "execute_result"
    }
   ],
   "source": [
    "df2.count()"
   ]
  },
  {
   "cell_type": "code",
   "execution_count": 12,
   "metadata": {
    "collapsed": true
   },
   "outputs": [],
   "source": [
    "# ラベル3を取り出す\n",
    "df3 = df_train[label == 3]\n",
    "df3_mean = df3.mean()\n",
    "# df2_mean\n",
    "test.append(df3_mean)"
   ]
  },
  {
   "cell_type": "code",
   "execution_count": 16,
   "metadata": {},
   "outputs": [
    {
     "data": {
      "text/plain": [
       "q1     22\n",
       "q2     22\n",
       "q3     22\n",
       "q4     22\n",
       "q5     22\n",
       "q6     22\n",
       "q7     22\n",
       "q8     22\n",
       "q9     22\n",
       "q10    22\n",
       "dtype: int64"
      ]
     },
     "execution_count": 16,
     "metadata": {},
     "output_type": "execute_result"
    }
   ],
   "source": [
    "df3.count()"
   ]
  },
  {
   "cell_type": "code",
   "execution_count": 13,
   "metadata": {
    "collapsed": true
   },
   "outputs": [],
   "source": [
    "# ラベル3を取り出す\n",
    "df4 = df_train[label == 4]\n",
    "df4_mean = df4.mean()\n",
    "# df2_mean\n",
    "test.append(df4_mean)"
   ]
  },
  {
   "cell_type": "code",
   "execution_count": null,
   "metadata": {
    "collapsed": true
   },
   "outputs": [],
   "source": [
    "%matplotlib inline\n",
    "import matplotlib.pyplot as plt\n",
    "\n",
    "# RecruitとCustomの散布図\n",
    "plt.scatter(df0['q2'], df0['q7'])\n",
    "plt.scatter(df1['q1'], df0['q10'])\n",
    "# plt.scatter(df2['q1'], df0['q10'])\n",
    "plt.xlabel('Oct-17')\n",
    "plt.ylabel('Feb-18');"
   ]
  },
  {
   "cell_type": "code",
   "execution_count": 17,
   "metadata": {},
   "outputs": [
    {
     "data": {
      "text/plain": [
       "q1     8\n",
       "q2     8\n",
       "q3     8\n",
       "q4     8\n",
       "q5     8\n",
       "q6     8\n",
       "q7     8\n",
       "q8     8\n",
       "q9     8\n",
       "q10    8\n",
       "dtype: int64"
      ]
     },
     "execution_count": 17,
     "metadata": {},
     "output_type": "execute_result"
    }
   ],
   "source": [
    "df4.count()"
   ]
  },
  {
   "cell_type": "code",
   "execution_count": 14,
   "metadata": {},
   "outputs": [
    {
     "data": {
      "text/plain": [
       "[q1     0.470588\n",
       " q2     0.823529\n",
       " q3     0.000000\n",
       " q4     0.529412\n",
       " q5     0.823529\n",
       " q6     0.529412\n",
       " q7     0.058824\n",
       " q8     0.000000\n",
       " q9     0.058824\n",
       " q10    0.823529\n",
       " dtype: float64, q1     0.368421\n",
       " q2     0.000000\n",
       " q3     0.736842\n",
       " q4     0.368421\n",
       " q5     0.631579\n",
       " q6     0.684211\n",
       " q7     0.052632\n",
       " q8     0.000000\n",
       " q9     0.052632\n",
       " q10    0.473684\n",
       " dtype: float64, q1     0.866667\n",
       " q2     0.866667\n",
       " q3     0.400000\n",
       " q4     0.533333\n",
       " q5     0.000000\n",
       " q6     0.533333\n",
       " q7     0.600000\n",
       " q8     0.200000\n",
       " q9     0.066667\n",
       " q10    0.266667\n",
       " dtype: float64, q1     0.136364\n",
       " q2     0.090909\n",
       " q3     0.500000\n",
       " q4     0.000000\n",
       " q5     0.136364\n",
       " q6     0.954545\n",
       " q7     0.909091\n",
       " q8     0.181818\n",
       " q9     0.318182\n",
       " q10    0.909091\n",
       " dtype: float64, q1     0.000\n",
       " q2     1.000\n",
       " q3     0.875\n",
       " q4     0.250\n",
       " q5     1.000\n",
       " q6     0.875\n",
       " q7     0.500\n",
       " q8     0.000\n",
       " q9     0.000\n",
       " q10    0.125\n",
       " dtype: float64]"
      ]
     },
     "execution_count": 14,
     "metadata": {},
     "output_type": "execute_result"
    }
   ],
   "source": [
    "test"
   ]
  },
  {
   "cell_type": "code",
   "execution_count": null,
   "metadata": {
    "collapsed": true
   },
   "outputs": [],
   "source": []
  }
 ],
 "metadata": {
  "kernelspec": {
   "display_name": "Python 3",
   "language": "python",
   "name": "python3"
  },
  "language_info": {
   "codemirror_mode": {
    "name": "ipython",
    "version": 3
   },
   "file_extension": ".py",
   "mimetype": "text/x-python",
   "name": "python",
   "nbconvert_exporter": "python",
   "pygments_lexer": "ipython3",
   "version": "3.6.1"
  }
 },
 "nbformat": 4,
 "nbformat_minor": 2
}
