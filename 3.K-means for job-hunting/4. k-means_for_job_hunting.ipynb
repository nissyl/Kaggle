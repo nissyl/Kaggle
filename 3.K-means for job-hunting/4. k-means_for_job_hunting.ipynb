{
 "cells": [
  {
   "cell_type": "code",
   "execution_count": 1,
   "metadata": {
    "collapsed": true
   },
   "outputs": [],
   "source": [
    "import pandas as pd\n",
    "import numpy as np\n",
    "\n",
    "df = pd.read_csv('job_hunting.csv', encoding=\"shift-jis\" )"
   ]
  },
  {
   "cell_type": "code",
   "execution_count": 2,
   "metadata": {},
   "outputs": [
    {
     "data": {
      "text/html": [
       "<div>\n",
       "<style>\n",
       "    .dataframe thead tr:only-child th {\n",
       "        text-align: right;\n",
       "    }\n",
       "\n",
       "    .dataframe thead th {\n",
       "        text-align: left;\n",
       "    }\n",
       "\n",
       "    .dataframe tbody tr th {\n",
       "        vertical-align: top;\n",
       "    }\n",
       "</style>\n",
       "<table border=\"1\" class=\"dataframe\">\n",
       "  <thead>\n",
       "    <tr style=\"text-align: right;\">\n",
       "      <th></th>\n",
       "      <th>Keyword</th>\n",
       "      <th>Jul-17</th>\n",
       "      <th>Aug-17</th>\n",
       "      <th>Sep-17</th>\n",
       "      <th>Oct-17</th>\n",
       "      <th>Nov-17</th>\n",
       "      <th>Dec-17</th>\n",
       "      <th>Jan-18</th>\n",
       "      <th>Feb-18</th>\n",
       "      <th>Mar-18</th>\n",
       "      <th>Apr-18</th>\n",
       "      <th>May-18</th>\n",
       "      <th>Jun-18</th>\n",
       "    </tr>\n",
       "  </thead>\n",
       "  <tbody>\n",
       "    <tr>\n",
       "      <th>0</th>\n",
       "      <td>インターン</td>\n",
       "      <td>40500</td>\n",
       "      <td>33100</td>\n",
       "      <td>27100</td>\n",
       "      <td>22200</td>\n",
       "      <td>22200</td>\n",
       "      <td>22200</td>\n",
       "      <td>27100</td>\n",
       "      <td>27100</td>\n",
       "      <td>27100</td>\n",
       "      <td>33100</td>\n",
       "      <td>40500</td>\n",
       "      <td>40500</td>\n",
       "    </tr>\n",
       "    <tr>\n",
       "      <th>1</th>\n",
       "      <td>2020</td>\n",
       "      <td>5400</td>\n",
       "      <td>4400</td>\n",
       "      <td>5400</td>\n",
       "      <td>5400</td>\n",
       "      <td>5400</td>\n",
       "      <td>5400</td>\n",
       "      <td>6600</td>\n",
       "      <td>8100</td>\n",
       "      <td>6600</td>\n",
       "      <td>6600</td>\n",
       "      <td>6600</td>\n",
       "      <td>8100</td>\n",
       "    </tr>\n",
       "    <tr>\n",
       "      <th>2</th>\n",
       "      <td>就活</td>\n",
       "      <td>49500</td>\n",
       "      <td>33100</td>\n",
       "      <td>33100</td>\n",
       "      <td>33100</td>\n",
       "      <td>33100</td>\n",
       "      <td>33100</td>\n",
       "      <td>40500</td>\n",
       "      <td>60500</td>\n",
       "      <td>90500</td>\n",
       "      <td>60500</td>\n",
       "      <td>60500</td>\n",
       "      <td>60500</td>\n",
       "    </tr>\n",
       "    <tr>\n",
       "      <th>3</th>\n",
       "      <td>インターンシップ</td>\n",
       "      <td>74000</td>\n",
       "      <td>74000</td>\n",
       "      <td>60500</td>\n",
       "      <td>40500</td>\n",
       "      <td>40500</td>\n",
       "      <td>40500</td>\n",
       "      <td>49500</td>\n",
       "      <td>49500</td>\n",
       "      <td>33100</td>\n",
       "      <td>60500</td>\n",
       "      <td>74000</td>\n",
       "      <td>74000</td>\n",
       "    </tr>\n",
       "    <tr>\n",
       "      <th>4</th>\n",
       "      <td>就活 スーツ</td>\n",
       "      <td>5400</td>\n",
       "      <td>4400</td>\n",
       "      <td>4400</td>\n",
       "      <td>5400</td>\n",
       "      <td>6600</td>\n",
       "      <td>8100</td>\n",
       "      <td>14800</td>\n",
       "      <td>18100</td>\n",
       "      <td>18100</td>\n",
       "      <td>6600</td>\n",
       "      <td>6600</td>\n",
       "      <td>6600</td>\n",
       "    </tr>\n",
       "  </tbody>\n",
       "</table>\n",
       "</div>"
      ],
      "text/plain": [
       "    Keyword  Jul-17  Aug-17  Sep-17  Oct-17  Nov-17  Dec-17  Jan-18  Feb-18  \\\n",
       "0     インターン   40500   33100   27100   22200   22200   22200   27100   27100   \n",
       "1      2020    5400    4400    5400    5400    5400    5400    6600    8100   \n",
       "2        就活   49500   33100   33100   33100   33100   33100   40500   60500   \n",
       "3  インターンシップ   74000   74000   60500   40500   40500   40500   49500   49500   \n",
       "4    就活 スーツ    5400    4400    4400    5400    6600    8100   14800   18100   \n",
       "\n",
       "   Mar-18  Apr-18  May-18  Jun-18  \n",
       "0   27100   33100   40500   40500  \n",
       "1    6600    6600    6600    8100  \n",
       "2   90500   60500   60500   60500  \n",
       "3   33100   60500   74000   74000  \n",
       "4   18100    6600    6600    6600  "
      ]
     },
     "execution_count": 2,
     "metadata": {},
     "output_type": "execute_result"
    }
   ],
   "source": [
    "df.head()"
   ]
  },
  {
   "cell_type": "code",
   "execution_count": 3,
   "metadata": {},
   "outputs": [
    {
     "data": {
      "text/plain": [
       "Keyword    False\n",
       "Jul-17     False\n",
       "Aug-17     False\n",
       "Sep-17     False\n",
       "Oct-17     False\n",
       "Nov-17     False\n",
       "Dec-17     False\n",
       "Jan-18     False\n",
       "Feb-18     False\n",
       "Mar-18     False\n",
       "Apr-18     False\n",
       "May-18     False\n",
       "Jun-18     False\n",
       "dtype: bool"
      ]
     },
     "execution_count": 3,
     "metadata": {},
     "output_type": "execute_result"
    }
   ],
   "source": [
    "df.isnull().any()"
   ]
  },
  {
   "cell_type": "code",
   "execution_count": 8,
   "metadata": {},
   "outputs": [
    {
     "data": {
      "text/html": [
       "<div>\n",
       "<style>\n",
       "    .dataframe thead tr:only-child th {\n",
       "        text-align: right;\n",
       "    }\n",
       "\n",
       "    .dataframe thead th {\n",
       "        text-align: left;\n",
       "    }\n",
       "\n",
       "    .dataframe tbody tr th {\n",
       "        vertical-align: top;\n",
       "    }\n",
       "</style>\n",
       "<table border=\"1\" class=\"dataframe\">\n",
       "  <thead>\n",
       "    <tr style=\"text-align: right;\">\n",
       "      <th></th>\n",
       "      <th>Jul-17</th>\n",
       "      <th>Aug-17</th>\n",
       "      <th>Sep-17</th>\n",
       "      <th>Oct-17</th>\n",
       "      <th>Nov-17</th>\n",
       "      <th>Dec-17</th>\n",
       "      <th>Jan-18</th>\n",
       "      <th>Feb-18</th>\n",
       "      <th>Mar-18</th>\n",
       "      <th>Apr-18</th>\n",
       "      <th>May-18</th>\n",
       "      <th>Jun-18</th>\n",
       "    </tr>\n",
       "  </thead>\n",
       "  <tbody>\n",
       "    <tr>\n",
       "      <th>count</th>\n",
       "      <td>1.168000e+03</td>\n",
       "      <td>1.168000e+03</td>\n",
       "      <td>1168.000000</td>\n",
       "      <td>1.168000e+03</td>\n",
       "      <td>1168.000000</td>\n",
       "      <td>1168.000000</td>\n",
       "      <td>1.168000e+03</td>\n",
       "      <td>1.168000e+03</td>\n",
       "      <td>1.168000e+03</td>\n",
       "      <td>1.168000e+03</td>\n",
       "      <td>1.168000e+03</td>\n",
       "      <td>1168.000000</td>\n",
       "    </tr>\n",
       "    <tr>\n",
       "      <th>mean</th>\n",
       "      <td>4.534298e+03</td>\n",
       "      <td>4.067637e+03</td>\n",
       "      <td>3630.273973</td>\n",
       "      <td>4.008228e+03</td>\n",
       "      <td>3481.832192</td>\n",
       "      <td>3471.857877</td>\n",
       "      <td>4.163330e+03</td>\n",
       "      <td>8.078168e+03</td>\n",
       "      <td>5.391045e+03</td>\n",
       "      <td>5.182654e+03</td>\n",
       "      <td>4.948733e+03</td>\n",
       "      <td>4386.994863</td>\n",
       "    </tr>\n",
       "    <tr>\n",
       "      <th>std</th>\n",
       "      <td>4.919532e+04</td>\n",
       "      <td>4.684438e+04</td>\n",
       "      <td>39133.205892</td>\n",
       "      <td>4.660542e+04</td>\n",
       "      <td>38674.539476</td>\n",
       "      <td>37200.596199</td>\n",
       "      <td>4.508337e+04</td>\n",
       "      <td>1.285785e+05</td>\n",
       "      <td>5.528306e+04</td>\n",
       "      <td>5.124740e+04</td>\n",
       "      <td>4.917966e+04</td>\n",
       "      <td>41317.495210</td>\n",
       "    </tr>\n",
       "    <tr>\n",
       "      <th>min</th>\n",
       "      <td>0.000000e+00</td>\n",
       "      <td>0.000000e+00</td>\n",
       "      <td>0.000000</td>\n",
       "      <td>0.000000e+00</td>\n",
       "      <td>0.000000</td>\n",
       "      <td>0.000000</td>\n",
       "      <td>0.000000e+00</td>\n",
       "      <td>0.000000e+00</td>\n",
       "      <td>0.000000e+00</td>\n",
       "      <td>0.000000e+00</td>\n",
       "      <td>0.000000e+00</td>\n",
       "      <td>0.000000</td>\n",
       "    </tr>\n",
       "    <tr>\n",
       "      <th>25%</th>\n",
       "      <td>1.000000e+01</td>\n",
       "      <td>1.000000e+01</td>\n",
       "      <td>10.000000</td>\n",
       "      <td>1.000000e+01</td>\n",
       "      <td>10.000000</td>\n",
       "      <td>10.000000</td>\n",
       "      <td>1.000000e+01</td>\n",
       "      <td>1.000000e+01</td>\n",
       "      <td>1.000000e+01</td>\n",
       "      <td>1.000000e+01</td>\n",
       "      <td>1.000000e+01</td>\n",
       "      <td>10.000000</td>\n",
       "    </tr>\n",
       "    <tr>\n",
       "      <th>50%</th>\n",
       "      <td>3.000000e+01</td>\n",
       "      <td>3.000000e+01</td>\n",
       "      <td>25.000000</td>\n",
       "      <td>3.000000e+01</td>\n",
       "      <td>20.000000</td>\n",
       "      <td>20.000000</td>\n",
       "      <td>3.000000e+01</td>\n",
       "      <td>4.000000e+01</td>\n",
       "      <td>4.000000e+01</td>\n",
       "      <td>4.000000e+01</td>\n",
       "      <td>4.000000e+01</td>\n",
       "      <td>40.000000</td>\n",
       "    </tr>\n",
       "    <tr>\n",
       "      <th>75%</th>\n",
       "      <td>1.700000e+02</td>\n",
       "      <td>1.400000e+02</td>\n",
       "      <td>140.000000</td>\n",
       "      <td>1.400000e+02</td>\n",
       "      <td>140.000000</td>\n",
       "      <td>140.000000</td>\n",
       "      <td>1.700000e+02</td>\n",
       "      <td>2.100000e+02</td>\n",
       "      <td>1.700000e+02</td>\n",
       "      <td>2.100000e+02</td>\n",
       "      <td>2.100000e+02</td>\n",
       "      <td>210.000000</td>\n",
       "    </tr>\n",
       "    <tr>\n",
       "      <th>max</th>\n",
       "      <td>1.220000e+06</td>\n",
       "      <td>1.220000e+06</td>\n",
       "      <td>1000000.000000</td>\n",
       "      <td>1.220000e+06</td>\n",
       "      <td>1000000.000000</td>\n",
       "      <td>1000000.000000</td>\n",
       "      <td>1.220000e+06</td>\n",
       "      <td>4.090000e+06</td>\n",
       "      <td>1.220000e+06</td>\n",
       "      <td>1.220000e+06</td>\n",
       "      <td>1.220000e+06</td>\n",
       "      <td>1000000.000000</td>\n",
       "    </tr>\n",
       "  </tbody>\n",
       "</table>\n",
       "</div>"
      ],
      "text/plain": [
       "             Jul-17        Aug-17          Sep-17        Oct-17  \\\n",
       "count  1.168000e+03  1.168000e+03     1168.000000  1.168000e+03   \n",
       "mean   4.534298e+03  4.067637e+03     3630.273973  4.008228e+03   \n",
       "std    4.919532e+04  4.684438e+04    39133.205892  4.660542e+04   \n",
       "min    0.000000e+00  0.000000e+00        0.000000  0.000000e+00   \n",
       "25%    1.000000e+01  1.000000e+01       10.000000  1.000000e+01   \n",
       "50%    3.000000e+01  3.000000e+01       25.000000  3.000000e+01   \n",
       "75%    1.700000e+02  1.400000e+02      140.000000  1.400000e+02   \n",
       "max    1.220000e+06  1.220000e+06  1000000.000000  1.220000e+06   \n",
       "\n",
       "               Nov-17          Dec-17        Jan-18        Feb-18  \\\n",
       "count     1168.000000     1168.000000  1.168000e+03  1.168000e+03   \n",
       "mean      3481.832192     3471.857877  4.163330e+03  8.078168e+03   \n",
       "std      38674.539476    37200.596199  4.508337e+04  1.285785e+05   \n",
       "min          0.000000        0.000000  0.000000e+00  0.000000e+00   \n",
       "25%         10.000000       10.000000  1.000000e+01  1.000000e+01   \n",
       "50%         20.000000       20.000000  3.000000e+01  4.000000e+01   \n",
       "75%        140.000000      140.000000  1.700000e+02  2.100000e+02   \n",
       "max    1000000.000000  1000000.000000  1.220000e+06  4.090000e+06   \n",
       "\n",
       "             Mar-18        Apr-18        May-18          Jun-18  \n",
       "count  1.168000e+03  1.168000e+03  1.168000e+03     1168.000000  \n",
       "mean   5.391045e+03  5.182654e+03  4.948733e+03     4386.994863  \n",
       "std    5.528306e+04  5.124740e+04  4.917966e+04    41317.495210  \n",
       "min    0.000000e+00  0.000000e+00  0.000000e+00        0.000000  \n",
       "25%    1.000000e+01  1.000000e+01  1.000000e+01       10.000000  \n",
       "50%    4.000000e+01  4.000000e+01  4.000000e+01       40.000000  \n",
       "75%    1.700000e+02  2.100000e+02  2.100000e+02      210.000000  \n",
       "max    1.220000e+06  1.220000e+06  1.220000e+06  1000000.000000  "
      ]
     },
     "execution_count": 8,
     "metadata": {},
     "output_type": "execute_result"
    }
   ],
   "source": [
    "df.describe()"
   ]
  },
  {
   "cell_type": "code",
   "execution_count": 18,
   "metadata": {},
   "outputs": [
    {
     "data": {
      "text/plain": [
       "(array([[2.22771478e+03, 1.89432990e+03, 1.83089347e+03, 1.85619416e+03,\n",
       "         1.70341924e+03, 1.75182990e+03, 2.02385739e+03, 2.49338488e+03,\n",
       "         2.77469072e+03, 2.85424399e+03],\n",
       "        [1.10000000e+05, 1.35000000e+05, 1.35000000e+05, 1.10000000e+05,\n",
       "         1.10000000e+05, 1.65000000e+05, 2.46000000e+05, 4.09000000e+06,\n",
       "         2.01000000e+05, 1.65000000e+05],\n",
       "        [8.64333333e+05, 8.03666667e+05, 6.58000000e+05, 8.03666667e+05,\n",
       "         6.58000000e+05, 6.17000000e+05, 7.53666667e+05, 8.14333333e+05,\n",
       "         9.55333333e+05, 8.55333333e+05]]),\n",
       " array([0, 0, 0, ..., 0, 0, 0]),\n",
       " 6137906218737.2)"
      ]
     },
     "execution_count": 18,
     "metadata": {},
     "output_type": "execute_result"
    }
   ],
   "source": [
    "from sklearn.cluster import k_means\n",
    "\n",
    "n_cluster = 3\n",
    "centroid, label, inertia = k_means(df_train, n_cluster, random_state = 0)\n",
    "centroid, label, inertia"
   ]
  },
  {
   "cell_type": "code",
   "execution_count": 19,
   "metadata": {},
   "outputs": [
    {
     "data": {
      "text/plain": [
       "Jul-17    2227.714777\n",
       "Aug-17    1894.329897\n",
       "Sep-17    1830.893471\n",
       "Oct-17    1856.194158\n",
       "Nov-17    1703.419244\n",
       "Dec-17    1751.829897\n",
       "Jan-18    2023.857388\n",
       "Feb-18    2493.384880\n",
       "Mar-18    2774.690722\n",
       "Apr-18    2854.243986\n",
       "dtype: float64"
      ]
     },
     "execution_count": 19,
     "metadata": {},
     "output_type": "execute_result"
    }
   ],
   "source": [
    "# ラベル0を取り出す\n",
    "df0 = df_train[label == 0]\n",
    "df0_mean = df0.mean()\n",
    "df0_mean"
   ]
  },
  {
   "cell_type": "code",
   "execution_count": 20,
   "metadata": {},
   "outputs": [
    {
     "data": {
      "text/plain": [
       "Jul-17     110000.0\n",
       "Aug-17     135000.0\n",
       "Sep-17     135000.0\n",
       "Oct-17     110000.0\n",
       "Nov-17     110000.0\n",
       "Dec-17     165000.0\n",
       "Jan-18     246000.0\n",
       "Feb-18    4090000.0\n",
       "Mar-18     201000.0\n",
       "Apr-18     165000.0\n",
       "dtype: float64"
      ]
     },
     "execution_count": 20,
     "metadata": {},
     "output_type": "execute_result"
    }
   ],
   "source": [
    "# ラベル1を取り出す\n",
    "df1 = df_train[label == 1]\n",
    "df1_mean = df1.mean()\n",
    "df1_mean"
   ]
  },
  {
   "cell_type": "code",
   "execution_count": 21,
   "metadata": {},
   "outputs": [
    {
     "data": {
      "text/plain": [
       "Jul-17    864333.333333\n",
       "Aug-17    803666.666667\n",
       "Sep-17    658000.000000\n",
       "Oct-17    803666.666667\n",
       "Nov-17    658000.000000\n",
       "Dec-17    617000.000000\n",
       "Jan-18    753666.666667\n",
       "Feb-18    814333.333333\n",
       "Mar-18    955333.333333\n",
       "Apr-18    855333.333333\n",
       "dtype: float64"
      ]
     },
     "execution_count": 21,
     "metadata": {},
     "output_type": "execute_result"
    }
   ],
   "source": [
    "# ラベル2を取り出す\n",
    "df2 = df_train[label == 2]\n",
    "df2_mean = df2.mean()\n",
    "df2_mean"
   ]
  },
  {
   "cell_type": "code",
   "execution_count": 24,
   "metadata": {},
   "outputs": [
    {
     "data": {
      "image/png": "[encoded data removed]",
      "text/plain": [
       "<matplotlib.figure.Figure at 0x13239cf8>"
      ]
     },
     "metadata": {},
     "output_type": "display_data"
    }
   ],
   "source": [
    "%matplotlib inline\n",
    "import matplotlib.pyplot as plt\n",
    "\n",
    "# RecruitとCustomの散布図\n",
    "plt.scatter(df0['Oct-17'], df0['Feb-18'])\n",
    "plt.scatter(df1['Oct-17'], df1['Feb-18'])\n",
    "plt.scatter(df2['Oct-17'], df2['Feb-18'])\n",
    "plt.xlabel('Oct-17')\n",
    "plt.ylabel('Feb-18');"
   ]
  },
  {
   "cell_type": "code",
   "execution_count": null,
   "metadata": {
    "collapsed": true
   },
   "outputs": [],
   "source": []
  }
 ],
 "metadata": {
  "kernelspec": {
   "display_name": "Python 3",
   "language": "python",
   "name": "python3"
  },
  "language_info": {
   "codemirror_mode": {
    "name": "ipython",
    "version": 3
   },
   "file_extension": ".py",
   "mimetype": "text/x-python",
   "name": "python",
   "nbconvert_exporter": "python",
   "pygments_lexer": "ipython3",
   "version": "3.6.1"
  }
 },
 "nbformat": 4,
 "nbformat_minor": 2
}
