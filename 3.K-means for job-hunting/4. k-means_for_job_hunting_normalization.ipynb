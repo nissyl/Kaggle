{
 "cells": [
  {
   "cell_type": "code",
   "execution_count": 10,
   "metadata": {
    "collapsed": true
   },
   "outputs": [],
   "source": [
    "import pandas as pd\n",
    "import numpy as np\n",
    "\n",
    "df = pd.read_csv('job_hunting.csv', encoding=\"shift-jis\" )"
   ]
  },
  {
   "cell_type": "code",
   "execution_count": 11,
   "metadata": {},
   "outputs": [
    {
     "data": {
      "text/html": [
       "<div>\n",
       "<style>\n",
       "    .dataframe thead tr:only-child th {\n",
       "        text-align: right;\n",
       "    }\n",
       "\n",
       "    .dataframe thead th {\n",
       "        text-align: left;\n",
       "    }\n",
       "\n",
       "    .dataframe tbody tr th {\n",
       "        vertical-align: top;\n",
       "    }\n",
       "</style>\n",
       "<table border=\"1\" class=\"dataframe\">\n",
       "  <thead>\n",
       "    <tr style=\"text-align: right;\">\n",
       "      <th></th>\n",
       "      <th>Jul-17</th>\n",
       "      <th>Aug-17</th>\n",
       "      <th>Sep-17</th>\n",
       "      <th>Oct-17</th>\n",
       "      <th>Nov-17</th>\n",
       "      <th>Dec-17</th>\n",
       "      <th>Jan-18</th>\n",
       "      <th>Feb-18</th>\n",
       "      <th>Mar-18</th>\n",
       "      <th>Apr-18</th>\n",
       "    </tr>\n",
       "  </thead>\n",
       "  <tbody>\n",
       "    <tr>\n",
       "      <th>0</th>\n",
       "      <td>40500</td>\n",
       "      <td>33100</td>\n",
       "      <td>27100</td>\n",
       "      <td>22200</td>\n",
       "      <td>22200</td>\n",
       "      <td>22200</td>\n",
       "      <td>27100</td>\n",
       "      <td>27100</td>\n",
       "      <td>27100</td>\n",
       "      <td>33100</td>\n",
       "    </tr>\n",
       "    <tr>\n",
       "      <th>1</th>\n",
       "      <td>5400</td>\n",
       "      <td>4400</td>\n",
       "      <td>5400</td>\n",
       "      <td>5400</td>\n",
       "      <td>5400</td>\n",
       "      <td>5400</td>\n",
       "      <td>6600</td>\n",
       "      <td>8100</td>\n",
       "      <td>6600</td>\n",
       "      <td>6600</td>\n",
       "    </tr>\n",
       "    <tr>\n",
       "      <th>2</th>\n",
       "      <td>49500</td>\n",
       "      <td>33100</td>\n",
       "      <td>33100</td>\n",
       "      <td>33100</td>\n",
       "      <td>33100</td>\n",
       "      <td>33100</td>\n",
       "      <td>40500</td>\n",
       "      <td>60500</td>\n",
       "      <td>90500</td>\n",
       "      <td>60500</td>\n",
       "    </tr>\n",
       "    <tr>\n",
       "      <th>3</th>\n",
       "      <td>74000</td>\n",
       "      <td>74000</td>\n",
       "      <td>60500</td>\n",
       "      <td>40500</td>\n",
       "      <td>40500</td>\n",
       "      <td>40500</td>\n",
       "      <td>49500</td>\n",
       "      <td>49500</td>\n",
       "      <td>33100</td>\n",
       "      <td>60500</td>\n",
       "    </tr>\n",
       "    <tr>\n",
       "      <th>4</th>\n",
       "      <td>5400</td>\n",
       "      <td>4400</td>\n",
       "      <td>4400</td>\n",
       "      <td>5400</td>\n",
       "      <td>6600</td>\n",
       "      <td>8100</td>\n",
       "      <td>14800</td>\n",
       "      <td>18100</td>\n",
       "      <td>18100</td>\n",
       "      <td>6600</td>\n",
       "    </tr>\n",
       "  </tbody>\n",
       "</table>\n",
       "</div>"
      ],
      "text/plain": [
       "   Jul-17  Aug-17  Sep-17  Oct-17  Nov-17  Dec-17  Jan-18  Feb-18  Mar-18  \\\n",
       "0   40500   33100   27100   22200   22200   22200   27100   27100   27100   \n",
       "1    5400    4400    5400    5400    5400    5400    6600    8100    6600   \n",
       "2   49500   33100   33100   33100   33100   33100   40500   60500   90500   \n",
       "3   74000   74000   60500   40500   40500   40500   49500   49500   33100   \n",
       "4    5400    4400    4400    5400    6600    8100   14800   18100   18100   \n",
       "\n",
       "   Apr-18  \n",
       "0   33100  \n",
       "1    6600  \n",
       "2   60500  \n",
       "3   60500  \n",
       "4    6600  "
      ]
     },
     "execution_count": 11,
     "metadata": {},
     "output_type": "execute_result"
    }
   ],
   "source": [
    "df_train = df.iloc[:,1:11]\n",
    "df_train.head()"
   ]
  },
  {
   "cell_type": "code",
   "execution_count": 14,
   "metadata": {},
   "outputs": [
    {
     "data": {
      "text/plain": [
       "array([[40500, 33100, 27100, ..., 27100, 27100, 33100],\n",
       "       [ 5400,  4400,  5400, ...,  8100,  6600,  6600],\n",
       "       [49500, 33100, 33100, ..., 60500, 90500, 60500],\n",
       "       ...,\n",
       "       [   10,    10,     0, ...,     0,    10,     0],\n",
       "       [    0,     0,    10, ...,    10,    10,     0],\n",
       "       [    0,    10,     0, ...,    10,     0,     0]], dtype=int64)"
      ]
     },
     "execution_count": 14,
     "metadata": {},
     "output_type": "execute_result"
    }
   ],
   "source": [
    "df_array = df_train.values\n",
    "df_array"
   ]
  },
  {
   "cell_type": "code",
   "execution_count": 15,
   "metadata": {
    "collapsed": true
   },
   "outputs": [],
   "source": [
    "import numpy as np\n",
    "def normalize(v, axis=-1, order=2):\n",
    "    l2 = np.linalg.norm(v, ord = order, axis=axis, keepdims=True)\n",
    "    l2[l2==0] = 1\n",
    "    return v/l2"
   ]
  },
  {
   "cell_type": "code",
   "execution_count": 18,
   "metadata": {
    "collapsed": true
   },
   "outputs": [],
   "source": [
    "df_train_normalize = normalize(df_array, axis = 1)\n",
    "# df_train1 = pd.DataFrame(df_train_normalize)\n",
    "# df_train1.head()"
   ]
  },
  {
   "cell_type": "code",
   "execution_count": 19,
   "metadata": {},
   "outputs": [
    {
     "data": {
      "text/plain": [
       "array([[0.44595438, 0.36447136, 0.29840405, ..., 0.29840405, 0.29840405,\n",
       "        0.36447136],\n",
       "       [0.28403355, 0.23143475, 0.28403355, ..., 0.42605033, 0.34715212,\n",
       "        0.34715212],\n",
       "       [0.31257014, 0.20901155, 0.20901155, ..., 0.38203018, 0.57146663,\n",
       "        0.38203018],\n",
       "       ...,\n",
       "       [0.57735027, 0.57735027, 0.        , ..., 0.        , 0.57735027,\n",
       "        0.        ],\n",
       "       [0.        , 0.        , 0.40824829, ..., 0.40824829, 0.40824829,\n",
       "        0.        ],\n",
       "       [0.        , 0.70710678, 0.        , ..., 0.70710678, 0.        ,\n",
       "        0.        ]])"
      ]
     },
     "execution_count": 19,
     "metadata": {},
     "output_type": "execute_result"
    }
   ],
   "source": [
    "df_train_normalize"
   ]
  },
  {
   "cell_type": "code",
   "execution_count": 24,
   "metadata": {},
   "outputs": [
    {
     "data": {
      "text/html": [
       "<div>\n",
       "<style>\n",
       "    .dataframe thead tr:only-child th {\n",
       "        text-align: right;\n",
       "    }\n",
       "\n",
       "    .dataframe thead th {\n",
       "        text-align: left;\n",
       "    }\n",
       "\n",
       "    .dataframe tbody tr th {\n",
       "        vertical-align: top;\n",
       "    }\n",
       "</style>\n",
       "<table border=\"1\" class=\"dataframe\">\n",
       "  <thead>\n",
       "    <tr style=\"text-align: right;\">\n",
       "      <th></th>\n",
       "      <th>Jul-17</th>\n",
       "      <th>Aug-17</th>\n",
       "      <th>Sep-17</th>\n",
       "      <th>Nov-17</th>\n",
       "      <th>Dec-17</th>\n",
       "      <th>Jan-18</th>\n",
       "      <th>Feb-18</th>\n",
       "      <th>Mar-18</th>\n",
       "      <th>Apr-18</th>\n",
       "      <th>Jun-18</th>\n",
       "    </tr>\n",
       "  </thead>\n",
       "  <tbody>\n",
       "    <tr>\n",
       "      <th>0</th>\n",
       "      <td>0.445954</td>\n",
       "      <td>0.364471</td>\n",
       "      <td>0.298404</td>\n",
       "      <td>0.244449</td>\n",
       "      <td>0.244449</td>\n",
       "      <td>0.244449</td>\n",
       "      <td>0.298404</td>\n",
       "      <td>0.298404</td>\n",
       "      <td>0.298404</td>\n",
       "      <td>0.364471</td>\n",
       "    </tr>\n",
       "    <tr>\n",
       "      <th>1</th>\n",
       "      <td>0.284034</td>\n",
       "      <td>0.231435</td>\n",
       "      <td>0.284034</td>\n",
       "      <td>0.284034</td>\n",
       "      <td>0.284034</td>\n",
       "      <td>0.284034</td>\n",
       "      <td>0.347152</td>\n",
       "      <td>0.426050</td>\n",
       "      <td>0.347152</td>\n",
       "      <td>0.347152</td>\n",
       "    </tr>\n",
       "    <tr>\n",
       "      <th>2</th>\n",
       "      <td>0.312570</td>\n",
       "      <td>0.209012</td>\n",
       "      <td>0.209012</td>\n",
       "      <td>0.209012</td>\n",
       "      <td>0.209012</td>\n",
       "      <td>0.209012</td>\n",
       "      <td>0.255739</td>\n",
       "      <td>0.382030</td>\n",
       "      <td>0.571467</td>\n",
       "      <td>0.382030</td>\n",
       "    </tr>\n",
       "    <tr>\n",
       "      <th>3</th>\n",
       "      <td>0.433131</td>\n",
       "      <td>0.433131</td>\n",
       "      <td>0.354114</td>\n",
       "      <td>0.237052</td>\n",
       "      <td>0.237052</td>\n",
       "      <td>0.237052</td>\n",
       "      <td>0.289730</td>\n",
       "      <td>0.289730</td>\n",
       "      <td>0.193738</td>\n",
       "      <td>0.354114</td>\n",
       "    </tr>\n",
       "    <tr>\n",
       "      <th>4</th>\n",
       "      <td>0.161066</td>\n",
       "      <td>0.131239</td>\n",
       "      <td>0.131239</td>\n",
       "      <td>0.161066</td>\n",
       "      <td>0.196859</td>\n",
       "      <td>0.241600</td>\n",
       "      <td>0.441441</td>\n",
       "      <td>0.539871</td>\n",
       "      <td>0.539871</td>\n",
       "      <td>0.196859</td>\n",
       "    </tr>\n",
       "  </tbody>\n",
       "</table>\n",
       "</div>"
      ],
      "text/plain": [
       "     Jul-17    Aug-17    Sep-17    Nov-17    Dec-17    Jan-18    Feb-18  \\\n",
       "0  0.445954  0.364471  0.298404  0.244449  0.244449  0.244449  0.298404   \n",
       "1  0.284034  0.231435  0.284034  0.284034  0.284034  0.284034  0.347152   \n",
       "2  0.312570  0.209012  0.209012  0.209012  0.209012  0.209012  0.255739   \n",
       "3  0.433131  0.433131  0.354114  0.237052  0.237052  0.237052  0.289730   \n",
       "4  0.161066  0.131239  0.131239  0.161066  0.196859  0.241600  0.441441   \n",
       "\n",
       "     Mar-18    Apr-18    Jun-18  \n",
       "0  0.298404  0.298404  0.364471  \n",
       "1  0.426050  0.347152  0.347152  \n",
       "2  0.382030  0.571467  0.382030  \n",
       "3  0.289730  0.193738  0.354114  \n",
       "4  0.539871  0.539871  0.196859  "
      ]
     },
     "execution_count": 24,
     "metadata": {},
     "output_type": "execute_result"
    }
   ],
   "source": [
    "df = pd.DataFrame(df_train_normalize,  columns=['Jul-17', 'Aug-17', 'Sep-17', 'Nov-17', 'Dec-17', 'Jan-18', 'Feb-18', 'Mar-18', 'Apr-18', 'Jun-18'])\n",
    "df.head()"
   ]
  },
  {
   "cell_type": "code",
   "execution_count": 25,
   "metadata": {},
   "outputs": [
    {
     "data": {
      "text/plain": [
       "(array([[0.11958764, 0.12183297, 0.12464057, 0.13112138, 0.13616043,\n",
       "         0.1596576 , 0.27382795, 0.74144276, 0.28693713, 0.15649722],\n",
       "        [0.30536452, 0.27715058, 0.28417665, 0.29578662, 0.2788485 ,\n",
       "         0.27238029, 0.33676121, 0.31184996, 0.31961762, 0.31924463],\n",
       "        [0.48882645, 0.3461311 , 0.28399022, 0.25298497, 0.19811897,\n",
       "         0.17505972, 0.17456444, 0.13779736, 0.11341352, 0.13001808],\n",
       "        [0.24160413, 0.16781161, 0.15577849, 0.13405713, 0.14164154,\n",
       "         0.13692098, 0.20821259, 0.23481093, 0.43118297, 0.60228664]]),\n",
       " array([1, 1, 1, ..., 2, 1, 0]),\n",
       " 172.06463361956483)"
      ]
     },
     "execution_count": 25,
     "metadata": {},
     "output_type": "execute_result"
    }
   ],
   "source": [
    "from sklearn.cluster import k_means\n",
    "\n",
    "n_cluster = 4\n",
    "centroid, label, inertia = k_means(df, n_cluster, random_state = 0)\n",
    "centroid, label, inertia"
   ]
  },
  {
   "cell_type": "code",
   "execution_count": 26,
   "metadata": {},
   "outputs": [
    {
     "data": {
      "text/plain": [
       "Jul-17    0.119588\n",
       "Aug-17    0.121833\n",
       "Sep-17    0.124641\n",
       "Nov-17    0.131121\n",
       "Dec-17    0.136160\n",
       "Jan-18    0.159658\n",
       "Feb-18    0.273828\n",
       "Mar-18    0.741443\n",
       "Apr-18    0.286937\n",
       "Jun-18    0.156497\n",
       "dtype: float64"
      ]
     },
     "execution_count": 26,
     "metadata": {},
     "output_type": "execute_result"
    }
   ],
   "source": [
    "# ラベル0を取り出す\n",
    "df0 = df[label == 0]\n",
    "df0_mean = df0.mean()\n",
    "df0_mean"
   ]
  },
  {
   "cell_type": "code",
   "execution_count": 27,
   "metadata": {},
   "outputs": [
    {
     "data": {
      "text/plain": [
       "Jul-17    0.305365\n",
       "Aug-17    0.277151\n",
       "Sep-17    0.284177\n",
       "Nov-17    0.295787\n",
       "Dec-17    0.278849\n",
       "Jan-18    0.272380\n",
       "Feb-18    0.336761\n",
       "Mar-18    0.311850\n",
       "Apr-18    0.319618\n",
       "Jun-18    0.319245\n",
       "dtype: float64"
      ]
     },
     "execution_count": 27,
     "metadata": {},
     "output_type": "execute_result"
    }
   ],
   "source": [
    "# ラベル1を取り出す\n",
    "df1 = df[label == 1]\n",
    "df1_mean = df1.mean()\n",
    "df1_mean"
   ]
  },
  {
   "cell_type": "code",
   "execution_count": 28,
   "metadata": {},
   "outputs": [
    {
     "data": {
      "text/plain": [
       "Jul-17    0.488826\n",
       "Aug-17    0.346131\n",
       "Sep-17    0.283990\n",
       "Nov-17    0.252985\n",
       "Dec-17    0.198119\n",
       "Jan-18    0.175060\n",
       "Feb-18    0.174564\n",
       "Mar-18    0.137797\n",
       "Apr-18    0.113414\n",
       "Jun-18    0.130018\n",
       "dtype: float64"
      ]
     },
     "execution_count": 28,
     "metadata": {},
     "output_type": "execute_result"
    }
   ],
   "source": [
    "# ラベル2を取り出す\n",
    "df2 = df[label == 2]\n",
    "df2_mean = df2.mean()\n",
    "df2_mean"
   ]
  },
  {
   "cell_type": "code",
   "execution_count": 29,
   "metadata": {},
   "outputs": [
    {
     "data": {
      "text/plain": [
       "Jul-17    0.241604\n",
       "Aug-17    0.167812\n",
       "Sep-17    0.155778\n",
       "Nov-17    0.134057\n",
       "Dec-17    0.141642\n",
       "Jan-18    0.136921\n",
       "Feb-18    0.208213\n",
       "Mar-18    0.234811\n",
       "Apr-18    0.431183\n",
       "Jun-18    0.602287\n",
       "dtype: float64"
      ]
     },
     "execution_count": 29,
     "metadata": {},
     "output_type": "execute_result"
    }
   ],
   "source": [
    "# ラベル3を取り出す\n",
    "df3 = df[label == 3]\n",
    "df3_mean = df3.mean()\n",
    "df3_mean"
   ]
  },
  {
   "cell_type": "code",
   "execution_count": null,
   "metadata": {
    "collapsed": true
   },
   "outputs": [],
   "source": []
  }
 ],
 "metadata": {
  "kernelspec": {
   "display_name": "Python 3",
   "language": "python",
   "name": "python3"
  },
  "language_info": {
   "codemirror_mode": {
    "name": "ipython",
    "version": 3
   },
   "file_extension": ".py",
   "mimetype": "text/x-python",
   "name": "python",
   "nbconvert_exporter": "python",
   "pygments_lexer": "ipython3",
   "version": "3.6.1"
  }
 },
 "nbformat": 4,
 "nbformat_minor": 2
}
