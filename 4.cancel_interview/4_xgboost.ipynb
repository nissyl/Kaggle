{
 "cells": [
  {
   "cell_type": "code",
   "execution_count": 1,
   "metadata": {},
   "outputs": [
    {
     "data": {
      "text/html": [
       "<div>\n",
       "<style>\n",
       "    .dataframe thead tr:only-child th {\n",
       "        text-align: right;\n",
       "    }\n",
       "\n",
       "    .dataframe thead th {\n",
       "        text-align: left;\n",
       "    }\n",
       "\n",
       "    .dataframe tbody tr th {\n",
       "        vertical-align: top;\n",
       "    }\n",
       "</style>\n",
       "<table border=\"1\" class=\"dataframe\">\n",
       "  <thead>\n",
       "    <tr style=\"text-align: right;\">\n",
       "      <th></th>\n",
       "      <th>age</th>\n",
       "      <th>gender</th>\n",
       "      <th>entry_date_diffs</th>\n",
       "      <th>interview_date_diffs</th>\n",
       "      <th>open_count</th>\n",
       "      <th>mail_click</th>\n",
       "      <th>owned_visit</th>\n",
       "      <th>advertisement</th>\n",
       "      <th>career_change_desired_date_1</th>\n",
       "      <th>career_change_desired_date_2</th>\n",
       "      <th>career_change_desired_date_3</th>\n",
       "      <th>career_change_desired_date_4</th>\n",
       "      <th>now_status_1</th>\n",
       "      <th>now_status_2</th>\n",
       "      <th>now_status_3</th>\n",
       "      <th>now_status_4</th>\n",
       "      <th>now_status_5</th>\n",
       "      <th>contact_result_1</th>\n",
       "      <th>contact_result_2</th>\n",
       "      <th>contact_result_4</th>\n",
       "      <th>contact_result_5</th>\n",
       "      <th>objective_variable</th>\n",
       "      <th>influx_0</th>\n",
       "      <th>influx_1</th>\n",
       "      <th>influx_2</th>\n",
       "      <th>influx_3</th>\n",
       "      <th>influx_4</th>\n",
       "      <th>influx_5</th>\n",
       "      <th>influx_6</th>\n",
       "      <th>influx_7</th>\n",
       "    </tr>\n",
       "  </thead>\n",
       "  <tbody>\n",
       "    <tr>\n",
       "      <th>0</th>\n",
       "      <td>26.0</td>\n",
       "      <td>0</td>\n",
       "      <td>5</td>\n",
       "      <td>5</td>\n",
       "      <td>5</td>\n",
       "      <td>11</td>\n",
       "      <td>15</td>\n",
       "      <td>0</td>\n",
       "      <td>0</td>\n",
       "      <td>0</td>\n",
       "      <td>0</td>\n",
       "      <td>1</td>\n",
       "      <td>0</td>\n",
       "      <td>1</td>\n",
       "      <td>0</td>\n",
       "      <td>0</td>\n",
       "      <td>0</td>\n",
       "      <td>0</td>\n",
       "      <td>0</td>\n",
       "      <td>0</td>\n",
       "      <td>1</td>\n",
       "      <td>1</td>\n",
       "      <td>0</td>\n",
       "      <td>1</td>\n",
       "      <td>0</td>\n",
       "      <td>0</td>\n",
       "      <td>0</td>\n",
       "      <td>0</td>\n",
       "      <td>0</td>\n",
       "      <td>0</td>\n",
       "    </tr>\n",
       "    <tr>\n",
       "      <th>1</th>\n",
       "      <td>25.0</td>\n",
       "      <td>1</td>\n",
       "      <td>8</td>\n",
       "      <td>8</td>\n",
       "      <td>2</td>\n",
       "      <td>2</td>\n",
       "      <td>5</td>\n",
       "      <td>0</td>\n",
       "      <td>0</td>\n",
       "      <td>0</td>\n",
       "      <td>1</td>\n",
       "      <td>0</td>\n",
       "      <td>0</td>\n",
       "      <td>1</td>\n",
       "      <td>0</td>\n",
       "      <td>0</td>\n",
       "      <td>0</td>\n",
       "      <td>0</td>\n",
       "      <td>0</td>\n",
       "      <td>0</td>\n",
       "      <td>0</td>\n",
       "      <td>1</td>\n",
       "      <td>0</td>\n",
       "      <td>0</td>\n",
       "      <td>0</td>\n",
       "      <td>0</td>\n",
       "      <td>1</td>\n",
       "      <td>0</td>\n",
       "      <td>0</td>\n",
       "      <td>0</td>\n",
       "    </tr>\n",
       "    <tr>\n",
       "      <th>2</th>\n",
       "      <td>24.0</td>\n",
       "      <td>1</td>\n",
       "      <td>3</td>\n",
       "      <td>3</td>\n",
       "      <td>2</td>\n",
       "      <td>0</td>\n",
       "      <td>4</td>\n",
       "      <td>0</td>\n",
       "      <td>1</td>\n",
       "      <td>0</td>\n",
       "      <td>0</td>\n",
       "      <td>0</td>\n",
       "      <td>1</td>\n",
       "      <td>0</td>\n",
       "      <td>0</td>\n",
       "      <td>0</td>\n",
       "      <td>0</td>\n",
       "      <td>0</td>\n",
       "      <td>0</td>\n",
       "      <td>0</td>\n",
       "      <td>0</td>\n",
       "      <td>0</td>\n",
       "      <td>0</td>\n",
       "      <td>0</td>\n",
       "      <td>0</td>\n",
       "      <td>0</td>\n",
       "      <td>0</td>\n",
       "      <td>0</td>\n",
       "      <td>1</td>\n",
       "      <td>0</td>\n",
       "    </tr>\n",
       "    <tr>\n",
       "      <th>3</th>\n",
       "      <td>25.0</td>\n",
       "      <td>1</td>\n",
       "      <td>3</td>\n",
       "      <td>3</td>\n",
       "      <td>4</td>\n",
       "      <td>7</td>\n",
       "      <td>56</td>\n",
       "      <td>0</td>\n",
       "      <td>0</td>\n",
       "      <td>1</td>\n",
       "      <td>0</td>\n",
       "      <td>0</td>\n",
       "      <td>1</td>\n",
       "      <td>0</td>\n",
       "      <td>0</td>\n",
       "      <td>0</td>\n",
       "      <td>0</td>\n",
       "      <td>0</td>\n",
       "      <td>0</td>\n",
       "      <td>0</td>\n",
       "      <td>1</td>\n",
       "      <td>1</td>\n",
       "      <td>0</td>\n",
       "      <td>0</td>\n",
       "      <td>0</td>\n",
       "      <td>0</td>\n",
       "      <td>0</td>\n",
       "      <td>0</td>\n",
       "      <td>1</td>\n",
       "      <td>0</td>\n",
       "    </tr>\n",
       "    <tr>\n",
       "      <th>4</th>\n",
       "      <td>26.0</td>\n",
       "      <td>1</td>\n",
       "      <td>4</td>\n",
       "      <td>4</td>\n",
       "      <td>3</td>\n",
       "      <td>2</td>\n",
       "      <td>0</td>\n",
       "      <td>0</td>\n",
       "      <td>0</td>\n",
       "      <td>0</td>\n",
       "      <td>1</td>\n",
       "      <td>0</td>\n",
       "      <td>1</td>\n",
       "      <td>0</td>\n",
       "      <td>0</td>\n",
       "      <td>0</td>\n",
       "      <td>0</td>\n",
       "      <td>1</td>\n",
       "      <td>0</td>\n",
       "      <td>0</td>\n",
       "      <td>0</td>\n",
       "      <td>1</td>\n",
       "      <td>0</td>\n",
       "      <td>1</td>\n",
       "      <td>0</td>\n",
       "      <td>0</td>\n",
       "      <td>0</td>\n",
       "      <td>0</td>\n",
       "      <td>0</td>\n",
       "      <td>0</td>\n",
       "    </tr>\n",
       "  </tbody>\n",
       "</table>\n",
       "</div>"
      ],
      "text/plain": [
       "    age  gender  entry_date_diffs  interview_date_diffs  open_count  \\\n",
       "0  26.0       0                 5                     5           5   \n",
       "1  25.0       1                 8                     8           2   \n",
       "2  24.0       1                 3                     3           2   \n",
       "3  25.0       1                 3                     3           4   \n",
       "4  26.0       1                 4                     4           3   \n",
       "\n",
       "   mail_click  owned_visit  advertisement  career_change_desired_date_1  \\\n",
       "0          11           15              0                             0   \n",
       "1           2            5              0                             0   \n",
       "2           0            4              0                             1   \n",
       "3           7           56              0                             0   \n",
       "4           2            0              0                             0   \n",
       "\n",
       "   career_change_desired_date_2  career_change_desired_date_3  \\\n",
       "0                             0                             0   \n",
       "1                             0                             1   \n",
       "2                             0                             0   \n",
       "3                             1                             0   \n",
       "4                             0                             1   \n",
       "\n",
       "   career_change_desired_date_4  now_status_1  now_status_2  now_status_3  \\\n",
       "0                             1             0             1             0   \n",
       "1                             0             0             1             0   \n",
       "2                             0             1             0             0   \n",
       "3                             0             1             0             0   \n",
       "4                             0             1             0             0   \n",
       "\n",
       "   now_status_4  now_status_5  contact_result_1  contact_result_2  \\\n",
       "0             0             0                 0                 0   \n",
       "1             0             0                 0                 0   \n",
       "2             0             0                 0                 0   \n",
       "3             0             0                 0                 0   \n",
       "4             0             0                 1                 0   \n",
       "\n",
       "   contact_result_4  contact_result_5  objective_variable  influx_0  influx_1  \\\n",
       "0                 0                 1                   1         0         1   \n",
       "1                 0                 0                   1         0         0   \n",
       "2                 0                 0                   0         0         0   \n",
       "3                 0                 1                   1         0         0   \n",
       "4                 0                 0                   1         0         1   \n",
       "\n",
       "   influx_2  influx_3  influx_4  influx_5  influx_6  influx_7  \n",
       "0         0         0         0         0         0         0  \n",
       "1         0         0         1         0         0         0  \n",
       "2         0         0         0         0         1         0  \n",
       "3         0         0         0         0         1         0  \n",
       "4         0         0         0         0         0         0  "
      ]
     },
     "execution_count": 1,
     "metadata": {},
     "output_type": "execute_result"
    }
   ],
   "source": [
    "import pandas as pd\n",
    "import numpy as np\n",
    "\n",
    "df = pd.read_csv(\"dat.csv\")\n",
    "df = df.drop(['employees_created'], axis=1)\n",
    "df = df.drop(['employee_id'], axis=1)\n",
    "df[\"age\"] = df[\"age\"].fillna(df[\"age\"].mean())\n",
    "from sklearn.preprocessing import LabelEncoder\n",
    "df_a = df.copy()\n",
    "\n",
    "# Create a label encoder object\n",
    "le = LabelEncoder()\n",
    "le_count = 0\n",
    "\n",
    "le.fit(df_a['influx_route_big'])\n",
    "# Transform both training and testing data\n",
    "df_a['influx_route_big'] = le.transform(df_a['influx_route_big'])\n",
    "df_b = pd.get_dummies(df_a['influx_route_big'], drop_first = True)\n",
    "\n",
    "# one-hot encoding of categorical variables\n",
    "df_b.columns = ['influx_0','influx_1','influx_2','influx_3','influx_4','influx_5','influx_6','influx_7']\n",
    "df = pd.concat([df, df_b], axis=1)\n",
    "\n",
    "df = df.drop(['influx_route_big'], axis=1)\n",
    "pd.set_option('display.max_columns', 100)\n",
    "df.head()"
   ]
  },
  {
   "cell_type": "code",
   "execution_count": 2,
   "metadata": {},
   "outputs": [
    {
     "name": "stderr",
     "output_type": "stream",
     "text": [
      "C:\\Users\\ryosuke.nishioka\\Anaconda3\\lib\\site-packages\\sklearn\\cross_validation.py:44: DeprecationWarning: This module was deprecated in version 0.18 in favor of the model_selection module into which all the refactored classes and functions are moved. Also note that the interface of the new CV iterators are different from that of this module. This module will be removed in 0.20.\n",
      "  \"This module will be removed in 0.20.\", DeprecationWarning)\n"
     ]
    }
   ],
   "source": [
    "df_train = df.copy()\n",
    "\n",
    "#変数を配列へ変換\n",
    "from sklearn.cross_validation import train_test_split\n",
    "\n",
    "X = df_train.drop(\"objective_variable\" , axis=1).values\n",
    "y = df_train[\"objective_variable\"].values\n",
    "X_train, X_test, y_train, y_test = train_test_split(X, y, test_size=0.3, random_state=1, stratify=y)"
   ]
  },
  {
   "cell_type": "code",
   "execution_count": 3,
   "metadata": {},
   "outputs": [
    {
     "name": "stderr",
     "output_type": "stream",
     "text": [
      "C:\\Users\\ryosuke.nishioka\\Anaconda3\\lib\\site-packages\\sklearn\\grid_search.py:43: DeprecationWarning: This module was deprecated in version 0.18 in favor of the model_selection module into which all the refactored classes and functions are moved. This module will be removed in 0.20.\n",
      "  DeprecationWarning)\n",
      "C:\\Users\\ryosuke.nishioka\\Anaconda3\\lib\\site-packages\\sklearn\\preprocessing\\label.py:171: DeprecationWarning: The truth value of an empty array is ambiguous. Returning False, but in future this will result in an error. Use `array.size > 0` to check that an array is not empty.\n",
      "  if diff:\n"
     ]
    }
   ],
   "source": [
    "#2. 学習\n",
    "import numpy as np\n",
    "import scipy as sp\n",
    "import xgboost as xgb\n",
    "from sklearn import datasets\n",
    "from sklearn.metrics import confusion_matrix\n",
    "from sklearn.grid_search import GridSearchCV\n",
    "from sklearn.grid_search import RandomizedSearchCV\n",
    "\n",
    "xgb_model = xgb.XGBClassifier()\n",
    "xgb_model.fit(X_train, y_train)\n",
    "predict = xgb_model.predict(X_test)"
   ]
  },
  {
   "cell_type": "code",
   "execution_count": 4,
   "metadata": {},
   "outputs": [
    {
     "data": {
      "image/png": "[encoded data removed]",
      "text/plain": [
       "<matplotlib.figure.Figure at 0x13250550>"
      ]
     },
     "metadata": {},
     "output_type": "display_data"
    }
   ],
   "source": [
    "from sklearn import metrics as mtr\n",
    "%matplotlib inline\n",
    "from matplotlib import pyplot as plt\n",
    "\n",
    "prob = xgb_model.predict_proba(X_test)[:,1]\n",
    "fpr, tpr, thresholds = mtr.roc_curve(y_test, prob,pos_label =1)\n",
    "\n",
    "plt.plot(fpr, tpr)\n",
    "plt.title(\"ROC curve\")\n",
    "plt.xlabel(\"False Positive Rate\")\n",
    "plt.ylabel(\"True Positive Rate\")\n",
    "plt.show()"
   ]
  },
  {
   "cell_type": "code",
   "execution_count": 5,
   "metadata": {},
   "outputs": [
    {
     "name": "stdout",
     "output_type": "stream",
     "text": [
      "テストデータに対する正解率： 0.7017\n",
      "テストデータに対する roc-auc： 0.7400\n",
      "テストデータに対する log-loss： 0.5808\n"
     ]
    },
    {
     "name": "stderr",
     "output_type": "stream",
     "text": [
      "C:\\Users\\ryosuke.nishioka\\Anaconda3\\lib\\site-packages\\sklearn\\preprocessing\\label.py:171: DeprecationWarning: The truth value of an empty array is ambiguous. Returning False, but in future this will result in an error. Use `array.size > 0` to check that an array is not empty.\n",
      "  if diff:\n"
     ]
    }
   ],
   "source": [
    "# 3.まとめ（精度計算）\n",
    "\n",
    "class_predict = xgb_model.predict(X_test)\n",
    "print('テストデータに対する正解率： %.4f' %mtr.accuracy_score(y_test,class_predict))\n",
    "print('テストデータに対する roc-auc： %.4f' %mtr.roc_auc_score(y_test, prob))\n",
    "print('テストデータに対する log-loss： %.4f' %mtr.log_loss(y_test, prob))"
   ]
  },
  {
   "cell_type": "code",
   "execution_count": 6,
   "metadata": {
    "scrolled": true
   },
   "outputs": [
    {
     "name": "stdout",
     "output_type": "stream",
     "text": [
      "Fitting 10 folds for each of 20 candidates, totalling 200 fits\n",
      "[CV] colsample_bytree=0.6963910081653123, max_depth=4, subsample=0.9214126357902133 \n"
     ]
    },
    {
     "name": "stderr",
     "output_type": "stream",
     "text": [
      "C:\\Users\\ryosuke.nishioka\\Anaconda3\\lib\\site-packages\\sklearn\\metrics\\scorer.py:127: DeprecationWarning: Scoring method log_loss was renamed to neg_log_loss in version 0.18 and will be removed in 0.20.\n",
      "  sample_weight=sample_weight)\n",
      "[Parallel(n_jobs=1)]: Done   1 out of   1 | elapsed:    1.3s remaining:    0.0s\n"
     ]
    },
    {
     "name": "stdout",
     "output_type": "stream",
     "text": [
      "[CV]  colsample_bytree=0.6963910081653123, max_depth=4, subsample=0.9214126357902133 -   1.2s\n",
      "[CV] colsample_bytree=0.6963910081653123, max_depth=4, subsample=0.9214126357902133 \n"
     ]
    },
    {
     "name": "stderr",
     "output_type": "stream",
     "text": [
      "C:\\Users\\ryosuke.nishioka\\Anaconda3\\lib\\site-packages\\sklearn\\metrics\\scorer.py:127: DeprecationWarning: Scoring method log_loss was renamed to neg_log_loss in version 0.18 and will be removed in 0.20.\n",
      "  sample_weight=sample_weight)\n"
     ]
    },
    {
     "name": "stdout",
     "output_type": "stream",
     "text": [
      "[CV]  colsample_bytree=0.6963910081653123, max_depth=4, subsample=0.9214126357902133 -   1.1s\n",
      "[CV] colsample_bytree=0.6963910081653123, max_depth=4, subsample=0.9214126357902133 \n"
     ]
    },
    {
     "name": "stderr",
     "output_type": "stream",
     "text": [
      "C:\\Users\\ryosuke.nishioka\\Anaconda3\\lib\\site-packages\\sklearn\\metrics\\scorer.py:127: DeprecationWarning: Scoring method log_loss was renamed to neg_log_loss in version 0.18 and will be removed in 0.20.\n",
      "  sample_weight=sample_weight)\n"
     ]
    },
    {
     "name": "stdout",
     "output_type": "stream",
     "text": [
      "[CV]  colsample_bytree=0.6963910081653123, max_depth=4, subsample=0.9214126357902133 -   1.3s\n",
      "[CV] colsample_bytree=0.6963910081653123, max_depth=4, subsample=0.9214126357902133 \n"
     ]
    },
    {
     "name": "stderr",
     "output_type": "stream",
     "text": [
      "C:\\Users\\ryosuke.nishioka\\Anaconda3\\lib\\site-packages\\sklearn\\metrics\\scorer.py:127: DeprecationWarning: Scoring method log_loss was renamed to neg_log_loss in version 0.18 and will be removed in 0.20.\n",
      "  sample_weight=sample_weight)\n"
     ]
    },
    {
     "name": "stdout",
     "output_type": "stream",
     "text": [
      "[CV]  colsample_bytree=0.6963910081653123, max_depth=4, subsample=0.9214126357902133 -   1.3s\n",
      "[CV] colsample_bytree=0.6963910081653123, max_depth=4, subsample=0.9214126357902133 \n"
     ]
    },
    {
     "name": "stderr",
     "output_type": "stream",
     "text": [
      "C:\\Users\\ryosuke.nishioka\\Anaconda3\\lib\\site-packages\\sklearn\\metrics\\scorer.py:127: DeprecationWarning: Scoring method log_loss was renamed to neg_log_loss in version 0.18 and will be removed in 0.20.\n",
      "  sample_weight=sample_weight)\n"
     ]
    },
    {
     "name": "stdout",
     "output_type": "stream",
     "text": [
      "[CV]  colsample_bytree=0.6963910081653123, max_depth=4, subsample=0.9214126357902133 -   1.4s\n",
      "[CV] colsample_bytree=0.6963910081653123, max_depth=4, subsample=0.9214126357902133 \n"
     ]
    },
    {
     "name": "stderr",
     "output_type": "stream",
     "text": [
      "C:\\Users\\ryosuke.nishioka\\Anaconda3\\lib\\site-packages\\sklearn\\metrics\\scorer.py:127: DeprecationWarning: Scoring method log_loss was renamed to neg_log_loss in version 0.18 and will be removed in 0.20.\n",
      "  sample_weight=sample_weight)\n"
     ]
    },
    {
     "name": "stdout",
     "output_type": "stream",
     "text": [
      "[CV]  colsample_bytree=0.6963910081653123, max_depth=4, subsample=0.9214126357902133 -   1.0s\n",
      "[CV] colsample_bytree=0.6963910081653123, max_depth=4, subsample=0.9214126357902133 \n"
     ]
    },
    {
     "name": "stderr",
     "output_type": "stream",
     "text": [
      "C:\\Users\\ryosuke.nishioka\\Anaconda3\\lib\\site-packages\\sklearn\\metrics\\scorer.py:127: DeprecationWarning: Scoring method log_loss was renamed to neg_log_loss in version 0.18 and will be removed in 0.20.\n",
      "  sample_weight=sample_weight)\n"
     ]
    },
    {
     "name": "stdout",
     "output_type": "stream",
     "text": [
      "[CV]  colsample_bytree=0.6963910081653123, max_depth=4, subsample=0.9214126357902133 -   1.0s\n",
      "[CV] colsample_bytree=0.6963910081653123, max_depth=4, subsample=0.9214126357902133 \n"
     ]
    },
    {
     "name": "stderr",
     "output_type": "stream",
     "text": [
      "C:\\Users\\ryosuke.nishioka\\Anaconda3\\lib\\site-packages\\sklearn\\metrics\\scorer.py:127: DeprecationWarning: Scoring method log_loss was renamed to neg_log_loss in version 0.18 and will be removed in 0.20.\n",
      "  sample_weight=sample_weight)\n"
     ]
    },
    {
     "name": "stdout",
     "output_type": "stream",
     "text": [
      "[CV]  colsample_bytree=0.6963910081653123, max_depth=4, subsample=0.9214126357902133 -   1.0s\n",
      "[CV] colsample_bytree=0.6963910081653123, max_depth=4, subsample=0.9214126357902133 \n"
     ]
    },
    {
     "name": "stderr",
     "output_type": "stream",
     "text": [
      "C:\\Users\\ryosuke.nishioka\\Anaconda3\\lib\\site-packages\\sklearn\\metrics\\scorer.py:127: DeprecationWarning: Scoring method log_loss was renamed to neg_log_loss in version 0.18 and will be removed in 0.20.\n",
      "  sample_weight=sample_weight)\n"
     ]
    },
    {
     "name": "stdout",
     "output_type": "stream",
     "text": [
      "[CV]  colsample_bytree=0.6963910081653123, max_depth=4, subsample=0.9214126357902133 -   1.1s\n",
      "[CV] colsample_bytree=0.6963910081653123, max_depth=4, subsample=0.9214126357902133 \n"
     ]
    },
    {
     "name": "stderr",
     "output_type": "stream",
     "text": [
      "C:\\Users\\ryosuke.nishioka\\Anaconda3\\lib\\site-packages\\sklearn\\metrics\\scorer.py:127: DeprecationWarning: Scoring method log_loss was renamed to neg_log_loss in version 0.18 and will be removed in 0.20.\n",
      "  sample_weight=sample_weight)\n"
     ]
    },
    {
     "name": "stdout",
     "output_type": "stream",
     "text": [
      "[CV]  colsample_bytree=0.6963910081653123, max_depth=4, subsample=0.9214126357902133 -   1.0s\n",
      "[CV] colsample_bytree=0.6415711622030837, max_depth=3, subsample=0.8788521241886738 \n"
     ]
    },
    {
     "name": "stderr",
     "output_type": "stream",
     "text": [
      "C:\\Users\\ryosuke.nishioka\\Anaconda3\\lib\\site-packages\\sklearn\\metrics\\scorer.py:127: DeprecationWarning: Scoring method log_loss was renamed to neg_log_loss in version 0.18 and will be removed in 0.20.\n",
      "  sample_weight=sample_weight)\n"
     ]
    },
    {
     "name": "stdout",
     "output_type": "stream",
     "text": [
      "[CV]  colsample_bytree=0.6415711622030837, max_depth=3, subsample=0.8788521241886738 -   1.5s\n",
      "[CV] colsample_bytree=0.6415711622030837, max_depth=3, subsample=0.8788521241886738 \n"
     ]
    },
    {
     "name": "stderr",
     "output_type": "stream",
     "text": [
      "C:\\Users\\ryosuke.nishioka\\Anaconda3\\lib\\site-packages\\sklearn\\metrics\\scorer.py:127: DeprecationWarning: Scoring method log_loss was renamed to neg_log_loss in version 0.18 and will be removed in 0.20.\n",
      "  sample_weight=sample_weight)\n"
     ]
    },
    {
     "name": "stdout",
     "output_type": "stream",
     "text": [
      "[CV]  colsample_bytree=0.6415711622030837, max_depth=3, subsample=0.8788521241886738 -   1.2s\n",
      "[CV] colsample_bytree=0.6415711622030837, max_depth=3, subsample=0.8788521241886738 \n"
     ]
    },
    {
     "name": "stderr",
     "output_type": "stream",
     "text": [
      "C:\\Users\\ryosuke.nishioka\\Anaconda3\\lib\\site-packages\\sklearn\\metrics\\scorer.py:127: DeprecationWarning: Scoring method log_loss was renamed to neg_log_loss in version 0.18 and will be removed in 0.20.\n",
      "  sample_weight=sample_weight)\n"
     ]
    },
    {
     "name": "stdout",
     "output_type": "stream",
     "text": [
      "[CV]  colsample_bytree=0.6415711622030837, max_depth=3, subsample=0.8788521241886738 -   1.1s\n",
      "[CV] colsample_bytree=0.6415711622030837, max_depth=3, subsample=0.8788521241886738 \n"
     ]
    },
    {
     "name": "stderr",
     "output_type": "stream",
     "text": [
      "C:\\Users\\ryosuke.nishioka\\Anaconda3\\lib\\site-packages\\sklearn\\metrics\\scorer.py:127: DeprecationWarning: Scoring method log_loss was renamed to neg_log_loss in version 0.18 and will be removed in 0.20.\n",
      "  sample_weight=sample_weight)\n"
     ]
    },
    {
     "name": "stdout",
     "output_type": "stream",
     "text": [
      "[CV]  colsample_bytree=0.6415711622030837, max_depth=3, subsample=0.8788521241886738 -   1.2s\n",
      "[CV] colsample_bytree=0.6415711622030837, max_depth=3, subsample=0.8788521241886738 \n"
     ]
    },
    {
     "name": "stderr",
     "output_type": "stream",
     "text": [
      "C:\\Users\\ryosuke.nishioka\\Anaconda3\\lib\\site-packages\\sklearn\\metrics\\scorer.py:127: DeprecationWarning: Scoring method log_loss was renamed to neg_log_loss in version 0.18 and will be removed in 0.20.\n",
      "  sample_weight=sample_weight)\n"
     ]
    },
    {
     "name": "stdout",
     "output_type": "stream",
     "text": [
      "[CV]  colsample_bytree=0.6415711622030837, max_depth=3, subsample=0.8788521241886738 -   0.7s\n",
      "[CV] colsample_bytree=0.6415711622030837, max_depth=3, subsample=0.8788521241886738 \n"
     ]
    },
    {
     "name": "stderr",
     "output_type": "stream",
     "text": [
      "C:\\Users\\ryosuke.nishioka\\Anaconda3\\lib\\site-packages\\sklearn\\metrics\\scorer.py:127: DeprecationWarning: Scoring method log_loss was renamed to neg_log_loss in version 0.18 and will be removed in 0.20.\n",
      "  sample_weight=sample_weight)\n"
     ]
    },
    {
     "name": "stdout",
     "output_type": "stream",
     "text": [
      "[CV]  colsample_bytree=0.6415711622030837, max_depth=3, subsample=0.8788521241886738 -   0.7s\n",
      "[CV] colsample_bytree=0.6415711622030837, max_depth=3, subsample=0.8788521241886738 \n"
     ]
    },
    {
     "name": "stderr",
     "output_type": "stream",
     "text": [
      "C:\\Users\\ryosuke.nishioka\\Anaconda3\\lib\\site-packages\\sklearn\\metrics\\scorer.py:127: DeprecationWarning: Scoring method log_loss was renamed to neg_log_loss in version 0.18 and will be removed in 0.20.\n",
      "  sample_weight=sample_weight)\n"
     ]
    },
    {
     "name": "stdout",
     "output_type": "stream",
     "text": [
      "[CV]  colsample_bytree=0.6415711622030837, max_depth=3, subsample=0.8788521241886738 -   0.6s\n",
      "[CV] colsample_bytree=0.6415711622030837, max_depth=3, subsample=0.8788521241886738 \n"
     ]
    },
    {
     "name": "stderr",
     "output_type": "stream",
     "text": [
      "C:\\Users\\ryosuke.nishioka\\Anaconda3\\lib\\site-packages\\sklearn\\metrics\\scorer.py:127: DeprecationWarning: Scoring method log_loss was renamed to neg_log_loss in version 0.18 and will be removed in 0.20.\n",
      "  sample_weight=sample_weight)\n"
     ]
    },
    {
     "name": "stdout",
     "output_type": "stream",
     "text": [
      "[CV]  colsample_bytree=0.6415711622030837, max_depth=3, subsample=0.8788521241886738 -   0.6s\n",
      "[CV] colsample_bytree=0.6415711622030837, max_depth=3, subsample=0.8788521241886738 \n"
     ]
    },
    {
     "name": "stderr",
     "output_type": "stream",
     "text": [
      "C:\\Users\\ryosuke.nishioka\\Anaconda3\\lib\\site-packages\\sklearn\\metrics\\scorer.py:127: DeprecationWarning: Scoring method log_loss was renamed to neg_log_loss in version 0.18 and will be removed in 0.20.\n",
      "  sample_weight=sample_weight)\n"
     ]
    },
    {
     "name": "stdout",
     "output_type": "stream",
     "text": [
      "[CV]  colsample_bytree=0.6415711622030837, max_depth=3, subsample=0.8788521241886738 -   0.6s\n",
      "[CV] colsample_bytree=0.6415711622030837, max_depth=3, subsample=0.8788521241886738 \n"
     ]
    },
    {
     "name": "stderr",
     "output_type": "stream",
     "text": [
      "C:\\Users\\ryosuke.nishioka\\Anaconda3\\lib\\site-packages\\sklearn\\metrics\\scorer.py:127: DeprecationWarning: Scoring method log_loss was renamed to neg_log_loss in version 0.18 and will be removed in 0.20.\n",
      "  sample_weight=sample_weight)\n"
     ]
    },
    {
     "name": "stdout",
     "output_type": "stream",
     "text": [
      "[CV]  colsample_bytree=0.6415711622030837, max_depth=3, subsample=0.8788521241886738 -   0.7s\n",
      "[CV] colsample_bytree=0.76113845249105, max_depth=7, subsample=0.9043407806046062 \n"
     ]
    },
    {
     "name": "stderr",
     "output_type": "stream",
     "text": [
      "C:\\Users\\ryosuke.nishioka\\Anaconda3\\lib\\site-packages\\sklearn\\metrics\\scorer.py:127: DeprecationWarning: Scoring method log_loss was renamed to neg_log_loss in version 0.18 and will be removed in 0.20.\n",
      "  sample_weight=sample_weight)\n"
     ]
    },
    {
     "name": "stdout",
     "output_type": "stream",
     "text": [
      "[CV]  colsample_bytree=0.76113845249105, max_depth=7, subsample=0.9043407806046062 -   1.8s\n",
      "[CV] colsample_bytree=0.76113845249105, max_depth=7, subsample=0.9043407806046062 \n"
     ]
    },
    {
     "name": "stderr",
     "output_type": "stream",
     "text": [
      "C:\\Users\\ryosuke.nishioka\\Anaconda3\\lib\\site-packages\\sklearn\\metrics\\scorer.py:127: DeprecationWarning: Scoring method log_loss was renamed to neg_log_loss in version 0.18 and will be removed in 0.20.\n",
      "  sample_weight=sample_weight)\n"
     ]
    },
    {
     "name": "stdout",
     "output_type": "stream",
     "text": [
      "[CV]  colsample_bytree=0.76113845249105, max_depth=7, subsample=0.9043407806046062 -   1.7s\n",
      "[CV] colsample_bytree=0.76113845249105, max_depth=7, subsample=0.9043407806046062 \n"
     ]
    },
    {
     "name": "stderr",
     "output_type": "stream",
     "text": [
      "C:\\Users\\ryosuke.nishioka\\Anaconda3\\lib\\site-packages\\sklearn\\metrics\\scorer.py:127: DeprecationWarning: Scoring method log_loss was renamed to neg_log_loss in version 0.18 and will be removed in 0.20.\n",
      "  sample_weight=sample_weight)\n"
     ]
    },
    {
     "name": "stdout",
     "output_type": "stream",
     "text": [
      "[CV]  colsample_bytree=0.76113845249105, max_depth=7, subsample=0.9043407806046062 -   2.0s\n",
      "[CV] colsample_bytree=0.76113845249105, max_depth=7, subsample=0.9043407806046062 \n"
     ]
    },
    {
     "name": "stderr",
     "output_type": "stream",
     "text": [
      "C:\\Users\\ryosuke.nishioka\\Anaconda3\\lib\\site-packages\\sklearn\\metrics\\scorer.py:127: DeprecationWarning: Scoring method log_loss was renamed to neg_log_loss in version 0.18 and will be removed in 0.20.\n",
      "  sample_weight=sample_weight)\n"
     ]
    },
    {
     "name": "stdout",
     "output_type": "stream",
     "text": [
      "[CV]  colsample_bytree=0.76113845249105, max_depth=7, subsample=0.9043407806046062 -   2.0s\n",
      "[CV] colsample_bytree=0.76113845249105, max_depth=7, subsample=0.9043407806046062 \n"
     ]
    },
    {
     "name": "stderr",
     "output_type": "stream",
     "text": [
      "C:\\Users\\ryosuke.nishioka\\Anaconda3\\lib\\site-packages\\sklearn\\metrics\\scorer.py:127: DeprecationWarning: Scoring method log_loss was renamed to neg_log_loss in version 0.18 and will be removed in 0.20.\n",
      "  sample_weight=sample_weight)\n"
     ]
    },
    {
     "name": "stdout",
     "output_type": "stream",
     "text": [
      "[CV]  colsample_bytree=0.76113845249105, max_depth=7, subsample=0.9043407806046062 -   1.7s\n",
      "[CV] colsample_bytree=0.76113845249105, max_depth=7, subsample=0.9043407806046062 \n"
     ]
    },
    {
     "name": "stderr",
     "output_type": "stream",
     "text": [
      "C:\\Users\\ryosuke.nishioka\\Anaconda3\\lib\\site-packages\\sklearn\\metrics\\scorer.py:127: DeprecationWarning: Scoring method log_loss was renamed to neg_log_loss in version 0.18 and will be removed in 0.20.\n",
      "  sample_weight=sample_weight)\n"
     ]
    },
    {
     "name": "stdout",
     "output_type": "stream",
     "text": [
      "[CV]  colsample_bytree=0.76113845249105, max_depth=7, subsample=0.9043407806046062 -   2.0s\n",
      "[CV] colsample_bytree=0.76113845249105, max_depth=7, subsample=0.9043407806046062 \n"
     ]
    },
    {
     "name": "stderr",
     "output_type": "stream",
     "text": [
      "C:\\Users\\ryosuke.nishioka\\Anaconda3\\lib\\site-packages\\sklearn\\metrics\\scorer.py:127: DeprecationWarning: Scoring method log_loss was renamed to neg_log_loss in version 0.18 and will be removed in 0.20.\n",
      "  sample_weight=sample_weight)\n"
     ]
    },
    {
     "name": "stdout",
     "output_type": "stream",
     "text": [
      "[CV]  colsample_bytree=0.76113845249105, max_depth=7, subsample=0.9043407806046062 -   1.9s\n",
      "[CV] colsample_bytree=0.76113845249105, max_depth=7, subsample=0.9043407806046062 \n"
     ]
    },
    {
     "name": "stderr",
     "output_type": "stream",
     "text": [
      "C:\\Users\\ryosuke.nishioka\\Anaconda3\\lib\\site-packages\\sklearn\\metrics\\scorer.py:127: DeprecationWarning: Scoring method log_loss was renamed to neg_log_loss in version 0.18 and will be removed in 0.20.\n",
      "  sample_weight=sample_weight)\n"
     ]
    },
    {
     "name": "stdout",
     "output_type": "stream",
     "text": [
      "[CV]  colsample_bytree=0.76113845249105, max_depth=7, subsample=0.9043407806046062 -   1.9s\n",
      "[CV] colsample_bytree=0.76113845249105, max_depth=7, subsample=0.9043407806046062 \n"
     ]
    },
    {
     "name": "stderr",
     "output_type": "stream",
     "text": [
      "C:\\Users\\ryosuke.nishioka\\Anaconda3\\lib\\site-packages\\sklearn\\metrics\\scorer.py:127: DeprecationWarning: Scoring method log_loss was renamed to neg_log_loss in version 0.18 and will be removed in 0.20.\n",
      "  sample_weight=sample_weight)\n"
     ]
    },
    {
     "name": "stdout",
     "output_type": "stream",
     "text": [
      "[CV]  colsample_bytree=0.76113845249105, max_depth=7, subsample=0.9043407806046062 -   1.7s\n",
      "[CV] colsample_bytree=0.76113845249105, max_depth=7, subsample=0.9043407806046062 \n"
     ]
    },
    {
     "name": "stderr",
     "output_type": "stream",
     "text": [
      "C:\\Users\\ryosuke.nishioka\\Anaconda3\\lib\\site-packages\\sklearn\\metrics\\scorer.py:127: DeprecationWarning: Scoring method log_loss was renamed to neg_log_loss in version 0.18 and will be removed in 0.20.\n",
      "  sample_weight=sample_weight)\n"
     ]
    },
    {
     "name": "stdout",
     "output_type": "stream",
     "text": [
      "[CV]  colsample_bytree=0.76113845249105, max_depth=7, subsample=0.9043407806046062 -   1.8s\n",
      "[CV] colsample_bytree=0.7164397319171715, max_depth=1, subsample=0.6043967733226958 \n"
     ]
    },
    {
     "name": "stderr",
     "output_type": "stream",
     "text": [
      "C:\\Users\\ryosuke.nishioka\\Anaconda3\\lib\\site-packages\\sklearn\\metrics\\scorer.py:127: DeprecationWarning: Scoring method log_loss was renamed to neg_log_loss in version 0.18 and will be removed in 0.20.\n",
      "  sample_weight=sample_weight)\n"
     ]
    },
    {
     "name": "stdout",
     "output_type": "stream",
     "text": [
      "[CV]  colsample_bytree=0.7164397319171715, max_depth=1, subsample=0.6043967733226958 -   0.3s\n",
      "[CV] colsample_bytree=0.7164397319171715, max_depth=1, subsample=0.6043967733226958 \n"
     ]
    },
    {
     "name": "stderr",
     "output_type": "stream",
     "text": [
      "C:\\Users\\ryosuke.nishioka\\Anaconda3\\lib\\site-packages\\sklearn\\metrics\\scorer.py:127: DeprecationWarning: Scoring method log_loss was renamed to neg_log_loss in version 0.18 and will be removed in 0.20.\n",
      "  sample_weight=sample_weight)\n"
     ]
    },
    {
     "name": "stdout",
     "output_type": "stream",
     "text": [
      "[CV]  colsample_bytree=0.7164397319171715, max_depth=1, subsample=0.6043967733226958 -   0.3s\n",
      "[CV] colsample_bytree=0.7164397319171715, max_depth=1, subsample=0.6043967733226958 \n"
     ]
    },
    {
     "name": "stderr",
     "output_type": "stream",
     "text": [
      "C:\\Users\\ryosuke.nishioka\\Anaconda3\\lib\\site-packages\\sklearn\\metrics\\scorer.py:127: DeprecationWarning: Scoring method log_loss was renamed to neg_log_loss in version 0.18 and will be removed in 0.20.\n",
      "  sample_weight=sample_weight)\n"
     ]
    },
    {
     "name": "stdout",
     "output_type": "stream",
     "text": [
      "[CV]  colsample_bytree=0.7164397319171715, max_depth=1, subsample=0.6043967733226958 -   0.3s\n",
      "[CV] colsample_bytree=0.7164397319171715, max_depth=1, subsample=0.6043967733226958 \n"
     ]
    },
    {
     "name": "stderr",
     "output_type": "stream",
     "text": [
      "C:\\Users\\ryosuke.nishioka\\Anaconda3\\lib\\site-packages\\sklearn\\metrics\\scorer.py:127: DeprecationWarning: Scoring method log_loss was renamed to neg_log_loss in version 0.18 and will be removed in 0.20.\n",
      "  sample_weight=sample_weight)\n"
     ]
    },
    {
     "name": "stdout",
     "output_type": "stream",
     "text": [
      "[CV]  colsample_bytree=0.7164397319171715, max_depth=1, subsample=0.6043967733226958 -   0.3s\n",
      "[CV] colsample_bytree=0.7164397319171715, max_depth=1, subsample=0.6043967733226958 \n"
     ]
    },
    {
     "name": "stderr",
     "output_type": "stream",
     "text": [
      "C:\\Users\\ryosuke.nishioka\\Anaconda3\\lib\\site-packages\\sklearn\\metrics\\scorer.py:127: DeprecationWarning: Scoring method log_loss was renamed to neg_log_loss in version 0.18 and will be removed in 0.20.\n",
      "  sample_weight=sample_weight)\n"
     ]
    },
    {
     "name": "stdout",
     "output_type": "stream",
     "text": [
      "[CV]  colsample_bytree=0.7164397319171715, max_depth=1, subsample=0.6043967733226958 -   0.4s\n",
      "[CV] colsample_bytree=0.7164397319171715, max_depth=1, subsample=0.6043967733226958 \n"
     ]
    },
    {
     "name": "stderr",
     "output_type": "stream",
     "text": [
      "C:\\Users\\ryosuke.nishioka\\Anaconda3\\lib\\site-packages\\sklearn\\metrics\\scorer.py:127: DeprecationWarning: Scoring method log_loss was renamed to neg_log_loss in version 0.18 and will be removed in 0.20.\n",
      "  sample_weight=sample_weight)\n"
     ]
    },
    {
     "name": "stdout",
     "output_type": "stream",
     "text": [
      "[CV]  colsample_bytree=0.7164397319171715, max_depth=1, subsample=0.6043967733226958 -   0.4s\n",
      "[CV] colsample_bytree=0.7164397319171715, max_depth=1, subsample=0.6043967733226958 \n"
     ]
    },
    {
     "name": "stderr",
     "output_type": "stream",
     "text": [
      "C:\\Users\\ryosuke.nishioka\\Anaconda3\\lib\\site-packages\\sklearn\\metrics\\scorer.py:127: DeprecationWarning: Scoring method log_loss was renamed to neg_log_loss in version 0.18 and will be removed in 0.20.\n",
      "  sample_weight=sample_weight)\n"
     ]
    },
    {
     "name": "stdout",
     "output_type": "stream",
     "text": [
      "[CV]  colsample_bytree=0.7164397319171715, max_depth=1, subsample=0.6043967733226958 -   0.4s\n",
      "[CV] colsample_bytree=0.7164397319171715, max_depth=1, subsample=0.6043967733226958 \n"
     ]
    },
    {
     "name": "stderr",
     "output_type": "stream",
     "text": [
      "C:\\Users\\ryosuke.nishioka\\Anaconda3\\lib\\site-packages\\sklearn\\metrics\\scorer.py:127: DeprecationWarning: Scoring method log_loss was renamed to neg_log_loss in version 0.18 and will be removed in 0.20.\n",
      "  sample_weight=sample_weight)\n"
     ]
    },
    {
     "name": "stdout",
     "output_type": "stream",
     "text": [
      "[CV]  colsample_bytree=0.7164397319171715, max_depth=1, subsample=0.6043967733226958 -   0.4s\n",
      "[CV] colsample_bytree=0.7164397319171715, max_depth=1, subsample=0.6043967733226958 \n"
     ]
    },
    {
     "name": "stderr",
     "output_type": "stream",
     "text": [
      "C:\\Users\\ryosuke.nishioka\\Anaconda3\\lib\\site-packages\\sklearn\\metrics\\scorer.py:127: DeprecationWarning: Scoring method log_loss was renamed to neg_log_loss in version 0.18 and will be removed in 0.20.\n",
      "  sample_weight=sample_weight)\n"
     ]
    },
    {
     "name": "stdout",
     "output_type": "stream",
     "text": [
      "[CV]  colsample_bytree=0.7164397319171715, max_depth=1, subsample=0.6043967733226958 -   0.4s\n",
      "[CV] colsample_bytree=0.7164397319171715, max_depth=1, subsample=0.6043967733226958 \n"
     ]
    },
    {
     "name": "stderr",
     "output_type": "stream",
     "text": [
      "C:\\Users\\ryosuke.nishioka\\Anaconda3\\lib\\site-packages\\sklearn\\metrics\\scorer.py:127: DeprecationWarning: Scoring method log_loss was renamed to neg_log_loss in version 0.18 and will be removed in 0.20.\n",
      "  sample_weight=sample_weight)\n"
     ]
    },
    {
     "name": "stdout",
     "output_type": "stream",
     "text": [
      "[CV]  colsample_bytree=0.7164397319171715, max_depth=1, subsample=0.6043967733226958 -   0.3s\n",
      "[CV] colsample_bytree=0.6715189696454972, max_depth=10, subsample=0.9404954295088848 \n"
     ]
    },
    {
     "name": "stderr",
     "output_type": "stream",
     "text": [
      "C:\\Users\\ryosuke.nishioka\\Anaconda3\\lib\\site-packages\\sklearn\\metrics\\scorer.py:127: DeprecationWarning: Scoring method log_loss was renamed to neg_log_loss in version 0.18 and will be removed in 0.20.\n",
      "  sample_weight=sample_weight)\n"
     ]
    },
    {
     "name": "stdout",
     "output_type": "stream",
     "text": [
      "[CV]  colsample_bytree=0.6715189696454972, max_depth=10, subsample=0.9404954295088848 -   2.3s\n",
      "[CV] colsample_bytree=0.6715189696454972, max_depth=10, subsample=0.9404954295088848 \n"
     ]
    },
    {
     "name": "stderr",
     "output_type": "stream",
     "text": [
      "C:\\Users\\ryosuke.nishioka\\Anaconda3\\lib\\site-packages\\sklearn\\metrics\\scorer.py:127: DeprecationWarning: Scoring method log_loss was renamed to neg_log_loss in version 0.18 and will be removed in 0.20.\n",
      "  sample_weight=sample_weight)\n"
     ]
    },
    {
     "name": "stdout",
     "output_type": "stream",
     "text": [
      "[CV]  colsample_bytree=0.6715189696454972, max_depth=10, subsample=0.9404954295088848 -   2.4s\n",
      "[CV] colsample_bytree=0.6715189696454972, max_depth=10, subsample=0.9404954295088848 \n"
     ]
    },
    {
     "name": "stderr",
     "output_type": "stream",
     "text": [
      "C:\\Users\\ryosuke.nishioka\\Anaconda3\\lib\\site-packages\\sklearn\\metrics\\scorer.py:127: DeprecationWarning: Scoring method log_loss was renamed to neg_log_loss in version 0.18 and will be removed in 0.20.\n",
      "  sample_weight=sample_weight)\n"
     ]
    },
    {
     "name": "stdout",
     "output_type": "stream",
     "text": [
      "[CV]  colsample_bytree=0.6715189696454972, max_depth=10, subsample=0.9404954295088848 -   2.4s\n",
      "[CV] colsample_bytree=0.6715189696454972, max_depth=10, subsample=0.9404954295088848 \n"
     ]
    },
    {
     "name": "stderr",
     "output_type": "stream",
     "text": [
      "C:\\Users\\ryosuke.nishioka\\Anaconda3\\lib\\site-packages\\sklearn\\metrics\\scorer.py:127: DeprecationWarning: Scoring method log_loss was renamed to neg_log_loss in version 0.18 and will be removed in 0.20.\n",
      "  sample_weight=sample_weight)\n"
     ]
    },
    {
     "name": "stdout",
     "output_type": "stream",
     "text": [
      "[CV]  colsample_bytree=0.6715189696454972, max_depth=10, subsample=0.9404954295088848 -   2.4s\n",
      "[CV] colsample_bytree=0.6715189696454972, max_depth=10, subsample=0.9404954295088848 \n"
     ]
    },
    {
     "name": "stderr",
     "output_type": "stream",
     "text": [
      "C:\\Users\\ryosuke.nishioka\\Anaconda3\\lib\\site-packages\\sklearn\\metrics\\scorer.py:127: DeprecationWarning: Scoring method log_loss was renamed to neg_log_loss in version 0.18 and will be removed in 0.20.\n",
      "  sample_weight=sample_weight)\n"
     ]
    },
    {
     "name": "stdout",
     "output_type": "stream",
     "text": [
      "[CV]  colsample_bytree=0.6715189696454972, max_depth=10, subsample=0.9404954295088848 -   2.4s\n",
      "[CV] colsample_bytree=0.6715189696454972, max_depth=10, subsample=0.9404954295088848 \n"
     ]
    },
    {
     "name": "stderr",
     "output_type": "stream",
     "text": [
      "C:\\Users\\ryosuke.nishioka\\Anaconda3\\lib\\site-packages\\sklearn\\metrics\\scorer.py:127: DeprecationWarning: Scoring method log_loss was renamed to neg_log_loss in version 0.18 and will be removed in 0.20.\n",
      "  sample_weight=sample_weight)\n"
     ]
    },
    {
     "name": "stdout",
     "output_type": "stream",
     "text": [
      "[CV]  colsample_bytree=0.6715189696454972, max_depth=10, subsample=0.9404954295088848 -   2.2s\n",
      "[CV] colsample_bytree=0.6715189696454972, max_depth=10, subsample=0.9404954295088848 \n"
     ]
    },
    {
     "name": "stderr",
     "output_type": "stream",
     "text": [
      "C:\\Users\\ryosuke.nishioka\\Anaconda3\\lib\\site-packages\\sklearn\\metrics\\scorer.py:127: DeprecationWarning: Scoring method log_loss was renamed to neg_log_loss in version 0.18 and will be removed in 0.20.\n",
      "  sample_weight=sample_weight)\n"
     ]
    },
    {
     "name": "stdout",
     "output_type": "stream",
     "text": [
      "[CV]  colsample_bytree=0.6715189696454972, max_depth=10, subsample=0.9404954295088848 -   2.2s\n",
      "[CV] colsample_bytree=0.6715189696454972, max_depth=10, subsample=0.9404954295088848 \n"
     ]
    },
    {
     "name": "stderr",
     "output_type": "stream",
     "text": [
      "C:\\Users\\ryosuke.nishioka\\Anaconda3\\lib\\site-packages\\sklearn\\metrics\\scorer.py:127: DeprecationWarning: Scoring method log_loss was renamed to neg_log_loss in version 0.18 and will be removed in 0.20.\n",
      "  sample_weight=sample_weight)\n"
     ]
    },
    {
     "name": "stdout",
     "output_type": "stream",
     "text": [
      "[CV]  colsample_bytree=0.6715189696454972, max_depth=10, subsample=0.9404954295088848 -   2.3s\n",
      "[CV] colsample_bytree=0.6715189696454972, max_depth=10, subsample=0.9404954295088848 \n"
     ]
    },
    {
     "name": "stderr",
     "output_type": "stream",
     "text": [
      "C:\\Users\\ryosuke.nishioka\\Anaconda3\\lib\\site-packages\\sklearn\\metrics\\scorer.py:127: DeprecationWarning: Scoring method log_loss was renamed to neg_log_loss in version 0.18 and will be removed in 0.20.\n",
      "  sample_weight=sample_weight)\n"
     ]
    },
    {
     "name": "stdout",
     "output_type": "stream",
     "text": [
      "[CV]  colsample_bytree=0.6715189696454972, max_depth=10, subsample=0.9404954295088848 -   2.3s\n",
      "[CV] colsample_bytree=0.6715189696454972, max_depth=10, subsample=0.9404954295088848 \n"
     ]
    },
    {
     "name": "stderr",
     "output_type": "stream",
     "text": [
      "C:\\Users\\ryosuke.nishioka\\Anaconda3\\lib\\site-packages\\sklearn\\metrics\\scorer.py:127: DeprecationWarning: Scoring method log_loss was renamed to neg_log_loss in version 0.18 and will be removed in 0.20.\n",
      "  sample_weight=sample_weight)\n"
     ]
    },
    {
     "name": "stdout",
     "output_type": "stream",
     "text": [
      "[CV]  colsample_bytree=0.6715189696454972, max_depth=10, subsample=0.9404954295088848 -   2.2s\n",
      "[CV] colsample_bytree=0.9361125488244764, max_depth=4, subsample=0.5760782098562076 \n"
     ]
    },
    {
     "name": "stderr",
     "output_type": "stream",
     "text": [
      "C:\\Users\\ryosuke.nishioka\\Anaconda3\\lib\\site-packages\\sklearn\\metrics\\scorer.py:127: DeprecationWarning: Scoring method log_loss was renamed to neg_log_loss in version 0.18 and will be removed in 0.20.\n",
      "  sample_weight=sample_weight)\n"
     ]
    },
    {
     "name": "stdout",
     "output_type": "stream",
     "text": [
      "[CV]  colsample_bytree=0.9361125488244764, max_depth=4, subsample=0.5760782098562076 -   1.3s\n",
      "[CV] colsample_bytree=0.9361125488244764, max_depth=4, subsample=0.5760782098562076 \n"
     ]
    },
    {
     "name": "stderr",
     "output_type": "stream",
     "text": [
      "C:\\Users\\ryosuke.nishioka\\Anaconda3\\lib\\site-packages\\sklearn\\metrics\\scorer.py:127: DeprecationWarning: Scoring method log_loss was renamed to neg_log_loss in version 0.18 and will be removed in 0.20.\n",
      "  sample_weight=sample_weight)\n"
     ]
    },
    {
     "name": "stdout",
     "output_type": "stream",
     "text": [
      "[CV]  colsample_bytree=0.9361125488244764, max_depth=4, subsample=0.5760782098562076 -   1.3s\n",
      "[CV] colsample_bytree=0.9361125488244764, max_depth=4, subsample=0.5760782098562076 \n"
     ]
    },
    {
     "name": "stderr",
     "output_type": "stream",
     "text": [
      "C:\\Users\\ryosuke.nishioka\\Anaconda3\\lib\\site-packages\\sklearn\\metrics\\scorer.py:127: DeprecationWarning: Scoring method log_loss was renamed to neg_log_loss in version 0.18 and will be removed in 0.20.\n",
      "  sample_weight=sample_weight)\n"
     ]
    },
    {
     "name": "stdout",
     "output_type": "stream",
     "text": [
      "[CV]  colsample_bytree=0.9361125488244764, max_depth=4, subsample=0.5760782098562076 -   1.3s\n",
      "[CV] colsample_bytree=0.9361125488244764, max_depth=4, subsample=0.5760782098562076 \n"
     ]
    },
    {
     "name": "stderr",
     "output_type": "stream",
     "text": [
      "C:\\Users\\ryosuke.nishioka\\Anaconda3\\lib\\site-packages\\sklearn\\metrics\\scorer.py:127: DeprecationWarning: Scoring method log_loss was renamed to neg_log_loss in version 0.18 and will be removed in 0.20.\n",
      "  sample_weight=sample_weight)\n"
     ]
    },
    {
     "name": "stdout",
     "output_type": "stream",
     "text": [
      "[CV]  colsample_bytree=0.9361125488244764, max_depth=4, subsample=0.5760782098562076 -   1.4s\n",
      "[CV] colsample_bytree=0.9361125488244764, max_depth=4, subsample=0.5760782098562076 \n"
     ]
    },
    {
     "name": "stderr",
     "output_type": "stream",
     "text": [
      "C:\\Users\\ryosuke.nishioka\\Anaconda3\\lib\\site-packages\\sklearn\\metrics\\scorer.py:127: DeprecationWarning: Scoring method log_loss was renamed to neg_log_loss in version 0.18 and will be removed in 0.20.\n",
      "  sample_weight=sample_weight)\n"
     ]
    },
    {
     "name": "stdout",
     "output_type": "stream",
     "text": [
      "[CV]  colsample_bytree=0.9361125488244764, max_depth=4, subsample=0.5760782098562076 -   1.6s\n",
      "[CV] colsample_bytree=0.9361125488244764, max_depth=4, subsample=0.5760782098562076 \n"
     ]
    },
    {
     "name": "stderr",
     "output_type": "stream",
     "text": [
      "C:\\Users\\ryosuke.nishioka\\Anaconda3\\lib\\site-packages\\sklearn\\metrics\\scorer.py:127: DeprecationWarning: Scoring method log_loss was renamed to neg_log_loss in version 0.18 and will be removed in 0.20.\n",
      "  sample_weight=sample_weight)\n"
     ]
    },
    {
     "name": "stdout",
     "output_type": "stream",
     "text": [
      "[CV]  colsample_bytree=0.9361125488244764, max_depth=4, subsample=0.5760782098562076 -   1.4s\n",
      "[CV] colsample_bytree=0.9361125488244764, max_depth=4, subsample=0.5760782098562076 \n"
     ]
    },
    {
     "name": "stderr",
     "output_type": "stream",
     "text": [
      "C:\\Users\\ryosuke.nishioka\\Anaconda3\\lib\\site-packages\\sklearn\\metrics\\scorer.py:127: DeprecationWarning: Scoring method log_loss was renamed to neg_log_loss in version 0.18 and will be removed in 0.20.\n",
      "  sample_weight=sample_weight)\n"
     ]
    },
    {
     "name": "stdout",
     "output_type": "stream",
     "text": [
      "[CV]  colsample_bytree=0.9361125488244764, max_depth=4, subsample=0.5760782098562076 -   1.3s\n",
      "[CV] colsample_bytree=0.9361125488244764, max_depth=4, subsample=0.5760782098562076 \n"
     ]
    },
    {
     "name": "stderr",
     "output_type": "stream",
     "text": [
      "C:\\Users\\ryosuke.nishioka\\Anaconda3\\lib\\site-packages\\sklearn\\metrics\\scorer.py:127: DeprecationWarning: Scoring method log_loss was renamed to neg_log_loss in version 0.18 and will be removed in 0.20.\n",
      "  sample_weight=sample_weight)\n"
     ]
    },
    {
     "name": "stdout",
     "output_type": "stream",
     "text": [
      "[CV]  colsample_bytree=0.9361125488244764, max_depth=4, subsample=0.5760782098562076 -   1.4s\n",
      "[CV] colsample_bytree=0.9361125488244764, max_depth=4, subsample=0.5760782098562076 \n"
     ]
    },
    {
     "name": "stderr",
     "output_type": "stream",
     "text": [
      "C:\\Users\\ryosuke.nishioka\\Anaconda3\\lib\\site-packages\\sklearn\\metrics\\scorer.py:127: DeprecationWarning: Scoring method log_loss was renamed to neg_log_loss in version 0.18 and will be removed in 0.20.\n",
      "  sample_weight=sample_weight)\n"
     ]
    },
    {
     "name": "stdout",
     "output_type": "stream",
     "text": [
      "[CV]  colsample_bytree=0.9361125488244764, max_depth=4, subsample=0.5760782098562076 -   1.4s\n",
      "[CV] colsample_bytree=0.9361125488244764, max_depth=4, subsample=0.5760782098562076 \n"
     ]
    },
    {
     "name": "stderr",
     "output_type": "stream",
     "text": [
      "C:\\Users\\ryosuke.nishioka\\Anaconda3\\lib\\site-packages\\sklearn\\metrics\\scorer.py:127: DeprecationWarning: Scoring method log_loss was renamed to neg_log_loss in version 0.18 and will be removed in 0.20.\n",
      "  sample_weight=sample_weight)\n"
     ]
    },
    {
     "name": "stdout",
     "output_type": "stream",
     "text": [
      "[CV]  colsample_bytree=0.9361125488244764, max_depth=4, subsample=0.5760782098562076 -   1.4s\n",
      "[CV] colsample_bytree=0.7401363723727339, max_depth=10, subsample=0.9890103298031958 \n"
     ]
    },
    {
     "name": "stderr",
     "output_type": "stream",
     "text": [
      "C:\\Users\\ryosuke.nishioka\\Anaconda3\\lib\\site-packages\\sklearn\\metrics\\scorer.py:127: DeprecationWarning: Scoring method log_loss was renamed to neg_log_loss in version 0.18 and will be removed in 0.20.\n",
      "  sample_weight=sample_weight)\n"
     ]
    },
    {
     "name": "stdout",
     "output_type": "stream",
     "text": [
      "[CV]  colsample_bytree=0.7401363723727339, max_depth=10, subsample=0.9890103298031958 -   2.6s\n",
      "[CV] colsample_bytree=0.7401363723727339, max_depth=10, subsample=0.9890103298031958 \n"
     ]
    },
    {
     "name": "stderr",
     "output_type": "stream",
     "text": [
      "C:\\Users\\ryosuke.nishioka\\Anaconda3\\lib\\site-packages\\sklearn\\metrics\\scorer.py:127: DeprecationWarning: Scoring method log_loss was renamed to neg_log_loss in version 0.18 and will be removed in 0.20.\n",
      "  sample_weight=sample_weight)\n"
     ]
    },
    {
     "name": "stdout",
     "output_type": "stream",
     "text": [
      "[CV]  colsample_bytree=0.7401363723727339, max_depth=10, subsample=0.9890103298031958 -   2.3s\n",
      "[CV] colsample_bytree=0.7401363723727339, max_depth=10, subsample=0.9890103298031958 \n"
     ]
    },
    {
     "name": "stderr",
     "output_type": "stream",
     "text": [
      "C:\\Users\\ryosuke.nishioka\\Anaconda3\\lib\\site-packages\\sklearn\\metrics\\scorer.py:127: DeprecationWarning: Scoring method log_loss was renamed to neg_log_loss in version 0.18 and will be removed in 0.20.\n",
      "  sample_weight=sample_weight)\n"
     ]
    },
    {
     "name": "stdout",
     "output_type": "stream",
     "text": [
      "[CV]  colsample_bytree=0.7401363723727339, max_depth=10, subsample=0.9890103298031958 -   2.3s\n",
      "[CV] colsample_bytree=0.7401363723727339, max_depth=10, subsample=0.9890103298031958 \n"
     ]
    },
    {
     "name": "stderr",
     "output_type": "stream",
     "text": [
      "C:\\Users\\ryosuke.nishioka\\Anaconda3\\lib\\site-packages\\sklearn\\metrics\\scorer.py:127: DeprecationWarning: Scoring method log_loss was renamed to neg_log_loss in version 0.18 and will be removed in 0.20.\n",
      "  sample_weight=sample_weight)\n"
     ]
    },
    {
     "name": "stdout",
     "output_type": "stream",
     "text": [
      "[CV]  colsample_bytree=0.7401363723727339, max_depth=10, subsample=0.9890103298031958 -   2.3s\n",
      "[CV] colsample_bytree=0.7401363723727339, max_depth=10, subsample=0.9890103298031958 \n"
     ]
    },
    {
     "name": "stderr",
     "output_type": "stream",
     "text": [
      "C:\\Users\\ryosuke.nishioka\\Anaconda3\\lib\\site-packages\\sklearn\\metrics\\scorer.py:127: DeprecationWarning: Scoring method log_loss was renamed to neg_log_loss in version 0.18 and will be removed in 0.20.\n",
      "  sample_weight=sample_weight)\n"
     ]
    },
    {
     "name": "stdout",
     "output_type": "stream",
     "text": [
      "[CV]  colsample_bytree=0.7401363723727339, max_depth=10, subsample=0.9890103298031958 -   2.3s\n",
      "[CV] colsample_bytree=0.7401363723727339, max_depth=10, subsample=0.9890103298031958 \n"
     ]
    },
    {
     "name": "stderr",
     "output_type": "stream",
     "text": [
      "C:\\Users\\ryosuke.nishioka\\Anaconda3\\lib\\site-packages\\sklearn\\metrics\\scorer.py:127: DeprecationWarning: Scoring method log_loss was renamed to neg_log_loss in version 0.18 and will be removed in 0.20.\n",
      "  sample_weight=sample_weight)\n"
     ]
    },
    {
     "name": "stdout",
     "output_type": "stream",
     "text": [
      "[CV]  colsample_bytree=0.7401363723727339, max_depth=10, subsample=0.9890103298031958 -   2.3s\n",
      "[CV] colsample_bytree=0.7401363723727339, max_depth=10, subsample=0.9890103298031958 \n"
     ]
    },
    {
     "name": "stderr",
     "output_type": "stream",
     "text": [
      "C:\\Users\\ryosuke.nishioka\\Anaconda3\\lib\\site-packages\\sklearn\\metrics\\scorer.py:127: DeprecationWarning: Scoring method log_loss was renamed to neg_log_loss in version 0.18 and will be removed in 0.20.\n",
      "  sample_weight=sample_weight)\n"
     ]
    },
    {
     "name": "stdout",
     "output_type": "stream",
     "text": [
      "[CV]  colsample_bytree=0.7401363723727339, max_depth=10, subsample=0.9890103298031958 -   2.3s\n",
      "[CV] colsample_bytree=0.7401363723727339, max_depth=10, subsample=0.9890103298031958 \n"
     ]
    },
    {
     "name": "stderr",
     "output_type": "stream",
     "text": [
      "C:\\Users\\ryosuke.nishioka\\Anaconda3\\lib\\site-packages\\sklearn\\metrics\\scorer.py:127: DeprecationWarning: Scoring method log_loss was renamed to neg_log_loss in version 0.18 and will be removed in 0.20.\n",
      "  sample_weight=sample_weight)\n"
     ]
    },
    {
     "name": "stdout",
     "output_type": "stream",
     "text": [
      "[CV]  colsample_bytree=0.7401363723727339, max_depth=10, subsample=0.9890103298031958 -   2.4s\n",
      "[CV] colsample_bytree=0.7401363723727339, max_depth=10, subsample=0.9890103298031958 \n"
     ]
    },
    {
     "name": "stderr",
     "output_type": "stream",
     "text": [
      "C:\\Users\\ryosuke.nishioka\\Anaconda3\\lib\\site-packages\\sklearn\\metrics\\scorer.py:127: DeprecationWarning: Scoring method log_loss was renamed to neg_log_loss in version 0.18 and will be removed in 0.20.\n",
      "  sample_weight=sample_weight)\n"
     ]
    },
    {
     "name": "stdout",
     "output_type": "stream",
     "text": [
      "[CV]  colsample_bytree=0.7401363723727339, max_depth=10, subsample=0.9890103298031958 -   2.4s\n",
      "[CV] colsample_bytree=0.7401363723727339, max_depth=10, subsample=0.9890103298031958 \n"
     ]
    },
    {
     "name": "stderr",
     "output_type": "stream",
     "text": [
      "C:\\Users\\ryosuke.nishioka\\Anaconda3\\lib\\site-packages\\sklearn\\metrics\\scorer.py:127: DeprecationWarning: Scoring method log_loss was renamed to neg_log_loss in version 0.18 and will be removed in 0.20.\n",
      "  sample_weight=sample_weight)\n"
     ]
    },
    {
     "name": "stdout",
     "output_type": "stream",
     "text": [
      "[CV]  colsample_bytree=0.7401363723727339, max_depth=10, subsample=0.9890103298031958 -   2.4s\n",
      "[CV] colsample_bytree=0.8507611622308282, max_depth=1, subsample=0.9216854936098067 \n"
     ]
    },
    {
     "name": "stderr",
     "output_type": "stream",
     "text": [
      "C:\\Users\\ryosuke.nishioka\\Anaconda3\\lib\\site-packages\\sklearn\\metrics\\scorer.py:127: DeprecationWarning: Scoring method log_loss was renamed to neg_log_loss in version 0.18 and will be removed in 0.20.\n",
      "  sample_weight=sample_weight)\n"
     ]
    },
    {
     "name": "stdout",
     "output_type": "stream",
     "text": [
      "[CV]  colsample_bytree=0.8507611622308282, max_depth=1, subsample=0.9216854936098067 -   0.3s\n",
      "[CV] colsample_bytree=0.8507611622308282, max_depth=1, subsample=0.9216854936098067 \n"
     ]
    },
    {
     "name": "stderr",
     "output_type": "stream",
     "text": [
      "C:\\Users\\ryosuke.nishioka\\Anaconda3\\lib\\site-packages\\sklearn\\metrics\\scorer.py:127: DeprecationWarning: Scoring method log_loss was renamed to neg_log_loss in version 0.18 and will be removed in 0.20.\n",
      "  sample_weight=sample_weight)\n"
     ]
    },
    {
     "name": "stdout",
     "output_type": "stream",
     "text": [
      "[CV]  colsample_bytree=0.8507611622308282, max_depth=1, subsample=0.9216854936098067 -   0.3s\n",
      "[CV] colsample_bytree=0.8507611622308282, max_depth=1, subsample=0.9216854936098067 \n"
     ]
    },
    {
     "name": "stderr",
     "output_type": "stream",
     "text": [
      "C:\\Users\\ryosuke.nishioka\\Anaconda3\\lib\\site-packages\\sklearn\\metrics\\scorer.py:127: DeprecationWarning: Scoring method log_loss was renamed to neg_log_loss in version 0.18 and will be removed in 0.20.\n",
      "  sample_weight=sample_weight)\n"
     ]
    },
    {
     "name": "stdout",
     "output_type": "stream",
     "text": [
      "[CV]  colsample_bytree=0.8507611622308282, max_depth=1, subsample=0.9216854936098067 -   0.3s\n",
      "[CV] colsample_bytree=0.8507611622308282, max_depth=1, subsample=0.9216854936098067 \n"
     ]
    },
    {
     "name": "stderr",
     "output_type": "stream",
     "text": [
      "C:\\Users\\ryosuke.nishioka\\Anaconda3\\lib\\site-packages\\sklearn\\metrics\\scorer.py:127: DeprecationWarning: Scoring method log_loss was renamed to neg_log_loss in version 0.18 and will be removed in 0.20.\n",
      "  sample_weight=sample_weight)\n"
     ]
    },
    {
     "name": "stdout",
     "output_type": "stream",
     "text": [
      "[CV]  colsample_bytree=0.8507611622308282, max_depth=1, subsample=0.9216854936098067 -   0.4s\n",
      "[CV] colsample_bytree=0.8507611622308282, max_depth=1, subsample=0.9216854936098067 \n"
     ]
    },
    {
     "name": "stderr",
     "output_type": "stream",
     "text": [
      "C:\\Users\\ryosuke.nishioka\\Anaconda3\\lib\\site-packages\\sklearn\\metrics\\scorer.py:127: DeprecationWarning: Scoring method log_loss was renamed to neg_log_loss in version 0.18 and will be removed in 0.20.\n",
      "  sample_weight=sample_weight)\n"
     ]
    },
    {
     "name": "stdout",
     "output_type": "stream",
     "text": [
      "[CV]  colsample_bytree=0.8507611622308282, max_depth=1, subsample=0.9216854936098067 -   0.4s\n",
      "[CV] colsample_bytree=0.8507611622308282, max_depth=1, subsample=0.9216854936098067 \n"
     ]
    },
    {
     "name": "stderr",
     "output_type": "stream",
     "text": [
      "C:\\Users\\ryosuke.nishioka\\Anaconda3\\lib\\site-packages\\sklearn\\metrics\\scorer.py:127: DeprecationWarning: Scoring method log_loss was renamed to neg_log_loss in version 0.18 and will be removed in 0.20.\n",
      "  sample_weight=sample_weight)\n"
     ]
    },
    {
     "name": "stdout",
     "output_type": "stream",
     "text": [
      "[CV]  colsample_bytree=0.8507611622308282, max_depth=1, subsample=0.9216854936098067 -   0.3s\n",
      "[CV] colsample_bytree=0.8507611622308282, max_depth=1, subsample=0.9216854936098067 \n"
     ]
    },
    {
     "name": "stderr",
     "output_type": "stream",
     "text": [
      "C:\\Users\\ryosuke.nishioka\\Anaconda3\\lib\\site-packages\\sklearn\\metrics\\scorer.py:127: DeprecationWarning: Scoring method log_loss was renamed to neg_log_loss in version 0.18 and will be removed in 0.20.\n",
      "  sample_weight=sample_weight)\n"
     ]
    },
    {
     "name": "stdout",
     "output_type": "stream",
     "text": [
      "[CV]  colsample_bytree=0.8507611622308282, max_depth=1, subsample=0.9216854936098067 -   0.3s\n",
      "[CV] colsample_bytree=0.8507611622308282, max_depth=1, subsample=0.9216854936098067 \n"
     ]
    },
    {
     "name": "stderr",
     "output_type": "stream",
     "text": [
      "C:\\Users\\ryosuke.nishioka\\Anaconda3\\lib\\site-packages\\sklearn\\metrics\\scorer.py:127: DeprecationWarning: Scoring method log_loss was renamed to neg_log_loss in version 0.18 and will be removed in 0.20.\n",
      "  sample_weight=sample_weight)\n"
     ]
    },
    {
     "name": "stdout",
     "output_type": "stream",
     "text": [
      "[CV]  colsample_bytree=0.8507611622308282, max_depth=1, subsample=0.9216854936098067 -   0.3s\n",
      "[CV] colsample_bytree=0.8507611622308282, max_depth=1, subsample=0.9216854936098067 \n"
     ]
    },
    {
     "name": "stderr",
     "output_type": "stream",
     "text": [
      "C:\\Users\\ryosuke.nishioka\\Anaconda3\\lib\\site-packages\\sklearn\\metrics\\scorer.py:127: DeprecationWarning: Scoring method log_loss was renamed to neg_log_loss in version 0.18 and will be removed in 0.20.\n",
      "  sample_weight=sample_weight)\n"
     ]
    },
    {
     "name": "stdout",
     "output_type": "stream",
     "text": [
      "[CV]  colsample_bytree=0.8507611622308282, max_depth=1, subsample=0.9216854936098067 -   0.3s\n",
      "[CV] colsample_bytree=0.8507611622308282, max_depth=1, subsample=0.9216854936098067 \n"
     ]
    },
    {
     "name": "stderr",
     "output_type": "stream",
     "text": [
      "C:\\Users\\ryosuke.nishioka\\Anaconda3\\lib\\site-packages\\sklearn\\metrics\\scorer.py:127: DeprecationWarning: Scoring method log_loss was renamed to neg_log_loss in version 0.18 and will be removed in 0.20.\n",
      "  sample_weight=sample_weight)\n"
     ]
    },
    {
     "name": "stdout",
     "output_type": "stream",
     "text": [
      "[CV]  colsample_bytree=0.8507611622308282, max_depth=1, subsample=0.9216854936098067 -   0.3s\n",
      "[CV] colsample_bytree=0.9401981655720852, max_depth=6, subsample=0.6927881465436292 \n"
     ]
    },
    {
     "name": "stderr",
     "output_type": "stream",
     "text": [
      "C:\\Users\\ryosuke.nishioka\\Anaconda3\\lib\\site-packages\\sklearn\\metrics\\scorer.py:127: DeprecationWarning: Scoring method log_loss was renamed to neg_log_loss in version 0.18 and will be removed in 0.20.\n",
      "  sample_weight=sample_weight)\n"
     ]
    },
    {
     "name": "stdout",
     "output_type": "stream",
     "text": [
      "[CV]  colsample_bytree=0.9401981655720852, max_depth=6, subsample=0.6927881465436292 -   2.1s\n",
      "[CV] colsample_bytree=0.9401981655720852, max_depth=6, subsample=0.6927881465436292 \n"
     ]
    },
    {
     "name": "stderr",
     "output_type": "stream",
     "text": [
      "C:\\Users\\ryosuke.nishioka\\Anaconda3\\lib\\site-packages\\sklearn\\metrics\\scorer.py:127: DeprecationWarning: Scoring method log_loss was renamed to neg_log_loss in version 0.18 and will be removed in 0.20.\n",
      "  sample_weight=sample_weight)\n"
     ]
    },
    {
     "name": "stdout",
     "output_type": "stream",
     "text": [
      "[CV]  colsample_bytree=0.9401981655720852, max_depth=6, subsample=0.6927881465436292 -   2.0s\n",
      "[CV] colsample_bytree=0.9401981655720852, max_depth=6, subsample=0.6927881465436292 \n"
     ]
    },
    {
     "name": "stderr",
     "output_type": "stream",
     "text": [
      "C:\\Users\\ryosuke.nishioka\\Anaconda3\\lib\\site-packages\\sklearn\\metrics\\scorer.py:127: DeprecationWarning: Scoring method log_loss was renamed to neg_log_loss in version 0.18 and will be removed in 0.20.\n",
      "  sample_weight=sample_weight)\n"
     ]
    },
    {
     "name": "stdout",
     "output_type": "stream",
     "text": [
      "[CV]  colsample_bytree=0.9401981655720852, max_depth=6, subsample=0.6927881465436292 -   2.0s\n",
      "[CV] colsample_bytree=0.9401981655720852, max_depth=6, subsample=0.6927881465436292 \n"
     ]
    },
    {
     "name": "stderr",
     "output_type": "stream",
     "text": [
      "C:\\Users\\ryosuke.nishioka\\Anaconda3\\lib\\site-packages\\sklearn\\metrics\\scorer.py:127: DeprecationWarning: Scoring method log_loss was renamed to neg_log_loss in version 0.18 and will be removed in 0.20.\n",
      "  sample_weight=sample_weight)\n"
     ]
    },
    {
     "name": "stdout",
     "output_type": "stream",
     "text": [
      "[CV]  colsample_bytree=0.9401981655720852, max_depth=6, subsample=0.6927881465436292 -   2.2s\n",
      "[CV] colsample_bytree=0.9401981655720852, max_depth=6, subsample=0.6927881465436292 \n"
     ]
    },
    {
     "name": "stderr",
     "output_type": "stream",
     "text": [
      "C:\\Users\\ryosuke.nishioka\\Anaconda3\\lib\\site-packages\\sklearn\\metrics\\scorer.py:127: DeprecationWarning: Scoring method log_loss was renamed to neg_log_loss in version 0.18 and will be removed in 0.20.\n",
      "  sample_weight=sample_weight)\n"
     ]
    },
    {
     "name": "stdout",
     "output_type": "stream",
     "text": [
      "[CV]  colsample_bytree=0.9401981655720852, max_depth=6, subsample=0.6927881465436292 -   2.0s\n",
      "[CV] colsample_bytree=0.9401981655720852, max_depth=6, subsample=0.6927881465436292 \n"
     ]
    },
    {
     "name": "stderr",
     "output_type": "stream",
     "text": [
      "C:\\Users\\ryosuke.nishioka\\Anaconda3\\lib\\site-packages\\sklearn\\metrics\\scorer.py:127: DeprecationWarning: Scoring method log_loss was renamed to neg_log_loss in version 0.18 and will be removed in 0.20.\n",
      "  sample_weight=sample_weight)\n"
     ]
    },
    {
     "name": "stdout",
     "output_type": "stream",
     "text": [
      "[CV]  colsample_bytree=0.9401981655720852, max_depth=6, subsample=0.6927881465436292 -   2.0s\n",
      "[CV] colsample_bytree=0.9401981655720852, max_depth=6, subsample=0.6927881465436292 \n"
     ]
    },
    {
     "name": "stderr",
     "output_type": "stream",
     "text": [
      "C:\\Users\\ryosuke.nishioka\\Anaconda3\\lib\\site-packages\\sklearn\\metrics\\scorer.py:127: DeprecationWarning: Scoring method log_loss was renamed to neg_log_loss in version 0.18 and will be removed in 0.20.\n",
      "  sample_weight=sample_weight)\n"
     ]
    },
    {
     "name": "stdout",
     "output_type": "stream",
     "text": [
      "[CV]  colsample_bytree=0.9401981655720852, max_depth=6, subsample=0.6927881465436292 -   2.1s\n",
      "[CV] colsample_bytree=0.9401981655720852, max_depth=6, subsample=0.6927881465436292 \n"
     ]
    },
    {
     "name": "stderr",
     "output_type": "stream",
     "text": [
      "C:\\Users\\ryosuke.nishioka\\Anaconda3\\lib\\site-packages\\sklearn\\metrics\\scorer.py:127: DeprecationWarning: Scoring method log_loss was renamed to neg_log_loss in version 0.18 and will be removed in 0.20.\n",
      "  sample_weight=sample_weight)\n"
     ]
    },
    {
     "name": "stdout",
     "output_type": "stream",
     "text": [
      "[CV]  colsample_bytree=0.9401981655720852, max_depth=6, subsample=0.6927881465436292 -   2.1s\n",
      "[CV] colsample_bytree=0.9401981655720852, max_depth=6, subsample=0.6927881465436292 \n"
     ]
    },
    {
     "name": "stderr",
     "output_type": "stream",
     "text": [
      "C:\\Users\\ryosuke.nishioka\\Anaconda3\\lib\\site-packages\\sklearn\\metrics\\scorer.py:127: DeprecationWarning: Scoring method log_loss was renamed to neg_log_loss in version 0.18 and will be removed in 0.20.\n",
      "  sample_weight=sample_weight)\n"
     ]
    },
    {
     "name": "stdout",
     "output_type": "stream",
     "text": [
      "[CV]  colsample_bytree=0.9401981655720852, max_depth=6, subsample=0.6927881465436292 -   1.9s\n",
      "[CV] colsample_bytree=0.9401981655720852, max_depth=6, subsample=0.6927881465436292 \n"
     ]
    },
    {
     "name": "stderr",
     "output_type": "stream",
     "text": [
      "C:\\Users\\ryosuke.nishioka\\Anaconda3\\lib\\site-packages\\sklearn\\metrics\\scorer.py:127: DeprecationWarning: Scoring method log_loss was renamed to neg_log_loss in version 0.18 and will be removed in 0.20.\n",
      "  sample_weight=sample_weight)\n"
     ]
    },
    {
     "name": "stdout",
     "output_type": "stream",
     "text": [
      "[CV]  colsample_bytree=0.9401981655720852, max_depth=6, subsample=0.6927881465436292 -   2.0s\n",
      "[CV] colsample_bytree=0.730050070494711, max_depth=7, subsample=0.7566950879686559 \n"
     ]
    },
    {
     "name": "stderr",
     "output_type": "stream",
     "text": [
      "C:\\Users\\ryosuke.nishioka\\Anaconda3\\lib\\site-packages\\sklearn\\metrics\\scorer.py:127: DeprecationWarning: Scoring method log_loss was renamed to neg_log_loss in version 0.18 and will be removed in 0.20.\n",
      "  sample_weight=sample_weight)\n"
     ]
    },
    {
     "name": "stdout",
     "output_type": "stream",
     "text": [
      "[CV]  colsample_bytree=0.730050070494711, max_depth=7, subsample=0.7566950879686559 -   2.0s\n",
      "[CV] colsample_bytree=0.730050070494711, max_depth=7, subsample=0.7566950879686559 \n"
     ]
    },
    {
     "name": "stderr",
     "output_type": "stream",
     "text": [
      "C:\\Users\\ryosuke.nishioka\\Anaconda3\\lib\\site-packages\\sklearn\\metrics\\scorer.py:127: DeprecationWarning: Scoring method log_loss was renamed to neg_log_loss in version 0.18 and will be removed in 0.20.\n",
      "  sample_weight=sample_weight)\n"
     ]
    },
    {
     "name": "stdout",
     "output_type": "stream",
     "text": [
      "[CV]  colsample_bytree=0.730050070494711, max_depth=7, subsample=0.7566950879686559 -   1.9s\n",
      "[CV] colsample_bytree=0.730050070494711, max_depth=7, subsample=0.7566950879686559 \n"
     ]
    },
    {
     "name": "stderr",
     "output_type": "stream",
     "text": [
      "C:\\Users\\ryosuke.nishioka\\Anaconda3\\lib\\site-packages\\sklearn\\metrics\\scorer.py:127: DeprecationWarning: Scoring method log_loss was renamed to neg_log_loss in version 0.18 and will be removed in 0.20.\n",
      "  sample_weight=sample_weight)\n"
     ]
    },
    {
     "name": "stdout",
     "output_type": "stream",
     "text": [
      "[CV]  colsample_bytree=0.730050070494711, max_depth=7, subsample=0.7566950879686559 -   1.8s\n",
      "[CV] colsample_bytree=0.730050070494711, max_depth=7, subsample=0.7566950879686559 \n"
     ]
    },
    {
     "name": "stderr",
     "output_type": "stream",
     "text": [
      "C:\\Users\\ryosuke.nishioka\\Anaconda3\\lib\\site-packages\\sklearn\\metrics\\scorer.py:127: DeprecationWarning: Scoring method log_loss was renamed to neg_log_loss in version 0.18 and will be removed in 0.20.\n",
      "  sample_weight=sample_weight)\n"
     ]
    },
    {
     "name": "stdout",
     "output_type": "stream",
     "text": [
      "[CV]  colsample_bytree=0.730050070494711, max_depth=7, subsample=0.7566950879686559 -   1.8s\n",
      "[CV] colsample_bytree=0.730050070494711, max_depth=7, subsample=0.7566950879686559 \n"
     ]
    },
    {
     "name": "stderr",
     "output_type": "stream",
     "text": [
      "C:\\Users\\ryosuke.nishioka\\Anaconda3\\lib\\site-packages\\sklearn\\metrics\\scorer.py:127: DeprecationWarning: Scoring method log_loss was renamed to neg_log_loss in version 0.18 and will be removed in 0.20.\n",
      "  sample_weight=sample_weight)\n"
     ]
    },
    {
     "name": "stdout",
     "output_type": "stream",
     "text": [
      "[CV]  colsample_bytree=0.730050070494711, max_depth=7, subsample=0.7566950879686559 -   1.8s\n",
      "[CV] colsample_bytree=0.730050070494711, max_depth=7, subsample=0.7566950879686559 \n"
     ]
    },
    {
     "name": "stderr",
     "output_type": "stream",
     "text": [
      "C:\\Users\\ryosuke.nishioka\\Anaconda3\\lib\\site-packages\\sklearn\\metrics\\scorer.py:127: DeprecationWarning: Scoring method log_loss was renamed to neg_log_loss in version 0.18 and will be removed in 0.20.\n",
      "  sample_weight=sample_weight)\n"
     ]
    },
    {
     "name": "stdout",
     "output_type": "stream",
     "text": [
      "[CV]  colsample_bytree=0.730050070494711, max_depth=7, subsample=0.7566950879686559 -   2.0s\n",
      "[CV] colsample_bytree=0.730050070494711, max_depth=7, subsample=0.7566950879686559 \n"
     ]
    },
    {
     "name": "stderr",
     "output_type": "stream",
     "text": [
      "C:\\Users\\ryosuke.nishioka\\Anaconda3\\lib\\site-packages\\sklearn\\metrics\\scorer.py:127: DeprecationWarning: Scoring method log_loss was renamed to neg_log_loss in version 0.18 and will be removed in 0.20.\n",
      "  sample_weight=sample_weight)\n"
     ]
    },
    {
     "name": "stdout",
     "output_type": "stream",
     "text": [
      "[CV]  colsample_bytree=0.730050070494711, max_depth=7, subsample=0.7566950879686559 -   1.9s\n",
      "[CV] colsample_bytree=0.730050070494711, max_depth=7, subsample=0.7566950879686559 \n"
     ]
    },
    {
     "name": "stderr",
     "output_type": "stream",
     "text": [
      "C:\\Users\\ryosuke.nishioka\\Anaconda3\\lib\\site-packages\\sklearn\\metrics\\scorer.py:127: DeprecationWarning: Scoring method log_loss was renamed to neg_log_loss in version 0.18 and will be removed in 0.20.\n",
      "  sample_weight=sample_weight)\n"
     ]
    },
    {
     "name": "stdout",
     "output_type": "stream",
     "text": [
      "[CV]  colsample_bytree=0.730050070494711, max_depth=7, subsample=0.7566950879686559 -   1.9s\n",
      "[CV] colsample_bytree=0.730050070494711, max_depth=7, subsample=0.7566950879686559 \n"
     ]
    },
    {
     "name": "stderr",
     "output_type": "stream",
     "text": [
      "C:\\Users\\ryosuke.nishioka\\Anaconda3\\lib\\site-packages\\sklearn\\metrics\\scorer.py:127: DeprecationWarning: Scoring method log_loss was renamed to neg_log_loss in version 0.18 and will be removed in 0.20.\n",
      "  sample_weight=sample_weight)\n"
     ]
    },
    {
     "name": "stdout",
     "output_type": "stream",
     "text": [
      "[CV]  colsample_bytree=0.730050070494711, max_depth=7, subsample=0.7566950879686559 -   1.8s\n",
      "[CV] colsample_bytree=0.730050070494711, max_depth=7, subsample=0.7566950879686559 \n"
     ]
    },
    {
     "name": "stderr",
     "output_type": "stream",
     "text": [
      "C:\\Users\\ryosuke.nishioka\\Anaconda3\\lib\\site-packages\\sklearn\\metrics\\scorer.py:127: DeprecationWarning: Scoring method log_loss was renamed to neg_log_loss in version 0.18 and will be removed in 0.20.\n",
      "  sample_weight=sample_weight)\n"
     ]
    },
    {
     "name": "stdout",
     "output_type": "stream",
     "text": [
      "[CV]  colsample_bytree=0.730050070494711, max_depth=7, subsample=0.7566950879686559 -   1.8s\n",
      "[CV] colsample_bytree=0.807355757939987, max_depth=6, subsample=0.6700621209287116 \n"
     ]
    },
    {
     "name": "stderr",
     "output_type": "stream",
     "text": [
      "C:\\Users\\ryosuke.nishioka\\Anaconda3\\lib\\site-packages\\sklearn\\metrics\\scorer.py:127: DeprecationWarning: Scoring method log_loss was renamed to neg_log_loss in version 0.18 and will be removed in 0.20.\n",
      "  sample_weight=sample_weight)\n"
     ]
    },
    {
     "name": "stdout",
     "output_type": "stream",
     "text": [
      "[CV]  colsample_bytree=0.807355757939987, max_depth=6, subsample=0.6700621209287116 -   1.9s\n",
      "[CV] colsample_bytree=0.807355757939987, max_depth=6, subsample=0.6700621209287116 \n"
     ]
    },
    {
     "name": "stderr",
     "output_type": "stream",
     "text": [
      "C:\\Users\\ryosuke.nishioka\\Anaconda3\\lib\\site-packages\\sklearn\\metrics\\scorer.py:127: DeprecationWarning: Scoring method log_loss was renamed to neg_log_loss in version 0.18 and will be removed in 0.20.\n",
      "  sample_weight=sample_weight)\n"
     ]
    },
    {
     "name": "stdout",
     "output_type": "stream",
     "text": [
      "[CV]  colsample_bytree=0.807355757939987, max_depth=6, subsample=0.6700621209287116 -   1.9s\n",
      "[CV] colsample_bytree=0.807355757939987, max_depth=6, subsample=0.6700621209287116 \n"
     ]
    },
    {
     "name": "stderr",
     "output_type": "stream",
     "text": [
      "C:\\Users\\ryosuke.nishioka\\Anaconda3\\lib\\site-packages\\sklearn\\metrics\\scorer.py:127: DeprecationWarning: Scoring method log_loss was renamed to neg_log_loss in version 0.18 and will be removed in 0.20.\n",
      "  sample_weight=sample_weight)\n"
     ]
    },
    {
     "name": "stdout",
     "output_type": "stream",
     "text": [
      "[CV]  colsample_bytree=0.807355757939987, max_depth=6, subsample=0.6700621209287116 -   1.8s\n",
      "[CV] colsample_bytree=0.807355757939987, max_depth=6, subsample=0.6700621209287116 \n"
     ]
    },
    {
     "name": "stderr",
     "output_type": "stream",
     "text": [
      "C:\\Users\\ryosuke.nishioka\\Anaconda3\\lib\\site-packages\\sklearn\\metrics\\scorer.py:127: DeprecationWarning: Scoring method log_loss was renamed to neg_log_loss in version 0.18 and will be removed in 0.20.\n",
      "  sample_weight=sample_weight)\n"
     ]
    },
    {
     "name": "stdout",
     "output_type": "stream",
     "text": [
      "[CV]  colsample_bytree=0.807355757939987, max_depth=6, subsample=0.6700621209287116 -   1.8s\n",
      "[CV] colsample_bytree=0.807355757939987, max_depth=6, subsample=0.6700621209287116 \n"
     ]
    },
    {
     "name": "stderr",
     "output_type": "stream",
     "text": [
      "C:\\Users\\ryosuke.nishioka\\Anaconda3\\lib\\site-packages\\sklearn\\metrics\\scorer.py:127: DeprecationWarning: Scoring method log_loss was renamed to neg_log_loss in version 0.18 and will be removed in 0.20.\n",
      "  sample_weight=sample_weight)\n"
     ]
    },
    {
     "name": "stdout",
     "output_type": "stream",
     "text": [
      "[CV]  colsample_bytree=0.807355757939987, max_depth=6, subsample=0.6700621209287116 -   1.8s\n",
      "[CV] colsample_bytree=0.807355757939987, max_depth=6, subsample=0.6700621209287116 \n"
     ]
    },
    {
     "name": "stderr",
     "output_type": "stream",
     "text": [
      "C:\\Users\\ryosuke.nishioka\\Anaconda3\\lib\\site-packages\\sklearn\\metrics\\scorer.py:127: DeprecationWarning: Scoring method log_loss was renamed to neg_log_loss in version 0.18 and will be removed in 0.20.\n",
      "  sample_weight=sample_weight)\n"
     ]
    },
    {
     "name": "stdout",
     "output_type": "stream",
     "text": [
      "[CV]  colsample_bytree=0.807355757939987, max_depth=6, subsample=0.6700621209287116 -   1.8s\n",
      "[CV] colsample_bytree=0.807355757939987, max_depth=6, subsample=0.6700621209287116 \n"
     ]
    },
    {
     "name": "stderr",
     "output_type": "stream",
     "text": [
      "C:\\Users\\ryosuke.nishioka\\Anaconda3\\lib\\site-packages\\sklearn\\metrics\\scorer.py:127: DeprecationWarning: Scoring method log_loss was renamed to neg_log_loss in version 0.18 and will be removed in 0.20.\n",
      "  sample_weight=sample_weight)\n"
     ]
    },
    {
     "name": "stdout",
     "output_type": "stream",
     "text": [
      "[CV]  colsample_bytree=0.807355757939987, max_depth=6, subsample=0.6700621209287116 -   1.8s\n",
      "[CV] colsample_bytree=0.807355757939987, max_depth=6, subsample=0.6700621209287116 \n"
     ]
    },
    {
     "name": "stderr",
     "output_type": "stream",
     "text": [
      "C:\\Users\\ryosuke.nishioka\\Anaconda3\\lib\\site-packages\\sklearn\\metrics\\scorer.py:127: DeprecationWarning: Scoring method log_loss was renamed to neg_log_loss in version 0.18 and will be removed in 0.20.\n",
      "  sample_weight=sample_weight)\n"
     ]
    },
    {
     "name": "stdout",
     "output_type": "stream",
     "text": [
      "[CV]  colsample_bytree=0.807355757939987, max_depth=6, subsample=0.6700621209287116 -   1.8s\n",
      "[CV] colsample_bytree=0.807355757939987, max_depth=6, subsample=0.6700621209287116 \n"
     ]
    },
    {
     "name": "stderr",
     "output_type": "stream",
     "text": [
      "C:\\Users\\ryosuke.nishioka\\Anaconda3\\lib\\site-packages\\sklearn\\metrics\\scorer.py:127: DeprecationWarning: Scoring method log_loss was renamed to neg_log_loss in version 0.18 and will be removed in 0.20.\n",
      "  sample_weight=sample_weight)\n"
     ]
    },
    {
     "name": "stdout",
     "output_type": "stream",
     "text": [
      "[CV]  colsample_bytree=0.807355757939987, max_depth=6, subsample=0.6700621209287116 -   1.8s\n",
      "[CV] colsample_bytree=0.807355757939987, max_depth=6, subsample=0.6700621209287116 \n"
     ]
    },
    {
     "name": "stderr",
     "output_type": "stream",
     "text": [
      "C:\\Users\\ryosuke.nishioka\\Anaconda3\\lib\\site-packages\\sklearn\\metrics\\scorer.py:127: DeprecationWarning: Scoring method log_loss was renamed to neg_log_loss in version 0.18 and will be removed in 0.20.\n",
      "  sample_weight=sample_weight)\n"
     ]
    },
    {
     "name": "stdout",
     "output_type": "stream",
     "text": [
      "[CV]  colsample_bytree=0.807355757939987, max_depth=6, subsample=0.6700621209287116 -   1.7s\n",
      "[CV] colsample_bytree=0.7934350159365575, max_depth=3, subsample=0.7353933691138314 \n"
     ]
    },
    {
     "name": "stderr",
     "output_type": "stream",
     "text": [
      "C:\\Users\\ryosuke.nishioka\\Anaconda3\\lib\\site-packages\\sklearn\\metrics\\scorer.py:127: DeprecationWarning: Scoring method log_loss was renamed to neg_log_loss in version 0.18 and will be removed in 0.20.\n",
      "  sample_weight=sample_weight)\n"
     ]
    },
    {
     "name": "stdout",
     "output_type": "stream",
     "text": [
      "[CV]  colsample_bytree=0.7934350159365575, max_depth=3, subsample=0.7353933691138314 -   0.8s\n",
      "[CV] colsample_bytree=0.7934350159365575, max_depth=3, subsample=0.7353933691138314 \n"
     ]
    },
    {
     "name": "stderr",
     "output_type": "stream",
     "text": [
      "C:\\Users\\ryosuke.nishioka\\Anaconda3\\lib\\site-packages\\sklearn\\metrics\\scorer.py:127: DeprecationWarning: Scoring method log_loss was renamed to neg_log_loss in version 0.18 and will be removed in 0.20.\n",
      "  sample_weight=sample_weight)\n"
     ]
    },
    {
     "name": "stdout",
     "output_type": "stream",
     "text": [
      "[CV]  colsample_bytree=0.7934350159365575, max_depth=3, subsample=0.7353933691138314 -   0.8s\n",
      "[CV] colsample_bytree=0.7934350159365575, max_depth=3, subsample=0.7353933691138314 \n"
     ]
    },
    {
     "name": "stderr",
     "output_type": "stream",
     "text": [
      "C:\\Users\\ryosuke.nishioka\\Anaconda3\\lib\\site-packages\\sklearn\\metrics\\scorer.py:127: DeprecationWarning: Scoring method log_loss was renamed to neg_log_loss in version 0.18 and will be removed in 0.20.\n",
      "  sample_weight=sample_weight)\n"
     ]
    },
    {
     "name": "stdout",
     "output_type": "stream",
     "text": [
      "[CV]  colsample_bytree=0.7934350159365575, max_depth=3, subsample=0.7353933691138314 -   0.8s\n",
      "[CV] colsample_bytree=0.7934350159365575, max_depth=3, subsample=0.7353933691138314 \n"
     ]
    },
    {
     "name": "stderr",
     "output_type": "stream",
     "text": [
      "C:\\Users\\ryosuke.nishioka\\Anaconda3\\lib\\site-packages\\sklearn\\metrics\\scorer.py:127: DeprecationWarning: Scoring method log_loss was renamed to neg_log_loss in version 0.18 and will be removed in 0.20.\n",
      "  sample_weight=sample_weight)\n"
     ]
    },
    {
     "name": "stdout",
     "output_type": "stream",
     "text": [
      "[CV]  colsample_bytree=0.7934350159365575, max_depth=3, subsample=0.7353933691138314 -   0.8s\n",
      "[CV] colsample_bytree=0.7934350159365575, max_depth=3, subsample=0.7353933691138314 \n"
     ]
    },
    {
     "name": "stderr",
     "output_type": "stream",
     "text": [
      "C:\\Users\\ryosuke.nishioka\\Anaconda3\\lib\\site-packages\\sklearn\\metrics\\scorer.py:127: DeprecationWarning: Scoring method log_loss was renamed to neg_log_loss in version 0.18 and will be removed in 0.20.\n",
      "  sample_weight=sample_weight)\n"
     ]
    },
    {
     "name": "stdout",
     "output_type": "stream",
     "text": [
      "[CV]  colsample_bytree=0.7934350159365575, max_depth=3, subsample=0.7353933691138314 -   1.0s\n",
      "[CV] colsample_bytree=0.7934350159365575, max_depth=3, subsample=0.7353933691138314 \n"
     ]
    },
    {
     "name": "stderr",
     "output_type": "stream",
     "text": [
      "C:\\Users\\ryosuke.nishioka\\Anaconda3\\lib\\site-packages\\sklearn\\metrics\\scorer.py:127: DeprecationWarning: Scoring method log_loss was renamed to neg_log_loss in version 0.18 and will be removed in 0.20.\n",
      "  sample_weight=sample_weight)\n"
     ]
    },
    {
     "name": "stdout",
     "output_type": "stream",
     "text": [
      "[CV]  colsample_bytree=0.7934350159365575, max_depth=3, subsample=0.7353933691138314 -   0.8s\n",
      "[CV] colsample_bytree=0.7934350159365575, max_depth=3, subsample=0.7353933691138314 \n"
     ]
    },
    {
     "name": "stderr",
     "output_type": "stream",
     "text": [
      "C:\\Users\\ryosuke.nishioka\\Anaconda3\\lib\\site-packages\\sklearn\\metrics\\scorer.py:127: DeprecationWarning: Scoring method log_loss was renamed to neg_log_loss in version 0.18 and will be removed in 0.20.\n",
      "  sample_weight=sample_weight)\n"
     ]
    },
    {
     "name": "stdout",
     "output_type": "stream",
     "text": [
      "[CV]  colsample_bytree=0.7934350159365575, max_depth=3, subsample=0.7353933691138314 -   0.8s\n",
      "[CV] colsample_bytree=0.7934350159365575, max_depth=3, subsample=0.7353933691138314 \n"
     ]
    },
    {
     "name": "stderr",
     "output_type": "stream",
     "text": [
      "C:\\Users\\ryosuke.nishioka\\Anaconda3\\lib\\site-packages\\sklearn\\metrics\\scorer.py:127: DeprecationWarning: Scoring method log_loss was renamed to neg_log_loss in version 0.18 and will be removed in 0.20.\n",
      "  sample_weight=sample_weight)\n"
     ]
    },
    {
     "name": "stdout",
     "output_type": "stream",
     "text": [
      "[CV]  colsample_bytree=0.7934350159365575, max_depth=3, subsample=0.7353933691138314 -   0.8s\n",
      "[CV] colsample_bytree=0.7934350159365575, max_depth=3, subsample=0.7353933691138314 \n"
     ]
    },
    {
     "name": "stderr",
     "output_type": "stream",
     "text": [
      "C:\\Users\\ryosuke.nishioka\\Anaconda3\\lib\\site-packages\\sklearn\\metrics\\scorer.py:127: DeprecationWarning: Scoring method log_loss was renamed to neg_log_loss in version 0.18 and will be removed in 0.20.\n",
      "  sample_weight=sample_weight)\n"
     ]
    },
    {
     "name": "stdout",
     "output_type": "stream",
     "text": [
      "[CV]  colsample_bytree=0.7934350159365575, max_depth=3, subsample=0.7353933691138314 -   0.8s\n",
      "[CV] colsample_bytree=0.7934350159365575, max_depth=3, subsample=0.7353933691138314 \n"
     ]
    },
    {
     "name": "stderr",
     "output_type": "stream",
     "text": [
      "C:\\Users\\ryosuke.nishioka\\Anaconda3\\lib\\site-packages\\sklearn\\metrics\\scorer.py:127: DeprecationWarning: Scoring method log_loss was renamed to neg_log_loss in version 0.18 and will be removed in 0.20.\n",
      "  sample_weight=sample_weight)\n"
     ]
    },
    {
     "name": "stdout",
     "output_type": "stream",
     "text": [
      "[CV]  colsample_bytree=0.7934350159365575, max_depth=3, subsample=0.7353933691138314 -   0.8s\n",
      "[CV] colsample_bytree=0.8081308751873519, max_depth=5, subsample=0.9759576608101466 \n"
     ]
    },
    {
     "name": "stderr",
     "output_type": "stream",
     "text": [
      "C:\\Users\\ryosuke.nishioka\\Anaconda3\\lib\\site-packages\\sklearn\\metrics\\scorer.py:127: DeprecationWarning: Scoring method log_loss was renamed to neg_log_loss in version 0.18 and will be removed in 0.20.\n",
      "  sample_weight=sample_weight)\n"
     ]
    },
    {
     "name": "stdout",
     "output_type": "stream",
     "text": [
      "[CV]  colsample_bytree=0.8081308751873519, max_depth=5, subsample=0.9759576608101466 -   1.1s\n",
      "[CV] colsample_bytree=0.8081308751873519, max_depth=5, subsample=0.9759576608101466 \n"
     ]
    },
    {
     "name": "stderr",
     "output_type": "stream",
     "text": [
      "C:\\Users\\ryosuke.nishioka\\Anaconda3\\lib\\site-packages\\sklearn\\metrics\\scorer.py:127: DeprecationWarning: Scoring method log_loss was renamed to neg_log_loss in version 0.18 and will be removed in 0.20.\n",
      "  sample_weight=sample_weight)\n"
     ]
    },
    {
     "name": "stdout",
     "output_type": "stream",
     "text": [
      "[CV]  colsample_bytree=0.8081308751873519, max_depth=5, subsample=0.9759576608101466 -   1.1s\n",
      "[CV] colsample_bytree=0.8081308751873519, max_depth=5, subsample=0.9759576608101466 \n"
     ]
    },
    {
     "name": "stderr",
     "output_type": "stream",
     "text": [
      "C:\\Users\\ryosuke.nishioka\\Anaconda3\\lib\\site-packages\\sklearn\\metrics\\scorer.py:127: DeprecationWarning: Scoring method log_loss was renamed to neg_log_loss in version 0.18 and will be removed in 0.20.\n",
      "  sample_weight=sample_weight)\n"
     ]
    },
    {
     "name": "stdout",
     "output_type": "stream",
     "text": [
      "[CV]  colsample_bytree=0.8081308751873519, max_depth=5, subsample=0.9759576608101466 -   1.4s\n",
      "[CV] colsample_bytree=0.8081308751873519, max_depth=5, subsample=0.9759576608101466 \n"
     ]
    },
    {
     "name": "stderr",
     "output_type": "stream",
     "text": [
      "C:\\Users\\ryosuke.nishioka\\Anaconda3\\lib\\site-packages\\sklearn\\metrics\\scorer.py:127: DeprecationWarning: Scoring method log_loss was renamed to neg_log_loss in version 0.18 and will be removed in 0.20.\n",
      "  sample_weight=sample_weight)\n"
     ]
    },
    {
     "name": "stdout",
     "output_type": "stream",
     "text": [
      "[CV]  colsample_bytree=0.8081308751873519, max_depth=5, subsample=0.9759576608101466 -   1.2s\n",
      "[CV] colsample_bytree=0.8081308751873519, max_depth=5, subsample=0.9759576608101466 \n"
     ]
    },
    {
     "name": "stderr",
     "output_type": "stream",
     "text": [
      "C:\\Users\\ryosuke.nishioka\\Anaconda3\\lib\\site-packages\\sklearn\\metrics\\scorer.py:127: DeprecationWarning: Scoring method log_loss was renamed to neg_log_loss in version 0.18 and will be removed in 0.20.\n",
      "  sample_weight=sample_weight)\n"
     ]
    },
    {
     "name": "stdout",
     "output_type": "stream",
     "text": [
      "[CV]  colsample_bytree=0.8081308751873519, max_depth=5, subsample=0.9759576608101466 -   1.2s\n",
      "[CV] colsample_bytree=0.8081308751873519, max_depth=5, subsample=0.9759576608101466 \n"
     ]
    },
    {
     "name": "stderr",
     "output_type": "stream",
     "text": [
      "C:\\Users\\ryosuke.nishioka\\Anaconda3\\lib\\site-packages\\sklearn\\metrics\\scorer.py:127: DeprecationWarning: Scoring method log_loss was renamed to neg_log_loss in version 0.18 and will be removed in 0.20.\n",
      "  sample_weight=sample_weight)\n"
     ]
    },
    {
     "name": "stdout",
     "output_type": "stream",
     "text": [
      "[CV]  colsample_bytree=0.8081308751873519, max_depth=5, subsample=0.9759576608101466 -   1.4s\n",
      "[CV] colsample_bytree=0.8081308751873519, max_depth=5, subsample=0.9759576608101466 \n"
     ]
    },
    {
     "name": "stderr",
     "output_type": "stream",
     "text": [
      "C:\\Users\\ryosuke.nishioka\\Anaconda3\\lib\\site-packages\\sklearn\\metrics\\scorer.py:127: DeprecationWarning: Scoring method log_loss was renamed to neg_log_loss in version 0.18 and will be removed in 0.20.\n",
      "  sample_weight=sample_weight)\n"
     ]
    },
    {
     "name": "stdout",
     "output_type": "stream",
     "text": [
      "[CV]  colsample_bytree=0.8081308751873519, max_depth=5, subsample=0.9759576608101466 -   1.3s\n",
      "[CV] colsample_bytree=0.8081308751873519, max_depth=5, subsample=0.9759576608101466 \n"
     ]
    },
    {
     "name": "stderr",
     "output_type": "stream",
     "text": [
      "C:\\Users\\ryosuke.nishioka\\Anaconda3\\lib\\site-packages\\sklearn\\metrics\\scorer.py:127: DeprecationWarning: Scoring method log_loss was renamed to neg_log_loss in version 0.18 and will be removed in 0.20.\n",
      "  sample_weight=sample_weight)\n"
     ]
    },
    {
     "name": "stdout",
     "output_type": "stream",
     "text": [
      "[CV]  colsample_bytree=0.8081308751873519, max_depth=5, subsample=0.9759576608101466 -   1.4s\n",
      "[CV] colsample_bytree=0.8081308751873519, max_depth=5, subsample=0.9759576608101466 \n"
     ]
    },
    {
     "name": "stderr",
     "output_type": "stream",
     "text": [
      "C:\\Users\\ryosuke.nishioka\\Anaconda3\\lib\\site-packages\\sklearn\\metrics\\scorer.py:127: DeprecationWarning: Scoring method log_loss was renamed to neg_log_loss in version 0.18 and will be removed in 0.20.\n",
      "  sample_weight=sample_weight)\n"
     ]
    },
    {
     "name": "stdout",
     "output_type": "stream",
     "text": [
      "[CV]  colsample_bytree=0.8081308751873519, max_depth=5, subsample=0.9759576608101466 -   1.4s\n",
      "[CV] colsample_bytree=0.8081308751873519, max_depth=5, subsample=0.9759576608101466 \n"
     ]
    },
    {
     "name": "stderr",
     "output_type": "stream",
     "text": [
      "C:\\Users\\ryosuke.nishioka\\Anaconda3\\lib\\site-packages\\sklearn\\metrics\\scorer.py:127: DeprecationWarning: Scoring method log_loss was renamed to neg_log_loss in version 0.18 and will be removed in 0.20.\n",
      "  sample_weight=sample_weight)\n"
     ]
    },
    {
     "name": "stdout",
     "output_type": "stream",
     "text": [
      "[CV]  colsample_bytree=0.8081308751873519, max_depth=5, subsample=0.9759576608101466 -   1.4s\n",
      "[CV] colsample_bytree=0.8521643306224039, max_depth=10, subsample=0.5687985342437354 \n"
     ]
    },
    {
     "name": "stderr",
     "output_type": "stream",
     "text": [
      "C:\\Users\\ryosuke.nishioka\\Anaconda3\\lib\\site-packages\\sklearn\\metrics\\scorer.py:127: DeprecationWarning: Scoring method log_loss was renamed to neg_log_loss in version 0.18 and will be removed in 0.20.\n",
      "  sample_weight=sample_weight)\n"
     ]
    },
    {
     "name": "stdout",
     "output_type": "stream",
     "text": [
      "[CV]  colsample_bytree=0.8521643306224039, max_depth=10, subsample=0.5687985342437354 -   3.8s\n",
      "[CV] colsample_bytree=0.8521643306224039, max_depth=10, subsample=0.5687985342437354 \n"
     ]
    },
    {
     "name": "stderr",
     "output_type": "stream",
     "text": [
      "C:\\Users\\ryosuke.nishioka\\Anaconda3\\lib\\site-packages\\sklearn\\metrics\\scorer.py:127: DeprecationWarning: Scoring method log_loss was renamed to neg_log_loss in version 0.18 and will be removed in 0.20.\n",
      "  sample_weight=sample_weight)\n"
     ]
    },
    {
     "name": "stdout",
     "output_type": "stream",
     "text": [
      "[CV]  colsample_bytree=0.8521643306224039, max_depth=10, subsample=0.5687985342437354 -   4.5s\n",
      "[CV] colsample_bytree=0.8521643306224039, max_depth=10, subsample=0.5687985342437354 \n"
     ]
    },
    {
     "name": "stderr",
     "output_type": "stream",
     "text": [
      "C:\\Users\\ryosuke.nishioka\\Anaconda3\\lib\\site-packages\\sklearn\\metrics\\scorer.py:127: DeprecationWarning: Scoring method log_loss was renamed to neg_log_loss in version 0.18 and will be removed in 0.20.\n",
      "  sample_weight=sample_weight)\n"
     ]
    },
    {
     "name": "stdout",
     "output_type": "stream",
     "text": [
      "[CV]  colsample_bytree=0.8521643306224039, max_depth=10, subsample=0.5687985342437354 -   4.6s\n",
      "[CV] colsample_bytree=0.8521643306224039, max_depth=10, subsample=0.5687985342437354 \n"
     ]
    },
    {
     "name": "stderr",
     "output_type": "stream",
     "text": [
      "C:\\Users\\ryosuke.nishioka\\Anaconda3\\lib\\site-packages\\sklearn\\metrics\\scorer.py:127: DeprecationWarning: Scoring method log_loss was renamed to neg_log_loss in version 0.18 and will be removed in 0.20.\n",
      "  sample_weight=sample_weight)\n"
     ]
    },
    {
     "name": "stdout",
     "output_type": "stream",
     "text": [
      "[CV]  colsample_bytree=0.8521643306224039, max_depth=10, subsample=0.5687985342437354 -   4.1s\n",
      "[CV] colsample_bytree=0.8521643306224039, max_depth=10, subsample=0.5687985342437354 \n"
     ]
    },
    {
     "name": "stderr",
     "output_type": "stream",
     "text": [
      "C:\\Users\\ryosuke.nishioka\\Anaconda3\\lib\\site-packages\\sklearn\\metrics\\scorer.py:127: DeprecationWarning: Scoring method log_loss was renamed to neg_log_loss in version 0.18 and will be removed in 0.20.\n",
      "  sample_weight=sample_weight)\n"
     ]
    },
    {
     "name": "stdout",
     "output_type": "stream",
     "text": [
      "[CV]  colsample_bytree=0.8521643306224039, max_depth=10, subsample=0.5687985342437354 -   4.2s\n",
      "[CV] colsample_bytree=0.8521643306224039, max_depth=10, subsample=0.5687985342437354 \n"
     ]
    },
    {
     "name": "stderr",
     "output_type": "stream",
     "text": [
      "C:\\Users\\ryosuke.nishioka\\Anaconda3\\lib\\site-packages\\sklearn\\metrics\\scorer.py:127: DeprecationWarning: Scoring method log_loss was renamed to neg_log_loss in version 0.18 and will be removed in 0.20.\n",
      "  sample_weight=sample_weight)\n"
     ]
    },
    {
     "name": "stdout",
     "output_type": "stream",
     "text": [
      "[CV]  colsample_bytree=0.8521643306224039, max_depth=10, subsample=0.5687985342437354 -   4.0s\n",
      "[CV] colsample_bytree=0.8521643306224039, max_depth=10, subsample=0.5687985342437354 \n"
     ]
    },
    {
     "name": "stderr",
     "output_type": "stream",
     "text": [
      "C:\\Users\\ryosuke.nishioka\\Anaconda3\\lib\\site-packages\\sklearn\\metrics\\scorer.py:127: DeprecationWarning: Scoring method log_loss was renamed to neg_log_loss in version 0.18 and will be removed in 0.20.\n",
      "  sample_weight=sample_weight)\n"
     ]
    },
    {
     "name": "stdout",
     "output_type": "stream",
     "text": [
      "[CV]  colsample_bytree=0.8521643306224039, max_depth=10, subsample=0.5687985342437354 -   4.2s\n",
      "[CV] colsample_bytree=0.8521643306224039, max_depth=10, subsample=0.5687985342437354 \n"
     ]
    },
    {
     "name": "stderr",
     "output_type": "stream",
     "text": [
      "C:\\Users\\ryosuke.nishioka\\Anaconda3\\lib\\site-packages\\sklearn\\metrics\\scorer.py:127: DeprecationWarning: Scoring method log_loss was renamed to neg_log_loss in version 0.18 and will be removed in 0.20.\n",
      "  sample_weight=sample_weight)\n"
     ]
    },
    {
     "name": "stdout",
     "output_type": "stream",
     "text": [
      "[CV]  colsample_bytree=0.8521643306224039, max_depth=10, subsample=0.5687985342437354 -   4.2s\n",
      "[CV] colsample_bytree=0.8521643306224039, max_depth=10, subsample=0.5687985342437354 \n"
     ]
    },
    {
     "name": "stderr",
     "output_type": "stream",
     "text": [
      "C:\\Users\\ryosuke.nishioka\\Anaconda3\\lib\\site-packages\\sklearn\\metrics\\scorer.py:127: DeprecationWarning: Scoring method log_loss was renamed to neg_log_loss in version 0.18 and will be removed in 0.20.\n",
      "  sample_weight=sample_weight)\n"
     ]
    },
    {
     "name": "stdout",
     "output_type": "stream",
     "text": [
      "[CV]  colsample_bytree=0.8521643306224039, max_depth=10, subsample=0.5687985342437354 -   4.0s\n",
      "[CV] colsample_bytree=0.8521643306224039, max_depth=10, subsample=0.5687985342437354 \n"
     ]
    },
    {
     "name": "stderr",
     "output_type": "stream",
     "text": [
      "C:\\Users\\ryosuke.nishioka\\Anaconda3\\lib\\site-packages\\sklearn\\metrics\\scorer.py:127: DeprecationWarning: Scoring method log_loss was renamed to neg_log_loss in version 0.18 and will be removed in 0.20.\n",
      "  sample_weight=sample_weight)\n"
     ]
    },
    {
     "name": "stdout",
     "output_type": "stream",
     "text": [
      "[CV]  colsample_bytree=0.8521643306224039, max_depth=10, subsample=0.5687985342437354 -   3.7s\n",
      "[CV] colsample_bytree=0.6964494930454144, max_depth=3, subsample=0.9588871607811174 \n"
     ]
    },
    {
     "name": "stderr",
     "output_type": "stream",
     "text": [
      "C:\\Users\\ryosuke.nishioka\\Anaconda3\\lib\\site-packages\\sklearn\\metrics\\scorer.py:127: DeprecationWarning: Scoring method log_loss was renamed to neg_log_loss in version 0.18 and will be removed in 0.20.\n",
      "  sample_weight=sample_weight)\n"
     ]
    },
    {
     "name": "stdout",
     "output_type": "stream",
     "text": [
      "[CV]  colsample_bytree=0.6964494930454144, max_depth=3, subsample=0.9588871607811174 -   0.7s\n",
      "[CV] colsample_bytree=0.6964494930454144, max_depth=3, subsample=0.9588871607811174 \n"
     ]
    },
    {
     "name": "stderr",
     "output_type": "stream",
     "text": [
      "C:\\Users\\ryosuke.nishioka\\Anaconda3\\lib\\site-packages\\sklearn\\metrics\\scorer.py:127: DeprecationWarning: Scoring method log_loss was renamed to neg_log_loss in version 0.18 and will be removed in 0.20.\n",
      "  sample_weight=sample_weight)\n"
     ]
    },
    {
     "name": "stdout",
     "output_type": "stream",
     "text": [
      "[CV]  colsample_bytree=0.6964494930454144, max_depth=3, subsample=0.9588871607811174 -   0.9s\n",
      "[CV] colsample_bytree=0.6964494930454144, max_depth=3, subsample=0.9588871607811174 \n"
     ]
    },
    {
     "name": "stderr",
     "output_type": "stream",
     "text": [
      "C:\\Users\\ryosuke.nishioka\\Anaconda3\\lib\\site-packages\\sklearn\\metrics\\scorer.py:127: DeprecationWarning: Scoring method log_loss was renamed to neg_log_loss in version 0.18 and will be removed in 0.20.\n",
      "  sample_weight=sample_weight)\n"
     ]
    },
    {
     "name": "stdout",
     "output_type": "stream",
     "text": [
      "[CV]  colsample_bytree=0.6964494930454144, max_depth=3, subsample=0.9588871607811174 -   0.7s\n",
      "[CV] colsample_bytree=0.6964494930454144, max_depth=3, subsample=0.9588871607811174 \n"
     ]
    },
    {
     "name": "stderr",
     "output_type": "stream",
     "text": [
      "C:\\Users\\ryosuke.nishioka\\Anaconda3\\lib\\site-packages\\sklearn\\metrics\\scorer.py:127: DeprecationWarning: Scoring method log_loss was renamed to neg_log_loss in version 0.18 and will be removed in 0.20.\n",
      "  sample_weight=sample_weight)\n"
     ]
    },
    {
     "name": "stdout",
     "output_type": "stream",
     "text": [
      "[CV]  colsample_bytree=0.6964494930454144, max_depth=3, subsample=0.9588871607811174 -   0.6s\n",
      "[CV] colsample_bytree=0.6964494930454144, max_depth=3, subsample=0.9588871607811174 \n"
     ]
    },
    {
     "name": "stderr",
     "output_type": "stream",
     "text": [
      "C:\\Users\\ryosuke.nishioka\\Anaconda3\\lib\\site-packages\\sklearn\\metrics\\scorer.py:127: DeprecationWarning: Scoring method log_loss was renamed to neg_log_loss in version 0.18 and will be removed in 0.20.\n",
      "  sample_weight=sample_weight)\n"
     ]
    },
    {
     "name": "stdout",
     "output_type": "stream",
     "text": [
      "[CV]  colsample_bytree=0.6964494930454144, max_depth=3, subsample=0.9588871607811174 -   0.6s\n",
      "[CV] colsample_bytree=0.6964494930454144, max_depth=3, subsample=0.9588871607811174 \n"
     ]
    },
    {
     "name": "stderr",
     "output_type": "stream",
     "text": [
      "C:\\Users\\ryosuke.nishioka\\Anaconda3\\lib\\site-packages\\sklearn\\metrics\\scorer.py:127: DeprecationWarning: Scoring method log_loss was renamed to neg_log_loss in version 0.18 and will be removed in 0.20.\n",
      "  sample_weight=sample_weight)\n"
     ]
    },
    {
     "name": "stdout",
     "output_type": "stream",
     "text": [
      "[CV]  colsample_bytree=0.6964494930454144, max_depth=3, subsample=0.9588871607811174 -   0.6s\n",
      "[CV] colsample_bytree=0.6964494930454144, max_depth=3, subsample=0.9588871607811174 \n"
     ]
    },
    {
     "name": "stderr",
     "output_type": "stream",
     "text": [
      "C:\\Users\\ryosuke.nishioka\\Anaconda3\\lib\\site-packages\\sklearn\\metrics\\scorer.py:127: DeprecationWarning: Scoring method log_loss was renamed to neg_log_loss in version 0.18 and will be removed in 0.20.\n",
      "  sample_weight=sample_weight)\n"
     ]
    },
    {
     "name": "stdout",
     "output_type": "stream",
     "text": [
      "[CV]  colsample_bytree=0.6964494930454144, max_depth=3, subsample=0.9588871607811174 -   0.7s\n",
      "[CV] colsample_bytree=0.6964494930454144, max_depth=3, subsample=0.9588871607811174 \n"
     ]
    },
    {
     "name": "stderr",
     "output_type": "stream",
     "text": [
      "C:\\Users\\ryosuke.nishioka\\Anaconda3\\lib\\site-packages\\sklearn\\metrics\\scorer.py:127: DeprecationWarning: Scoring method log_loss was renamed to neg_log_loss in version 0.18 and will be removed in 0.20.\n",
      "  sample_weight=sample_weight)\n"
     ]
    },
    {
     "name": "stdout",
     "output_type": "stream",
     "text": [
      "[CV]  colsample_bytree=0.6964494930454144, max_depth=3, subsample=0.9588871607811174 -   0.7s\n",
      "[CV] colsample_bytree=0.6964494930454144, max_depth=3, subsample=0.9588871607811174 \n"
     ]
    },
    {
     "name": "stderr",
     "output_type": "stream",
     "text": [
      "C:\\Users\\ryosuke.nishioka\\Anaconda3\\lib\\site-packages\\sklearn\\metrics\\scorer.py:127: DeprecationWarning: Scoring method log_loss was renamed to neg_log_loss in version 0.18 and will be removed in 0.20.\n",
      "  sample_weight=sample_weight)\n"
     ]
    },
    {
     "name": "stdout",
     "output_type": "stream",
     "text": [
      "[CV]  colsample_bytree=0.6964494930454144, max_depth=3, subsample=0.9588871607811174 -   0.7s\n",
      "[CV] colsample_bytree=0.6964494930454144, max_depth=3, subsample=0.9588871607811174 \n"
     ]
    },
    {
     "name": "stderr",
     "output_type": "stream",
     "text": [
      "C:\\Users\\ryosuke.nishioka\\Anaconda3\\lib\\site-packages\\sklearn\\metrics\\scorer.py:127: DeprecationWarning: Scoring method log_loss was renamed to neg_log_loss in version 0.18 and will be removed in 0.20.\n",
      "  sample_weight=sample_weight)\n"
     ]
    },
    {
     "name": "stdout",
     "output_type": "stream",
     "text": [
      "[CV]  colsample_bytree=0.6964494930454144, max_depth=3, subsample=0.9588871607811174 -   0.7s\n",
      "[CV] colsample_bytree=0.6071535446201486, max_depth=8, subsample=0.8150126705927689 \n"
     ]
    },
    {
     "name": "stderr",
     "output_type": "stream",
     "text": [
      "C:\\Users\\ryosuke.nishioka\\Anaconda3\\lib\\site-packages\\sklearn\\metrics\\scorer.py:127: DeprecationWarning: Scoring method log_loss was renamed to neg_log_loss in version 0.18 and will be removed in 0.20.\n",
      "  sample_weight=sample_weight)\n"
     ]
    },
    {
     "name": "stdout",
     "output_type": "stream",
     "text": [
      "[CV]  colsample_bytree=0.6071535446201486, max_depth=8, subsample=0.8150126705927689 -   1.8s\n",
      "[CV] colsample_bytree=0.6071535446201486, max_depth=8, subsample=0.8150126705927689 \n"
     ]
    },
    {
     "name": "stderr",
     "output_type": "stream",
     "text": [
      "C:\\Users\\ryosuke.nishioka\\Anaconda3\\lib\\site-packages\\sklearn\\metrics\\scorer.py:127: DeprecationWarning: Scoring method log_loss was renamed to neg_log_loss in version 0.18 and will be removed in 0.20.\n",
      "  sample_weight=sample_weight)\n"
     ]
    },
    {
     "name": "stdout",
     "output_type": "stream",
     "text": [
      "[CV]  colsample_bytree=0.6071535446201486, max_depth=8, subsample=0.8150126705927689 -   1.8s\n",
      "[CV] colsample_bytree=0.6071535446201486, max_depth=8, subsample=0.8150126705927689 \n"
     ]
    },
    {
     "name": "stderr",
     "output_type": "stream",
     "text": [
      "C:\\Users\\ryosuke.nishioka\\Anaconda3\\lib\\site-packages\\sklearn\\metrics\\scorer.py:127: DeprecationWarning: Scoring method log_loss was renamed to neg_log_loss in version 0.18 and will be removed in 0.20.\n",
      "  sample_weight=sample_weight)\n"
     ]
    },
    {
     "name": "stdout",
     "output_type": "stream",
     "text": [
      "[CV]  colsample_bytree=0.6071535446201486, max_depth=8, subsample=0.8150126705927689 -   1.9s\n",
      "[CV] colsample_bytree=0.6071535446201486, max_depth=8, subsample=0.8150126705927689 \n"
     ]
    },
    {
     "name": "stderr",
     "output_type": "stream",
     "text": [
      "C:\\Users\\ryosuke.nishioka\\Anaconda3\\lib\\site-packages\\sklearn\\metrics\\scorer.py:127: DeprecationWarning: Scoring method log_loss was renamed to neg_log_loss in version 0.18 and will be removed in 0.20.\n",
      "  sample_weight=sample_weight)\n"
     ]
    },
    {
     "name": "stdout",
     "output_type": "stream",
     "text": [
      "[CV]  colsample_bytree=0.6071535446201486, max_depth=8, subsample=0.8150126705927689 -   1.9s\n",
      "[CV] colsample_bytree=0.6071535446201486, max_depth=8, subsample=0.8150126705927689 \n"
     ]
    },
    {
     "name": "stderr",
     "output_type": "stream",
     "text": [
      "C:\\Users\\ryosuke.nishioka\\Anaconda3\\lib\\site-packages\\sklearn\\metrics\\scorer.py:127: DeprecationWarning: Scoring method log_loss was renamed to neg_log_loss in version 0.18 and will be removed in 0.20.\n",
      "  sample_weight=sample_weight)\n"
     ]
    },
    {
     "name": "stdout",
     "output_type": "stream",
     "text": [
      "[CV]  colsample_bytree=0.6071535446201486, max_depth=8, subsample=0.8150126705927689 -   1.9s\n",
      "[CV] colsample_bytree=0.6071535446201486, max_depth=8, subsample=0.8150126705927689 \n"
     ]
    },
    {
     "name": "stderr",
     "output_type": "stream",
     "text": [
      "C:\\Users\\ryosuke.nishioka\\Anaconda3\\lib\\site-packages\\sklearn\\metrics\\scorer.py:127: DeprecationWarning: Scoring method log_loss was renamed to neg_log_loss in version 0.18 and will be removed in 0.20.\n",
      "  sample_weight=sample_weight)\n"
     ]
    },
    {
     "name": "stdout",
     "output_type": "stream",
     "text": [
      "[CV]  colsample_bytree=0.6071535446201486, max_depth=8, subsample=0.8150126705927689 -   1.7s\n",
      "[CV] colsample_bytree=0.6071535446201486, max_depth=8, subsample=0.8150126705927689 \n"
     ]
    },
    {
     "name": "stderr",
     "output_type": "stream",
     "text": [
      "C:\\Users\\ryosuke.nishioka\\Anaconda3\\lib\\site-packages\\sklearn\\metrics\\scorer.py:127: DeprecationWarning: Scoring method log_loss was renamed to neg_log_loss in version 0.18 and will be removed in 0.20.\n",
      "  sample_weight=sample_weight)\n"
     ]
    },
    {
     "name": "stdout",
     "output_type": "stream",
     "text": [
      "[CV]  colsample_bytree=0.6071535446201486, max_depth=8, subsample=0.8150126705927689 -   1.7s\n",
      "[CV] colsample_bytree=0.6071535446201486, max_depth=8, subsample=0.8150126705927689 \n"
     ]
    },
    {
     "name": "stderr",
     "output_type": "stream",
     "text": [
      "C:\\Users\\ryosuke.nishioka\\Anaconda3\\lib\\site-packages\\sklearn\\metrics\\scorer.py:127: DeprecationWarning: Scoring method log_loss was renamed to neg_log_loss in version 0.18 and will be removed in 0.20.\n",
      "  sample_weight=sample_weight)\n"
     ]
    },
    {
     "name": "stdout",
     "output_type": "stream",
     "text": [
      "[CV]  colsample_bytree=0.6071535446201486, max_depth=8, subsample=0.8150126705927689 -   1.8s\n",
      "[CV] colsample_bytree=0.6071535446201486, max_depth=8, subsample=0.8150126705927689 \n"
     ]
    },
    {
     "name": "stderr",
     "output_type": "stream",
     "text": [
      "C:\\Users\\ryosuke.nishioka\\Anaconda3\\lib\\site-packages\\sklearn\\metrics\\scorer.py:127: DeprecationWarning: Scoring method log_loss was renamed to neg_log_loss in version 0.18 and will be removed in 0.20.\n",
      "  sample_weight=sample_weight)\n"
     ]
    },
    {
     "name": "stdout",
     "output_type": "stream",
     "text": [
      "[CV]  colsample_bytree=0.6071535446201486, max_depth=8, subsample=0.8150126705927689 -   1.9s\n",
      "[CV] colsample_bytree=0.6071535446201486, max_depth=8, subsample=0.8150126705927689 \n"
     ]
    },
    {
     "name": "stderr",
     "output_type": "stream",
     "text": [
      "C:\\Users\\ryosuke.nishioka\\Anaconda3\\lib\\site-packages\\sklearn\\metrics\\scorer.py:127: DeprecationWarning: Scoring method log_loss was renamed to neg_log_loss in version 0.18 and will be removed in 0.20.\n",
      "  sample_weight=sample_weight)\n"
     ]
    },
    {
     "name": "stdout",
     "output_type": "stream",
     "text": [
      "[CV]  colsample_bytree=0.6071535446201486, max_depth=8, subsample=0.8150126705927689 -   1.8s\n",
      "[CV] colsample_bytree=0.8445332572317009, max_depth=1, subsample=0.8336976837716061 \n"
     ]
    },
    {
     "name": "stderr",
     "output_type": "stream",
     "text": [
      "C:\\Users\\ryosuke.nishioka\\Anaconda3\\lib\\site-packages\\sklearn\\metrics\\scorer.py:127: DeprecationWarning: Scoring method log_loss was renamed to neg_log_loss in version 0.18 and will be removed in 0.20.\n",
      "  sample_weight=sample_weight)\n"
     ]
    },
    {
     "name": "stdout",
     "output_type": "stream",
     "text": [
      "[CV]  colsample_bytree=0.8445332572317009, max_depth=1, subsample=0.8336976837716061 -   0.3s\n",
      "[CV] colsample_bytree=0.8445332572317009, max_depth=1, subsample=0.8336976837716061 \n"
     ]
    },
    {
     "name": "stderr",
     "output_type": "stream",
     "text": [
      "C:\\Users\\ryosuke.nishioka\\Anaconda3\\lib\\site-packages\\sklearn\\metrics\\scorer.py:127: DeprecationWarning: Scoring method log_loss was renamed to neg_log_loss in version 0.18 and will be removed in 0.20.\n",
      "  sample_weight=sample_weight)\n"
     ]
    },
    {
     "name": "stdout",
     "output_type": "stream",
     "text": [
      "[CV]  colsample_bytree=0.8445332572317009, max_depth=1, subsample=0.8336976837716061 -   0.3s\n",
      "[CV] colsample_bytree=0.8445332572317009, max_depth=1, subsample=0.8336976837716061 \n"
     ]
    },
    {
     "name": "stderr",
     "output_type": "stream",
     "text": [
      "C:\\Users\\ryosuke.nishioka\\Anaconda3\\lib\\site-packages\\sklearn\\metrics\\scorer.py:127: DeprecationWarning: Scoring method log_loss was renamed to neg_log_loss in version 0.18 and will be removed in 0.20.\n",
      "  sample_weight=sample_weight)\n"
     ]
    },
    {
     "name": "stdout",
     "output_type": "stream",
     "text": [
      "[CV]  colsample_bytree=0.8445332572317009, max_depth=1, subsample=0.8336976837716061 -   0.4s\n",
      "[CV] colsample_bytree=0.8445332572317009, max_depth=1, subsample=0.8336976837716061 \n"
     ]
    },
    {
     "name": "stderr",
     "output_type": "stream",
     "text": [
      "C:\\Users\\ryosuke.nishioka\\Anaconda3\\lib\\site-packages\\sklearn\\metrics\\scorer.py:127: DeprecationWarning: Scoring method log_loss was renamed to neg_log_loss in version 0.18 and will be removed in 0.20.\n",
      "  sample_weight=sample_weight)\n"
     ]
    },
    {
     "name": "stdout",
     "output_type": "stream",
     "text": [
      "[CV]  colsample_bytree=0.8445332572317009, max_depth=1, subsample=0.8336976837716061 -   0.4s\n",
      "[CV] colsample_bytree=0.8445332572317009, max_depth=1, subsample=0.8336976837716061 \n"
     ]
    },
    {
     "name": "stderr",
     "output_type": "stream",
     "text": [
      "C:\\Users\\ryosuke.nishioka\\Anaconda3\\lib\\site-packages\\sklearn\\metrics\\scorer.py:127: DeprecationWarning: Scoring method log_loss was renamed to neg_log_loss in version 0.18 and will be removed in 0.20.\n",
      "  sample_weight=sample_weight)\n"
     ]
    },
    {
     "name": "stdout",
     "output_type": "stream",
     "text": [
      "[CV]  colsample_bytree=0.8445332572317009, max_depth=1, subsample=0.8336976837716061 -   0.4s\n",
      "[CV] colsample_bytree=0.8445332572317009, max_depth=1, subsample=0.8336976837716061 \n"
     ]
    },
    {
     "name": "stderr",
     "output_type": "stream",
     "text": [
      "C:\\Users\\ryosuke.nishioka\\Anaconda3\\lib\\site-packages\\sklearn\\metrics\\scorer.py:127: DeprecationWarning: Scoring method log_loss was renamed to neg_log_loss in version 0.18 and will be removed in 0.20.\n",
      "  sample_weight=sample_weight)\n"
     ]
    },
    {
     "name": "stdout",
     "output_type": "stream",
     "text": [
      "[CV]  colsample_bytree=0.8445332572317009, max_depth=1, subsample=0.8336976837716061 -   0.3s\n",
      "[CV] colsample_bytree=0.8445332572317009, max_depth=1, subsample=0.8336976837716061 \n"
     ]
    },
    {
     "name": "stderr",
     "output_type": "stream",
     "text": [
      "C:\\Users\\ryosuke.nishioka\\Anaconda3\\lib\\site-packages\\sklearn\\metrics\\scorer.py:127: DeprecationWarning: Scoring method log_loss was renamed to neg_log_loss in version 0.18 and will be removed in 0.20.\n",
      "  sample_weight=sample_weight)\n"
     ]
    },
    {
     "name": "stdout",
     "output_type": "stream",
     "text": [
      "[CV]  colsample_bytree=0.8445332572317009, max_depth=1, subsample=0.8336976837716061 -   0.4s\n",
      "[CV] colsample_bytree=0.8445332572317009, max_depth=1, subsample=0.8336976837716061 \n"
     ]
    },
    {
     "name": "stderr",
     "output_type": "stream",
     "text": [
      "C:\\Users\\ryosuke.nishioka\\Anaconda3\\lib\\site-packages\\sklearn\\metrics\\scorer.py:127: DeprecationWarning: Scoring method log_loss was renamed to neg_log_loss in version 0.18 and will be removed in 0.20.\n",
      "  sample_weight=sample_weight)\n"
     ]
    },
    {
     "name": "stdout",
     "output_type": "stream",
     "text": [
      "[CV]  colsample_bytree=0.8445332572317009, max_depth=1, subsample=0.8336976837716061 -   0.3s\n",
      "[CV] colsample_bytree=0.8445332572317009, max_depth=1, subsample=0.8336976837716061 \n"
     ]
    },
    {
     "name": "stderr",
     "output_type": "stream",
     "text": [
      "C:\\Users\\ryosuke.nishioka\\Anaconda3\\lib\\site-packages\\sklearn\\metrics\\scorer.py:127: DeprecationWarning: Scoring method log_loss was renamed to neg_log_loss in version 0.18 and will be removed in 0.20.\n",
      "  sample_weight=sample_weight)\n"
     ]
    },
    {
     "name": "stdout",
     "output_type": "stream",
     "text": [
      "[CV]  colsample_bytree=0.8445332572317009, max_depth=1, subsample=0.8336976837716061 -   0.3s\n",
      "[CV] colsample_bytree=0.8445332572317009, max_depth=1, subsample=0.8336976837716061 \n"
     ]
    },
    {
     "name": "stderr",
     "output_type": "stream",
     "text": [
      "C:\\Users\\ryosuke.nishioka\\Anaconda3\\lib\\site-packages\\sklearn\\metrics\\scorer.py:127: DeprecationWarning: Scoring method log_loss was renamed to neg_log_loss in version 0.18 and will be removed in 0.20.\n",
      "  sample_weight=sample_weight)\n"
     ]
    },
    {
     "name": "stdout",
     "output_type": "stream",
     "text": [
      "[CV]  colsample_bytree=0.8445332572317009, max_depth=1, subsample=0.8336976837716061 -   0.3s\n",
      "[CV] colsample_bytree=0.8641077866023901, max_depth=4, subsample=0.5521527020763464 \n"
     ]
    },
    {
     "name": "stderr",
     "output_type": "stream",
     "text": [
      "C:\\Users\\ryosuke.nishioka\\Anaconda3\\lib\\site-packages\\sklearn\\metrics\\scorer.py:127: DeprecationWarning: Scoring method log_loss was renamed to neg_log_loss in version 0.18 and will be removed in 0.20.\n",
      "  sample_weight=sample_weight)\n"
     ]
    },
    {
     "name": "stdout",
     "output_type": "stream",
     "text": [
      "[CV]  colsample_bytree=0.8641077866023901, max_depth=4, subsample=0.5521527020763464 -   1.5s\n",
      "[CV] colsample_bytree=0.8641077866023901, max_depth=4, subsample=0.5521527020763464 \n"
     ]
    },
    {
     "name": "stderr",
     "output_type": "stream",
     "text": [
      "C:\\Users\\ryosuke.nishioka\\Anaconda3\\lib\\site-packages\\sklearn\\metrics\\scorer.py:127: DeprecationWarning: Scoring method log_loss was renamed to neg_log_loss in version 0.18 and will be removed in 0.20.\n",
      "  sample_weight=sample_weight)\n"
     ]
    },
    {
     "name": "stdout",
     "output_type": "stream",
     "text": [
      "[CV]  colsample_bytree=0.8641077866023901, max_depth=4, subsample=0.5521527020763464 -   1.5s\n",
      "[CV] colsample_bytree=0.8641077866023901, max_depth=4, subsample=0.5521527020763464 \n"
     ]
    },
    {
     "name": "stderr",
     "output_type": "stream",
     "text": [
      "C:\\Users\\ryosuke.nishioka\\Anaconda3\\lib\\site-packages\\sklearn\\metrics\\scorer.py:127: DeprecationWarning: Scoring method log_loss was renamed to neg_log_loss in version 0.18 and will be removed in 0.20.\n",
      "  sample_weight=sample_weight)\n"
     ]
    },
    {
     "name": "stdout",
     "output_type": "stream",
     "text": [
      "[CV]  colsample_bytree=0.8641077866023901, max_depth=4, subsample=0.5521527020763464 -   1.4s\n",
      "[CV] colsample_bytree=0.8641077866023901, max_depth=4, subsample=0.5521527020763464 \n"
     ]
    },
    {
     "name": "stderr",
     "output_type": "stream",
     "text": [
      "C:\\Users\\ryosuke.nishioka\\Anaconda3\\lib\\site-packages\\sklearn\\metrics\\scorer.py:127: DeprecationWarning: Scoring method log_loss was renamed to neg_log_loss in version 0.18 and will be removed in 0.20.\n",
      "  sample_weight=sample_weight)\n"
     ]
    },
    {
     "name": "stdout",
     "output_type": "stream",
     "text": [
      "[CV]  colsample_bytree=0.8641077866023901, max_depth=4, subsample=0.5521527020763464 -   1.4s\n",
      "[CV] colsample_bytree=0.8641077866023901, max_depth=4, subsample=0.5521527020763464 \n"
     ]
    },
    {
     "name": "stderr",
     "output_type": "stream",
     "text": [
      "C:\\Users\\ryosuke.nishioka\\Anaconda3\\lib\\site-packages\\sklearn\\metrics\\scorer.py:127: DeprecationWarning: Scoring method log_loss was renamed to neg_log_loss in version 0.18 and will be removed in 0.20.\n",
      "  sample_weight=sample_weight)\n"
     ]
    },
    {
     "name": "stdout",
     "output_type": "stream",
     "text": [
      "[CV]  colsample_bytree=0.8641077866023901, max_depth=4, subsample=0.5521527020763464 -   1.5s\n",
      "[CV] colsample_bytree=0.8641077866023901, max_depth=4, subsample=0.5521527020763464 \n"
     ]
    },
    {
     "name": "stderr",
     "output_type": "stream",
     "text": [
      "C:\\Users\\ryosuke.nishioka\\Anaconda3\\lib\\site-packages\\sklearn\\metrics\\scorer.py:127: DeprecationWarning: Scoring method log_loss was renamed to neg_log_loss in version 0.18 and will be removed in 0.20.\n",
      "  sample_weight=sample_weight)\n"
     ]
    },
    {
     "name": "stdout",
     "output_type": "stream",
     "text": [
      "[CV]  colsample_bytree=0.8641077866023901, max_depth=4, subsample=0.5521527020763464 -   1.3s\n",
      "[CV] colsample_bytree=0.8641077866023901, max_depth=4, subsample=0.5521527020763464 \n"
     ]
    },
    {
     "name": "stderr",
     "output_type": "stream",
     "text": [
      "C:\\Users\\ryosuke.nishioka\\Anaconda3\\lib\\site-packages\\sklearn\\metrics\\scorer.py:127: DeprecationWarning: Scoring method log_loss was renamed to neg_log_loss in version 0.18 and will be removed in 0.20.\n",
      "  sample_weight=sample_weight)\n"
     ]
    },
    {
     "name": "stdout",
     "output_type": "stream",
     "text": [
      "[CV]  colsample_bytree=0.8641077866023901, max_depth=4, subsample=0.5521527020763464 -   1.3s\n",
      "[CV] colsample_bytree=0.8641077866023901, max_depth=4, subsample=0.5521527020763464 \n"
     ]
    },
    {
     "name": "stderr",
     "output_type": "stream",
     "text": [
      "C:\\Users\\ryosuke.nishioka\\Anaconda3\\lib\\site-packages\\sklearn\\metrics\\scorer.py:127: DeprecationWarning: Scoring method log_loss was renamed to neg_log_loss in version 0.18 and will be removed in 0.20.\n",
      "  sample_weight=sample_weight)\n"
     ]
    },
    {
     "name": "stdout",
     "output_type": "stream",
     "text": [
      "[CV]  colsample_bytree=0.8641077866023901, max_depth=4, subsample=0.5521527020763464 -   1.4s\n",
      "[CV] colsample_bytree=0.8641077866023901, max_depth=4, subsample=0.5521527020763464 \n"
     ]
    },
    {
     "name": "stderr",
     "output_type": "stream",
     "text": [
      "C:\\Users\\ryosuke.nishioka\\Anaconda3\\lib\\site-packages\\sklearn\\metrics\\scorer.py:127: DeprecationWarning: Scoring method log_loss was renamed to neg_log_loss in version 0.18 and will be removed in 0.20.\n",
      "  sample_weight=sample_weight)\n"
     ]
    },
    {
     "name": "stdout",
     "output_type": "stream",
     "text": [
      "[CV]  colsample_bytree=0.8641077866023901, max_depth=4, subsample=0.5521527020763464 -   1.4s\n",
      "[CV] colsample_bytree=0.8641077866023901, max_depth=4, subsample=0.5521527020763464 \n"
     ]
    },
    {
     "name": "stderr",
     "output_type": "stream",
     "text": [
      "C:\\Users\\ryosuke.nishioka\\Anaconda3\\lib\\site-packages\\sklearn\\metrics\\scorer.py:127: DeprecationWarning: Scoring method log_loss was renamed to neg_log_loss in version 0.18 and will be removed in 0.20.\n",
      "  sample_weight=sample_weight)\n"
     ]
    },
    {
     "name": "stdout",
     "output_type": "stream",
     "text": [
      "[CV]  colsample_bytree=0.8641077866023901, max_depth=4, subsample=0.5521527020763464 -   1.3s\n",
      "[CV] colsample_bytree=0.6815138412450801, max_depth=9, subsample=0.952098820450881 \n"
     ]
    },
    {
     "name": "stderr",
     "output_type": "stream",
     "text": [
      "C:\\Users\\ryosuke.nishioka\\Anaconda3\\lib\\site-packages\\sklearn\\metrics\\scorer.py:127: DeprecationWarning: Scoring method log_loss was renamed to neg_log_loss in version 0.18 and will be removed in 0.20.\n",
      "  sample_weight=sample_weight)\n"
     ]
    },
    {
     "name": "stdout",
     "output_type": "stream",
     "text": [
      "[CV]  colsample_bytree=0.6815138412450801, max_depth=9, subsample=0.952098820450881 -   2.1s\n",
      "[CV] colsample_bytree=0.6815138412450801, max_depth=9, subsample=0.952098820450881 \n"
     ]
    },
    {
     "name": "stderr",
     "output_type": "stream",
     "text": [
      "C:\\Users\\ryosuke.nishioka\\Anaconda3\\lib\\site-packages\\sklearn\\metrics\\scorer.py:127: DeprecationWarning: Scoring method log_loss was renamed to neg_log_loss in version 0.18 and will be removed in 0.20.\n",
      "  sample_weight=sample_weight)\n"
     ]
    },
    {
     "name": "stdout",
     "output_type": "stream",
     "text": [
      "[CV]  colsample_bytree=0.6815138412450801, max_depth=9, subsample=0.952098820450881 -   2.0s\n",
      "[CV] colsample_bytree=0.6815138412450801, max_depth=9, subsample=0.952098820450881 \n"
     ]
    },
    {
     "name": "stderr",
     "output_type": "stream",
     "text": [
      "C:\\Users\\ryosuke.nishioka\\Anaconda3\\lib\\site-packages\\sklearn\\metrics\\scorer.py:127: DeprecationWarning: Scoring method log_loss was renamed to neg_log_loss in version 0.18 and will be removed in 0.20.\n",
      "  sample_weight=sample_weight)\n"
     ]
    },
    {
     "name": "stdout",
     "output_type": "stream",
     "text": [
      "[CV]  colsample_bytree=0.6815138412450801, max_depth=9, subsample=0.952098820450881 -   2.0s\n",
      "[CV] colsample_bytree=0.6815138412450801, max_depth=9, subsample=0.952098820450881 \n"
     ]
    },
    {
     "name": "stderr",
     "output_type": "stream",
     "text": [
      "C:\\Users\\ryosuke.nishioka\\Anaconda3\\lib\\site-packages\\sklearn\\metrics\\scorer.py:127: DeprecationWarning: Scoring method log_loss was renamed to neg_log_loss in version 0.18 and will be removed in 0.20.\n",
      "  sample_weight=sample_weight)\n"
     ]
    },
    {
     "name": "stdout",
     "output_type": "stream",
     "text": [
      "[CV]  colsample_bytree=0.6815138412450801, max_depth=9, subsample=0.952098820450881 -   2.0s\n",
      "[CV] colsample_bytree=0.6815138412450801, max_depth=9, subsample=0.952098820450881 \n"
     ]
    },
    {
     "name": "stderr",
     "output_type": "stream",
     "text": [
      "C:\\Users\\ryosuke.nishioka\\Anaconda3\\lib\\site-packages\\sklearn\\metrics\\scorer.py:127: DeprecationWarning: Scoring method log_loss was renamed to neg_log_loss in version 0.18 and will be removed in 0.20.\n",
      "  sample_weight=sample_weight)\n"
     ]
    },
    {
     "name": "stdout",
     "output_type": "stream",
     "text": [
      "[CV]  colsample_bytree=0.6815138412450801, max_depth=9, subsample=0.952098820450881 -   2.1s\n",
      "[CV] colsample_bytree=0.6815138412450801, max_depth=9, subsample=0.952098820450881 \n"
     ]
    },
    {
     "name": "stderr",
     "output_type": "stream",
     "text": [
      "C:\\Users\\ryosuke.nishioka\\Anaconda3\\lib\\site-packages\\sklearn\\metrics\\scorer.py:127: DeprecationWarning: Scoring method log_loss was renamed to neg_log_loss in version 0.18 and will be removed in 0.20.\n",
      "  sample_weight=sample_weight)\n"
     ]
    },
    {
     "name": "stdout",
     "output_type": "stream",
     "text": [
      "[CV]  colsample_bytree=0.6815138412450801, max_depth=9, subsample=0.952098820450881 -   2.6s\n",
      "[CV] colsample_bytree=0.6815138412450801, max_depth=9, subsample=0.952098820450881 \n"
     ]
    },
    {
     "name": "stderr",
     "output_type": "stream",
     "text": [
      "C:\\Users\\ryosuke.nishioka\\Anaconda3\\lib\\site-packages\\sklearn\\metrics\\scorer.py:127: DeprecationWarning: Scoring method log_loss was renamed to neg_log_loss in version 0.18 and will be removed in 0.20.\n",
      "  sample_weight=sample_weight)\n"
     ]
    },
    {
     "name": "stdout",
     "output_type": "stream",
     "text": [
      "[CV]  colsample_bytree=0.6815138412450801, max_depth=9, subsample=0.952098820450881 -   3.0s\n",
      "[CV] colsample_bytree=0.6815138412450801, max_depth=9, subsample=0.952098820450881 \n"
     ]
    },
    {
     "name": "stderr",
     "output_type": "stream",
     "text": [
      "C:\\Users\\ryosuke.nishioka\\Anaconda3\\lib\\site-packages\\sklearn\\metrics\\scorer.py:127: DeprecationWarning: Scoring method log_loss was renamed to neg_log_loss in version 0.18 and will be removed in 0.20.\n",
      "  sample_weight=sample_weight)\n"
     ]
    },
    {
     "name": "stdout",
     "output_type": "stream",
     "text": [
      "[CV]  colsample_bytree=0.6815138412450801, max_depth=9, subsample=0.952098820450881 -   2.6s\n",
      "[CV] colsample_bytree=0.6815138412450801, max_depth=9, subsample=0.952098820450881 \n"
     ]
    },
    {
     "name": "stderr",
     "output_type": "stream",
     "text": [
      "C:\\Users\\ryosuke.nishioka\\Anaconda3\\lib\\site-packages\\sklearn\\metrics\\scorer.py:127: DeprecationWarning: Scoring method log_loss was renamed to neg_log_loss in version 0.18 and will be removed in 0.20.\n",
      "  sample_weight=sample_weight)\n"
     ]
    },
    {
     "name": "stdout",
     "output_type": "stream",
     "text": [
      "[CV]  colsample_bytree=0.6815138412450801, max_depth=9, subsample=0.952098820450881 -   2.5s\n",
      "[CV] colsample_bytree=0.6815138412450801, max_depth=9, subsample=0.952098820450881 \n"
     ]
    },
    {
     "name": "stderr",
     "output_type": "stream",
     "text": [
      "C:\\Users\\ryosuke.nishioka\\Anaconda3\\lib\\site-packages\\sklearn\\metrics\\scorer.py:127: DeprecationWarning: Scoring method log_loss was renamed to neg_log_loss in version 0.18 and will be removed in 0.20.\n",
      "  sample_weight=sample_weight)\n"
     ]
    },
    {
     "name": "stdout",
     "output_type": "stream",
     "text": [
      "[CV]  colsample_bytree=0.6815138412450801, max_depth=9, subsample=0.952098820450881 -   2.3s\n",
      "[CV] colsample_bytree=0.6524278453743928, max_depth=9, subsample=0.8266230043518813 \n"
     ]
    },
    {
     "name": "stderr",
     "output_type": "stream",
     "text": [
      "C:\\Users\\ryosuke.nishioka\\Anaconda3\\lib\\site-packages\\sklearn\\metrics\\scorer.py:127: DeprecationWarning: Scoring method log_loss was renamed to neg_log_loss in version 0.18 and will be removed in 0.20.\n",
      "  sample_weight=sample_weight)\n"
     ]
    },
    {
     "name": "stdout",
     "output_type": "stream",
     "text": [
      "[CV]  colsample_bytree=0.6524278453743928, max_depth=9, subsample=0.8266230043518813 -   2.2s\n",
      "[CV] colsample_bytree=0.6524278453743928, max_depth=9, subsample=0.8266230043518813 \n"
     ]
    },
    {
     "name": "stderr",
     "output_type": "stream",
     "text": [
      "C:\\Users\\ryosuke.nishioka\\Anaconda3\\lib\\site-packages\\sklearn\\metrics\\scorer.py:127: DeprecationWarning: Scoring method log_loss was renamed to neg_log_loss in version 0.18 and will be removed in 0.20.\n",
      "  sample_weight=sample_weight)\n"
     ]
    },
    {
     "name": "stdout",
     "output_type": "stream",
     "text": [
      "[CV]  colsample_bytree=0.6524278453743928, max_depth=9, subsample=0.8266230043518813 -   2.3s\n",
      "[CV] colsample_bytree=0.6524278453743928, max_depth=9, subsample=0.8266230043518813 \n"
     ]
    },
    {
     "name": "stderr",
     "output_type": "stream",
     "text": [
      "C:\\Users\\ryosuke.nishioka\\Anaconda3\\lib\\site-packages\\sklearn\\metrics\\scorer.py:127: DeprecationWarning: Scoring method log_loss was renamed to neg_log_loss in version 0.18 and will be removed in 0.20.\n",
      "  sample_weight=sample_weight)\n"
     ]
    },
    {
     "name": "stdout",
     "output_type": "stream",
     "text": [
      "[CV]  colsample_bytree=0.6524278453743928, max_depth=9, subsample=0.8266230043518813 -   2.4s\n",
      "[CV] colsample_bytree=0.6524278453743928, max_depth=9, subsample=0.8266230043518813 \n"
     ]
    },
    {
     "name": "stderr",
     "output_type": "stream",
     "text": [
      "C:\\Users\\ryosuke.nishioka\\Anaconda3\\lib\\site-packages\\sklearn\\metrics\\scorer.py:127: DeprecationWarning: Scoring method log_loss was renamed to neg_log_loss in version 0.18 and will be removed in 0.20.\n",
      "  sample_weight=sample_weight)\n"
     ]
    },
    {
     "name": "stdout",
     "output_type": "stream",
     "text": [
      "[CV]  colsample_bytree=0.6524278453743928, max_depth=9, subsample=0.8266230043518813 -   2.2s\n",
      "[CV] colsample_bytree=0.6524278453743928, max_depth=9, subsample=0.8266230043518813 \n"
     ]
    },
    {
     "name": "stderr",
     "output_type": "stream",
     "text": [
      "C:\\Users\\ryosuke.nishioka\\Anaconda3\\lib\\site-packages\\sklearn\\metrics\\scorer.py:127: DeprecationWarning: Scoring method log_loss was renamed to neg_log_loss in version 0.18 and will be removed in 0.20.\n",
      "  sample_weight=sample_weight)\n"
     ]
    },
    {
     "name": "stdout",
     "output_type": "stream",
     "text": [
      "[CV]  colsample_bytree=0.6524278453743928, max_depth=9, subsample=0.8266230043518813 -   2.2s\n",
      "[CV] colsample_bytree=0.6524278453743928, max_depth=9, subsample=0.8266230043518813 \n"
     ]
    },
    {
     "name": "stderr",
     "output_type": "stream",
     "text": [
      "C:\\Users\\ryosuke.nishioka\\Anaconda3\\lib\\site-packages\\sklearn\\metrics\\scorer.py:127: DeprecationWarning: Scoring method log_loss was renamed to neg_log_loss in version 0.18 and will be removed in 0.20.\n",
      "  sample_weight=sample_weight)\n"
     ]
    },
    {
     "name": "stdout",
     "output_type": "stream",
     "text": [
      "[CV]  colsample_bytree=0.6524278453743928, max_depth=9, subsample=0.8266230043518813 -   2.0s\n",
      "[CV] colsample_bytree=0.6524278453743928, max_depth=9, subsample=0.8266230043518813 \n"
     ]
    },
    {
     "name": "stderr",
     "output_type": "stream",
     "text": [
      "C:\\Users\\ryosuke.nishioka\\Anaconda3\\lib\\site-packages\\sklearn\\metrics\\scorer.py:127: DeprecationWarning: Scoring method log_loss was renamed to neg_log_loss in version 0.18 and will be removed in 0.20.\n",
      "  sample_weight=sample_weight)\n"
     ]
    },
    {
     "name": "stdout",
     "output_type": "stream",
     "text": [
      "[CV]  colsample_bytree=0.6524278453743928, max_depth=9, subsample=0.8266230043518813 -   2.3s\n",
      "[CV] colsample_bytree=0.6524278453743928, max_depth=9, subsample=0.8266230043518813 \n"
     ]
    },
    {
     "name": "stderr",
     "output_type": "stream",
     "text": [
      "C:\\Users\\ryosuke.nishioka\\Anaconda3\\lib\\site-packages\\sklearn\\metrics\\scorer.py:127: DeprecationWarning: Scoring method log_loss was renamed to neg_log_loss in version 0.18 and will be removed in 0.20.\n",
      "  sample_weight=sample_weight)\n"
     ]
    },
    {
     "name": "stdout",
     "output_type": "stream",
     "text": [
      "[CV]  colsample_bytree=0.6524278453743928, max_depth=9, subsample=0.8266230043518813 -   2.0s\n",
      "[CV] colsample_bytree=0.6524278453743928, max_depth=9, subsample=0.8266230043518813 \n"
     ]
    },
    {
     "name": "stderr",
     "output_type": "stream",
     "text": [
      "C:\\Users\\ryosuke.nishioka\\Anaconda3\\lib\\site-packages\\sklearn\\metrics\\scorer.py:127: DeprecationWarning: Scoring method log_loss was renamed to neg_log_loss in version 0.18 and will be removed in 0.20.\n",
      "  sample_weight=sample_weight)\n"
     ]
    },
    {
     "name": "stdout",
     "output_type": "stream",
     "text": [
      "[CV]  colsample_bytree=0.6524278453743928, max_depth=9, subsample=0.8266230043518813 -   2.3s\n",
      "[CV] colsample_bytree=0.6524278453743928, max_depth=9, subsample=0.8266230043518813 \n"
     ]
    },
    {
     "name": "stderr",
     "output_type": "stream",
     "text": [
      "C:\\Users\\ryosuke.nishioka\\Anaconda3\\lib\\site-packages\\sklearn\\metrics\\scorer.py:127: DeprecationWarning: Scoring method log_loss was renamed to neg_log_loss in version 0.18 and will be removed in 0.20.\n",
      "  sample_weight=sample_weight)\n",
      "[Parallel(n_jobs=1)]: Done 200 out of 200 | elapsed:  5.6min finished\n"
     ]
    },
    {
     "name": "stdout",
     "output_type": "stream",
     "text": [
      "[CV]  colsample_bytree=0.6524278453743928, max_depth=9, subsample=0.8266230043518813 -   2.5s\n"
     ]
    },
    {
     "name": "stderr",
     "output_type": "stream",
     "text": [
      "C:\\Users\\ryosuke.nishioka\\Anaconda3\\lib\\site-packages\\sklearn\\preprocessing\\label.py:171: DeprecationWarning: The truth value of an empty array is ambiguous. Returning False, but in future this will result in an error. Use `array.size > 0` to check that an array is not empty.\n",
      "  if diff:\n"
     ]
    }
   ],
   "source": [
    "#RandomizedSearchCVを使用した学習\n",
    "param_distributions={'max_depth': sp.stats.randint(1,11),\n",
    "                     'subsample': sp.stats.uniform(0.5,0.5),\n",
    "                     'colsample_bytree': sp.stats.uniform(0.5,0.5)\n",
    "}\n",
    "\n",
    "xgb_model = xgb.XGBClassifier()\n",
    "rs = RandomizedSearchCV(xgb_model,\n",
    "                        param_distributions,\n",
    "                        cv=10,\n",
    "                        n_iter=20,\n",
    "                        scoring=\"log_loss\",\n",
    "                        n_jobs=1,\n",
    "                        verbose=2)\n",
    "rs.fit(X_train, y_train)\n",
    "predict = rs.predict(X_test)"
   ]
  },
  {
   "cell_type": "code",
   "execution_count": 7,
   "metadata": {},
   "outputs": [
    {
     "data": {
      "image/png": "[encoded data removed]",
      "text/plain": [
       "<matplotlib.figure.Figure at 0x11360048>"
      ]
     },
     "metadata": {},
     "output_type": "display_data"
    }
   ],
   "source": [
    "from sklearn import metrics as mtr\n",
    "%matplotlib inline\n",
    "from matplotlib import pyplot as plt\n",
    "\n",
    "prob = rs.predict_proba(X_test)[:,1]\n",
    "fpr, tpr, thresholds = mtr.roc_curve(y_test, prob,pos_label =1)\n",
    "\n",
    "plt.plot(fpr, tpr)\n",
    "plt.title(\"ROC curve\")\n",
    "plt.xlabel(\"False Positive Rate\")\n",
    "plt.ylabel(\"True Positive Rate\")\n",
    "plt.show()"
   ]
  },
  {
   "cell_type": "code",
   "execution_count": 8,
   "metadata": {},
   "outputs": [
    {
     "name": "stdout",
     "output_type": "stream",
     "text": [
      "テストデータに対する正解率： 0.7036\n",
      "テストデータに対する roc-auc： 0.7459\n",
      "テストデータに対する log-loss： 0.5759\n"
     ]
    },
    {
     "name": "stderr",
     "output_type": "stream",
     "text": [
      "C:\\Users\\ryosuke.nishioka\\Anaconda3\\lib\\site-packages\\sklearn\\preprocessing\\label.py:171: DeprecationWarning: The truth value of an empty array is ambiguous. Returning False, but in future this will result in an error. Use `array.size > 0` to check that an array is not empty.\n",
      "  if diff:\n"
     ]
    }
   ],
   "source": [
    "# 3.まとめ（精度計算）\n",
    "\n",
    "class_predict = rs.predict(X_test)\n",
    "print('テストデータに対する正解率： %.4f' %mtr.accuracy_score(y_test,class_predict))\n",
    "print('テストデータに対する roc-auc： %.4f' %mtr.roc_auc_score(y_test, prob))\n",
    "print('テストデータに対する log-loss： %.4f' %mtr.log_loss(y_test, prob))"
   ]
  },
  {
   "cell_type": "code",
   "execution_count": 9,
   "metadata": {},
   "outputs": [
    {
     "data": {
      "text/plain": [
       "XGBClassifier(base_score=0.5, booster='gbtree', colsample_bylevel=1,\n",
       "       colsample_bytree=0.9361125488244764, gamma=0, learning_rate=0.1,\n",
       "       max_delta_step=0, max_depth=4, min_child_weight=1, missing=None,\n",
       "       n_estimators=100, n_jobs=1, nthread=None,\n",
       "       objective='binary:logistic', random_state=0, reg_alpha=0,\n",
       "       reg_lambda=1, scale_pos_weight=1, seed=None, silent=True,\n",
       "       subsample=0.5760782098562076)"
      ]
     },
     "execution_count": 9,
     "metadata": {},
     "output_type": "execute_result"
    }
   ],
   "source": [
    "rs.best_estimator_"
   ]
  },
  {
   "cell_type": "markdown",
   "metadata": {},
   "source": [
    "### 参考文献\n",
    "http://tekenuko.hatenablog.com/entry/2016/09/22/220814"
   ]
  },
  {
   "cell_type": "code",
   "execution_count": 17,
   "metadata": {},
   "outputs": [
    {
     "name": "stdout",
     "output_type": "stream",
     "text": [
      "Fitting 3 folds for each of 9 candidates, totalling 27 fits\n"
     ]
    },
    {
     "name": "stderr",
     "output_type": "stream",
     "text": [
      "[Parallel(n_jobs=1)]: Done  27 out of  27 | elapsed:   27.6s finished\n"
     ]
    },
    {
     "name": "stdout",
     "output_type": "stream",
     "text": [
      "{'max_depth': 4, 'n_estimators': 100} 0.17112341380293403\n"
     ]
    }
   ],
   "source": [
    "# ハイパーパラメータ探索\n",
    "from sklearn import model_selection\n",
    "\n",
    "clf = xgb.XGBRegressor()\n",
    "clf_cv = model_selection.GridSearchCV(clf, {'max_depth': [2,4,6], 'n_estimators': [50,100,200]}, verbose=1)\n",
    "clf_cv.fit(X_train,y_train)\n",
    "print(clf_cv.best_params_, clf_cv.best_score_)"
   ]
  },
  {
   "cell_type": "code",
   "execution_count": 21,
   "metadata": {
    "collapsed": true
   },
   "outputs": [],
   "source": [
    "# 改めて最適パラメータで学習\n",
    "clf = xgb.XGBRegressor(**clf_cv.best_params_)\n",
    "model = clf.fit(X_train, y_train)"
   ]
  },
  {
   "cell_type": "code",
   "execution_count": 28,
   "metadata": {
    "collapsed": true
   },
   "outputs": [],
   "source": [
    "class_predict = model.predict(X_test)"
   ]
  },
  {
   "cell_type": "code",
   "execution_count": 30,
   "metadata": {},
   "outputs": [
    {
     "ename": "ValueError",
     "evalue": "Can't handle mix of binary and continuous",
     "output_type": "error",
     "traceback": [
      "\u001b[1;31m---------------------------------------------------------------------------\u001b[0m",
      "\u001b[1;31mValueError\u001b[0m                                Traceback (most recent call last)",
      "\u001b[1;32m<ipython-input-30-8779bb8348be>\u001b[0m in \u001b[0;36m<module>\u001b[1;34m()\u001b[0m\n\u001b[1;32m----> 1\u001b[1;33m \u001b[0mprint\u001b[0m\u001b[1;33m(\u001b[0m\u001b[1;34m'テストデータに対する正解率： %.4f'\u001b[0m \u001b[1;33m%\u001b[0m\u001b[0mmtr\u001b[0m\u001b[1;33m.\u001b[0m\u001b[0maccuracy_score\u001b[0m\u001b[1;33m(\u001b[0m\u001b[0my_test\u001b[0m\u001b[1;33m,\u001b[0m\u001b[0mclass_predict\u001b[0m\u001b[1;33m)\u001b[0m\u001b[1;33m)\u001b[0m\u001b[1;33m\u001b[0m\u001b[0m\n\u001b[0m",
      "\u001b[1;32mC:\\Users\\ryosuke.nishioka\\Anaconda3\\lib\\site-packages\\sklearn\\metrics\\classification.py\u001b[0m in \u001b[0;36maccuracy_score\u001b[1;34m(y_true, y_pred, normalize, sample_weight)\u001b[0m\n\u001b[0;32m    170\u001b[0m \u001b[1;33m\u001b[0m\u001b[0m\n\u001b[0;32m    171\u001b[0m     \u001b[1;31m# Compute accuracy for each possible representation\u001b[0m\u001b[1;33m\u001b[0m\u001b[1;33m\u001b[0m\u001b[0m\n\u001b[1;32m--> 172\u001b[1;33m     \u001b[0my_type\u001b[0m\u001b[1;33m,\u001b[0m \u001b[0my_true\u001b[0m\u001b[1;33m,\u001b[0m \u001b[0my_pred\u001b[0m \u001b[1;33m=\u001b[0m \u001b[0m_check_targets\u001b[0m\u001b[1;33m(\u001b[0m\u001b[0my_true\u001b[0m\u001b[1;33m,\u001b[0m \u001b[0my_pred\u001b[0m\u001b[1;33m)\u001b[0m\u001b[1;33m\u001b[0m\u001b[0m\n\u001b[0m\u001b[0;32m    173\u001b[0m     \u001b[1;32mif\u001b[0m \u001b[0my_type\u001b[0m\u001b[1;33m.\u001b[0m\u001b[0mstartswith\u001b[0m\u001b[1;33m(\u001b[0m\u001b[1;34m'multilabel'\u001b[0m\u001b[1;33m)\u001b[0m\u001b[1;33m:\u001b[0m\u001b[1;33m\u001b[0m\u001b[0m\n\u001b[0;32m    174\u001b[0m         \u001b[0mdiffering_labels\u001b[0m \u001b[1;33m=\u001b[0m \u001b[0mcount_nonzero\u001b[0m\u001b[1;33m(\u001b[0m\u001b[0my_true\u001b[0m \u001b[1;33m-\u001b[0m \u001b[0my_pred\u001b[0m\u001b[1;33m,\u001b[0m \u001b[0maxis\u001b[0m\u001b[1;33m=\u001b[0m\u001b[1;36m1\u001b[0m\u001b[1;33m)\u001b[0m\u001b[1;33m\u001b[0m\u001b[0m\n",
      "\u001b[1;32mC:\\Users\\ryosuke.nishioka\\Anaconda3\\lib\\site-packages\\sklearn\\metrics\\classification.py\u001b[0m in \u001b[0;36m_check_targets\u001b[1;34m(y_true, y_pred)\u001b[0m\n\u001b[0;32m     80\u001b[0m     \u001b[1;32mif\u001b[0m \u001b[0mlen\u001b[0m\u001b[1;33m(\u001b[0m\u001b[0my_type\u001b[0m\u001b[1;33m)\u001b[0m \u001b[1;33m>\u001b[0m \u001b[1;36m1\u001b[0m\u001b[1;33m:\u001b[0m\u001b[1;33m\u001b[0m\u001b[0m\n\u001b[0;32m     81\u001b[0m         raise ValueError(\"Can't handle mix of {0} and {1}\"\n\u001b[1;32m---> 82\u001b[1;33m                          \"\".format(type_true, type_pred))\n\u001b[0m\u001b[0;32m     83\u001b[0m \u001b[1;33m\u001b[0m\u001b[0m\n\u001b[0;32m     84\u001b[0m     \u001b[1;31m# We can't have more than one value on y_type => The set is no more needed\u001b[0m\u001b[1;33m\u001b[0m\u001b[1;33m\u001b[0m\u001b[0m\n",
      "\u001b[1;31mValueError\u001b[0m: Can't handle mix of binary and continuous"
     ]
    }
   ],
   "source": [
    "print('テストデータに対する正解率： %.4f' %mtr.accuracy_score(y_test,class_predict))"
   ]
  },
  {
   "cell_type": "code",
   "execution_count": 29,
   "metadata": {},
   "outputs": [
    {
     "data": {
      "text/plain": [
       "array([0.75713146, 0.6991048 , 0.8430326 , ..., 0.70760226, 0.32800835,\n",
       "       0.71567893], dtype=float32)"
      ]
     },
     "execution_count": 29,
     "metadata": {},
     "output_type": "execute_result"
    }
   ],
   "source": [
    "class_predict"
   ]
  },
  {
   "cell_type": "code",
   "execution_count": null,
   "metadata": {
    "collapsed": true
   },
   "outputs": [],
   "source": []
  }
 ],
 "metadata": {
  "kernelspec": {
   "display_name": "Python 3",
   "language": "python",
   "name": "python3"
  },
  "language_info": {
   "codemirror_mode": {
    "name": "ipython",
    "version": 3
   },
   "file_extension": ".py",
   "mimetype": "text/x-python",
   "name": "python",
   "nbconvert_exporter": "python",
   "pygments_lexer": "ipython3",
   "version": "3.6.1"
  }
 },
 "nbformat": 4,
 "nbformat_minor": 2
}
