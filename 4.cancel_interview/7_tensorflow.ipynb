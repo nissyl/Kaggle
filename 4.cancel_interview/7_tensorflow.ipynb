{
 "cells": [
  {
   "cell_type": "code",
   "execution_count": 3,
   "metadata": {
    "collapsed": true
   },
   "outputs": [],
   "source": [
    "import pandas as pd\n",
    "import pandas as pd\n",
    "import numpy as np\n",
    "import matplotlib.pyplot as plt\n",
    "\n",
    "# Regular expressions\n",
    "import re\n",
    "\n",
    "# LightGBM\n",
    "import lightgbm as lgb\n",
    "\n",
    "# sklearn tools for model training and assesment\n",
    "from sklearn.model_selection import train_test_split\n",
    "from sklearn.metrics import (roc_curve, auc, accuracy_score)\n",
    "from sklearn.model_selection import GridSearchCV\n",
    "\n",
    "\n",
    "df = pd.read_csv(\"333836601.csv\")\n",
    "pd.set_option('display.max_columns', 100)\n",
    "df = df.drop(['employees_created'], axis=1)\n",
    "df = df.drop(['employee_id'], axis=1)\n",
    "df[\"age\"] = df[\"age\"].fillna(df[\"age\"].mean())\n",
    "df[\"influx_route_midium\"] = df[\"influx_route_midium\"].fillna('null')\n",
    "df[\"influx_route_small\"] = df[\"influx_route_small\"].fillna('null')\n",
    "df_a = df.copy()\n",
    "df_b = pd.get_dummies(df_a['influx_route_big'], drop_first = True)\n",
    "df_c = pd.get_dummies(df_a['influx_route_midium'], drop_first = True)\n",
    "df_d= pd.get_dummies(df_a['influx_route_small'], drop_first = True)\n",
    "df_e= pd.get_dummies(df_a['device'], drop_first = True)\n",
    "\n",
    "df = pd.concat([df, df_b, df_c, df_d, df_e], axis=1)\n",
    "df = df.drop(['influx_route_big'], axis=1)\n",
    "df = df.drop(['influx_route_midium'], axis=1)\n",
    "df = df.drop(['influx_route_small'], axis=1)\n",
    "df = df.drop(['device'], axis=1)"
   ]
  },
  {
   "cell_type": "code",
   "execution_count": 2,
   "metadata": {
    "scrolled": true
   },
   "outputs": [
    {
     "name": "stderr",
     "output_type": "stream",
     "text": [
      "C:\\Users\\ryosuke.nishioka\\Anaconda3\\lib\\site-packages\\h5py\\__init__.py:34: FutureWarning: Conversion of the second argument of issubdtype from `float` to `np.floating` is deprecated. In future, it will be treated as `np.float64 == np.dtype(float).type`.\n",
      "  from ._conv import register_converters as _register_converters\n"
     ]
    }
   ],
   "source": [
    "import tensorflow as tf"
   ]
  },
  {
   "cell_type": "code",
   "execution_count": null,
   "metadata": {
    "collapsed": true
   },
   "outputs": [],
   "source": []
  }
 ],
 "metadata": {
  "kernelspec": {
   "display_name": "Python 3",
   "language": "python",
   "name": "python3"
  },
  "language_info": {
   "codemirror_mode": {
    "name": "ipython",
    "version": 3
   },
   "file_extension": ".py",
   "mimetype": "text/x-python",
   "name": "python",
   "nbconvert_exporter": "python",
   "pygments_lexer": "ipython3",
   "version": "3.6.1"
  }
 },
 "nbformat": 4,
 "nbformat_minor": 2
}
