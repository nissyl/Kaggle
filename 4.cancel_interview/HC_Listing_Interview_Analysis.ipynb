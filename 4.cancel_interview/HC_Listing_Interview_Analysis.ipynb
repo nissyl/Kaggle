{
 "cells": [
  {
   "cell_type": "markdown",
   "metadata": {
    "slideshow": {
     "slide_type": "slide"
    }
   },
   "source": [
    "# [HT]面談率予測モデル構築に向けた事前分析\n",
    "+ 2018/08/16\n",
    "+ マーケティング部データアナリスト 阪上晃幸"
   ]
  },
  {
   "cell_type": "markdown",
   "metadata": {
    "slideshow": {
     "slide_type": "slide"
    }
   },
   "source": [
    "## 方針\n",
    "+ 重複レコードの確認\n",
    "+ データの作成  \n",
    "・年齢  \n",
    "・エリア  \n",
    "・受注フラグ　　\n",
    "+ クロス集計（様々な軸と面談率の関係）\n",
    "+ 可視化（時系列での変容があるか、ヒストグラムはどのような形状か）  \n",
    "・受注金額のヒストグラム\n",
    "+ よくあるアルゴリズムの適用"
   ]
  },
  {
   "cell_type": "code",
   "execution_count": 150,
   "metadata": {
    "slideshow": {
     "slide_type": "skip"
    }
   },
   "outputs": [
    {
     "data": {
      "text/html": [
       "<div>\n",
       "<style scoped>\n",
       "    .dataframe tbody tr th:only-of-type {\n",
       "        vertical-align: middle;\n",
       "    }\n",
       "\n",
       "    .dataframe tbody tr th {\n",
       "        vertical-align: top;\n",
       "    }\n",
       "\n",
       "    .dataframe thead th {\n",
       "        text-align: right;\n",
       "    }\n",
       "</style>\n",
       "<table border=\"1\" class=\"dataframe\">\n",
       "  <thead>\n",
       "    <tr style=\"text-align: right;\">\n",
       "      <th></th>\n",
       "      <th>employee_id</th>\n",
       "      <th>entry_date</th>\n",
       "      <th>sex</th>\n",
       "      <th>birth</th>\n",
       "      <th>prefecture</th>\n",
       "      <th>status</th>\n",
       "      <th>career_change_desired_date</th>\n",
       "      <th>graduation_year</th>\n",
       "      <th>device</th>\n",
       "      <th>influx_route_big</th>\n",
       "      <th>influx_route_midium</th>\n",
       "      <th>influx_route_small</th>\n",
       "      <th>register_type</th>\n",
       "      <th>counseling_flag</th>\n",
       "      <th>sales</th>\n",
       "      <th>sales_date</th>\n",
       "      <th>age</th>\n",
       "      <th>sales_flag</th>\n",
       "      <th>kanto_flag</th>\n",
       "      <th>entry_month</th>\n",
       "      <th>duplicated_flag</th>\n",
       "    </tr>\n",
       "  </thead>\n",
       "  <tbody>\n",
       "    <tr>\n",
       "      <th>8781</th>\n",
       "      <td>235582</td>\n",
       "      <td>2018-08-07 23:46:29</td>\n",
       "      <td>1</td>\n",
       "      <td>19941231</td>\n",
       "      <td>12</td>\n",
       "      <td>正社員</td>\n",
       "      <td>3ヶ月以上先</td>\n",
       "      <td>2016</td>\n",
       "      <td>SP</td>\n",
       "      <td>リスティング</td>\n",
       "      <td>Google検索</td>\n",
       "      <td>指名検索軸</td>\n",
       "      <td>2</td>\n",
       "      <td>0</td>\n",
       "      <td>NaN</td>\n",
       "      <td>NaN</td>\n",
       "      <td>24</td>\n",
       "      <td>0</td>\n",
       "      <td>1</td>\n",
       "      <td>2018-08-01</td>\n",
       "      <td>0</td>\n",
       "    </tr>\n",
       "    <tr>\n",
       "      <th>8782</th>\n",
       "      <td>235587</td>\n",
       "      <td>2018-08-07 23:52:03</td>\n",
       "      <td>1</td>\n",
       "      <td>19911231</td>\n",
       "      <td>11</td>\n",
       "      <td>離職中・フリーター\\n (契約・派遣含む)</td>\n",
       "      <td>できるだけ早く</td>\n",
       "      <td>2010</td>\n",
       "      <td>SP</td>\n",
       "      <td>リスティング</td>\n",
       "      <td>Google検索</td>\n",
       "      <td>こだわり軸</td>\n",
       "      <td>2</td>\n",
       "      <td>0</td>\n",
       "      <td>NaN</td>\n",
       "      <td>NaN</td>\n",
       "      <td>27</td>\n",
       "      <td>0</td>\n",
       "      <td>1</td>\n",
       "      <td>2018-08-01</td>\n",
       "      <td>0</td>\n",
       "    </tr>\n",
       "    <tr>\n",
       "      <th>8783</th>\n",
       "      <td>235588</td>\n",
       "      <td>2018-08-07 23:52:40</td>\n",
       "      <td>2</td>\n",
       "      <td>19951231</td>\n",
       "      <td>27</td>\n",
       "      <td>離職中・フリーター\\n (契約・派遣含む)</td>\n",
       "      <td>できるだけ早く</td>\n",
       "      <td>2013</td>\n",
       "      <td>PC</td>\n",
       "      <td>リスティング</td>\n",
       "      <td>Google検索</td>\n",
       "      <td>支援軸</td>\n",
       "      <td>3</td>\n",
       "      <td>0</td>\n",
       "      <td>NaN</td>\n",
       "      <td>NaN</td>\n",
       "      <td>23</td>\n",
       "      <td>0</td>\n",
       "      <td>0</td>\n",
       "      <td>2018-08-01</td>\n",
       "      <td>0</td>\n",
       "    </tr>\n",
       "  </tbody>\n",
       "</table>\n",
       "</div>"
      ],
      "text/plain": [
       "      employee_id           entry_date  sex     birth  prefecture  \\\n",
       "8781       235582  2018-08-07 23:46:29    1  19941231          12   \n",
       "8782       235587  2018-08-07 23:52:03    1  19911231          11   \n",
       "8783       235588  2018-08-07 23:52:40    2  19951231          27   \n",
       "\n",
       "                     status career_change_desired_date graduation_year device  \\\n",
       "8781                    正社員                     3ヶ月以上先            2016     SP   \n",
       "8782  離職中・フリーター\\n (契約・派遣含む)                    できるだけ早く            2010     SP   \n",
       "8783  離職中・フリーター\\n (契約・派遣含む)                    できるだけ早く            2013     PC   \n",
       "\n",
       "     influx_route_big influx_route_midium influx_route_small  register_type  \\\n",
       "8781           リスティング            Google検索              指名検索軸              2   \n",
       "8782           リスティング            Google検索              こだわり軸              2   \n",
       "8783           リスティング            Google検索                支援軸              3   \n",
       "\n",
       "      counseling_flag  sales sales_date  age  sales_flag  kanto_flag  \\\n",
       "8781                0    NaN        NaN   24           0           1   \n",
       "8782                0    NaN        NaN   27           0           1   \n",
       "8783                0    NaN        NaN   23           0           0   \n",
       "\n",
       "     entry_month  duplicated_flag  \n",
       "8781  2018-08-01                0  \n",
       "8782  2018-08-01                0  \n",
       "8783  2018-08-01                0  "
      ]
     },
     "execution_count": 150,
     "metadata": {},
     "output_type": "execute_result"
    }
   ],
   "source": [
    "%matplotlib inline\n",
    "import pandas as pd\n",
    "import numpy as np\n",
    "\n",
    "pd.set_option('max_columns',40)\n",
    "\n",
    "#関東フラグ作成用データ\n",
    "kanto_pref = [8,9,10,11,12,13,14]\n",
    "\n",
    "listing_inflow_data = pd.read_csv(\"data.csv\")\n",
    "\n",
    "listing_inflow_data[\"age\"] = list(map(lambda record: 2018 - int(str(record)[0:4]) , listing_inflow_data.birth))\n",
    "listing_inflow_data[\"sales_flag\"] = np.where(listing_inflow_data.sales.isna(), 0, 1)\n",
    "listing_inflow_data[\"kanto_flag\"] = np.where(listing_inflow_data.prefecture.isin(kanto_pref), 1, 0)\n",
    "\n",
    "listing_inflow_data[\"entry_month\"] =  pd.to_datetime(listing_inflow_data.entry_date)\n",
    "listing_inflow_data[\"entry_month\"] = np.where(listing_inflow_data[\"entry_month\"].dt.day == 1,\n",
    "                                                                                    listing_inflow_data[\"entry_month\"].dt.floor('d'),\n",
    "                                                                                    listing_inflow_data[\"entry_month\"].dt.floor('d') - pd.offsets.MonthBegin(1))\n",
    "\n",
    "duplicated_ids = list(pd.DataFrame(listing_inflow_data.employee_id.value_counts()).reset_index().query(' employee_id > 1')[\"index\"])\n",
    "listing_inflow_data[\"duplicated_flag\"] = np.where(listing_inflow_data.employee_id.isin(duplicated_ids ), 1, 0)\n",
    "\n",
    "listing_inflow_data.tail(3)"
   ]
  },
  {
   "cell_type": "code",
   "execution_count": 151,
   "metadata": {
    "slideshow": {
     "slide_type": "skip"
    }
   },
   "outputs": [
    {
     "name": "stdout",
     "output_type": "stream",
     "text": [
      "employee_idのカウント：8784\n",
      "ユニークemployee_idのカウント：7771\n"
     ]
    }
   ],
   "source": [
    "print(\"employee_idのカウント：\"+str(len(listing_inflow_data)))\n",
    "print(\"ユニークemployee_idのカウント：\"+str(listing_inflow_data.employee_id.unique().size))"
   ]
  },
  {
   "cell_type": "code",
   "execution_count": 152,
   "metadata": {
    "slideshow": {
     "slide_type": "skip"
    }
   },
   "outputs": [
    {
     "data": {
      "text/plain": [
       "False    7010\n",
       "True      761\n",
       "Name: employee_id, dtype: int64"
      ]
     },
     "execution_count": 152,
     "metadata": {},
     "output_type": "execute_result"
    }
   ],
   "source": [
    "(listing_inflow_data.employee_id.value_counts() > 1).value_counts()"
   ]
  },
  {
   "cell_type": "markdown",
   "metadata": {
    "slideshow": {
     "slide_type": "skip"
    }
   },
   "source": [
    "761件ほど重複したレコードがある模様。"
   ]
  },
  {
   "cell_type": "markdown",
   "metadata": {
    "slideshow": {
     "slide_type": "skip"
    }
   },
   "source": [
    "register_typeのマスター  \n",
    "\n",
    "0: リード仮登録                 \n",
    "1: 仮登録\n",
    "2: アプローチ               \n",
    "3: 面談待ち\n",
    "4: 面談済み                \n",
    "7: 自社決\n",
    "8: 他社決                   \n",
    "9: 退会\n",
    "10: 年齢NG                \n",
    "11: 条件NG\n",
    "12: 面談日程連絡待ち   \n",
    "13: 無断キャンセル\n",
    "14: 掘り起こし\n",
    "15: 学生NG                \n",
    "16: 経歴NG\n",
    "17: 勤務地NG             \n",
    "18: 経歴待ちステータス\n",
    "19: 情報不備              "
   ]
  },
  {
   "cell_type": "markdown",
   "metadata": {
    "slideshow": {
     "slide_type": "slide"
    }
   },
   "source": [
    "性別"
   ]
  },
  {
   "cell_type": "code",
   "execution_count": 186,
   "metadata": {},
   "outputs": [
    {
     "data": {
      "text/html": [
       "<div>\n",
       "<style scoped>\n",
       "    .dataframe tbody tr th:only-of-type {\n",
       "        vertical-align: middle;\n",
       "    }\n",
       "\n",
       "    .dataframe tbody tr th {\n",
       "        vertical-align: top;\n",
       "    }\n",
       "\n",
       "    .dataframe thead th {\n",
       "        text-align: right;\n",
       "    }\n",
       "</style>\n",
       "<table border=\"1\" class=\"dataframe\">\n",
       "  <thead>\n",
       "    <tr style=\"text-align: right;\">\n",
       "      <th></th>\n",
       "      <th>count</th>\n",
       "      <th>sum</th>\n",
       "      <th>mean</th>\n",
       "    </tr>\n",
       "    <tr>\n",
       "      <th>sex</th>\n",
       "      <th></th>\n",
       "      <th></th>\n",
       "      <th></th>\n",
       "    </tr>\n",
       "  </thead>\n",
       "  <tbody>\n",
       "    <tr>\n",
       "      <th>1</th>\n",
       "      <td>4612</td>\n",
       "      <td>1279</td>\n",
       "      <td>0.27732</td>\n",
       "    </tr>\n",
       "    <tr>\n",
       "      <th>2</th>\n",
       "      <td>4172</td>\n",
       "      <td>880</td>\n",
       "      <td>0.21093</td>\n",
       "    </tr>\n",
       "  </tbody>\n",
       "</table>\n",
       "</div>"
      ],
      "text/plain": [
       "     count   sum     mean\n",
       "sex                      \n",
       "1     4612  1279  0.27732\n",
       "2     4172   880  0.21093"
      ]
     },
     "execution_count": 186,
     "metadata": {},
     "output_type": "execute_result"
    }
   ],
   "source": [
    "listing_inflow_data.groupby('sex')['counseling_flag'].agg([\"count\",np.sum, np.mean])"
   ]
  },
  {
   "cell_type": "markdown",
   "metadata": {
    "slideshow": {
     "slide_type": "slide"
    }
   },
   "source": [
    "関東かどうか"
   ]
  },
  {
   "cell_type": "code",
   "execution_count": 153,
   "metadata": {
    "slideshow": {
     "slide_type": "-"
    }
   },
   "outputs": [
    {
     "data": {
      "text/html": [
       "<div>\n",
       "<style scoped>\n",
       "    .dataframe tbody tr th:only-of-type {\n",
       "        vertical-align: middle;\n",
       "    }\n",
       "\n",
       "    .dataframe tbody tr th {\n",
       "        vertical-align: top;\n",
       "    }\n",
       "\n",
       "    .dataframe thead th {\n",
       "        text-align: right;\n",
       "    }\n",
       "</style>\n",
       "<table border=\"1\" class=\"dataframe\">\n",
       "  <thead>\n",
       "    <tr style=\"text-align: right;\">\n",
       "      <th></th>\n",
       "      <th>count</th>\n",
       "      <th>sum</th>\n",
       "      <th>mean</th>\n",
       "    </tr>\n",
       "    <tr>\n",
       "      <th>kanto_flag</th>\n",
       "      <th></th>\n",
       "      <th></th>\n",
       "      <th></th>\n",
       "    </tr>\n",
       "  </thead>\n",
       "  <tbody>\n",
       "    <tr>\n",
       "      <th>0</th>\n",
       "      <td>919</td>\n",
       "      <td>95</td>\n",
       "      <td>0.103373</td>\n",
       "    </tr>\n",
       "    <tr>\n",
       "      <th>1</th>\n",
       "      <td>7865</td>\n",
       "      <td>2064</td>\n",
       "      <td>0.262428</td>\n",
       "    </tr>\n",
       "  </tbody>\n",
       "</table>\n",
       "</div>"
      ],
      "text/plain": [
       "            count   sum      mean\n",
       "kanto_flag                       \n",
       "0             919    95  0.103373\n",
       "1            7865  2064  0.262428"
      ]
     },
     "execution_count": 153,
     "metadata": {},
     "output_type": "execute_result"
    }
   ],
   "source": [
    "listing_inflow_data.groupby('kanto_flag')['counseling_flag'].agg([\"count\",np.sum, np.mean])"
   ]
  },
  {
   "cell_type": "markdown",
   "metadata": {},
   "source": [
    "関東の方が16%ポイントほど面談率が高い。"
   ]
  },
  {
   "cell_type": "markdown",
   "metadata": {
    "slideshow": {
     "slide_type": "slide"
    }
   },
   "source": [
    "ステータスごとの傾向"
   ]
  },
  {
   "cell_type": "code",
   "execution_count": 154,
   "metadata": {
    "slideshow": {
     "slide_type": "-"
    }
   },
   "outputs": [
    {
     "data": {
      "text/html": [
       "<div>\n",
       "<style scoped>\n",
       "    .dataframe tbody tr th:only-of-type {\n",
       "        vertical-align: middle;\n",
       "    }\n",
       "\n",
       "    .dataframe tbody tr th {\n",
       "        vertical-align: top;\n",
       "    }\n",
       "\n",
       "    .dataframe thead th {\n",
       "        text-align: right;\n",
       "    }\n",
       "</style>\n",
       "<table border=\"1\" class=\"dataframe\">\n",
       "  <thead>\n",
       "    <tr style=\"text-align: right;\">\n",
       "      <th></th>\n",
       "      <th>count</th>\n",
       "      <th>sum</th>\n",
       "      <th>mean</th>\n",
       "    </tr>\n",
       "    <tr>\n",
       "      <th>status</th>\n",
       "      <th></th>\n",
       "      <th></th>\n",
       "      <th></th>\n",
       "    </tr>\n",
       "  </thead>\n",
       "  <tbody>\n",
       "    <tr>\n",
       "      <th>在学中\\n（中退を検討中）</th>\n",
       "      <td>211</td>\n",
       "      <td>23</td>\n",
       "      <td>0.109005</td>\n",
       "    </tr>\n",
       "    <tr>\n",
       "      <th>在学中\\n（中退予定）</th>\n",
       "      <td>408</td>\n",
       "      <td>96</td>\n",
       "      <td>0.235294</td>\n",
       "    </tr>\n",
       "    <tr>\n",
       "      <th>在学中\\n（卒業予定）</th>\n",
       "      <td>1017</td>\n",
       "      <td>79</td>\n",
       "      <td>0.077679</td>\n",
       "    </tr>\n",
       "    <tr>\n",
       "      <th>正社員</th>\n",
       "      <td>2451</td>\n",
       "      <td>446</td>\n",
       "      <td>0.181967</td>\n",
       "    </tr>\n",
       "    <tr>\n",
       "      <th>離職中・フリーター\\n (契約・派遣含む)</th>\n",
       "      <td>4622</td>\n",
       "      <td>1492</td>\n",
       "      <td>0.322804</td>\n",
       "    </tr>\n",
       "  </tbody>\n",
       "</table>\n",
       "</div>"
      ],
      "text/plain": [
       "                       count   sum      mean\n",
       "status                                      \n",
       "在学中\\n（中退を検討中）            211    23  0.109005\n",
       "在学中\\n（中退予定）              408    96  0.235294\n",
       "在学中\\n（卒業予定）             1017    79  0.077679\n",
       "正社員                     2451   446  0.181967\n",
       "離職中・フリーター\\n (契約・派遣含む)   4622  1492  0.322804"
      ]
     },
     "execution_count": 154,
     "metadata": {},
     "output_type": "execute_result"
    }
   ],
   "source": [
    "listing_inflow_data.groupby('status')['counseling_flag'].agg([\"count\",np.sum, np.mean])"
   ]
  },
  {
   "cell_type": "markdown",
   "metadata": {},
   "source": [
    "+ 卒業予定は面談率が低い\n",
    "+ 離職中は面談率が高い"
   ]
  },
  {
   "cell_type": "markdown",
   "metadata": {
    "slideshow": {
     "slide_type": "slide"
    }
   },
   "source": [
    "希望転職時期ごとの傾向"
   ]
  },
  {
   "cell_type": "code",
   "execution_count": 155,
   "metadata": {
    "slideshow": {
     "slide_type": "-"
    }
   },
   "outputs": [
    {
     "data": {
      "text/html": [
       "<div>\n",
       "<style scoped>\n",
       "    .dataframe tbody tr th:only-of-type {\n",
       "        vertical-align: middle;\n",
       "    }\n",
       "\n",
       "    .dataframe tbody tr th {\n",
       "        vertical-align: top;\n",
       "    }\n",
       "\n",
       "    .dataframe thead th {\n",
       "        text-align: right;\n",
       "    }\n",
       "</style>\n",
       "<table border=\"1\" class=\"dataframe\">\n",
       "  <thead>\n",
       "    <tr style=\"text-align: right;\">\n",
       "      <th></th>\n",
       "      <th>count</th>\n",
       "      <th>sum</th>\n",
       "      <th>mean</th>\n",
       "    </tr>\n",
       "    <tr>\n",
       "      <th>career_change_desired_date</th>\n",
       "      <th></th>\n",
       "      <th></th>\n",
       "      <th></th>\n",
       "    </tr>\n",
       "  </thead>\n",
       "  <tbody>\n",
       "    <tr>\n",
       "      <th>1～2ヶ月先</th>\n",
       "      <td>1765</td>\n",
       "      <td>511</td>\n",
       "      <td>0.289518</td>\n",
       "    </tr>\n",
       "    <tr>\n",
       "      <th>3ヶ月以上先</th>\n",
       "      <td>1233</td>\n",
       "      <td>203</td>\n",
       "      <td>0.164639</td>\n",
       "    </tr>\n",
       "    <tr>\n",
       "      <th>できるだけ早く</th>\n",
       "      <td>4646</td>\n",
       "      <td>1243</td>\n",
       "      <td>0.267542</td>\n",
       "    </tr>\n",
       "    <tr>\n",
       "      <th>まだ本当に活動するか決めていない</th>\n",
       "      <td>1065</td>\n",
       "      <td>179</td>\n",
       "      <td>0.168075</td>\n",
       "    </tr>\n",
       "  </tbody>\n",
       "</table>\n",
       "</div>"
      ],
      "text/plain": [
       "                            count   sum      mean\n",
       "career_change_desired_date                       \n",
       "1～2ヶ月先                       1765   511  0.289518\n",
       "3ヶ月以上先                       1233   203  0.164639\n",
       "できるだけ早く                      4646  1243  0.267542\n",
       "まだ本当に活動するか決めていない             1065   179  0.168075"
      ]
     },
     "execution_count": 155,
     "metadata": {},
     "output_type": "execute_result"
    }
   ],
   "source": [
    "listing_inflow_data.groupby('career_change_desired_date')['counseling_flag'].agg([\"count\",np.sum, np.mean])"
   ]
  },
  {
   "cell_type": "markdown",
   "metadata": {},
   "source": [
    "「3ヶ月以上先」と「まだ本当に活動するか決めていない」は同じくらい  \n",
    "「1～2ヶ月先」と「できるだけ早く」は同じくらい"
   ]
  },
  {
   "cell_type": "markdown",
   "metadata": {
    "slideshow": {
     "slide_type": "slide"
    }
   },
   "source": [
    "デバイスごとの傾向"
   ]
  },
  {
   "cell_type": "code",
   "execution_count": 156,
   "metadata": {
    "slideshow": {
     "slide_type": "-"
    }
   },
   "outputs": [
    {
     "data": {
      "text/html": [
       "<div>\n",
       "<style scoped>\n",
       "    .dataframe tbody tr th:only-of-type {\n",
       "        vertical-align: middle;\n",
       "    }\n",
       "\n",
       "    .dataframe tbody tr th {\n",
       "        vertical-align: top;\n",
       "    }\n",
       "\n",
       "    .dataframe thead th {\n",
       "        text-align: right;\n",
       "    }\n",
       "</style>\n",
       "<table border=\"1\" class=\"dataframe\">\n",
       "  <thead>\n",
       "    <tr style=\"text-align: right;\">\n",
       "      <th></th>\n",
       "      <th>count</th>\n",
       "      <th>sum</th>\n",
       "      <th>mean</th>\n",
       "    </tr>\n",
       "    <tr>\n",
       "      <th>device</th>\n",
       "      <th></th>\n",
       "      <th></th>\n",
       "      <th></th>\n",
       "    </tr>\n",
       "  </thead>\n",
       "  <tbody>\n",
       "    <tr>\n",
       "      <th>PC</th>\n",
       "      <td>795</td>\n",
       "      <td>289</td>\n",
       "      <td>0.363522</td>\n",
       "    </tr>\n",
       "    <tr>\n",
       "      <th>SP</th>\n",
       "      <td>7989</td>\n",
       "      <td>1870</td>\n",
       "      <td>0.234072</td>\n",
       "    </tr>\n",
       "  </tbody>\n",
       "</table>\n",
       "</div>"
      ],
      "text/plain": [
       "        count   sum      mean\n",
       "device                       \n",
       "PC        795   289  0.363522\n",
       "SP       7989  1870  0.234072"
      ]
     },
     "execution_count": 156,
     "metadata": {},
     "output_type": "execute_result"
    }
   ],
   "source": [
    "listing_inflow_data.groupby('device')['counseling_flag'].agg([\"count\",np.sum, np.mean])"
   ]
  },
  {
   "cell_type": "markdown",
   "metadata": {},
   "source": [
    "PCの方が面談率が高い"
   ]
  },
  {
   "cell_type": "markdown",
   "metadata": {
    "slideshow": {
     "slide_type": "slide"
    }
   },
   "source": [
    "流入経路ごとの傾向"
   ]
  },
  {
   "cell_type": "code",
   "execution_count": 157,
   "metadata": {
    "slideshow": {
     "slide_type": "-"
    }
   },
   "outputs": [
    {
     "data": {
      "text/html": [
       "<div>\n",
       "<style scoped>\n",
       "    .dataframe tbody tr th:only-of-type {\n",
       "        vertical-align: middle;\n",
       "    }\n",
       "\n",
       "    .dataframe tbody tr th {\n",
       "        vertical-align: top;\n",
       "    }\n",
       "\n",
       "    .dataframe thead th {\n",
       "        text-align: right;\n",
       "    }\n",
       "</style>\n",
       "<table border=\"1\" class=\"dataframe\">\n",
       "  <thead>\n",
       "    <tr style=\"text-align: right;\">\n",
       "      <th></th>\n",
       "      <th>count</th>\n",
       "      <th>sum</th>\n",
       "      <th>mean</th>\n",
       "    </tr>\n",
       "    <tr>\n",
       "      <th>influx_route_midium</th>\n",
       "      <th></th>\n",
       "      <th></th>\n",
       "      <th></th>\n",
       "    </tr>\n",
       "  </thead>\n",
       "  <tbody>\n",
       "    <tr>\n",
       "      <th>Google検索</th>\n",
       "      <td>7540</td>\n",
       "      <td>1903</td>\n",
       "      <td>0.252387</td>\n",
       "    </tr>\n",
       "    <tr>\n",
       "      <th>Yahoo検索</th>\n",
       "      <td>1244</td>\n",
       "      <td>256</td>\n",
       "      <td>0.205788</td>\n",
       "    </tr>\n",
       "  </tbody>\n",
       "</table>\n",
       "</div>"
      ],
      "text/plain": [
       "                     count   sum      mean\n",
       "influx_route_midium                       \n",
       "Google検索              7540  1903  0.252387\n",
       "Yahoo検索               1244   256  0.205788"
      ]
     },
     "execution_count": 157,
     "metadata": {},
     "output_type": "execute_result"
    }
   ],
   "source": [
    "listing_inflow_data.groupby('influx_route_midium')['counseling_flag'].agg([\"count\",np.sum, np.mean])"
   ]
  },
  {
   "cell_type": "markdown",
   "metadata": {},
   "source": [
    "Yahoo!ユーザーは面談率が低い"
   ]
  },
  {
   "cell_type": "markdown",
   "metadata": {
    "slideshow": {
     "slide_type": "slide"
    }
   },
   "source": [
    "流入経路のキャンペーンごとの傾向"
   ]
  },
  {
   "cell_type": "code",
   "execution_count": 158,
   "metadata": {
    "slideshow": {
     "slide_type": "-"
    }
   },
   "outputs": [
    {
     "data": {
      "text/html": [
       "<div>\n",
       "<style scoped>\n",
       "    .dataframe tbody tr th:only-of-type {\n",
       "        vertical-align: middle;\n",
       "    }\n",
       "\n",
       "    .dataframe tbody tr th {\n",
       "        vertical-align: top;\n",
       "    }\n",
       "\n",
       "    .dataframe thead th {\n",
       "        text-align: right;\n",
       "    }\n",
       "</style>\n",
       "<table border=\"1\" class=\"dataframe\">\n",
       "  <thead>\n",
       "    <tr style=\"text-align: right;\">\n",
       "      <th></th>\n",
       "      <th>count</th>\n",
       "      <th>sum</th>\n",
       "      <th>mean</th>\n",
       "    </tr>\n",
       "    <tr>\n",
       "      <th>influx_route_small</th>\n",
       "      <th></th>\n",
       "      <th></th>\n",
       "      <th></th>\n",
       "    </tr>\n",
       "  </thead>\n",
       "  <tbody>\n",
       "    <tr>\n",
       "      <th>ハローワーク軸</th>\n",
       "      <td>2957</td>\n",
       "      <td>531</td>\n",
       "      <td>0.179574</td>\n",
       "    </tr>\n",
       "    <tr>\n",
       "      <th>属性軸_高卒軸</th>\n",
       "      <td>1374</td>\n",
       "      <td>164</td>\n",
       "      <td>0.119360</td>\n",
       "    </tr>\n",
       "    <tr>\n",
       "      <th>属性軸_フリーター軸</th>\n",
       "      <td>1282</td>\n",
       "      <td>363</td>\n",
       "      <td>0.283151</td>\n",
       "    </tr>\n",
       "    <tr>\n",
       "      <th>指名検索軸</th>\n",
       "      <td>1245</td>\n",
       "      <td>680</td>\n",
       "      <td>0.546185</td>\n",
       "    </tr>\n",
       "    <tr>\n",
       "      <th>就職軸_学歴KW軸</th>\n",
       "      <td>548</td>\n",
       "      <td>114</td>\n",
       "      <td>0.208029</td>\n",
       "    </tr>\n",
       "    <tr>\n",
       "      <th>正社員軸</th>\n",
       "      <td>250</td>\n",
       "      <td>43</td>\n",
       "      <td>0.172000</td>\n",
       "    </tr>\n",
       "    <tr>\n",
       "      <th>転職軸</th>\n",
       "      <td>183</td>\n",
       "      <td>73</td>\n",
       "      <td>0.398907</td>\n",
       "    </tr>\n",
       "    <tr>\n",
       "      <th>こだわり軸</th>\n",
       "      <td>165</td>\n",
       "      <td>14</td>\n",
       "      <td>0.084848</td>\n",
       "    </tr>\n",
       "  </tbody>\n",
       "</table>\n",
       "</div>"
      ],
      "text/plain": [
       "                    count  sum      mean\n",
       "influx_route_small                      \n",
       "ハローワーク軸              2957  531  0.179574\n",
       "属性軸_高卒軸              1374  164  0.119360\n",
       "属性軸_フリーター軸           1282  363  0.283151\n",
       "指名検索軸                1245  680  0.546185\n",
       "就職軸_学歴KW軸             548  114  0.208029\n",
       "正社員軸                  250   43  0.172000\n",
       "転職軸                   183   73  0.398907\n",
       "こだわり軸                 165   14  0.084848"
      ]
     },
     "execution_count": 158,
     "metadata": {},
     "output_type": "execute_result"
    }
   ],
   "source": [
    "listing_inflow_data.groupby('influx_route_small')['counseling_flag'].agg([\"count\",np.sum, np.mean]).sort_values(by=\"count\", ascending=False).head(8)"
   ]
  },
  {
   "cell_type": "markdown",
   "metadata": {},
   "source": [
    "+ 指名検索軸は面談率が高い\n",
    "+ 属性軸_高卒軸は面談率が低い"
   ]
  },
  {
   "cell_type": "markdown",
   "metadata": {
    "slideshow": {
     "slide_type": "slide"
    }
   },
   "source": [
    "年齢と面談率の関係"
   ]
  },
  {
   "cell_type": "code",
   "execution_count": 159,
   "metadata": {
    "slideshow": {
     "slide_type": "-"
    }
   },
   "outputs": [
    {
     "data": {
      "text/plain": [
       "<matplotlib.axes._subplots.AxesSubplot at 0x118f74a90>"
      ]
     },
     "execution_count": 159,
     "metadata": {},
     "output_type": "execute_result"
    },
    {
     "data": {
      "image/png": "[encoded data removed]",
      "text/plain": [
       "<Figure size 720x360 with 1 Axes>"
      ]
     },
     "metadata": {},
     "output_type": "display_data"
    }
   ],
   "source": [
    "listing_inflow_data.groupby('age')['counseling_flag'].agg([np.mean]).reset_index().plot(kind=\"scatter\",x=\"age\", y=\"mean\",figsize=(10,5))"
   ]
  },
  {
   "cell_type": "markdown",
   "metadata": {},
   "source": [
    "年齢と面談率は非線形の関係が観察されている。"
   ]
  },
  {
   "cell_type": "code",
   "execution_count": 198,
   "metadata": {
    "slideshow": {
     "slide_type": "slide"
    }
   },
   "outputs": [
    {
     "data": {
      "text/html": [
       "<div>\n",
       "<style scoped>\n",
       "    .dataframe tbody tr th:only-of-type {\n",
       "        vertical-align: middle;\n",
       "    }\n",
       "\n",
       "    .dataframe tbody tr th {\n",
       "        vertical-align: top;\n",
       "    }\n",
       "\n",
       "    .dataframe thead th {\n",
       "        text-align: right;\n",
       "    }\n",
       "</style>\n",
       "<table border=\"1\" class=\"dataframe\">\n",
       "  <thead>\n",
       "    <tr style=\"text-align: right;\">\n",
       "      <th></th>\n",
       "      <th>count</th>\n",
       "      <th>sum</th>\n",
       "      <th>mean</th>\n",
       "    </tr>\n",
       "    <tr>\n",
       "      <th>age_bins</th>\n",
       "      <th></th>\n",
       "      <th></th>\n",
       "      <th></th>\n",
       "    </tr>\n",
       "  </thead>\n",
       "  <tbody>\n",
       "    <tr>\n",
       "      <th>~20</th>\n",
       "      <td>1974</td>\n",
       "      <td>204</td>\n",
       "      <td>0.103343</td>\n",
       "    </tr>\n",
       "    <tr>\n",
       "      <th>21~22</th>\n",
       "      <td>2531</td>\n",
       "      <td>711</td>\n",
       "      <td>0.280917</td>\n",
       "    </tr>\n",
       "    <tr>\n",
       "      <th>23~25</th>\n",
       "      <td>1460</td>\n",
       "      <td>588</td>\n",
       "      <td>0.402740</td>\n",
       "    </tr>\n",
       "    <tr>\n",
       "      <th>26~30</th>\n",
       "      <td>1699</td>\n",
       "      <td>591</td>\n",
       "      <td>0.347852</td>\n",
       "    </tr>\n",
       "    <tr>\n",
       "      <th>31~35</th>\n",
       "      <td>543</td>\n",
       "      <td>65</td>\n",
       "      <td>0.119705</td>\n",
       "    </tr>\n",
       "    <tr>\n",
       "      <th>36~</th>\n",
       "      <td>577</td>\n",
       "      <td>0</td>\n",
       "      <td>0.000000</td>\n",
       "    </tr>\n",
       "  </tbody>\n",
       "</table>\n",
       "</div>"
      ],
      "text/plain": [
       "          count  sum      mean\n",
       "age_bins                      \n",
       "~20        1974  204  0.103343\n",
       "21~22      2531  711  0.280917\n",
       "23~25      1460  588  0.402740\n",
       "26~30      1699  591  0.347852\n",
       "31~35       543   65  0.119705\n",
       "36~         577    0  0.000000"
      ]
     },
     "execution_count": 198,
     "metadata": {},
     "output_type": "execute_result"
    }
   ],
   "source": [
    "bins = [0,20,23,25,30,35,100]\n",
    "labels=[\"~20\",\"21~22\",\"23~25\",\"26~30\",\"31~35\", \"36~\"]\n",
    "listing_inflow_data['age_bins'] = pd.cut(listing_inflow_data['age'], bins=bins, labels=labels, include_lowest=True)\n",
    "listing_inflow_data.groupby('age_bins')['counseling_flag'].agg([\"count\",np.sum, np.mean])"
   ]
  },
  {
   "cell_type": "markdown",
   "metadata": {
    "slideshow": {
     "slide_type": "slide"
    }
   },
   "source": [
    "売上のヒストグラム"
   ]
  },
  {
   "cell_type": "code",
   "execution_count": 180,
   "metadata": {
    "slideshow": {
     "slide_type": "-"
    }
   },
   "outputs": [
    {
     "data": {
      "text/plain": [
       "<matplotlib.axes._subplots.AxesSubplot at 0x11b4281d0>"
      ]
     },
     "execution_count": 180,
     "metadata": {},
     "output_type": "execute_result"
    },
    {
     "data": {
      "image/png": "[encoded data removed]",
      "text/plain": [
       "<Figure size 720x360 with 1 Axes>"
      ]
     },
     "metadata": {},
     "output_type": "display_data"
    }
   ],
   "source": [
    "listing_inflow_data.query(' sales_flag > 0 ').sales.plot.hist(figsize=(10,5))"
   ]
  },
  {
   "cell_type": "markdown",
   "metadata": {},
   "source": [
    "売上が600万円近いものがある。これはおかしそう。"
   ]
  },
  {
   "cell_type": "code",
   "execution_count": 182,
   "metadata": {
    "slideshow": {
     "slide_type": "skip"
    }
   },
   "outputs": [
    {
     "data": {
      "text/plain": [
       "count    4.560000e+02\n",
       "mean     4.245277e+05\n",
       "std      5.456638e+05\n",
       "min     -7.000000e+05\n",
       "25%      3.000000e+05\n",
       "50%      4.500000e+05\n",
       "75%      5.000000e+05\n",
       "max      6.400000e+06\n",
       "Name: sales, dtype: float64"
      ]
     },
     "execution_count": 182,
     "metadata": {},
     "output_type": "execute_result"
    }
   ],
   "source": [
    "listing_inflow_data.query(' sales_flag > 0 ').sales.describe()"
   ]
  },
  {
   "cell_type": "code",
   "execution_count": 161,
   "metadata": {
    "slideshow": {
     "slide_type": "skip"
    }
   },
   "outputs": [
    {
     "data": {
      "text/html": [
       "<div>\n",
       "<style scoped>\n",
       "    .dataframe tbody tr th:only-of-type {\n",
       "        vertical-align: middle;\n",
       "    }\n",
       "\n",
       "    .dataframe tbody tr th {\n",
       "        vertical-align: top;\n",
       "    }\n",
       "\n",
       "    .dataframe thead th {\n",
       "        text-align: right;\n",
       "    }\n",
       "</style>\n",
       "<table border=\"1\" class=\"dataframe\">\n",
       "  <thead>\n",
       "    <tr style=\"text-align: right;\">\n",
       "      <th></th>\n",
       "      <th>employee_id</th>\n",
       "      <th>entry_date</th>\n",
       "      <th>sex</th>\n",
       "      <th>birth</th>\n",
       "      <th>prefecture</th>\n",
       "      <th>status</th>\n",
       "      <th>career_change_desired_date</th>\n",
       "      <th>graduation_year</th>\n",
       "      <th>device</th>\n",
       "      <th>influx_route_big</th>\n",
       "      <th>influx_route_midium</th>\n",
       "      <th>influx_route_small</th>\n",
       "      <th>register_type</th>\n",
       "      <th>counseling_flag</th>\n",
       "      <th>sales</th>\n",
       "      <th>sales_date</th>\n",
       "      <th>age</th>\n",
       "      <th>sales_flag</th>\n",
       "      <th>kanto_flag</th>\n",
       "      <th>entry_month</th>\n",
       "      <th>duplicated_flag</th>\n",
       "    </tr>\n",
       "  </thead>\n",
       "  <tbody>\n",
       "    <tr>\n",
       "      <th>3654</th>\n",
       "      <td>210140</td>\n",
       "      <td>2018-05-23 11:15:25</td>\n",
       "      <td>1</td>\n",
       "      <td>19951231</td>\n",
       "      <td>13</td>\n",
       "      <td>離職中・フリーター\\n (契約・派遣含む)</td>\n",
       "      <td>できるだけ早く</td>\n",
       "      <td>2017</td>\n",
       "      <td>PC</td>\n",
       "      <td>リスティング</td>\n",
       "      <td>Google検索</td>\n",
       "      <td>指名検索軸</td>\n",
       "      <td>4</td>\n",
       "      <td>1</td>\n",
       "      <td>6400000.0</td>\n",
       "      <td>2018-07-11 19:58:58</td>\n",
       "      <td>23</td>\n",
       "      <td>1</td>\n",
       "      <td>1</td>\n",
       "      <td>2018-05-01</td>\n",
       "      <td>1</td>\n",
       "    </tr>\n",
       "    <tr>\n",
       "      <th>3656</th>\n",
       "      <td>210140</td>\n",
       "      <td>2018-05-23 11:15:25</td>\n",
       "      <td>1</td>\n",
       "      <td>19951231</td>\n",
       "      <td>13</td>\n",
       "      <td>離職中・フリーター\\n (契約・派遣含む)</td>\n",
       "      <td>できるだけ早く</td>\n",
       "      <td>2017</td>\n",
       "      <td>PC</td>\n",
       "      <td>リスティング</td>\n",
       "      <td>Google検索</td>\n",
       "      <td>指名検索軸</td>\n",
       "      <td>4</td>\n",
       "      <td>1</td>\n",
       "      <td>6400000.0</td>\n",
       "      <td>2018-07-11 19:58:08</td>\n",
       "      <td>23</td>\n",
       "      <td>1</td>\n",
       "      <td>1</td>\n",
       "      <td>2018-05-01</td>\n",
       "      <td>1</td>\n",
       "    </tr>\n",
       "    <tr>\n",
       "      <th>3657</th>\n",
       "      <td>210140</td>\n",
       "      <td>2018-05-23 11:15:25</td>\n",
       "      <td>1</td>\n",
       "      <td>19951231</td>\n",
       "      <td>13</td>\n",
       "      <td>離職中・フリーター\\n (契約・派遣含む)</td>\n",
       "      <td>できるだけ早く</td>\n",
       "      <td>2017</td>\n",
       "      <td>PC</td>\n",
       "      <td>リスティング</td>\n",
       "      <td>Google検索</td>\n",
       "      <td>指名検索軸</td>\n",
       "      <td>4</td>\n",
       "      <td>1</td>\n",
       "      <td>6400000.0</td>\n",
       "      <td>2018-07-11 19:57:33</td>\n",
       "      <td>23</td>\n",
       "      <td>1</td>\n",
       "      <td>1</td>\n",
       "      <td>2018-05-01</td>\n",
       "      <td>1</td>\n",
       "    </tr>\n",
       "  </tbody>\n",
       "</table>\n",
       "</div>"
      ],
      "text/plain": [
       "      employee_id           entry_date  sex     birth  prefecture  \\\n",
       "3654       210140  2018-05-23 11:15:25    1  19951231          13   \n",
       "3656       210140  2018-05-23 11:15:25    1  19951231          13   \n",
       "3657       210140  2018-05-23 11:15:25    1  19951231          13   \n",
       "\n",
       "                     status career_change_desired_date graduation_year device  \\\n",
       "3654  離職中・フリーター\\n (契約・派遣含む)                    できるだけ早く            2017     PC   \n",
       "3656  離職中・フリーター\\n (契約・派遣含む)                    できるだけ早く            2017     PC   \n",
       "3657  離職中・フリーター\\n (契約・派遣含む)                    できるだけ早く            2017     PC   \n",
       "\n",
       "     influx_route_big influx_route_midium influx_route_small  register_type  \\\n",
       "3654           リスティング            Google検索              指名検索軸              4   \n",
       "3656           リスティング            Google検索              指名検索軸              4   \n",
       "3657           リスティング            Google検索              指名検索軸              4   \n",
       "\n",
       "      counseling_flag      sales           sales_date  age  sales_flag  \\\n",
       "3654                1  6400000.0  2018-07-11 19:58:58   23           1   \n",
       "3656                1  6400000.0  2018-07-11 19:58:08   23           1   \n",
       "3657                1  6400000.0  2018-07-11 19:57:33   23           1   \n",
       "\n",
       "      kanto_flag entry_month  duplicated_flag  \n",
       "3654           1  2018-05-01                1  \n",
       "3656           1  2018-05-01                1  \n",
       "3657           1  2018-05-01                1  "
      ]
     },
     "execution_count": 161,
     "metadata": {},
     "output_type": "execute_result"
    }
   ],
   "source": [
    "listing_inflow_data.query(' sales > 3000000 ')"
   ]
  },
  {
   "cell_type": "markdown",
   "metadata": {
    "slideshow": {
     "slide_type": "skip"
    }
   },
   "source": [
    "jupyter nbconvert --to slides \"/Users/sakaue/PythonScripts/HC/Listing/HC_Listing_Interview_Analysis.ipynb\" --post servem"
   ]
  },
  {
   "cell_type": "code",
   "execution_count": 162,
   "metadata": {
    "scrolled": false,
    "slideshow": {
     "slide_type": "slide"
    }
   },
   "outputs": [
    {
     "data": {
      "text/plain": [
       "array([<matplotlib.axes._subplots.AxesSubplot object at 0x119cbdeb8>,\n",
       "       <matplotlib.axes._subplots.AxesSubplot object at 0x119dabd30>],\n",
       "      dtype=object)"
      ]
     },
     "execution_count": 162,
     "metadata": {},
     "output_type": "execute_result"
    },
    {
     "data": {
      "image/png": "[encoded data removed]",
      "text/plain": [
       "<Figure size 720x360 with 2 Axes>"
      ]
     },
     "metadata": {},
     "output_type": "display_data"
    }
   ],
   "source": [
    "pd.DataFrame(pd.pivot_table(data=listing_inflow_data , fill_value=0, index=\"device\", columns=\"entry_month\",aggfunc = {  'entry_month' : 'count' } ).transpose().to_records()).iloc[:, 1:].plot(subplots=True,x=\"entry_month\",figsize=(10,5))"
   ]
  },
  {
   "cell_type": "code",
   "execution_count": 163,
   "metadata": {
    "slideshow": {
     "slide_type": "slide"
    }
   },
   "outputs": [
    {
     "data": {
      "text/plain": [
       "array([<matplotlib.axes._subplots.AxesSubplot object at 0x119e2c940>,\n",
       "       <matplotlib.axes._subplots.AxesSubplot object at 0x119f220b8>,\n",
       "       <matplotlib.axes._subplots.AxesSubplot object at 0x119f49630>,\n",
       "       <matplotlib.axes._subplots.AxesSubplot object at 0x119f72ba8>],\n",
       "      dtype=object)"
      ]
     },
     "execution_count": 163,
     "metadata": {},
     "output_type": "execute_result"
    },
    {
     "data": {
      "image/png": "[encoded data removed]",
      "text/plain": [
       "<Figure size 720x360 with 4 Axes>"
      ]
     },
     "metadata": {},
     "output_type": "display_data"
    }
   ],
   "source": [
    "pd.DataFrame(pd.pivot_table(data=listing_inflow_data , fill_value=0, index=\"career_change_desired_date\", columns=\"entry_month\",aggfunc = {  'entry_month' : 'count' } ).transpose().to_records()).iloc[:, 1:].plot(subplots=True,x=\"entry_month\",figsize=(10,5))"
   ]
  },
  {
   "cell_type": "code",
   "execution_count": 164,
   "metadata": {
    "slideshow": {
     "slide_type": "slide"
    }
   },
   "outputs": [
    {
     "data": {
      "text/plain": [
       "array([<matplotlib.axes._subplots.AxesSubplot object at 0x11a047cf8>,\n",
       "       <matplotlib.axes._subplots.AxesSubplot object at 0x11a1443c8>,\n",
       "       <matplotlib.axes._subplots.AxesSubplot object at 0x11a16a940>,\n",
       "       <matplotlib.axes._subplots.AxesSubplot object at 0x11a193eb8>,\n",
       "       <matplotlib.axes._subplots.AxesSubplot object at 0x11a1c4470>],\n",
       "      dtype=object)"
      ]
     },
     "execution_count": 164,
     "metadata": {},
     "output_type": "execute_result"
    },
    {
     "data": {
      "image/png": "[encoded data removed]",
      "text/plain": [
       "<Figure size 720x720 with 5 Axes>"
      ]
     },
     "metadata": {},
     "output_type": "display_data"
    }
   ],
   "source": [
    "pd.DataFrame(pd.pivot_table(data=listing_inflow_data , fill_value=0, index=\"status\", columns=\"entry_month\",aggfunc = {  'entry_month' : 'count' } ).transpose().to_records()).iloc[:, 1:].plot(subplots=True,x=\"entry_month\",figsize=(10,10))"
   ]
  },
  {
   "cell_type": "code",
   "execution_count": 165,
   "metadata": {
    "slideshow": {
     "slide_type": "slide"
    }
   },
   "outputs": [
    {
     "data": {
      "text/plain": [
       "array([<matplotlib.axes._subplots.AxesSubplot object at 0x11a296fd0>,\n",
       "       <matplotlib.axes._subplots.AxesSubplot object at 0x11a4207b8>,\n",
       "       <matplotlib.axes._subplots.AxesSubplot object at 0x11a447d30>,\n",
       "       <matplotlib.axes._subplots.AxesSubplot object at 0x11a4792e8>,\n",
       "       <matplotlib.axes._subplots.AxesSubplot object at 0x11a49f860>],\n",
       "      dtype=object)"
      ]
     },
     "execution_count": 165,
     "metadata": {},
     "output_type": "execute_result"
    },
    {
     "data": {
      "image/png": "[encoded data removed]",
      "text/plain": [
       "<Figure size 720x360 with 5 Axes>"
      ]
     },
     "metadata": {},
     "output_type": "display_data"
    }
   ],
   "source": [
    "pd.DataFrame(pd.pivot_table(data=listing_inflow_data , fill_value=0, index=\"prefecture\", columns=\"entry_month\",aggfunc = {  'entry_month' : 'count' } ).transpose().to_records()).iloc[:, 1:].plot(subplots=True,x=\"entry_month\",figsize=(10,5))"
   ]
  },
  {
   "cell_type": "code",
   "execution_count": 166,
   "metadata": {
    "slideshow": {
     "slide_type": "slide"
    }
   },
   "outputs": [
    {
     "data": {
      "text/plain": [
       "array([<matplotlib.axes._subplots.AxesSubplot object at 0x11a5bd1d0>],\n",
       "      dtype=object)"
      ]
     },
     "execution_count": 166,
     "metadata": {},
     "output_type": "execute_result"
    },
    {
     "data": {
      "image/png": "[encoded data removed]",
      "text/plain": [
       "<Figure size 720x360 with 1 Axes>"
      ]
     },
     "metadata": {},
     "output_type": "display_data"
    }
   ],
   "source": [
    "pd.DataFrame(pd.pivot_table(data=listing_inflow_data , fill_value=0, index=\"influx_route_big\", columns=\"entry_month\",aggfunc = {  'entry_month' : 'count' } ).transpose().to_records()).iloc[:, 1:].plot(subplots=True,x=\"entry_month\",figsize=(10,5))"
   ]
  },
  {
   "cell_type": "code",
   "execution_count": 167,
   "metadata": {
    "slideshow": {
     "slide_type": "slide"
    }
   },
   "outputs": [
    {
     "data": {
      "text/plain": [
       "array([<matplotlib.axes._subplots.AxesSubplot object at 0x11a6da198>,\n",
       "       <matplotlib.axes._subplots.AxesSubplot object at 0x11a7b4860>],\n",
       "      dtype=object)"
      ]
     },
     "execution_count": 167,
     "metadata": {},
     "output_type": "execute_result"
    },
    {
     "data": {
      "image/png": "[encoded data removed]",
      "text/plain": [
       "<Figure size 720x360 with 2 Axes>"
      ]
     },
     "metadata": {},
     "output_type": "display_data"
    }
   ],
   "source": [
    "pd.DataFrame(pd.pivot_table(data=listing_inflow_data , fill_value=0, index=\"influx_route_midium\", columns=\"entry_month\",aggfunc = {  'entry_month' : 'count' } ).transpose().to_records()).iloc[:, 1:].plot(subplots=True,x=\"entry_month\",figsize=(10,5))"
   ]
  },
  {
   "cell_type": "code",
   "execution_count": 168,
   "metadata": {
    "slideshow": {
     "slide_type": "slide"
    }
   },
   "outputs": [
    {
     "data": {
      "text/plain": [
       "array([<matplotlib.axes._subplots.AxesSubplot object at 0x11a8220f0>,\n",
       "       <matplotlib.axes._subplots.AxesSubplot object at 0x11a86deb8>,\n",
       "       <matplotlib.axes._subplots.AxesSubplot object at 0x11a9533c8>,\n",
       "       <matplotlib.axes._subplots.AxesSubplot object at 0x11a979940>,\n",
       "       <matplotlib.axes._subplots.AxesSubplot object at 0x11a9a1eb8>,\n",
       "       <matplotlib.axes._subplots.AxesSubplot object at 0x11a9a1ef0>,\n",
       "       <matplotlib.axes._subplots.AxesSubplot object at 0x11a9fa9e8>,\n",
       "       <matplotlib.axes._subplots.AxesSubplot object at 0x11aa24f60>,\n",
       "       <matplotlib.axes._subplots.AxesSubplot object at 0x11aa56518>,\n",
       "       <matplotlib.axes._subplots.AxesSubplot object at 0x11aa7da90>,\n",
       "       <matplotlib.axes._subplots.AxesSubplot object at 0x11aab0048>,\n",
       "       <matplotlib.axes._subplots.AxesSubplot object at 0x11aad75c0>,\n",
       "       <matplotlib.axes._subplots.AxesSubplot object at 0x11ab01b38>,\n",
       "       <matplotlib.axes._subplots.AxesSubplot object at 0x11ab340f0>,\n",
       "       <matplotlib.axes._subplots.AxesSubplot object at 0x11ab5d668>,\n",
       "       <matplotlib.axes._subplots.AxesSubplot object at 0x11ab85be0>,\n",
       "       <matplotlib.axes._subplots.AxesSubplot object at 0x11abb6198>,\n",
       "       <matplotlib.axes._subplots.AxesSubplot object at 0x11abdc710>,\n",
       "       <matplotlib.axes._subplots.AxesSubplot object at 0x11ac06c88>,\n",
       "       <matplotlib.axes._subplots.AxesSubplot object at 0x11ac38240>,\n",
       "       <matplotlib.axes._subplots.AxesSubplot object at 0x11ac627b8>,\n",
       "       <matplotlib.axes._subplots.AxesSubplot object at 0x11ac8ad30>,\n",
       "       <matplotlib.axes._subplots.AxesSubplot object at 0x11acbc2e8>,\n",
       "       <matplotlib.axes._subplots.AxesSubplot object at 0x11ace3860>],\n",
       "      dtype=object)"
      ]
     },
     "execution_count": 168,
     "metadata": {},
     "output_type": "execute_result"
    },
    {
     "data": {
      "image/png": "[encoded data removed]",
      "text/plain": [
       "<Figure size 720x1800 with 24 Axes>"
      ]
     },
     "metadata": {},
     "output_type": "display_data"
    }
   ],
   "source": [
    "pd.DataFrame(pd.pivot_table(data=listing_inflow_data , fill_value=0, index=\"influx_route_small\", columns=\"entry_month\",aggfunc = {  'entry_month' : 'count' } ).transpose().to_records()).iloc[:, 1:].plot(subplots=True,x=\"entry_month\",figsize=(10,25))"
   ]
  },
  {
   "cell_type": "code",
   "execution_count": 169,
   "metadata": {},
   "outputs": [
    {
     "data": {
      "text/plain": [
       "array([<matplotlib.axes._subplots.AxesSubplot object at 0x11b0a86a0>,\n",
       "       <matplotlib.axes._subplots.AxesSubplot object at 0x11b1b9ba8>],\n",
       "      dtype=object)"
      ]
     },
     "execution_count": 169,
     "metadata": {},
     "output_type": "execute_result"
    },
    {
     "data": {
      "image/png": "[encoded data removed]",
      "text/plain": [
       "<Figure size 720x360 with 2 Axes>"
      ]
     },
     "metadata": {},
     "output_type": "display_data"
    }
   ],
   "source": [
    "pd.DataFrame(pd.pivot_table(data=listing_inflow_data , fill_value=0, index=\"duplicated_flag\", columns=\"entry_month\",aggfunc = {  'entry_month' : 'count' } ).transpose().to_records()).iloc[:, 1:].plot(subplots=True,x=\"entry_month\",figsize=(10,5))"
   ]
  },
  {
   "cell_type": "markdown",
   "metadata": {},
   "source": [
    "重複フラグの発生は一定の割合で発生している模様。"
   ]
  },
  {
   "cell_type": "markdown",
   "metadata": {},
   "source": [
    "重複ユーザーを除外して分析進めていく。"
   ]
  },
  {
   "cell_type": "code",
   "execution_count": 200,
   "metadata": {},
   "outputs": [
    {
     "data": {
      "text/html": [
       "<div>\n",
       "<style scoped>\n",
       "    .dataframe tbody tr th:only-of-type {\n",
       "        vertical-align: middle;\n",
       "    }\n",
       "\n",
       "    .dataframe tbody tr th {\n",
       "        vertical-align: top;\n",
       "    }\n",
       "\n",
       "    .dataframe thead th {\n",
       "        text-align: right;\n",
       "    }\n",
       "</style>\n",
       "<table border=\"1\" class=\"dataframe\">\n",
       "  <thead>\n",
       "    <tr style=\"text-align: right;\">\n",
       "      <th></th>\n",
       "      <th>employee_id</th>\n",
       "      <th>entry_date</th>\n",
       "      <th>sex</th>\n",
       "      <th>birth</th>\n",
       "      <th>prefecture</th>\n",
       "      <th>status</th>\n",
       "      <th>career_change_desired_date</th>\n",
       "      <th>graduation_year</th>\n",
       "      <th>device</th>\n",
       "      <th>influx_route_big</th>\n",
       "      <th>influx_route_midium</th>\n",
       "      <th>influx_route_small</th>\n",
       "      <th>register_type</th>\n",
       "      <th>counseling_flag</th>\n",
       "      <th>sales</th>\n",
       "      <th>sales_date</th>\n",
       "      <th>age</th>\n",
       "      <th>sales_flag</th>\n",
       "      <th>kanto_flag</th>\n",
       "      <th>entry_month</th>\n",
       "      <th>duplicated_flag</th>\n",
       "      <th>age_bins</th>\n",
       "    </tr>\n",
       "  </thead>\n",
       "  <tbody>\n",
       "    <tr>\n",
       "      <th>0</th>\n",
       "      <td>133168</td>\n",
       "      <td>2018-02-09 0:00:56</td>\n",
       "      <td>1</td>\n",
       "      <td>19961231</td>\n",
       "      <td>12</td>\n",
       "      <td>離職中・フリーター\\n (契約・派遣含む)</td>\n",
       "      <td>3ヶ月以上先</td>\n",
       "      <td>2016年以前</td>\n",
       "      <td>SP</td>\n",
       "      <td>リスティング</td>\n",
       "      <td>Google検索</td>\n",
       "      <td>属性軸_大卒軸</td>\n",
       "      <td>4</td>\n",
       "      <td>1</td>\n",
       "      <td>NaN</td>\n",
       "      <td>NaN</td>\n",
       "      <td>22</td>\n",
       "      <td>0</td>\n",
       "      <td>1</td>\n",
       "      <td>2018-02-01</td>\n",
       "      <td>0</td>\n",
       "      <td>21~22</td>\n",
       "    </tr>\n",
       "    <tr>\n",
       "      <th>1</th>\n",
       "      <td>133188</td>\n",
       "      <td>2018-02-09 1:23:10</td>\n",
       "      <td>2</td>\n",
       "      <td>19901231</td>\n",
       "      <td>13</td>\n",
       "      <td>在学中\\n（卒業予定）</td>\n",
       "      <td>できるだけ早く</td>\n",
       "      <td>2018</td>\n",
       "      <td>SP</td>\n",
       "      <td>リスティング</td>\n",
       "      <td>Google検索</td>\n",
       "      <td>ハローワーク軸</td>\n",
       "      <td>18</td>\n",
       "      <td>0</td>\n",
       "      <td>NaN</td>\n",
       "      <td>NaN</td>\n",
       "      <td>28</td>\n",
       "      <td>0</td>\n",
       "      <td>1</td>\n",
       "      <td>2018-02-01</td>\n",
       "      <td>0</td>\n",
       "      <td>26~30</td>\n",
       "    </tr>\n",
       "    <tr>\n",
       "      <th>2</th>\n",
       "      <td>133202</td>\n",
       "      <td>2018-02-09 2:27:15</td>\n",
       "      <td>1</td>\n",
       "      <td>19951231</td>\n",
       "      <td>13</td>\n",
       "      <td>離職中・フリーター\\n (契約・派遣含む)</td>\n",
       "      <td>まだ本当に活動するか決めていない</td>\n",
       "      <td>2016年以前</td>\n",
       "      <td>SP</td>\n",
       "      <td>リスティング</td>\n",
       "      <td>Google検索</td>\n",
       "      <td>属性軸_高卒軸</td>\n",
       "      <td>2</td>\n",
       "      <td>0</td>\n",
       "      <td>NaN</td>\n",
       "      <td>NaN</td>\n",
       "      <td>23</td>\n",
       "      <td>0</td>\n",
       "      <td>1</td>\n",
       "      <td>2018-02-01</td>\n",
       "      <td>0</td>\n",
       "      <td>21~22</td>\n",
       "    </tr>\n",
       "  </tbody>\n",
       "</table>\n",
       "</div>"
      ],
      "text/plain": [
       "   employee_id          entry_date  sex     birth  prefecture  \\\n",
       "0       133168  2018-02-09 0:00:56    1  19961231          12   \n",
       "1       133188  2018-02-09 1:23:10    2  19901231          13   \n",
       "2       133202  2018-02-09 2:27:15    1  19951231          13   \n",
       "\n",
       "                  status career_change_desired_date graduation_year device  \\\n",
       "0  離職中・フリーター\\n (契約・派遣含む)                     3ヶ月以上先         2016年以前     SP   \n",
       "1            在学中\\n（卒業予定）                    できるだけ早く            2018     SP   \n",
       "2  離職中・フリーター\\n (契約・派遣含む)           まだ本当に活動するか決めていない         2016年以前     SP   \n",
       "\n",
       "  influx_route_big influx_route_midium influx_route_small  register_type  \\\n",
       "0           リスティング            Google検索            属性軸_大卒軸              4   \n",
       "1           リスティング            Google検索            ハローワーク軸             18   \n",
       "2           リスティング            Google検索            属性軸_高卒軸              2   \n",
       "\n",
       "   counseling_flag  sales sales_date  age  sales_flag  kanto_flag entry_month  \\\n",
       "0                1    NaN        NaN   22           0           1  2018-02-01   \n",
       "1                0    NaN        NaN   28           0           1  2018-02-01   \n",
       "2                0    NaN        NaN   23           0           1  2018-02-01   \n",
       "\n",
       "   duplicated_flag age_bins  \n",
       "0                0    21~22  \n",
       "1                0    26~30  \n",
       "2                0    21~22  "
      ]
     },
     "execution_count": 200,
     "metadata": {},
     "output_type": "execute_result"
    }
   ],
   "source": [
    "train_dataset = listing_inflow_data[listing_inflow_data.duplicated_flag == 0].reset_index(drop=True)\n",
    "train_dataset.head(3)"
   ]
  },
  {
   "cell_type": "code",
   "execution_count": 203,
   "metadata": {
    "collapsed": true
   },
   "outputs": [],
   "source": [
    "#ダミー変数の作成\n",
    "train_dataset['career_change_desired_date'] = pd.Categorical(train_dataset['career_change_desired_date'] )\n",
    "train_dataset['status'] = pd.Categorical(train_dataset['status'] )\n",
    "train_dataset['prefecture'] = pd.Categorical(train_dataset['prefecture'] )\n",
    "train_dataset['sex'] = pd.Categorical(train_dataset['sex'] )\n",
    "train_dataset['influx_route_midium'] = pd.Categorical(train_dataset['influx_route_midium'] )\n",
    "train_dataset['influx_route_small'] = pd.Categorical(train_dataset['influx_route_small'] )\n",
    "train_dataset['age_bins'] = pd.Categorical(train_dataset['age_bins'] )\n",
    "train_dataset['device'] = pd.Categorical(train_dataset['device'] )\n",
    "\n",
    "\n",
    "career_change_desired_date_dummy = pd.get_dummies(train_dataset['career_change_desired_date'] ,drop_first=True)\n",
    "status_dummy = pd.get_dummies(train_dataset['status'] ,drop_first=True)\n",
    "prefecture_dummy = pd.get_dummies(train_dataset['prefecture'] ,drop_first=True)\n",
    "sex_dummy = pd.get_dummies(train_dataset['sex'] ,drop_first=True)\n",
    "influx_route_midium_dummy = pd.get_dummies(train_dataset['influx_route_midium'] ,drop_first=True)\n",
    "influx_route_small_dummy = pd.get_dummies(train_dataset['influx_route_small'] ,drop_first=True)\n",
    "age_bins_dummy = pd.get_dummies(train_dataset['age_bins'] ,drop_first=True)\n",
    "device_dummy = pd.get_dummies(train_dataset['device'] ,drop_first=True)"
   ]
  },
  {
   "cell_type": "code",
   "execution_count": 204,
   "metadata": {},
   "outputs": [
    {
     "data": {
      "text/html": [
       "<div>\n",
       "<style scoped>\n",
       "    .dataframe tbody tr th:only-of-type {\n",
       "        vertical-align: middle;\n",
       "    }\n",
       "\n",
       "    .dataframe tbody tr th {\n",
       "        vertical-align: top;\n",
       "    }\n",
       "\n",
       "    .dataframe thead th {\n",
       "        text-align: right;\n",
       "    }\n",
       "</style>\n",
       "<table border=\"1\" class=\"dataframe\">\n",
       "  <thead>\n",
       "    <tr style=\"text-align: right;\">\n",
       "      <th></th>\n",
       "      <th>在学中\n",
       "（中退予定）</th>\n",
       "      <th>在学中\n",
       "（卒業予定）</th>\n",
       "      <th>正社員</th>\n",
       "      <th>離職中・フリーター\n",
       " (契約・派遣含む)</th>\n",
       "    </tr>\n",
       "  </thead>\n",
       "  <tbody>\n",
       "    <tr>\n",
       "      <th>0</th>\n",
       "      <td>0</td>\n",
       "      <td>0</td>\n",
       "      <td>0</td>\n",
       "      <td>1</td>\n",
       "    </tr>\n",
       "    <tr>\n",
       "      <th>1</th>\n",
       "      <td>0</td>\n",
       "      <td>1</td>\n",
       "      <td>0</td>\n",
       "      <td>0</td>\n",
       "    </tr>\n",
       "    <tr>\n",
       "      <th>2</th>\n",
       "      <td>0</td>\n",
       "      <td>0</td>\n",
       "      <td>0</td>\n",
       "      <td>1</td>\n",
       "    </tr>\n",
       "  </tbody>\n",
       "</table>\n",
       "</div>"
      ],
      "text/plain": [
       "   在学中\\n（中退予定）  在学中\\n（卒業予定）  正社員  離職中・フリーター\\n (契約・派遣含む)\n",
       "0            0            0    0                      1\n",
       "1            0            1    0                      0\n",
       "2            0            0    0                      1"
      ]
     },
     "execution_count": 204,
     "metadata": {},
     "output_type": "execute_result"
    }
   ],
   "source": [
    "status_dummy.head(3)"
   ]
  },
  {
   "cell_type": "code",
   "execution_count": 205,
   "metadata": {},
   "outputs": [
    {
     "data": {
      "text/html": [
       "<div>\n",
       "<style scoped>\n",
       "    .dataframe tbody tr th:only-of-type {\n",
       "        vertical-align: middle;\n",
       "    }\n",
       "\n",
       "    .dataframe tbody tr th {\n",
       "        vertical-align: top;\n",
       "    }\n",
       "\n",
       "    .dataframe thead th {\n",
       "        text-align: right;\n",
       "    }\n",
       "</style>\n",
       "<table border=\"1\" class=\"dataframe\">\n",
       "  <thead>\n",
       "    <tr style=\"text-align: right;\">\n",
       "      <th></th>\n",
       "      <th>3ヶ月以上先</th>\n",
       "      <th>できるだけ早く</th>\n",
       "      <th>まだ本当に活動するか決めていない</th>\n",
       "    </tr>\n",
       "  </thead>\n",
       "  <tbody>\n",
       "    <tr>\n",
       "      <th>0</th>\n",
       "      <td>1</td>\n",
       "      <td>0</td>\n",
       "      <td>0</td>\n",
       "    </tr>\n",
       "    <tr>\n",
       "      <th>1</th>\n",
       "      <td>0</td>\n",
       "      <td>1</td>\n",
       "      <td>0</td>\n",
       "    </tr>\n",
       "    <tr>\n",
       "      <th>2</th>\n",
       "      <td>0</td>\n",
       "      <td>0</td>\n",
       "      <td>1</td>\n",
       "    </tr>\n",
       "  </tbody>\n",
       "</table>\n",
       "</div>"
      ],
      "text/plain": [
       "   3ヶ月以上先  できるだけ早く  まだ本当に活動するか決めていない\n",
       "0       1        0                 0\n",
       "1       0        1                 0\n",
       "2       0        0                 1"
      ]
     },
     "execution_count": 205,
     "metadata": {},
     "output_type": "execute_result"
    }
   ],
   "source": [
    "career_change_desired_date_dummy.head(3)"
   ]
  },
  {
   "cell_type": "code",
   "execution_count": 206,
   "metadata": {},
   "outputs": [
    {
     "data": {
      "text/html": [
       "<div>\n",
       "<style scoped>\n",
       "    .dataframe tbody tr th:only-of-type {\n",
       "        vertical-align: middle;\n",
       "    }\n",
       "\n",
       "    .dataframe tbody tr th {\n",
       "        vertical-align: top;\n",
       "    }\n",
       "\n",
       "    .dataframe thead th {\n",
       "        text-align: right;\n",
       "    }\n",
       "</style>\n",
       "<table border=\"1\" class=\"dataframe\">\n",
       "  <thead>\n",
       "    <tr style=\"text-align: right;\">\n",
       "      <th></th>\n",
       "      <th>12</th>\n",
       "      <th>13</th>\n",
       "      <th>14</th>\n",
       "      <th>27</th>\n",
       "    </tr>\n",
       "  </thead>\n",
       "  <tbody>\n",
       "    <tr>\n",
       "      <th>0</th>\n",
       "      <td>1</td>\n",
       "      <td>0</td>\n",
       "      <td>0</td>\n",
       "      <td>0</td>\n",
       "    </tr>\n",
       "    <tr>\n",
       "      <th>1</th>\n",
       "      <td>0</td>\n",
       "      <td>1</td>\n",
       "      <td>0</td>\n",
       "      <td>0</td>\n",
       "    </tr>\n",
       "    <tr>\n",
       "      <th>2</th>\n",
       "      <td>0</td>\n",
       "      <td>1</td>\n",
       "      <td>0</td>\n",
       "      <td>0</td>\n",
       "    </tr>\n",
       "  </tbody>\n",
       "</table>\n",
       "</div>"
      ],
      "text/plain": [
       "   12  13  14  27\n",
       "0   1   0   0   0\n",
       "1   0   1   0   0\n",
       "2   0   1   0   0"
      ]
     },
     "execution_count": 206,
     "metadata": {},
     "output_type": "execute_result"
    }
   ],
   "source": [
    "prefecture_dummy.head(3)"
   ]
  },
  {
   "cell_type": "code",
   "execution_count": 207,
   "metadata": {},
   "outputs": [
    {
     "data": {
      "text/html": [
       "<div>\n",
       "<style scoped>\n",
       "    .dataframe tbody tr th:only-of-type {\n",
       "        vertical-align: middle;\n",
       "    }\n",
       "\n",
       "    .dataframe tbody tr th {\n",
       "        vertical-align: top;\n",
       "    }\n",
       "\n",
       "    .dataframe thead th {\n",
       "        text-align: right;\n",
       "    }\n",
       "</style>\n",
       "<table border=\"1\" class=\"dataframe\">\n",
       "  <thead>\n",
       "    <tr style=\"text-align: right;\">\n",
       "      <th></th>\n",
       "      <th>2</th>\n",
       "    </tr>\n",
       "  </thead>\n",
       "  <tbody>\n",
       "    <tr>\n",
       "      <th>0</th>\n",
       "      <td>0</td>\n",
       "    </tr>\n",
       "    <tr>\n",
       "      <th>1</th>\n",
       "      <td>1</td>\n",
       "    </tr>\n",
       "    <tr>\n",
       "      <th>2</th>\n",
       "      <td>0</td>\n",
       "    </tr>\n",
       "  </tbody>\n",
       "</table>\n",
       "</div>"
      ],
      "text/plain": [
       "   2\n",
       "0  0\n",
       "1  1\n",
       "2  0"
      ]
     },
     "execution_count": 207,
     "metadata": {},
     "output_type": "execute_result"
    }
   ],
   "source": [
    "sex_dummy.head(3)"
   ]
  },
  {
   "cell_type": "code",
   "execution_count": 208,
   "metadata": {},
   "outputs": [
    {
     "data": {
      "text/html": [
       "<div>\n",
       "<style scoped>\n",
       "    .dataframe tbody tr th:only-of-type {\n",
       "        vertical-align: middle;\n",
       "    }\n",
       "\n",
       "    .dataframe tbody tr th {\n",
       "        vertical-align: top;\n",
       "    }\n",
       "\n",
       "    .dataframe thead th {\n",
       "        text-align: right;\n",
       "    }\n",
       "</style>\n",
       "<table border=\"1\" class=\"dataframe\">\n",
       "  <thead>\n",
       "    <tr style=\"text-align: right;\">\n",
       "      <th></th>\n",
       "      <th>Yahoo検索</th>\n",
       "    </tr>\n",
       "  </thead>\n",
       "  <tbody>\n",
       "    <tr>\n",
       "      <th>0</th>\n",
       "      <td>0</td>\n",
       "    </tr>\n",
       "    <tr>\n",
       "      <th>1</th>\n",
       "      <td>0</td>\n",
       "    </tr>\n",
       "    <tr>\n",
       "      <th>2</th>\n",
       "      <td>0</td>\n",
       "    </tr>\n",
       "  </tbody>\n",
       "</table>\n",
       "</div>"
      ],
      "text/plain": [
       "   Yahoo検索\n",
       "0        0\n",
       "1        0\n",
       "2        0"
      ]
     },
     "execution_count": 208,
     "metadata": {},
     "output_type": "execute_result"
    }
   ],
   "source": [
    "influx_route_midium_dummy.head(3)"
   ]
  },
  {
   "cell_type": "code",
   "execution_count": 209,
   "metadata": {},
   "outputs": [
    {
     "data": {
      "text/html": [
       "<div>\n",
       "<style scoped>\n",
       "    .dataframe tbody tr th:only-of-type {\n",
       "        vertical-align: middle;\n",
       "    }\n",
       "\n",
       "    .dataframe tbody tr th {\n",
       "        vertical-align: top;\n",
       "    }\n",
       "\n",
       "    .dataframe thead th {\n",
       "        text-align: right;\n",
       "    }\n",
       "</style>\n",
       "<table border=\"1\" class=\"dataframe\">\n",
       "  <thead>\n",
       "    <tr style=\"text-align: right;\">\n",
       "      <th></th>\n",
       "      <th>こだわり軸</th>\n",
       "      <th>セミナー</th>\n",
       "      <th>ハローワーク軸</th>\n",
       "      <th>フリーター軸</th>\n",
       "      <th>地域軸</th>\n",
       "      <th>地域軸_高卒</th>\n",
       "      <th>大卒軸</th>\n",
       "      <th>就職軸_学歴KW軸</th>\n",
       "      <th>属性軸</th>\n",
       "      <th>属性軸_フリーター軸</th>\n",
       "      <th>属性軸_大卒軸</th>\n",
       "      <th>属性軸_第二新卒軸</th>\n",
       "      <th>属性軸_高卒軸</th>\n",
       "      <th>指名検索軸</th>\n",
       "      <th>支援軸</th>\n",
       "      <th>既卒軸</th>\n",
       "      <th>正社員軸</th>\n",
       "      <th>相談軸</th>\n",
       "      <th>第二新卒軸</th>\n",
       "      <th>職種軸</th>\n",
       "      <th>転職軸</th>\n",
       "      <th>雇用形態軸</th>\n",
       "      <th>高卒軸</th>\n",
       "    </tr>\n",
       "  </thead>\n",
       "  <tbody>\n",
       "    <tr>\n",
       "      <th>0</th>\n",
       "      <td>0</td>\n",
       "      <td>0</td>\n",
       "      <td>0</td>\n",
       "      <td>0</td>\n",
       "      <td>0</td>\n",
       "      <td>0</td>\n",
       "      <td>0</td>\n",
       "      <td>0</td>\n",
       "      <td>0</td>\n",
       "      <td>0</td>\n",
       "      <td>1</td>\n",
       "      <td>0</td>\n",
       "      <td>0</td>\n",
       "      <td>0</td>\n",
       "      <td>0</td>\n",
       "      <td>0</td>\n",
       "      <td>0</td>\n",
       "      <td>0</td>\n",
       "      <td>0</td>\n",
       "      <td>0</td>\n",
       "      <td>0</td>\n",
       "      <td>0</td>\n",
       "      <td>0</td>\n",
       "    </tr>\n",
       "    <tr>\n",
       "      <th>1</th>\n",
       "      <td>0</td>\n",
       "      <td>0</td>\n",
       "      <td>1</td>\n",
       "      <td>0</td>\n",
       "      <td>0</td>\n",
       "      <td>0</td>\n",
       "      <td>0</td>\n",
       "      <td>0</td>\n",
       "      <td>0</td>\n",
       "      <td>0</td>\n",
       "      <td>0</td>\n",
       "      <td>0</td>\n",
       "      <td>0</td>\n",
       "      <td>0</td>\n",
       "      <td>0</td>\n",
       "      <td>0</td>\n",
       "      <td>0</td>\n",
       "      <td>0</td>\n",
       "      <td>0</td>\n",
       "      <td>0</td>\n",
       "      <td>0</td>\n",
       "      <td>0</td>\n",
       "      <td>0</td>\n",
       "    </tr>\n",
       "    <tr>\n",
       "      <th>2</th>\n",
       "      <td>0</td>\n",
       "      <td>0</td>\n",
       "      <td>0</td>\n",
       "      <td>0</td>\n",
       "      <td>0</td>\n",
       "      <td>0</td>\n",
       "      <td>0</td>\n",
       "      <td>0</td>\n",
       "      <td>0</td>\n",
       "      <td>0</td>\n",
       "      <td>0</td>\n",
       "      <td>0</td>\n",
       "      <td>1</td>\n",
       "      <td>0</td>\n",
       "      <td>0</td>\n",
       "      <td>0</td>\n",
       "      <td>0</td>\n",
       "      <td>0</td>\n",
       "      <td>0</td>\n",
       "      <td>0</td>\n",
       "      <td>0</td>\n",
       "      <td>0</td>\n",
       "      <td>0</td>\n",
       "    </tr>\n",
       "  </tbody>\n",
       "</table>\n",
       "</div>"
      ],
      "text/plain": [
       "   こだわり軸  セミナー  ハローワーク軸  フリーター軸  地域軸  地域軸_高卒  大卒軸  就職軸_学歴KW軸  属性軸  属性軸_フリーター軸  \\\n",
       "0      0     0        0       0    0       0    0          0    0           0   \n",
       "1      0     0        1       0    0       0    0          0    0           0   \n",
       "2      0     0        0       0    0       0    0          0    0           0   \n",
       "\n",
       "   属性軸_大卒軸  属性軸_第二新卒軸  属性軸_高卒軸  指名検索軸  支援軸  既卒軸  正社員軸  相談軸  第二新卒軸  職種軸  転職軸  \\\n",
       "0        1          0        0      0    0    0     0    0      0    0    0   \n",
       "1        0          0        0      0    0    0     0    0      0    0    0   \n",
       "2        0          0        1      0    0    0     0    0      0    0    0   \n",
       "\n",
       "   雇用形態軸  高卒軸  \n",
       "0      0    0  \n",
       "1      0    0  \n",
       "2      0    0  "
      ]
     },
     "execution_count": 209,
     "metadata": {},
     "output_type": "execute_result"
    }
   ],
   "source": [
    "influx_route_small_dummy.head(3)"
   ]
  },
  {
   "cell_type": "code",
   "execution_count": 210,
   "metadata": {},
   "outputs": [
    {
     "data": {
      "text/html": [
       "<div>\n",
       "<style scoped>\n",
       "    .dataframe tbody tr th:only-of-type {\n",
       "        vertical-align: middle;\n",
       "    }\n",
       "\n",
       "    .dataframe tbody tr th {\n",
       "        vertical-align: top;\n",
       "    }\n",
       "\n",
       "    .dataframe thead th {\n",
       "        text-align: right;\n",
       "    }\n",
       "</style>\n",
       "<table border=\"1\" class=\"dataframe\">\n",
       "  <thead>\n",
       "    <tr style=\"text-align: right;\">\n",
       "      <th></th>\n",
       "      <th>21~22</th>\n",
       "      <th>23~25</th>\n",
       "      <th>26~30</th>\n",
       "      <th>31~35</th>\n",
       "      <th>36~</th>\n",
       "    </tr>\n",
       "  </thead>\n",
       "  <tbody>\n",
       "    <tr>\n",
       "      <th>0</th>\n",
       "      <td>1</td>\n",
       "      <td>0</td>\n",
       "      <td>0</td>\n",
       "      <td>0</td>\n",
       "      <td>0</td>\n",
       "    </tr>\n",
       "    <tr>\n",
       "      <th>1</th>\n",
       "      <td>0</td>\n",
       "      <td>0</td>\n",
       "      <td>1</td>\n",
       "      <td>0</td>\n",
       "      <td>0</td>\n",
       "    </tr>\n",
       "    <tr>\n",
       "      <th>2</th>\n",
       "      <td>1</td>\n",
       "      <td>0</td>\n",
       "      <td>0</td>\n",
       "      <td>0</td>\n",
       "      <td>0</td>\n",
       "    </tr>\n",
       "  </tbody>\n",
       "</table>\n",
       "</div>"
      ],
      "text/plain": [
       "   21~22  23~25  26~30  31~35  36~\n",
       "0      1      0      0      0    0\n",
       "1      0      0      1      0    0\n",
       "2      1      0      0      0    0"
      ]
     },
     "execution_count": 210,
     "metadata": {},
     "output_type": "execute_result"
    }
   ],
   "source": [
    "age_bins_dummy.head(3)"
   ]
  },
  {
   "cell_type": "code",
   "execution_count": 219,
   "metadata": {},
   "outputs": [
    {
     "data": {
      "text/html": [
       "<div>\n",
       "<style scoped>\n",
       "    .dataframe tbody tr th:only-of-type {\n",
       "        vertical-align: middle;\n",
       "    }\n",
       "\n",
       "    .dataframe tbody tr th {\n",
       "        vertical-align: top;\n",
       "    }\n",
       "\n",
       "    .dataframe thead th {\n",
       "        text-align: right;\n",
       "    }\n",
       "</style>\n",
       "<table border=\"1\" class=\"dataframe\">\n",
       "  <thead>\n",
       "    <tr style=\"text-align: right;\">\n",
       "      <th></th>\n",
       "      <th>counseling_flag</th>\n",
       "      <th>sales_flag</th>\n",
       "      <th>在学中\n",
       "（中退予定）</th>\n",
       "      <th>在学中\n",
       "（卒業予定）</th>\n",
       "      <th>正社員</th>\n",
       "      <th>離職中・フリーター\n",
       " (契約・派遣含む)</th>\n",
       "      <th>3ヶ月以上先</th>\n",
       "      <th>できるだけ早く</th>\n",
       "      <th>まだ本当に活動するか決めていない</th>\n",
       "      <th>12</th>\n",
       "      <th>13</th>\n",
       "      <th>14</th>\n",
       "      <th>27</th>\n",
       "      <th>2</th>\n",
       "      <th>Yahoo検索</th>\n",
       "      <th>こだわり軸</th>\n",
       "      <th>セミナー</th>\n",
       "      <th>ハローワーク軸</th>\n",
       "      <th>フリーター軸</th>\n",
       "      <th>地域軸</th>\n",
       "      <th>...</th>\n",
       "      <th>属性軸</th>\n",
       "      <th>属性軸_フリーター軸</th>\n",
       "      <th>属性軸_大卒軸</th>\n",
       "      <th>属性軸_第二新卒軸</th>\n",
       "      <th>属性軸_高卒軸</th>\n",
       "      <th>指名検索軸</th>\n",
       "      <th>支援軸</th>\n",
       "      <th>既卒軸</th>\n",
       "      <th>正社員軸</th>\n",
       "      <th>相談軸</th>\n",
       "      <th>第二新卒軸</th>\n",
       "      <th>職種軸</th>\n",
       "      <th>転職軸</th>\n",
       "      <th>雇用形態軸</th>\n",
       "      <th>高卒軸</th>\n",
       "      <th>21~22</th>\n",
       "      <th>23~25</th>\n",
       "      <th>26~30</th>\n",
       "      <th>31~35</th>\n",
       "      <th>36~</th>\n",
       "    </tr>\n",
       "  </thead>\n",
       "  <tbody>\n",
       "    <tr>\n",
       "      <th>0</th>\n",
       "      <td>1</td>\n",
       "      <td>0</td>\n",
       "      <td>0</td>\n",
       "      <td>0</td>\n",
       "      <td>0</td>\n",
       "      <td>1</td>\n",
       "      <td>1</td>\n",
       "      <td>0</td>\n",
       "      <td>0</td>\n",
       "      <td>1</td>\n",
       "      <td>0</td>\n",
       "      <td>0</td>\n",
       "      <td>0</td>\n",
       "      <td>0</td>\n",
       "      <td>0</td>\n",
       "      <td>0</td>\n",
       "      <td>0</td>\n",
       "      <td>0</td>\n",
       "      <td>0</td>\n",
       "      <td>0</td>\n",
       "      <td>...</td>\n",
       "      <td>0</td>\n",
       "      <td>0</td>\n",
       "      <td>1</td>\n",
       "      <td>0</td>\n",
       "      <td>0</td>\n",
       "      <td>0</td>\n",
       "      <td>0</td>\n",
       "      <td>0</td>\n",
       "      <td>0</td>\n",
       "      <td>0</td>\n",
       "      <td>0</td>\n",
       "      <td>0</td>\n",
       "      <td>0</td>\n",
       "      <td>0</td>\n",
       "      <td>0</td>\n",
       "      <td>1</td>\n",
       "      <td>0</td>\n",
       "      <td>0</td>\n",
       "      <td>0</td>\n",
       "      <td>0</td>\n",
       "    </tr>\n",
       "    <tr>\n",
       "      <th>1</th>\n",
       "      <td>0</td>\n",
       "      <td>0</td>\n",
       "      <td>0</td>\n",
       "      <td>1</td>\n",
       "      <td>0</td>\n",
       "      <td>0</td>\n",
       "      <td>0</td>\n",
       "      <td>1</td>\n",
       "      <td>0</td>\n",
       "      <td>0</td>\n",
       "      <td>1</td>\n",
       "      <td>0</td>\n",
       "      <td>0</td>\n",
       "      <td>1</td>\n",
       "      <td>0</td>\n",
       "      <td>0</td>\n",
       "      <td>0</td>\n",
       "      <td>1</td>\n",
       "      <td>0</td>\n",
       "      <td>0</td>\n",
       "      <td>...</td>\n",
       "      <td>0</td>\n",
       "      <td>0</td>\n",
       "      <td>0</td>\n",
       "      <td>0</td>\n",
       "      <td>0</td>\n",
       "      <td>0</td>\n",
       "      <td>0</td>\n",
       "      <td>0</td>\n",
       "      <td>0</td>\n",
       "      <td>0</td>\n",
       "      <td>0</td>\n",
       "      <td>0</td>\n",
       "      <td>0</td>\n",
       "      <td>0</td>\n",
       "      <td>0</td>\n",
       "      <td>0</td>\n",
       "      <td>0</td>\n",
       "      <td>1</td>\n",
       "      <td>0</td>\n",
       "      <td>0</td>\n",
       "    </tr>\n",
       "    <tr>\n",
       "      <th>2</th>\n",
       "      <td>0</td>\n",
       "      <td>0</td>\n",
       "      <td>0</td>\n",
       "      <td>0</td>\n",
       "      <td>0</td>\n",
       "      <td>1</td>\n",
       "      <td>0</td>\n",
       "      <td>0</td>\n",
       "      <td>1</td>\n",
       "      <td>0</td>\n",
       "      <td>1</td>\n",
       "      <td>0</td>\n",
       "      <td>0</td>\n",
       "      <td>0</td>\n",
       "      <td>0</td>\n",
       "      <td>0</td>\n",
       "      <td>0</td>\n",
       "      <td>0</td>\n",
       "      <td>0</td>\n",
       "      <td>0</td>\n",
       "      <td>...</td>\n",
       "      <td>0</td>\n",
       "      <td>0</td>\n",
       "      <td>0</td>\n",
       "      <td>0</td>\n",
       "      <td>1</td>\n",
       "      <td>0</td>\n",
       "      <td>0</td>\n",
       "      <td>0</td>\n",
       "      <td>0</td>\n",
       "      <td>0</td>\n",
       "      <td>0</td>\n",
       "      <td>0</td>\n",
       "      <td>0</td>\n",
       "      <td>0</td>\n",
       "      <td>0</td>\n",
       "      <td>1</td>\n",
       "      <td>0</td>\n",
       "      <td>0</td>\n",
       "      <td>0</td>\n",
       "      <td>0</td>\n",
       "    </tr>\n",
       "  </tbody>\n",
       "</table>\n",
       "<p>3 rows × 43 columns</p>\n",
       "</div>"
      ],
      "text/plain": [
       "   counseling_flag  sales_flag  在学中\\n（中退予定）  在学中\\n（卒業予定）  正社員  \\\n",
       "0                1           0            0            0    0   \n",
       "1                0           0            0            1    0   \n",
       "2                0           0            0            0    0   \n",
       "\n",
       "   離職中・フリーター\\n (契約・派遣含む)  3ヶ月以上先  できるだけ早く  まだ本当に活動するか決めていない  12  13  14  27  \\\n",
       "0                      1       1        0                 0   1   0   0   0   \n",
       "1                      0       0        1                 0   0   1   0   0   \n",
       "2                      1       0        0                 1   0   1   0   0   \n",
       "\n",
       "   2  Yahoo検索  こだわり軸  セミナー  ハローワーク軸  フリーター軸  地域軸 ...   属性軸  属性軸_フリーター軸  \\\n",
       "0  0        0      0     0        0       0    0 ...     0           0   \n",
       "1  1        0      0     0        1       0    0 ...     0           0   \n",
       "2  0        0      0     0        0       0    0 ...     0           0   \n",
       "\n",
       "   属性軸_大卒軸  属性軸_第二新卒軸  属性軸_高卒軸  指名検索軸  支援軸  既卒軸  正社員軸  相談軸  第二新卒軸  職種軸  転職軸  \\\n",
       "0        1          0        0      0    0    0     0    0      0    0    0   \n",
       "1        0          0        0      0    0    0     0    0      0    0    0   \n",
       "2        0          0        1      0    0    0     0    0      0    0    0   \n",
       "\n",
       "   雇用形態軸  高卒軸  21~22  23~25  26~30  31~35  36~  \n",
       "0      0    0      1      0      0      0    0  \n",
       "1      0    0      0      0      1      0    0  \n",
       "2      0    0      1      0      0      0    0  \n",
       "\n",
       "[3 rows x 43 columns]"
      ]
     },
     "execution_count": 219,
     "metadata": {},
     "output_type": "execute_result"
    }
   ],
   "source": [
    "train = train_dataset[[\"counseling_flag\", \"sales_flag\"]]\n",
    "train = pd.concat([ train, \n",
    "                                   status_dummy, \n",
    "                                   career_change_desired_date_dummy,\n",
    "                                   prefecture_dummy,\n",
    "                                   sex_dummy,\n",
    "                                   influx_route_midium_dummy,\n",
    "                                   influx_route_small_dummy,\n",
    "                                   age_bins_dummy], axis=1)\n",
    "train.head(3)"
   ]
  },
  {
   "cell_type": "code",
   "execution_count": 220,
   "metadata": {
    "collapsed": true
   },
   "outputs": [],
   "source": [
    "from sklearn.cross_validation import train_test_split\n",
    "\n",
    "from sklearn.metrics import confusion_matrix\n",
    "from sklearn.metrics import roc_auc_score\n",
    "from sklearn.metrics import f1_score\n",
    "from sklearn.metrics import  precision_score, recall_score\n",
    "\n",
    "from sklearn.ensemble import RandomForestClassifier\n",
    "from sklearn.ensemble import GradientBoostingClassifier\n",
    "\n",
    "from sklearn.model_selection import GridSearchCV\n",
    "from sklearn.metrics import make_scorer\n",
    "from imblearn.under_sampling import RandomUnderSampler\n",
    "\n",
    "from sklearn.preprocessing import StandardScaler "
   ]
  },
  {
   "cell_type": "markdown",
   "metadata": {},
   "source": [
    "+ 訓練データ\n",
    "+ テストデータ（二度漬け禁止）"
   ]
  },
  {
   "cell_type": "code",
   "execution_count": 227,
   "metadata": {},
   "outputs": [
    {
     "name": "stdout",
     "output_type": "stream",
     "text": [
      "positive count: 987\n",
      "5608\n"
     ]
    }
   ],
   "source": [
    "data_train_s, data_test_s, label_train_s, label_test_s = train_test_split(train.iloc[:,2:], train.iloc[:,0],  train_size=0.8,random_state=1)\n",
    "\n",
    "sc = StandardScaler(with_mean=False)\n",
    "sc.fit(data_train_s)\n",
    "data_train_s_std = sc.transform(data_train_s)\n",
    "data_test_s_std = sc.transform(data_test_s)\n",
    "\n",
    "# 稼働のサンプル数をカウント\n",
    "positive_count_train = label_train_s.sum()\n",
    "print('positive count: {}'.format(positive_count_train))\n",
    "print(len(label_train_s))"
   ]
  },
  {
   "cell_type": "code",
   "execution_count": 229,
   "metadata": {},
   "outputs": [
    {
     "data": {
      "text/plain": [
       "41"
      ]
     },
     "execution_count": 229,
     "metadata": {},
     "output_type": "execute_result"
    }
   ],
   "source": [
    "data_train_s_std[0].size"
   ]
  },
  {
   "cell_type": "code",
   "execution_count": 230,
   "metadata": {},
   "outputs": [
    {
     "name": "stdout",
     "output_type": "stream",
     "text": [
      "train_resampled.shape: (3948, 41), labels_train_resampled: (3948,)\n",
      "labels_train_resampled:\n",
      "0    2961\n",
      "1     987\n",
      "dtype: int64\n"
     ]
    }
   ],
   "source": [
    "positive_ratio = 3\n",
    "\n",
    "rus = RandomUnderSampler(ratio={1:positive_count_train, 0:positive_count_train*positive_ratio}, random_state=1)\n",
    "train_resampled, labels_train_resampled = rus.fit_sample(data_train_s_std, label_train_s)\n",
    "\n",
    "print('train_resampled.shape: {}, labels_train_resampled: {}'.format(train_resampled.shape, labels_train_resampled.shape))\n",
    "print('labels_train_resampled:\\n{}'.format(pd.Series(labels_train_resampled).value_counts()))"
   ]
  },
  {
   "cell_type": "code",
   "execution_count": 252,
   "metadata": {},
   "outputs": [
    {
     "name": "stderr",
     "output_type": "stream",
     "text": [
      "/Users/sakaue/anaconda3/lib/python3.6/site-packages/sklearn/utils/validation.py:578: DataConversionWarning: A column-vector y was passed when a 1d array was expected. Please change the shape of y to (n_samples, ), for example using ravel().\n",
      "  y = column_or_1d(y, warn=True)\n"
     ]
    },
    {
     "name": "stdout",
     "output_type": "stream",
     "text": [
      "1：0.7577117981158386\n",
      "2：0.7698095823095824\n",
      "3：0.795437482937483\n",
      "4：0.7700996450996451\n",
      "5：0.7238602238602239\n",
      "6：0.7603228228228228\n",
      "7：0.7333299208299209\n",
      "8：0.7667367622724766\n",
      "9：0.7411231384445669\n",
      "10：0.7291781577495863\n"
     ]
    },
    {
     "data": {
      "image/png": "[encoded data removed]",
      "text/plain": [
       "<Figure size 576x576 with 1 Axes>"
      ]
     },
     "metadata": {},
     "output_type": "display_data"
    },
    {
     "name": "stdout",
     "output_type": "stream",
     "text": [
      "0.7542652698197321\n"
     ]
    }
   ],
   "source": [
    "from sklearn.metrics import roc_curve, auc\n",
    "import numpy as np\n",
    "from scipy import interp\n",
    "import matplotlib.pyplot as plt\n",
    "from itertools import cycle\n",
    "from pylab import rcParams\n",
    "\n",
    "from sklearn.model_selection import StratifiedKFold\n",
    "from sklearn import svm\n",
    "\n",
    "rcParams['figure.figsize'] = 8,8\n",
    "\n",
    "random_state = np.random.RandomState(0)\n",
    "\n",
    "# Run classifier with cross-validation and plot ROC curves\n",
    "cv = StratifiedKFold(n_splits=10)\n",
    "classifier = svm.SVC( kernel='rbf', probability=True,\n",
    "                     random_state=random_state,\n",
    "                        class_weight='balanced',\n",
    "                        C =10,gamma=0.0015)\n",
    "\n",
    "tprs = []\n",
    "aucs = []\n",
    "mean_fpr = np.linspace(0, 1, 100)\n",
    "\n",
    "\n",
    "target_label      = pd.DataFrame(labels_train_resampled,index=list(range(len(labels_train_resampled))))\n",
    "target_dataset = pd.DataFrame(train_resampled,index=list(range(len(train_resampled))))\n",
    "\n",
    "i = 0\n",
    "for train, test in cv.split(train_resampled, labels_train_resampled):\n",
    "    probas_ = classifier.fit(train_resampled[target_dataset.index.isin(train) ],\n",
    "                                            target_label[target_label.index.isin(train) ]).predict_proba(train_resampled[target_dataset.index.isin(test) ])\n",
    "    # Compute ROC curve and area the curve\n",
    "    fpr, tpr, thresholds = roc_curve(target_label[target_label.index.isin(test) ], probas_[:, 1])\n",
    "    tprs.append(interp(mean_fpr, fpr, tpr))\n",
    "    tprs[-1][0] = 0.0\n",
    "    roc_auc = auc(fpr, tpr)\n",
    "    aucs.append(roc_auc)\n",
    "    plt.plot(fpr, tpr, lw=1, alpha=0.3,\n",
    "             label='ROC fold %d (AUC = %0.2f)' % (i, roc_auc))\n",
    "\n",
    "    i += 1\n",
    "    print(str(i) + \"：\" + str(roc_auc))\n",
    "    \n",
    "plt.plot([0, 1], [0, 1], linestyle='--', lw=2, color='r',\n",
    "         label='Luck', alpha=.8)\n",
    "\n",
    "mean_tpr = np.mean(tprs, axis=0)\n",
    "mean_tpr[-1] = 1.0\n",
    "mean_auc = auc(mean_fpr, mean_tpr)\n",
    "std_auc = np.std(aucs)\n",
    "plt.plot(mean_fpr, mean_tpr, color='b',\n",
    "         label=r'Mean ROC (AUC = %0.2f $\\pm$ %0.2f)' % (mean_auc, std_auc),\n",
    "         lw=2, alpha=.8)\n",
    "\n",
    "std_tpr = np.std(tprs, axis=0)\n",
    "tprs_upper = np.minimum(mean_tpr + std_tpr, 1)\n",
    "tprs_lower = np.maximum(mean_tpr - std_tpr, 0)\n",
    "plt.fill_between(mean_fpr, tprs_lower, tprs_upper, color='grey', alpha=.2,\n",
    "                 label=r'$\\pm$ 1 std. dev.')\n",
    "\n",
    "plt.xlim([-0.05, 1.05])\n",
    "plt.ylim([-0.05, 1.05])\n",
    "plt.xlabel('False Positive Rate')\n",
    "plt.ylabel('True Positive Rate')\n",
    "plt.title('Receiver operating characteristic example')\n",
    "plt.legend(loc=\"lower right\")\n",
    "plt.show()\n",
    "\n",
    "print(mean_auc)"
   ]
  },
  {
   "cell_type": "markdown",
   "metadata": {},
   "source": [
    "+ C =0.3,gamma=0.0004で0.747\n",
    "+ C =1,gamma=0.01で0.74969\n",
    "+ C =0.5,gamma=0.05で0.73329\n",
    "+ C =1,gamma=0.001で0.7519\n",
    "+ C =2,gamma=0.001で0.75325\n",
    "+ C =10,gamma=0.001で0.75389"
   ]
  },
  {
   "cell_type": "code",
   "execution_count": 253,
   "metadata": {},
   "outputs": [
    {
     "name": "stdout",
     "output_type": "stream",
     "text": [
      "Train score: 0.672\n",
      "Test score: 0.677\n",
      "Confusion matrix:\n",
      "[[776 378]\n",
      " [ 75 173]]\n",
      "Precision score: 0.314\n",
      "Recall score: 0.698\n",
      "f1 score: 0.433\n",
      "AUC score: 0.685\n"
     ]
    }
   ],
   "source": [
    "from sklearn.svm import SVC\n",
    "# SVMのインスタンスを生成\n",
    "#デフォルトではRBFカーネルで、C=1.0, gamma= 1/特徴数 となっている。\n",
    "#特徴の数が多いと線形がいいらしい。\n",
    "\n",
    "model = SVC(kernel='rbf', random_state=1, #rbf\n",
    "                        class_weight='balanced',\n",
    "                        C =10,gamma=0.0015) #\n",
    "\n",
    "# モデルの学習。fit関数で行う。\n",
    "model.fit(train_resampled, labels_train_resampled)\n",
    "\n",
    "print('Train score: {:.3f}'.format(model.score(data_train_s_std, label_train_s)))\n",
    "print('Test score: {:.3f}'.format(model.score(data_test_s_std, label_test_s)))\n",
    "print('Confusion matrix:\\n{}'.format(confusion_matrix(label_test_s, model.predict(data_test_s_std))))\n",
    "\n",
    "print('Precision score: {:.3f}'.format(precision_score(label_test_s, model.predict(data_test_s_std))))\n",
    "print('Recall score: {:.3f}'.format(recall_score(label_test_s, model.predict(data_test_s_std))))\n",
    "\n",
    "print('f1 score: {:.3f}'.format(f1_score(label_test_s, model.predict(data_test_s_std))))\n",
    "print('AUC score: {:.3f}'.format(roc_auc_score(label_test_s, model.predict(data_test_s_std))))"
   ]
  },
  {
   "cell_type": "code",
   "execution_count": 254,
   "metadata": {},
   "outputs": [
    {
     "data": {
      "text/plain": [
       "0.17599857346647646"
      ]
     },
     "execution_count": 254,
     "metadata": {},
     "output_type": "execute_result"
    }
   ],
   "source": [
    "label_train_s.mean()"
   ]
  },
  {
   "cell_type": "code",
   "execution_count": 255,
   "metadata": {},
   "outputs": [
    {
     "data": {
      "text/plain": [
       "0.1768901569186876"
      ]
     },
     "execution_count": 255,
     "metadata": {},
     "output_type": "execute_result"
    }
   ],
   "source": [
    "label_test_s.mean()"
   ]
  },
  {
   "cell_type": "code",
   "execution_count": null,
   "metadata": {
    "collapsed": true
   },
   "outputs": [],
   "source": []
  }
 ],
 "metadata": {
  "celltoolbar": "Slideshow",
  "kernelspec": {
   "display_name": "Python 3",
   "language": "python",
   "name": "python3"
  },
  "language_info": {
   "codemirror_mode": {
    "name": "ipython",
    "version": 3
   },
   "file_extension": ".py",
   "mimetype": "text/x-python",
   "name": "python",
   "nbconvert_exporter": "python",
   "pygments_lexer": "ipython3",
   "version": "3.6.1"
  },
  "toc": {
   "nav_menu": {},
   "number_sections": true,
   "sideBar": true,
   "skip_h1_title": false,
   "title_cell": "Table of Contents",
   "title_sidebar": "Contents",
   "toc_cell": false,
   "toc_position": {},
   "toc_section_display": true,
   "toc_window_display": false
  }
 },
 "nbformat": 4,
 "nbformat_minor": 2
}
