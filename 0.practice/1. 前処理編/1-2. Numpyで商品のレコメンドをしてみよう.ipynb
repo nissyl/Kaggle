{
 "cells": [
  {
   "cell_type": "markdown",
   "metadata": {},
   "source": [
    "# 1-2. Numpyで商品のレコメンドをしてみよう"
   ]
  },
  {
   "cell_type": "markdown",
   "metadata": {},
   "source": [
    "協調フィルタリングという手法を簡易的に使います。\n",
    "購入履歴が似ている顧客を探し、その顧客が購入している商品を参考にします。\n",
    "\n",
    "下記の手順でレコメンド商品を求めます（括弧内は結果を代入する変数）。\n",
    "\n",
    "ファイルから行列の読込（data0）\n",
    "顧客の絞り込み（data1）\n",
    "相関係数の計算（data2）\n",
    "相関係数の高い順のインデックス取得（data3）\n",
    "相関の高い顧客（参考顧客）の選択（ref_id）\n",
    "商品番号行列の作成（data4）\n",
    "参考顧客との共通部分（data5）\n",
    "参考顧客の差集合（data6）"
   ]
  },
  {
   "cell_type": "code",
   "execution_count": null,
   "metadata": {
    "collapsed": true
   },
   "outputs": [],
   "source": [
    "import numpy as np\n",
    "\n",
    "# 顧客ごと商品ごとの販売実績を行列の読込\n",
    "data0 = np.load('dataset/log_sale.npy')\n",
    "data0.shape  # 顧客数と商品数"
   ]
  },
  {
   "cell_type": "code",
   "execution_count": null,
   "metadata": {
    "collapsed": true
   },
   "outputs": [],
   "source": [
    "# 購入数が3以上の顧客\n",
    "data1 = data0[data0.sum(1) >= 3]\n",
    "data1.sum(1)"
   ]
  },
  {
   "cell_type": "code",
   "execution_count": null,
   "metadata": {
    "collapsed": true
   },
   "outputs": [],
   "source": [
    "# 商品数\n",
    "num = data1.shape[1]"
   ]
  },
  {
   "cell_type": "code",
   "execution_count": null,
   "metadata": {
    "collapsed": true
   },
   "outputs": [],
   "source": [
    "# 相関行列から、target_id行目の相関係数ベクトルの取得\n",
    "target_id = 0  # レコメンド対象の顧客\n",
    "data2 = np.corrcoef(data1)[target_id]\n",
    "data2"
   ]
  },
  {
   "cell_type": "code",
   "execution_count": null,
   "metadata": {
    "collapsed": true
   },
   "outputs": [],
   "source": [
    "# 相関係数の高い順のインデックス取得\n",
    "data3 = (-data2).argsort()\n",
    "data3"
   ]
  },
  {
   "cell_type": "code",
   "execution_count": null,
   "metadata": {
    "collapsed": true
   },
   "outputs": [],
   "source": [
    "# 参考顧客の選択\n",
    "ref_id = data3[1]\n",
    "ref_id"
   ]
  },
  {
   "cell_type": "code",
   "execution_count": null,
   "metadata": {
    "collapsed": true
   },
   "outputs": [],
   "source": []
  },
  {
   "cell_type": "code",
   "execution_count": null,
   "metadata": {
    "collapsed": true
   },
   "outputs": [],
   "source": []
  }
 ],
 "metadata": {
  "kernelspec": {
   "display_name": "Python 3",
   "language": "python",
   "name": "python3"
  },
  "language_info": {
   "codemirror_mode": {
    "name": "ipython",
    "version": 3
   },
   "file_extension": ".py",
   "mimetype": "text/x-python",
   "name": "python",
   "nbconvert_exporter": "python",
   "pygments_lexer": "ipython3",
   "version": "3.6.1"
  }
 },
 "nbformat": 4,
 "nbformat_minor": 2
}
