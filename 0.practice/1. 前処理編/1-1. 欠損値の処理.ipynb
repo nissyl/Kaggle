{
 "cells": [
  {
   "cell_type": "markdown",
   "metadata": {},
   "source": [
    "# 1-1-1. pandasで欠損値を扱う方法を学ぼう"
   ]
  },
  {
   "cell_type": "code",
   "execution_count": null,
   "metadata": {
    "collapsed": true
   },
   "outputs": [],
   "source": [
    "# 売上データのcsvファイルの読込み(ファイルは)\n",
    "\n",
    "# 列ごとに欠損値かどうか調べる\n",
    "df_log_isnull_column = df_log.isnull().any(0)"
   ]
  },
  {
   "cell_type": "code",
   "execution_count": null,
   "metadata": {
    "collapsed": true
   },
   "outputs": [],
   "source": [
    "# 欠損値をカウントします\n",
    "df_null_count = df_log.isnull().sum()"
   ]
  },
  {
   "cell_type": "code",
   "execution_count": null,
   "metadata": {
    "collapsed": true
   },
   "outputs": [],
   "source": [
    "# 欠損値ではない個数をカウントします\n",
    "df_log_count = df_log.count()\n",
    "df_log_count\n",
    "\n",
    "# 欠損値をカウントします\n",
    "len(df_log) - df_log.count()"
   ]
  },
  {
   "cell_type": "markdown",
   "metadata": {},
   "source": [
    "#  1-1-2 欠損値を含むデータの削除を学ぼう"
   ]
  },
  {
   "cell_type": "code",
   "execution_count": null,
   "metadata": {
    "collapsed": true
   },
   "outputs": [],
   "source": [
    "# 欠損値でない数\n",
    "df_log.count()"
   ]
  },
  {
   "cell_type": "code",
   "execution_count": null,
   "metadata": {
    "collapsed": true
   },
   "outputs": [],
   "source": [
    "# dropna で欠損値を1つでも含む行を削除\n",
    "df_log_dropna = df_log.dropna()\n",
    "df_log_dropna.count()\n",
    "\n",
    "# dropna(1) で欠損値を1つでも含む列を削除\n",
    "df_log_dropna2 = df_log.dropna(1)\n",
    "df_log_dropna2.count()"
   ]
  },
  {
   "cell_type": "code",
   "execution_count": null,
   "metadata": {
    "collapsed": true
   },
   "outputs": [],
   "source": [
    "# dropna(subset=['Date', 'Product']) で Date列とProduct列のみ欠損値を1つでも含む行を削除\n",
    "df_log_dropna3 = df_log.dropna(subset=['Date', 'Product'])\n",
    "df_log_dropna3.count()"
   ]
  },
  {
   "cell_type": "markdown",
   "metadata": {},
   "source": [
    "df_log.dropna()では、元のデータdf_log自体は、変更されません。\n",
    "inplace=Trueオプションを付ければ、df_logそのものを変更できます。"
   ]
  },
  {
   "cell_type": "code",
   "execution_count": null,
   "metadata": {
    "collapsed": true
   },
   "outputs": [],
   "source": [
    "# inplace=True で df_log そのものが変更されます\n",
    "df_log.dropna(inplace=True)\n",
    "\n",
    "# データ件数の確認（df_log自体が変更されています）\n",
    "df_log.count()"
   ]
  },
  {
   "cell_type": "markdown",
   "metadata": {},
   "source": [
    "# 1-1-3 欠損値を含むデータの変換を学ぼう"
   ]
  },
  {
   "cell_type": "code",
   "execution_count": null,
   "metadata": {
    "collapsed": true
   },
   "outputs": [],
   "source": [
    "# fillna(0) で欠損値を0に置き換えます　（Numは列）\n",
    "df_log['Num_fill_0'] = df_log.Num.fillna(0)"
   ]
  },
  {
   "cell_type": "markdown",
   "metadata": {},
   "source": [
    "## 欠損値を平均に変換"
   ]
  },
  {
   "cell_type": "code",
   "execution_count": null,
   "metadata": {
    "collapsed": true
   },
   "outputs": [],
   "source": [
    "# 欠損値をNum列の平均で置き換えます\n",
    "df_log['Num_fill_mean'] = df_log.Num.fillna(df_log.Num.mean())"
   ]
  },
  {
   "cell_type": "markdown",
   "metadata": {},
   "source": [
    "## 欠損値を1次式に変換"
   ]
  },
  {
   "cell_type": "code",
   "execution_count": null,
   "metadata": {
    "collapsed": true
   },
   "outputs": [],
   "source": [
    "# interpolateを使うと前後の値で線形（１次式）補間できます\n",
    "df_log['Num_interpolate'] = df_log.Num.interpolate()"
   ]
  },
  {
   "cell_type": "markdown",
   "metadata": {},
   "source": [
    "## 欠損値を2次式に変換"
   ]
  },
  {
   "cell_type": "code",
   "execution_count": null,
   "metadata": {
    "collapsed": true
   },
   "outputs": [],
   "source": [
    "# method='quadratic'で2次の補間ができます\n",
    "df_log['Num_interpolate2'] = df_log.Num.interpolate(method='quadratic')\n",
    "df_log[15:22]"
   ]
  },
  {
   "cell_type": "code",
   "execution_count": null,
   "metadata": {
    "collapsed": true
   },
   "outputs": [],
   "source": []
  },
  {
   "cell_type": "code",
   "execution_count": null,
   "metadata": {
    "collapsed": true
   },
   "outputs": [],
   "source": []
  },
  {
   "cell_type": "code",
   "execution_count": null,
   "metadata": {
    "collapsed": true
   },
   "outputs": [],
   "source": []
  }
 ],
 "metadata": {
  "kernelspec": {
   "display_name": "Python 3",
   "language": "python",
   "name": "python3"
  },
  "language_info": {
   "codemirror_mode": {
    "name": "ipython",
    "version": 3
   },
   "file_extension": ".py",
   "mimetype": "text/x-python",
   "name": "python",
   "nbconvert_exporter": "python",
   "pygments_lexer": "ipython3",
   "version": "3.6.1"
  }
 },
 "nbformat": 4,
 "nbformat_minor": 2
}
