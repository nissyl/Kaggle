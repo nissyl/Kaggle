{
 "cells": [
  {
   "cell_type": "markdown",
   "metadata": {},
   "source": [
    "# 3-1 サポートベクターマシン回帰を触ろう（非線形回帰）\n",
    "サポートベクターマシンの手法で回帰もできます。分類のときに出てきた超平面を回帰の関係式と考えます。"
   ]
  },
  {
   "cell_type": "code",
   "execution_count": 1,
   "metadata": {
    "collapsed": true
   },
   "outputs": [],
   "source": [
    "%matplotlib inline\n",
    "%precision 3\n",
    "import pandas as pd, matplotlib.pyplot as plt\n",
    "from sklearn.datasets import load_boston\n",
    "from sklearn.model_selection import train_test_split\n",
    "from sklearn.svm import SVR\n",
    "from sklearn.metrics import r2_score\n",
    "# ボストン市の住宅価格データ\n",
    "boston = load_boston()\n",
    "X = pd.DataFrame(boston.data, columns=boston.feature_names)\n",
    "X = X[['RM', 'LSTAT']]\n",
    "y = boston.target\n",
    "# トレーニングデータとテストデータに分割\n",
    "X_train, X_test, y_train, y_test = (\n",
    "    train_test_split(X, y, random_state=0))"
   ]
  },
  {
   "cell_type": "code",
   "execution_count": 3,
   "metadata": {},
   "outputs": [
    {
     "data": {
      "text/plain": [
       "0.506"
      ]
     },
     "execution_count": 3,
     "metadata": {},
     "output_type": "execute_result"
    }
   ],
   "source": [
    "svr = SVR()\n",
    "svr.fit(X_train, y_train)\n",
    "y_pred = svr.predict(X_test)\n",
    "score1 = r2_score(y_test, y_pred)\n",
    "score1"
   ]
  },
  {
   "cell_type": "code",
   "execution_count": 4,
   "metadata": {
    "collapsed": true
   },
   "outputs": [],
   "source": [
    "def scatter(y_pred, y):\n",
    "    plt.gca().set_aspect('equal', adjustable='box')  # 縦横比を1\n",
    "    plt.ylabel('y_test')\n",
    "    plt.xlabel('y_pred')\n",
    "    plt.plot([y.min(), y.max()], [y.min(), y.max()])  # 斜め45度の青い線\n",
    "    plt.plot(y_pred, y, '.')"
   ]
  },
  {
   "cell_type": "code",
   "execution_count": 5,
   "metadata": {},
   "outputs": [
    {
     "data": {
      "image/png": "[encoded data removed]",
      "text/plain": [
       "<matplotlib.figure.Figure at 0x13399f60>"
      ]
     },
     "metadata": {},
     "output_type": "display_data"
    }
   ],
   "source": [
    "# 予測データ（y_pred）と真値（y_test）を描画\n",
    "scatter(y_pred, y_test)"
   ]
  },
  {
   "cell_type": "markdown",
   "metadata": {},
   "source": [
    "kernelオプションのデフォルトは、'rbf'（radial basis function kernel）です。データに対する事前情報がない場合によく用いられます。外れ値の影響も受けにくいです。"
   ]
  },
  {
   "cell_type": "markdown",
   "metadata": {},
   "source": [
    "# グリッドサーチ\n",
    "グリッドサーチでは、与えられたオプションの組合せを全て探索します。\n",
    "sklearn.model_selection.GridSearchCVを使うと、各探索の中で、クロスバリデーションで評価します。\n",
    "\n",
    "GridSearchCVでは、ベースになるモデルと、そのモデルのオプションを辞書で指定します。\n",
    "\n",
    ">gscv = GridSearchCV(SVR(), {\n",
    " >   'C': [50, 60, 70, 80, 90],\n",
    "  >  'gamma': [0.04, 0.05, 0.06, 0.07, 0.08]})"
   ]
  },
  {
   "cell_type": "code",
   "execution_count": 6,
   "metadata": {},
   "outputs": [
    {
     "data": {
      "text/plain": [
       "0.648"
      ]
     },
     "execution_count": 6,
     "metadata": {},
     "output_type": "execute_result"
    }
   ],
   "source": [
    "from sklearn.model_selection import GridSearchCV\n",
    "\n",
    "\n",
    "gscv = GridSearchCV(SVR(), {\n",
    "    'C':[50, 60 , 70, 80, 90],\n",
    "    'gamma':[0.04, 0.05, 0.06, 0.07, 0.08]},\n",
    "                    scoring ='r2')\n",
    "\n",
    "gscv.fit(X_train, y_train)\n",
    "y_pred = gscv.predict(X_test)\n",
    "score2 = r2_score(y_test, y_pred)\n",
    "score2"
   ]
  },
  {
   "cell_type": "markdown",
   "metadata": {},
   "source": [
    "上記のモデルを使うと、gscv.fitで、下記のように探索し、最も良いモデルを選択します。選んだパラメーターは、gscv.best_params_で確認できます。"
   ]
  },
  {
   "cell_type": "code",
   "execution_count": 7,
   "metadata": {},
   "outputs": [
    {
     "data": {
      "text/plain": [
       "{'C': 70, 'gamma': 0.060}"
      ]
     },
     "execution_count": 7,
     "metadata": {},
     "output_type": "execute_result"
    }
   ],
   "source": [
    "# 選択されたパラメーター\n",
    "gscv.best_params_"
   ]
  },
  {
   "cell_type": "code",
   "execution_count": 8,
   "metadata": {},
   "outputs": [
    {
     "data": {
      "image/png": "[encoded data removed]",
      "text/plain": [
       "<matplotlib.figure.Figure at 0x1442e9e8>"
      ]
     },
     "metadata": {},
     "output_type": "display_data"
    }
   ],
   "source": [
    "# 予測データ（y_pred）と真値（y_test）を描画\n",
    "scatter(y_pred, y_test)"
   ]
  },
  {
   "cell_type": "markdown",
   "metadata": {},
   "source": [
    "散布図で見てみると、線形回帰で難しかった高価格帯もかなりフィッティングするようになってきました。"
   ]
  },
  {
   "cell_type": "markdown",
   "metadata": {},
   "source": [
    "# ランダムフォレスト回帰\n",
    "ランダムフォレスト回帰は、複数の決定木を使うアンサンブル学習です。外れ値の影響を受けにくいです。\n",
    "\n",
    "使い方は、他の回帰モデルと同じです。\n",
    "\n",
    "まずは、random_state=0オプションだけで実行します。random_stateを指定しないと、実行ごとに結果が変わる可能性があります。"
   ]
  },
  {
   "cell_type": "code",
   "execution_count": 10,
   "metadata": {},
   "outputs": [
    {
     "data": {
      "text/plain": [
       "0.667"
      ]
     },
     "execution_count": 10,
     "metadata": {},
     "output_type": "execute_result"
    }
   ],
   "source": [
    "from sklearn.ensemble import RandomForestRegressor\n",
    "forest = RandomForestRegressor(random_state = 0)\n",
    "forest.fit(X_train, y_train)\n",
    "y_pred = forest.predict(X_test)\n",
    "score3 = r2_score(y_test, y_pred)\n",
    "score3"
   ]
  },
  {
   "cell_type": "markdown",
   "metadata": {},
   "source": [
    "続けて、グリッドサーチをします。\n",
    "RandomForestRegressorで重要なオプションは、max_depthです。しかし、これだけだとデフォルト値を選ぶので、もう1つmin_samples_leafも指定します。\n",
    "\n",
    "max_depth：枝分かれする木の深さ。大きすぎると過学習になります。\n",
    "min_samples_leaf：葉の最小のデータ数。大きくするとラフなモデルになります。"
   ]
  },
  {
   "cell_type": "code",
   "execution_count": 11,
   "metadata": {},
   "outputs": [
    {
     "data": {
      "text/plain": [
       "0.695"
      ]
     },
     "execution_count": 11,
     "metadata": {},
     "output_type": "execute_result"
    }
   ],
   "source": [
    "# グリッドサーチで探索\n",
    "gscv = GridSearchCV(RandomForestRegressor(), {\n",
    "    'max_depth': [2, 3, 4],\n",
    "    'min_samples_leaf': [1, 2],\n",
    "    'random_state': [0]},\n",
    "    scoring='r2')\n",
    "gscv.fit(X_train, y_train)\n",
    "y_pred = gscv.predict(X_test)\n",
    "score4 = r2_score(y_test, y_pred)\n",
    "score4"
   ]
  },
  {
   "cell_type": "code",
   "execution_count": 12,
   "metadata": {},
   "outputs": [
    {
     "data": {
      "text/plain": [
       "{'max_depth': 3, 'min_samples_leaf': 2, 'random_state': 0}"
      ]
     },
     "execution_count": 12,
     "metadata": {},
     "output_type": "execute_result"
    }
   ],
   "source": [
    "gscv.best_params_"
   ]
  },
  {
   "cell_type": "code",
   "execution_count": 13,
   "metadata": {},
   "outputs": [
    {
     "data": {
      "image/png": "[encoded data removed]",
      "text/plain": [
       "<matplotlib.figure.Figure at 0x166816a0>"
      ]
     },
     "metadata": {},
     "output_type": "display_data"
    }
   ],
   "source": [
    "# 予測データ（y_pred）と真値（y_test）を描画\n",
    "scatter(y_pred, y_test)"
   ]
  },
  {
   "cell_type": "code",
   "execution_count": null,
   "metadata": {
    "collapsed": true
   },
   "outputs": [],
   "source": []
  }
 ],
 "metadata": {
  "kernelspec": {
   "display_name": "Python 3",
   "language": "python",
   "name": "python3"
  },
  "language_info": {
   "codemirror_mode": {
    "name": "ipython",
    "version": 3
   },
   "file_extension": ".py",
   "mimetype": "text/x-python",
   "name": "python",
   "nbconvert_exporter": "python",
   "pygments_lexer": "ipython3",
   "version": "3.6.1"
  }
 },
 "nbformat": 4,
 "nbformat_minor": 2
}
