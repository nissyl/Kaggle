{
 "cells": [
  {
   "cell_type": "markdown",
   "metadata": {},
   "source": [
    "# 1-3. 重回帰分析をしてみよう！\n",
    "y = intercept_ + coef_[0] * X.RM + coef_[1] * X.LSTAT + 誤差という関係式を考えます。"
   ]
  },
  {
   "cell_type": "code",
   "execution_count": 1,
   "metadata": {
    "collapsed": true
   },
   "outputs": [],
   "source": [
    "%matplotlib inline\n",
    "from sklearn.datasets import load_boston\n",
    "import pandas as pd\n",
    "from sklearn.metrics import r2_score, mean_squared_error\n",
    "from sklearn.model_selection import train_test_split\n",
    "import numpy as np\n",
    "\n",
    "# 予測データ（y_pred）をダミーで作成（seedを設定しないと、毎回違う結果になる）\n",
    "np.random.seed(0)\n",
    "\n",
    "# ボストン市の住宅価格データ一式\n",
    "boston = load_boston()  \n",
    "\n",
    "# 予測の元になる多次元のデータ\n",
    "X = pd.DataFrame(boston.data, columns=boston.feature_names)\n",
    "\n",
    "# 予測の対象になる1次元のデータ\n",
    "y = pd.Series(boston.target, name='MEDV')\n",
    "\n",
    "X_train, X_test, y_train, y_test = train_test_split(X, y, random_state=0)\n",
    "\n",
    "def scatter(y_pred, y):\n",
    "    plt.gca().set_aspect('equal', adjustable='box')  # 縦横比を1\n",
    "    plt.ylabel('y_test(true)')\n",
    "    plt.xlabel('y_pred')\n",
    "    plt.plot([y.min(), y.max()], [y.min(), y.max()])  # 斜め45度の青い線\n",
    "    plt.plot(y_pred, y, '.') "
   ]
  },
  {
   "cell_type": "code",
   "execution_count": 2,
   "metadata": {},
   "outputs": [
    {
     "data": {
      "text/plain": [
       "'%.3f'"
      ]
     },
     "execution_count": 2,
     "metadata": {},
     "output_type": "execute_result"
    }
   ],
   "source": [
    "from sklearn.linear_model import LinearRegression\n",
    "%precision 3"
   ]
  },
  {
   "cell_type": "code",
   "execution_count": 4,
   "metadata": {},
   "outputs": [
    {
     "data": {
      "text/plain": [
       "(36.980, array([-1.169e-01,  4.399e-02, -5.348e-03,  2.395e+00, -1.563e+01,\n",
       "         3.761e+00, -6.950e-03, -1.435e+00,  2.398e-01, -1.129e-02,\n",
       "        -9.866e-01,  8.557e-03, -5.000e-01]))"
      ]
     },
     "execution_count": 4,
     "metadata": {},
     "output_type": "execute_result"
    }
   ],
   "source": [
    "# 線形回帰の作成\n",
    "lr = LinearRegression()\n",
    "\n",
    "# フィッティング\n",
    "lr.fit(X_train, y_train)\n",
    "\n",
    "# パラメータ（定数項と係数）の確認\n",
    "lr.intercept_, lr.coef_"
   ]
  },
  {
   "cell_type": "code",
   "execution_count": 20,
   "metadata": {},
   "outputs": [
    {
     "data": {
      "text/plain": [
       "0.635"
      ]
     },
     "execution_count": 20,
     "metadata": {},
     "output_type": "execute_result"
    }
   ],
   "source": [
    "y_pred = lr.predict(X_test)\n",
    "\n",
    "#決定係数\n",
    "score3 = r2_score(y_test, y_pred)\n",
    "score3"
   ]
  },
  {
   "cell_type": "code",
   "execution_count": 21,
   "metadata": {},
   "outputs": [
    {
     "data": {
      "text/plain": [
       "29.791"
      ]
     },
     "execution_count": 21,
     "metadata": {},
     "output_type": "execute_result"
    }
   ],
   "source": [
    "# 平均二乗誤差\n",
    "score4 = mean_squared_error(y_test, y_pred)\n",
    "score4"
   ]
  },
  {
   "cell_type": "code",
   "execution_count": 14,
   "metadata": {},
   "outputs": [
    {
     "data": {
      "text/plain": [
       "(506, 13)"
      ]
     },
     "execution_count": 14,
     "metadata": {},
     "output_type": "execute_result"
    },
    {
     "data": {
      "image/png": "[encoded data removed]",
      "text/plain": [
       "<matplotlib.figure.Figure at 0x6ac3c50>"
      ]
     },
     "metadata": {},
     "output_type": "display_data"
    }
   ],
   "source": [
    "import numpy as np, pandas as pd, matplotlib.pyplot as plt\n",
    "\n",
    "def scatter(y_pred, y):\n",
    "    plt.gca().set_aspect('equal', adjustable='box')  # 縦横比を1\n",
    "    plt.ylabel('y_test(true)')\n",
    "    plt.xlabel('y_pred')\n",
    "    plt.plot([y.min(), y.max()], [y.min(), y.max()])  # 斜め45度の青い線\n",
    "    plt.plot(y_pred, y, '.') \n",
    "    \n",
    "# 予測データ（y_pred）と真値（y_test）を描画\n",
    "scatter(y_pred, y_test)\n",
    "X.shape"
   ]
  },
  {
   "cell_type": "markdown",
   "metadata": {},
   "source": [
    "# ロバスト回帰\n",
    "散布図を見ると、高価格帯で誤差が大きいのがありました。外れ値の影響を減らしたロバスト回帰を試してみましょう。"
   ]
  },
  {
   "cell_type": "code",
   "execution_count": 16,
   "metadata": {},
   "outputs": [],
   "source": [
    "from sklearn.linear_model import RANSACRegressor"
   ]
  },
  {
   "cell_type": "code",
   "execution_count": 17,
   "metadata": {},
   "outputs": [
    {
     "data": {
      "text/plain": [
       "(13.968, array([-0.146,  0.028, -0.038,  1.34 , -7.829,  5.385, -0.034, -0.94 ,\n",
       "         0.16 , -0.01 , -0.772,  0.013, -0.251]))"
      ]
     },
     "execution_count": 17,
     "metadata": {},
     "output_type": "execute_result"
    }
   ],
   "source": [
    "#RANSACの作成\n",
    "ran = RANSACRegressor(min_samples=int(len(X_train)*0.9),\n",
    "                      random_state=0)\n",
    "\n",
    "#フィッティング\n",
    "ran.fit(X_train, y_train)\n",
    "\n",
    "# パラメータ（定数項と係数）の確認\n",
    "ran.estimator_.intercept_, ran.estimator_.coef_"
   ]
  },
  {
   "cell_type": "code",
   "execution_count": 18,
   "metadata": {},
   "outputs": [
    {
     "data": {
      "text/plain": [
       "0.553"
      ]
     },
     "execution_count": 18,
     "metadata": {},
     "output_type": "execute_result"
    }
   ],
   "source": [
    "# 予測値\n",
    "y_pred = ran.predict(X_test)\n",
    "# 決定係数\n",
    "score = r2_score(y_test, y_pred)\n",
    "score"
   ]
  },
  {
   "cell_type": "code",
   "execution_count": 19,
   "metadata": {},
   "outputs": [
    {
     "data": {
      "image/png": "[encoded data removed]",
      "text/plain": [
       "<matplotlib.figure.Figure at 0x6b31048>"
      ]
     },
     "metadata": {},
     "output_type": "display_data"
    }
   ],
   "source": [
    "scatter(y_pred, y_test)"
   ]
  },
  {
   "cell_type": "markdown",
   "metadata": {},
   "source": [
    "ロバスト回帰の手法には、いくつかありますが、ここでは、RANSAC（RAndom SAmple Consensus: sklearn.linear_model.RANSACRegressor）を使います。\n",
    "\n",
    "RANSACは、ランダムサンプリングに対しパラメーター推定を繰り返し、最も良い推定結果を出します。\n",
    "\n",
    "基本となるモデルをbase_estimatorオプションで指定できます。省略すると、線形回帰（LinearRegression）になります。\n",
    "min_samplesオプションで最小サンプル数を指定できます。ここでは、元のデータ数の90%にします。\n",
    "random_stateオプションを指定して、実行ごとに結果が変わらないようにします。\n",
    "\n",
    "結果のモデルは、estimator_に入りますので、パラメーターはran.estimator_.intercept_, ran.estimator_.coef_のように確認できます。\n",
    "\n",
    "決定係数を見ると0.553となり、単純な線形回帰の0.569より若干悪くなりました。\n",
    "このことから、単純にロバスト回帰をしても、うまくいくとは限らないことがわかります。\n",
    "\n",
    "今回は、重回帰分析が一番うまくいきましたね！・ω・"
   ]
  },
  {
   "cell_type": "code",
   "execution_count": null,
   "metadata": {
    "collapsed": true
   },
   "outputs": [],
   "source": []
  }
 ],
 "metadata": {
  "kernelspec": {
   "display_name": "Python 3",
   "language": "python",
   "name": "python3"
  },
  "language_info": {
   "codemirror_mode": {
    "name": "ipython",
    "version": 3
   },
   "file_extension": ".py",
   "mimetype": "text/x-python",
   "name": "python",
   "nbconvert_exporter": "python",
   "pygments_lexer": "ipython3",
   "version": "3.6.1"
  }
 },
 "nbformat": 4,
 "nbformat_minor": 2
}
