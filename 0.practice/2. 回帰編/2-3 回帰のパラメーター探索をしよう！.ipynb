{
 "cells": [
  {
   "cell_type": "markdown",
   "metadata": {},
   "source": [
    "# 2-3 回帰のパラメーター探索をしよう！"
   ]
  },
  {
   "cell_type": "code",
   "execution_count": 2,
   "metadata": {},
   "outputs": [],
   "source": [
    "# 出力時に小数点以下3桁に\n",
    "%precision 4\n",
    "from sklearn.datasets import load_boston\n",
    "from sklearn.linear_model import RidgeCV\n",
    "from sklearn.metrics import r2_score\n",
    "\n",
    "X, y = load_boston(True)"
   ]
  },
  {
   "cell_type": "markdown",
   "metadata": {},
   "source": [
    "%precision 4とすると、出力時に小数点以下4桁で表示します。\n",
    "\n",
    "RidgeCVを使うと、指定されたαの中から最もスコアがよいものを探索してくれます（CVは、クロスバリデーションです）。\n",
    "\n",
    "RidgeCVの主なパラメーターは以下のようになります。\n",
    "\n",
    "///////////\n",
    "\n",
    "オプション\t デフォルト\t 説明\n",
    "\n",
    "alphas\t (0.1, 1.0, 10.0)\t 探索対象\n",
    "\n",
    "fit_intercept\tTrue\t切片が0でないか\n",
    "\n",
    "normalize\tFalse\t正規化するか\n",
    "\n",
    "scoring\tNone\t評価関数の指定\n",
    "\n",
    "cv\tNone\tクロスバリデーションのパラメーター\n",
    "\n",
    "///////////\n",
    "\n",
    "※normalizeは、fit_intercept=Trueのときだけ有効です。\n",
    "\n",
    "cvオプションで整数を指定すると、クロスバリデーションの分割数を指定できます。\n",
    "cv=Noneで一般クロスバリデーション（Generalized Cross-Validation）になります。一般クロスバリデーションは効率的なので、cv=Noneをおすすめします。"
   ]
  },
  {
   "cell_type": "code",
   "execution_count": 3,
   "metadata": {},
   "outputs": [
    {
     "data": {
      "text/plain": [
       "0.1000"
      ]
     },
     "execution_count": 3,
     "metadata": {},
     "output_type": "execute_result"
    }
   ],
   "source": [
    "ridge = RidgeCV(scoring='r2')\n",
    "ridge.fit(X, y)\n",
    "ridge.alpha_"
   ]
  },
  {
   "cell_type": "markdown",
   "metadata": {},
   "source": [
    "RidgeCVで確認\n",
    "クロスバリデーションを行うので、トレーニングデータとテストデータに分割する必要はありません。\n",
    "\n",
    "scoring='r2'とし、評価関数として決定係数を指定します。\n",
    "alphasは、デフォルトで、(0.1, 1.0, 10.0)なので、この3つから探索します。結果は、alpha_で確認できます。0.1となったので、さらに詳しく調べます。\n",
    "結果的に、αは0に近い方が良いことがわかります。"
   ]
  },
  {
   "cell_type": "code",
   "execution_count": 4,
   "metadata": {},
   "outputs": [
    {
     "data": {
      "text/plain": [
       "0.0001"
      ]
     },
     "execution_count": 4,
     "metadata": {},
     "output_type": "execute_result"
    }
   ],
   "source": [
    "# さらにαの探索\n",
    "ridge = RidgeCV([0.0001, 0.001, 0.01, 0.1], scoring='r2')\n",
    "ridge.fit(X, y)\n",
    "ridge.alpha_"
   ]
  },
  {
   "cell_type": "code",
   "execution_count": 5,
   "metadata": {},
   "outputs": [
    {
     "data": {
      "text/plain": [
       "array([-1.07169875e-01,  4.63951761e-02,  2.08554789e-02,  2.68854410e+00,\n",
       "       -1.77946044e+01,  3.80476160e+00,  7.50351697e-04, -1.47574178e+00,\n",
       "        3.05652444e-01, -1.23272203e-02, -9.53450742e-01,  9.39103030e-03,\n",
       "       -5.25467824e-01])"
      ]
     },
     "execution_count": 5,
     "metadata": {},
     "output_type": "execute_result"
    }
   ],
   "source": [
    "# 係数の確認\n",
    "ridge.coef_"
   ]
  },
  {
   "cell_type": "code",
   "execution_count": 7,
   "metadata": {},
   "outputs": [
    {
     "data": {
      "text/plain": [
       "0.7406"
      ]
     },
     "execution_count": 7,
     "metadata": {},
     "output_type": "execute_result"
    }
   ],
   "source": [
    "r2_score(y, ridge.predict(X))"
   ]
  },
  {
   "cell_type": "markdown",
   "metadata": {},
   "source": [
    "## Lassoのαの探索\n",
    "LassoCVを使うと、クロスバリデーション（CV）して、平均二乗誤差が最小のαを選択できます。\n",
    "αの探索リストは、自動で求められた範囲を対数スケールで分割して決められます。評価関数は、平均二乗誤差で変更できません。"
   ]
  },
  {
   "cell_type": "code",
   "execution_count": 22,
   "metadata": {},
   "outputs": [],
   "source": [
    "%matplotlib inline\n",
    "# 出力時に小数点以下3桁に\n",
    "%precision 3\n",
    "import matplotlib.pyplot as plt\n",
    "from sklearn.datasets import load_boston\n",
    "from sklearn.linear_model import LassoCV\n",
    "from sklearn.metrics import mean_squared_error\n",
    "\n",
    "X, y = load_boston(True)"
   ]
  },
  {
   "cell_type": "code",
   "execution_count": 12,
   "metadata": {},
   "outputs": [
    {
     "data": {
      "text/plain": [
       "0.7248"
      ]
     },
     "execution_count": 12,
     "metadata": {},
     "output_type": "execute_result"
    }
   ],
   "source": [
    "lasso = LassoCV()\n",
    "lasso.fit(X,y)\n",
    "lasso.alpha_"
   ]
  },
  {
   "cell_type": "markdown",
   "metadata": {},
   "source": [
    "αの探索リストは、alphas_に入ります。選択されたαは、alpha_に入ります。\n",
    "\n",
    "また、 epsを小さくすると、探索範囲が広がります。（eps\t0.001\tαの範囲の最小値／αの範囲の最大値）"
   ]
  },
  {
   "cell_type": "code",
   "execution_count": 13,
   "metadata": {},
   "outputs": [
    {
     "data": {
      "text/plain": [
       "0.1390"
      ]
     },
     "execution_count": 13,
     "metadata": {},
     "output_type": "execute_result"
    }
   ],
   "source": [
    "# αの確認\n",
    "lasso = LassoCV(eps=0.0001)\n",
    "lasso.fit(X, y)\n",
    "lasso.alpha_"
   ]
  },
  {
   "cell_type": "markdown",
   "metadata": {},
   "source": [
    "※ n_alphasは、alphas=Noneのときに、内部でnumpy.logspaceのnumオプションとして使われます。αの探索リストは等比数列になります。"
   ]
  },
  {
   "cell_type": "code",
   "execution_count": 15,
   "metadata": {},
   "outputs": [
    {
     "data": {
      "text/plain": [
       "0.1451"
      ]
     },
     "execution_count": 15,
     "metadata": {},
     "output_type": "execute_result"
    }
   ],
   "source": [
    "# αの確認\n",
    "lasso = LassoCV(eps=0.0001, n_alphas=200)\n",
    "lasso.fit(X, y)\n",
    "lasso.alpha_"
   ]
  },
  {
   "cell_type": "code",
   "execution_count": 16,
   "metadata": {},
   "outputs": [
    {
     "data": {
      "text/plain": [
       "array([-0.09637804,  0.0494098 , -0.02815393,  0.23633113, -0.        ,\n",
       "        3.56880542, -0.00749663, -1.13601077,  0.2798095 , -0.01498795,\n",
       "       -0.77934561,  0.01032705, -0.58203938])"
      ]
     },
     "execution_count": 16,
     "metadata": {},
     "output_type": "execute_result"
    }
   ],
   "source": [
    "# 係数の確認\n",
    "lasso.coef_"
   ]
  },
  {
   "cell_type": "code",
   "execution_count": 17,
   "metadata": {},
   "outputs": [
    {
     "data": {
      "text/plain": [
       "23.2643"
      ]
     },
     "execution_count": 17,
     "metadata": {},
     "output_type": "execute_result"
    }
   ],
   "source": [
    "# 平均二乗誤差の確認\n",
    "mean_squared_error(y, lasso.predict(X))"
   ]
  },
  {
   "cell_type": "code",
   "execution_count": 24,
   "metadata": {},
   "outputs": [
    {
     "data": {
      "image/png": "[encoded data removed]",
      "text/plain": [
       "<matplotlib.figure.Figure at 0x140a3908>"
      ]
     },
     "metadata": {},
     "output_type": "display_data"
    }
   ],
   "source": [
    "# αの探索リスト\n",
    "plt.yscale('log')\n",
    "plt.plot(lasso.alphas_);\n",
    "# αの探索リストを対数軸のグラフで確認します。比率が一定でy軸を対数スケールにしているので、グラフは直線になります。"
   ]
  },
  {
   "cell_type": "markdown",
   "metadata": {},
   "source": [
    "# Elastic Netでの探索"
   ]
  },
  {
   "cell_type": "code",
   "execution_count": 25,
   "metadata": {
    "collapsed": true
   },
   "outputs": [],
   "source": [
    "# 出力時に小数点以下3桁に\n",
    "%precision 3\n",
    "import numpy as np\n",
    "from sklearn.datasets import load_boston\n",
    "from sklearn.linear_model import ElasticNetCV\n",
    "from sklearn.metrics import mean_squared_error\n",
    "# サンプルデータ\n",
    "X, y = load_boston(True)"
   ]
  },
  {
   "cell_type": "code",
   "execution_count": 28,
   "metadata": {},
   "outputs": [
    {
     "data": {
      "text/plain": [
       "array([0.1, 0.2, 0.3, 0.4, 0.5, 0.6, 0.7, 0.8, 0.9, 1. ])"
      ]
     },
     "execution_count": 28,
     "metadata": {},
     "output_type": "execute_result"
    }
   ],
   "source": [
    "# l1_ratioの探索リスト\n",
    "l1_ratio = np.arange(0.1, 1.1 , 0.1)\n",
    "l1_ratio"
   ]
  },
  {
   "cell_type": "code",
   "execution_count": 27,
   "metadata": {},
   "outputs": [
    {
     "data": {
      "text/plain": [
       "(0.600, 1.208)"
      ]
     },
     "execution_count": 27,
     "metadata": {},
     "output_type": "execute_result"
    }
   ],
   "source": [
    "# l1_ratioとαの探索\n",
    "enet = ElasticNetCV(l1_ratio=l1_ratio)\n",
    "enet.fit(X, y)\n",
    "enet.l1_ratio_, enet.alpha_"
   ]
  },
  {
   "cell_type": "code",
   "execution_count": 29,
   "metadata": {},
   "outputs": [
    {
     "data": {
      "text/plain": [
       "(0.725, 7248.204)"
      ]
     },
     "execution_count": 29,
     "metadata": {},
     "output_type": "execute_result"
    }
   ],
   "source": [
    "# αの探索リストの範囲\n",
    "enet.alphas_.min(), enet.alphas_.max()"
   ]
  },
  {
   "cell_type": "code",
   "execution_count": 30,
   "metadata": {},
   "outputs": [
    {
     "data": {
      "text/plain": [
       "27.238"
      ]
     },
     "execution_count": 30,
     "metadata": {},
     "output_type": "execute_result"
    }
   ],
   "source": [
    "# 平均二乗誤差\n",
    "mean_squared_error(y, enet.predict(X))"
   ]
  },
  {
   "cell_type": "code",
   "execution_count": null,
   "metadata": {
    "collapsed": true
   },
   "outputs": [],
   "source": []
  }
 ],
 "metadata": {
  "kernelspec": {
   "display_name": "Python 3",
   "language": "python",
   "name": "python3"
  },
  "language_info": {
   "codemirror_mode": {
    "name": "ipython",
    "version": 3
   },
   "file_extension": ".py",
   "mimetype": "text/x-python",
   "name": "python",
   "nbconvert_exporter": "python",
   "pygments_lexer": "ipython3",
   "version": "3.6.1"
  }
 },
 "nbformat": 4,
 "nbformat_minor": 2
}
