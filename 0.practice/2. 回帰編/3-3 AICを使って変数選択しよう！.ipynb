{
 "cells": [
  {
   "cell_type": "markdown",
   "metadata": {},
   "source": [
    "# 3-3 AICを使って変数選択しよう！\n",
    "赤池情報量規準（Akaike's Information Criterion; AIC）は、元統計数理研究所所長の赤池弘次先生が考案した統計モデルの良さを評価するための指標です。小さいほど良いといえます。\n",
    "\n",
    "scikit-learnにはAICを計算する関数はないので、自前で計算します。計算式は以下の通りです。"
   ]
  },
  {
   "cell_type": "code",
   "execution_count": 1,
   "metadata": {
    "collapsed": true
   },
   "outputs": [],
   "source": [
    "import pandas as pd\n",
    "from sklearn.linear_model import LinearRegression\n",
    "from sklearn.datasets import load_boston\n",
    "boston = load_boston()\n",
    "X = pd.DataFrame(boston.data, columns= boston.feature_names)\n",
    "y = boston.target"
   ]
  },
  {
   "cell_type": "markdown",
   "metadata": {},
   "source": [
    "[`AIC = -2 * log(L) + 2 * k`]\n",
    "\n",
    "ただし、Lは最大尤度、kは「説明変数と定数項」の数です。\n",
    "\n",
    "\n",
    "誤差が正規分布に従うとすると、次の式に置き換えられる。\n",
    "\n",
    "[`AIC = n * (log(2 * π * MSE) + 1) + 2 * k`]\n",
    "ただし、nはデータ数、MSEは平均二乗誤差です。"
   ]
  },
  {
   "cell_type": "code",
   "execution_count": 2,
   "metadata": {
    "collapsed": true
   },
   "outputs": [],
   "source": [
    "# AICの計算\n",
    "def AIC(model, X, y):\n",
    "    from sklearn.metrics import mean_squared_error\n",
    "    from math import log, pi\n",
    "    n = len(y)\n",
    "    mse = mean_squared_error(y, model.predict(X))\n",
    "    k = model.coef_.shape[0] + int(model.fit_intercept)\n",
    "    d = max(1e-308, 2 * pi * mse)\n",
    "    return n * (log(d) + 1 ) + 2 *k"
   ]
  },
  {
   "cell_type": "code",
   "execution_count": 3,
   "metadata": {},
   "outputs": [
    {
     "data": {
      "text/plain": [
       "3025.6767200074596"
      ]
     },
     "execution_count": 3,
     "metadata": {},
     "output_type": "execute_result"
    }
   ],
   "source": [
    "# サンプルでAICの計算\n",
    "lr1 = LinearRegression().fit(X, y)\n",
    "aic1 = AIC(lr1, X, y)\n",
    "aic1"
   ]
  },
  {
   "cell_type": "code",
   "execution_count": 4,
   "metadata": {},
   "outputs": [
    {
     "data": {
      "text/plain": [
       "-134.6577425070096"
      ]
     },
     "execution_count": 4,
     "metadata": {},
     "output_type": "execute_result"
    }
   ],
   "source": [
    "# ダミーデータでAICの計算\n",
    "X2, y2 = [[2, -1, 3], [-1, 2, -2]], [1, 0]\n",
    "lr2 = LinearRegression().fit(X2, y2)\n",
    "aic2 = AIC(lr2, X2, y2)\n",
    "aic2"
   ]
  },
  {
   "cell_type": "markdown",
   "metadata": {},
   "source": [
    "# ステップワイズ法\n",
    "\n",
    "AICを使った変数選択の方法として、ステップワイズ法を学習します。\n",
    "\n",
    "ステップワイズ法は、以下の種類があります。"
   ]
  },
  {
   "cell_type": "code",
   "execution_count": 6,
   "metadata": {
    "collapsed": true
   },
   "outputs": [],
   "source": [
    "%matplotlib inline\n",
    "import matplotlib.pyplot as plt\n",
    "from sklearn.model_selection import cross_val_score\n",
    "from functools import lru_cache"
   ]
  },
  {
   "cell_type": "markdown",
   "metadata": {},
   "source": [
    "ここで紹介するステップワイズ法では、AICを評価規準にします（他の評価規準を使う方法もあります）。\n",
    "また、評価値の計算では、クロスバリデーションの平均値を使います。\n",
    "同じ説明変数の組合せ（sel）に対し、calc_aic(sel)を実行するので、lru_cacheを指定してキャッシュします。"
   ]
  },
  {
   "cell_type": "code",
   "execution_count": 7,
   "metadata": {
    "collapsed": true
   },
   "outputs": [],
   "source": [
    "# ステップワイズ法のサブルーチン\n",
    "def _calc_best(calc_aic, best, N, is_add):\n",
    "    found, cur = False, best\n",
    "    for i in range(N):\n",
    "        key = (best[1] | {i}) if is_add else (best[1] - {i})\n",
    "        v = calc_aic(tuple(key))\n",
    "        if v < cur[0]:\n",
    "            cur = v, key\n",
    "    if cur[0] < best[0]:\n",
    "        found, best = True, cur\n",
    "    return found, best"
   ]
  },
  {
   "cell_type": "markdown",
   "metadata": {},
   "source": [
    "ステップワイズ法（変数増減法）の手順\n",
    "\n",
    "・ステップ 1. 説明変数候補を空にします。\n",
    "\n",
    "・ステップ 2. 説明変数候補に新たな説明変数を1つ追加したとき、最も評価値（AIC）が良いものがあれば、追加します。\n",
    "\n",
    "・ステップ 3. 説明変数候補から説明変数を1つ削除したとき、最も評価値（AIC）が良いものがあれば、削除します。\n",
    "\n",
    "・ステップ 4. 削除が可能な間、ステップ3を繰り返します。\n",
    "\n",
    "・ステップ 5. 更新がないか、全ての説明変数を選んだ場合は終了します。そうでない場合、ステップ2へ行きます。\n",
    "\n",
    "関数_calc_bestは、ステップワイズ法のサブルーチンで、上記ステップの2と3に対応します。頭に「_」をつけた名前にして、非公開であることを表しています。"
   ]
  },
  {
   "cell_type": "code",
   "execution_count": 8,
   "metadata": {
    "collapsed": true
   },
   "outputs": [],
   "source": [
    "# ステップワイズ法\n",
    "def stepwise(X, y, fit_intercept=True, cv=None):\n",
    "    @lru_cache(maxsize=1024)\n",
    "    def calc_aic(sel):\n",
    "        X_ = X[:, sel]\n",
    "        return cross_val_score(model.fit(X_, y), X_, y,\n",
    "                               scoring=AIC, cv=cv).mean()\n",
    "    model = LinearRegression(fit_intercept)\n",
    "    N = X.shape[1]  # 説明変数数\n",
    "    best = 1e308, set()  # 最良のAICと選択\n",
    "    found = True\n",
    "    while found and len(best[1]) < N:\n",
    "        found, best = _calc_best(calc_aic, best, N, True)\n",
    "        found2 = True\n",
    "        while found2 and len(best[1]) > 1:\n",
    "            found2, best = _calc_best(calc_aic, best, N, False)\n",
    "            found |= found2\n",
    "    return best[0], list(best[1])"
   ]
  },
  {
   "cell_type": "markdown",
   "metadata": {},
   "source": [
    "関数stepwiseが、ステップワイズ法に対応します。引数は以下の通りです。\n",
    "\n",
    "X：全ての説明変数（numpy.ndarray）\n",
    "\n",
    "y：目的変数\n",
    "\n",
    "fit_intercept：y切片の有無（LinearRegressionの引数）\n",
    "\n",
    "cv：クロスバリデーションの分割数（cross_val_scoreの引数）"
   ]
  },
  {
   "cell_type": "code",
   "execution_count": 9,
   "metadata": {},
   "outputs": [
    {
     "data": {
      "text/plain": [
       "(517.113545860427, [5, 10, 11, 12])"
      ]
     },
     "execution_count": 9,
     "metadata": {},
     "output_type": "execute_result"
    }
   ],
   "source": [
    "# ボストン市住宅価格データで変数選択\n",
    "aic, sel = stepwise(X.values, y, cv=6)\n",
    "aic, sel"
   ]
  },
  {
   "cell_type": "code",
   "execution_count": 10,
   "metadata": {},
   "outputs": [
    {
     "data": {
      "image/png": "[encoded data removed]",
      "text/plain": [
       "<matplotlib.figure.Figure at 0x1660bc50>"
      ]
     },
     "metadata": {},
     "output_type": "display_data"
    }
   ],
   "source": [
    "# 真値と予測値の散布図\n",
    "X_sel = X.iloc[:, sel]\n",
    "lr = LinearRegression().fit(X_sel, y)\n",
    "y_pred = lr.predict(X_sel)\n",
    "plt.xlabel('y_pred')\n",
    "plt.ylabel('y_true')\n",
    "plt.plot(y_pred, y, '.');"
   ]
  },
  {
   "cell_type": "code",
   "execution_count": 11,
   "metadata": {},
   "outputs": [
    {
     "data": {
      "text/plain": [
       "Index(['RM', 'PTRATIO', 'B', 'LSTAT'], dtype='object')"
      ]
     },
     "execution_count": 11,
     "metadata": {},
     "output_type": "execute_result"
    }
   ],
   "source": [
    "# 選択された説明変数の列名\n",
    "X_sel.columns\n"
   ]
  },
  {
   "cell_type": "markdown",
   "metadata": {},
   "source": [
    "aic, sel = stepwise(X.values, y, cv=6)で、ボストン市住宅価格データに対し、ステップワイズ法を実行しています。\n",
    "\n",
    "散布図で見ると、良い結果になっていることが確認できます。\n",
    "X_sel.columnsで、選択された説明変数の列名がわかります。PTRATIO, B, LSTAT, RMの4つが選ばれていることがわかります。"
   ]
  },
  {
   "cell_type": "code",
   "execution_count": null,
   "metadata": {
    "collapsed": true
   },
   "outputs": [],
   "source": []
  }
 ],
 "metadata": {
  "kernelspec": {
   "display_name": "Python 3",
   "language": "python",
   "name": "python3"
  },
  "language_info": {
   "codemirror_mode": {
    "name": "ipython",
    "version": 3
   },
   "file_extension": ".py",
   "mimetype": "text/x-python",
   "name": "python",
   "nbconvert_exporter": "python",
   "pygments_lexer": "ipython3",
   "version": "3.6.1"
  }
 },
 "nbformat": 4,
 "nbformat_minor": 2
}
