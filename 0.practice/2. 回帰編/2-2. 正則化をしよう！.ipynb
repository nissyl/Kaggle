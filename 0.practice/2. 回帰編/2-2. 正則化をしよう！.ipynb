{
 "cells": [
  {
   "cell_type": "markdown",
   "metadata": {},
   "source": [
    "# 2-2. 正則化をしよう！\n",
    "正則化とは過学習を避ける手法です。具体的には、パラメーターを推定するときに、誤差だけではなくパラメーター自体の大きさも小さくしようとします。この追加する項を正則化項（ペナルティー）といい、正則化項にかかる係数を正則化パラメーター（α）といいます。αが0だと正則化の効果はありません。\n",
    "\n",
    "よく使われる正則化項は、以下のものがあります。\n",
    "\n",
    "L2ペナルティー：パラメーターの二乗の和。Ridge（リッジ）回帰で使われます。\n",
    "L1ペナルティー：パラメーターの絶対値の和。Lasso（ラッソ）で使われます。\n",
    "L1とL2ペナルティー：L1ペナルティーとL2ペナルティーの重み和。Elastic Net（エラスティックネット）で使われます。"
   ]
  },
  {
   "cell_type": "code",
   "execution_count": 1,
   "metadata": {
    "collapsed": true
   },
   "outputs": [],
   "source": [
    "%matplotlib inline\n",
    "import pandas as pd, matplotlib.pyplot as plt\n",
    "from sklearn.datasets import load_boston\n",
    "from sklearn.model_selection import train_test_split\n",
    "from sklearn.linear_model import LinearRegression, Ridge\n",
    "from sklearn.metrics import r2_score\n",
    "X, y = load_boston(True)  # ボストン市の住宅価格データ"
   ]
  },
  {
   "cell_type": "code",
   "execution_count": 2,
   "metadata": {
    "collapsed": true
   },
   "outputs": [],
   "source": [
    "X_train, X_test, y_train, y_test = train_test_split(\n",
    "    X, y, random_state=0)"
   ]
  },
  {
   "cell_type": "markdown",
   "metadata": {},
   "source": [
    "# Ridge(L2回帰）"
   ]
  },
  {
   "cell_type": "code",
   "execution_count": 4,
   "metadata": {},
   "outputs": [
    {
     "data": {
      "text/plain": [
       "Ridge(alpha=1, copy_X=True, fit_intercept=True, max_iter=None,\n",
       "   normalize=False, random_state=None, solver='auto', tol=0.001)"
      ]
     },
     "execution_count": 4,
     "metadata": {},
     "output_type": "execute_result"
    }
   ],
   "source": [
    "# 線形回帰\n",
    "lr = LinearRegression()\n",
    "lr.fit(X_train, y_train)\n",
    "\n",
    "# Ridge回帰\n",
    "ridge = Ridge(alpha = 1)\n",
    "ridge.fit(X_train, y_train)"
   ]
  },
  {
   "cell_type": "code",
   "execution_count": 5,
   "metadata": {},
   "outputs": [
    {
     "data": {
      "text/plain": [
       "(0.6353620786674616, 0.6265116223767426)"
      ]
     },
     "execution_count": 5,
     "metadata": {},
     "output_type": "execute_result"
    }
   ],
   "source": [
    "# 線形回帰の予測\n",
    "y_pred1 = lr.predict(X_test)\n",
    "# 線形回帰の評価\n",
    "score1 = r2_score(y_test, y_pred1)\n",
    "\n",
    "# Ridge回帰の予測\n",
    "y_pred2 = ridge.predict(X_test)\n",
    "# Ridge回帰の評価\n",
    "score2 = r2_score(y_test, y_pred2)\n",
    "score1, score2"
   ]
  },
  {
   "cell_type": "code",
   "execution_count": 6,
   "metadata": {},
   "outputs": [
    {
     "data": {
      "image/png": "[encoded data removed]",
      "text/plain": [
       "<matplotlib.figure.Figure at 0x1376abe0>"
      ]
     },
     "metadata": {},
     "output_type": "display_data"
    }
   ],
   "source": [
    "# パラメーターの比較\n",
    "df = pd.DataFrame({'LR': lr.coef_, 'Ridge': ridge.coef_})\n",
    "df.plot.bar();"
   ]
  },
  {
   "cell_type": "markdown",
   "metadata": {},
   "source": [
    "※Ridge回帰の正則化パラメーターαによって結果は変わります。\n",
    "デフォルトは1ですが、事前に決めるのは難しいです。実際に使うときは、値を変えて結果を確認しながら決めるとよいでしょう。"
   ]
  },
  {
   "cell_type": "markdown",
   "metadata": {},
   "source": [
    "# Lasso(L1)とElastic Net(L1 + L2)"
   ]
  },
  {
   "cell_type": "code",
   "execution_count": 7,
   "metadata": {
    "collapsed": true
   },
   "outputs": [],
   "source": [
    "from sklearn.linear_model import Lasso, ElasticNet\n",
    "from sklearn.metrics import mean_squared_error"
   ]
  },
  {
   "cell_type": "code",
   "execution_count": 8,
   "metadata": {},
   "outputs": [
    {
     "data": {
      "text/plain": [
       "ElasticNet(alpha=1, copy_X=True, fit_intercept=True, l1_ratio=0.5,\n",
       "      max_iter=1000, normalize=False, positive=False, precompute=False,\n",
       "      random_state=None, selection='cyclic', tol=0.0001, warm_start=False)"
      ]
     },
     "execution_count": 8,
     "metadata": {},
     "output_type": "execute_result"
    }
   ],
   "source": [
    "lasso = Lasso(alpha = 1.0)\n",
    "lasso.fit(X_train, y_train)\n",
    "\n",
    "enet = ElasticNet(alpha=1, l1_ratio = 0.5)\n",
    "enet.fit(X_train, y_train)"
   ]
  },
  {
   "cell_type": "code",
   "execution_count": 9,
   "metadata": {},
   "outputs": [
    {
     "data": {
      "text/plain": [
       "(0.5515110936187517, 0.5601931808168015)"
      ]
     },
     "execution_count": 9,
     "metadata": {},
     "output_type": "execute_result"
    }
   ],
   "source": [
    "# Lassoの予測\n",
    "y_pred3 = lasso.predict(X_test)\n",
    "# Lassoの評価\n",
    "score3 = r2_score(y_test, y_pred3)\n",
    "\n",
    "# Elastic Netの予測\n",
    "y_pred4 = enet.predict(X_test)\n",
    "# Elastic Netの評価\n",
    "score4 = r2_score(y_test, y_pred4)\n",
    "score3, score4"
   ]
  },
  {
   "cell_type": "code",
   "execution_count": 10,
   "metadata": {},
   "outputs": [
    {
     "data": {
      "text/plain": [
       "array([-0.05921813,  0.05001375, -0.00155282,  0.        , -0.        ,\n",
       "        0.75853268,  0.01305146, -0.71049912,  0.19577234, -0.01414816,\n",
       "       -0.80558201,  0.00715616, -0.74231187])"
      ]
     },
     "execution_count": 10,
     "metadata": {},
     "output_type": "execute_result"
    }
   ],
   "source": [
    "lasso.coef_"
   ]
  },
  {
   "cell_type": "code",
   "execution_count": 11,
   "metadata": {},
   "outputs": [
    {
     "data": {
      "image/png": "[encoded data removed]",
      "text/plain": [
       "<matplotlib.figure.Figure at 0x6ae5e48>"
      ]
     },
     "metadata": {},
     "output_type": "display_data"
    }
   ],
   "source": [
    "# パラメーターの比較\n",
    "df = pd.DataFrame({'LR': lr.coef_,\n",
    "                   'Ridge': ridge.coef_,\n",
    "                   'Lasso': lasso.coef_,\n",
    "                   'ElasticNet': enet.coef_})\n",
    "df.plot.bar();"
   ]
  },
  {
   "cell_type": "markdown",
   "metadata": {},
   "source": [
    "Lasso（sklearn.linear_model.Lasso）とElastic Net（sklearn.linear_model.ElasticNet）を作成しフィッティングします。\n",
    "どちらもalphaを指定できます。また、ElasticNetは、l1_ratioを指定できます。\n",
    "l1_ratioは、L1正則化の比率で、0〜1の値を指定します。\n",
    "\n",
    "l1_ratio == 0：L2ペナルティーだけを意味し、Ridge回帰に近くなります。\n",
    "l1_ratio == 1：L1ペナルティーだけになるので、Lassoと同じになります。\n",
    "決定係数の値はほぼ変わりません。\n",
    "線形回帰とRidge回帰の決定係数は、0.63前後あったので、それよりは悪くなっています。\n",
    "\n",
    "lasso.coef_を確認すると、0になっているものが2つあります。Lassoの特徴として「説明変数のパラメーターが0になりやすい」というのがあります（説明変数を減らせます）。\n",
    "\n",
    "パラメーターがどう変わったかを棒グラフで確認します。\n",
    "線形回帰とRidge回帰に比べると、全体的に小さくなっているのがわかります。"
   ]
  },
  {
   "cell_type": "markdown",
   "metadata": {},
   "source": [
    "## Elastic Netのalphaとl1_ratioを変えて、決定係数がどのように変わるか、確認します。"
   ]
  },
  {
   "cell_type": "code",
   "execution_count": 13,
   "metadata": {},
   "outputs": [
    {
     "name": "stderr",
     "output_type": "stream",
     "text": [
      "C:\\Users\\ryosuke.nishioka\\Anaconda3\\lib\\site-packages\\ipykernel_launcher.py:3: UserWarning: With alpha=0, this algorithm does not converge well. You are advised to use the LinearRegression estimator\n",
      "  This is separate from the ipykernel package so we can avoid doing imports until\n",
      "C:\\Users\\ryosuke.nishioka\\Anaconda3\\lib\\site-packages\\sklearn\\linear_model\\coordinate_descent.py:470: UserWarning: Coordinate descent with alpha=0 may lead to unexpected results and is discouraged.\n",
      "  positive)\n",
      "C:\\Users\\ryosuke.nishioka\\Anaconda3\\lib\\site-packages\\sklearn\\linear_model\\coordinate_descent.py:484: ConvergenceWarning: Objective did not converge. You might want to increase the number of iterations. Fitting data with very small alpha may cause precision problems.\n",
      "  ConvergenceWarning)\n"
     ]
    },
    {
     "data": {
      "text/plain": [
       "(0.6353620786674623, 0.6353620786674616)"
      ]
     },
     "execution_count": 13,
     "metadata": {},
     "output_type": "execute_result"
    }
   ],
   "source": [
    "# ElasticNet\n",
    "enet0 = ElasticNet(alpha = 0)\n",
    "enet0.fit(X_train, y_train)\n",
    "y_pred0 = enet0.predict(X_test)\n",
    "score0 = r2_score(y_test, y_pred0)\n",
    "score0, score1"
   ]
  },
  {
   "cell_type": "code",
   "execution_count": 14,
   "metadata": {},
   "outputs": [
    {
     "name": "stderr",
     "output_type": "stream",
     "text": [
      "C:\\Users\\ryosuke.nishioka\\Anaconda3\\lib\\site-packages\\sklearn\\linear_model\\coordinate_descent.py:470: UserWarning: Coordinate descent with alpha=0 may lead to unexpected results and is discouraged.\n",
      "  positive)\n",
      "C:\\Users\\ryosuke.nishioka\\Anaconda3\\lib\\site-packages\\sklearn\\linear_model\\coordinate_descent.py:484: ConvergenceWarning: Objective did not converge. You might want to increase the number of iterations. Fitting data with very small alpha may cause precision problems.\n",
      "  ConvergenceWarning)\n"
     ]
    },
    {
     "data": {
      "text/plain": [
       "(0.5660000880288876, 0.6265116223767426)"
      ]
     },
     "execution_count": 14,
     "metadata": {},
     "output_type": "execute_result"
    }
   ],
   "source": [
    "# Elastic Net\n",
    "enet5 = ElasticNet(alpha=1, l1_ratio=0)\n",
    "enet5.fit(X_train, y_train)\n",
    "y_pred5 = enet5.predict(X_test)\n",
    "score5 = r2_score(y_test, y_pred5)\n",
    "score5, score2  # Ridge回帰と比較"
   ]
  },
  {
   "cell_type": "code",
   "execution_count": 15,
   "metadata": {},
   "outputs": [
    {
     "data": {
      "text/plain": [
       "(0.5515110936187517, 0.5515110936187517)"
      ]
     },
     "execution_count": 15,
     "metadata": {},
     "output_type": "execute_result"
    }
   ],
   "source": [
    "# Elastic Net\n",
    "enet6 = ElasticNet(alpha=1, l1_ratio=1)\n",
    "enet6.fit(X_train, y_train)\n",
    "y_pred6 = enet6.predict(X_test)\n",
    "score6 = r2_score(y_test, y_pred6)\n",
    "score6, score3"
   ]
  },
  {
   "cell_type": "markdown",
   "metadata": {},
   "source": [
    "Ridge回帰、Lasso、Elastic Netでは、αで正則化の強さを制御します。α＝0だと線形回帰と同じになります。\n",
    "\n",
    "ElasticNet(alpha=0)で確認すると、前々問でLinearRegression()の決定係数とほぼ同じになります。\n",
    "ただし、「α＝0にするなら、LinearRegressionを使って下さい」という警告が出ています。確かに実用上はα＝０で実行する意味はないでしょう。\n",
    "\n",
    "ElasticNet(alpha=1, l1_ratio=0)は、Ridge(alpha=1)に近いはずです。\n",
    "しかし、決定係数を比較すると、0.57と0.63でそこそこ違います。「目的変数が収束していません。αが小さすぎると精度の問題があります」と警告が出ています。l1_ratioを小さくすると、結果的にαも小さくなるためです。l1_ratioを小さくしたいときは、Ridge回帰を使った方がよいでしょう。\n",
    "\n",
    "ElasticNet(alpha=1, l1_ratio=1)で確認すると、Lasso(alpha=1)の決定係数と同じになることが確認できます。"
   ]
  },
  {
   "cell_type": "markdown",
   "metadata": {},
   "source": [
    "## 問題\n",
    "説明変数Xと目的変数yに対して、αを変えながら、Elastic Netで回帰分析を行い、決定係数と平均二乗誤差を求めてください。\n",
    "データは、トレーニングデータとテストデータに分けてください。\n",
    "αを[0.5, 0.8, 1]としたときに、決定係数のリストを変数r2_listに、平均二乗誤差のリストを変数mse_listに入れてください。"
   ]
  },
  {
   "cell_type": "code",
   "execution_count": 16,
   "metadata": {
    "collapsed": true
   },
   "outputs": [],
   "source": [
    "from sklearn.datasets import load_boston\n",
    "from sklearn.model_selection import train_test_split\n",
    "from sklearn.linear_model import ElasticNet\n",
    "from sklearn.metrics import r2_score, mean_squared_error\n",
    "X, y = load_boston(True)  # ボストン市の住宅価格データ\n",
    "r2_list, mse_list = [], []"
   ]
  },
  {
   "cell_type": "code",
   "execution_count": 17,
   "metadata": {
    "collapsed": true
   },
   "outputs": [],
   "source": [
    "X_train, X_test, y_train, y_test = (\n",
    "    train_test_split(X, y, random_state=0))"
   ]
  },
  {
   "cell_type": "code",
   "execution_count": 18,
   "metadata": {},
   "outputs": [
    {
     "data": {
      "text/plain": [
       "([0.5818144849721846, 0.5681740492360176, 0.5601931808168015],\n",
       " [34.16534484821838, 35.27975501800896, 35.93178411019938])"
      ]
     },
     "execution_count": 18,
     "metadata": {},
     "output_type": "execute_result"
    }
   ],
   "source": [
    "for alpha in [0.5, 0.8, 1]:\n",
    "    enet = ElasticNet(alpha, l1_ratio = 0.5, random_state=0)\n",
    "    y_pred = enet.fit(X_train, y_train).predict(X_test)\n",
    "    r2_list.append(r2_score(y_test, y_pred))\n",
    "    mse_list.append(mean_squared_error(y_test, y_pred))\n",
    "    \n",
    "r2_list, mse_list"
   ]
  },
  {
   "cell_type": "code",
   "execution_count": null,
   "metadata": {
    "collapsed": true
   },
   "outputs": [],
   "source": []
  }
 ],
 "metadata": {
  "kernelspec": {
   "display_name": "Python 3",
   "language": "python",
   "name": "python3"
  },
  "language_info": {
   "codemirror_mode": {
    "name": "ipython",
    "version": 3
   },
   "file_extension": ".py",
   "mimetype": "text/x-python",
   "name": "python",
   "nbconvert_exporter": "python",
   "pygments_lexer": "ipython3",
   "version": "3.6.1"
  }
 },
 "nbformat": 4,
 "nbformat_minor": 2
}
